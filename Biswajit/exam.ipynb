{
 "cells": [
  {
   "cell_type": "code",
   "execution_count": 391,
   "metadata": {},
   "outputs": [],
   "source": [
    "import numpy as np \n",
    "from matplotlib import pyplot as plt \n",
    "import seaborn as sns \n",
    "import pandas as pd\n",
    "import random as random\n",
    "from numpy.linalg import inv\n",
    "import time "
   ]
  },
  {
   "cell_type": "code",
   "execution_count": null,
   "metadata": {},
   "outputs": [],
   "source": []
  },
  {
   "cell_type": "markdown",
   "metadata": {},
   "source": [
    "# 1."
   ]
  },
  {
   "cell_type": "code",
   "execution_count": 462,
   "metadata": {},
   "outputs": [
    {
     "name": "stdout",
     "output_type": "stream",
     "text": [
      "[['B'], ['D'], ['D'], ['C'], ['C'], ['C'], ['C'], ['B'], ['E'], ['C'], ['D'], ['C'], ['E'], ['E'], ['E'], ['C'], ['D'], ['B'], ['C'], ['C'], ['E'], ['D'], ['A'], ['C'], ['E'], ['B'], ['B'], ['B'], ['C'], ['D'], ['D'], ['E'], ['B'], ['E'], ['C'], ['C'], ['C'], ['A'], ['E'], ['A'], ['A'], ['B'], ['C'], ['D'], ['D'], ['B'], ['A'], ['B'], ['D'], ['E'], ['D'], ['E'], ['B'], ['D'], ['E'], ['D'], ['E'], ['A'], ['E'], ['E'], ['E'], ['D'], ['B'], ['D'], ['C'], ['D'], ['B'], ['D'], ['E'], ['D'], ['B'], ['D'], ['C'], ['D'], ['D'], ['E'], ['A'], ['E'], ['E'], ['E'], ['E'], ['B'], ['A'], ['E'], ['C'], ['C'], ['C'], ['E'], ['E'], ['C'], ['D'], ['E'], ['B'], ['E'], ['E'], ['E'], ['E'], ['E'], ['B'], ['C'], ['D'], ['D'], ['C'], ['A'], ['E'], ['E'], ['D'], ['D'], ['B'], ['E'], ['B'], ['D'], ['D'], ['D'], ['C'], ['E'], ['D'], ['C'], ['B'], ['B'], ['B'], ['B'], ['B'], ['E'], ['C'], ['E'], ['E'], ['E'], ['D'], ['E'], ['A'], ['D'], ['C'], ['E'], ['C'], ['E'], ['D'], ['A'], ['E'], ['B'], ['D'], ['E'], ['E'], ['A'], ['E'], ['E'], ['B'], ['C'], ['A'], ['B'], ['A'], ['D'], ['D'], ['E'], ['E'], ['E'], ['D'], ['E'], ['C'], ['A'], ['D'], ['E'], ['C'], ['A'], ['B'], ['E'], ['E'], ['B'], ['E'], ['E'], ['D'], ['C'], ['D'], ['B'], ['C'], ['E'], ['E'], ['E'], ['B'], ['C'], ['E'], ['B'], ['E'], ['A'], ['E'], ['D'], ['B'], ['D'], ['B'], ['B'], ['C'], ['B'], ['D'], ['B'], ['B'], ['A'], ['D'], ['E'], ['E'], ['D'], ['A'], ['D'], ['E'], ['E'], ['D'], ['D'], ['B'], ['C'], ['B'], ['D'], ['A'], ['E'], ['C'], ['A'], ['E'], ['B'], ['A'], ['C'], ['D'], ['E'], ['B'], ['E'], ['B'], ['B'], ['E'], ['D'], ['C'], ['C'], ['E'], ['E'], ['C'], ['D'], ['A'], ['C'], ['C'], ['E'], ['B'], ['E'], ['C'], ['E'], ['D'], ['C'], ['A'], ['D'], ['E'], ['D'], ['D'], ['D'], ['B'], ['C'], ['B'], ['B'], ['E'], ['E'], ['E'], ['E'], ['E'], ['C'], ['B'], ['E'], ['A'], ['A'], ['C'], ['E'], ['E'], ['D'], ['E'], ['E'], ['B'], ['C'], ['B'], ['C'], ['B'], ['E'], ['E'], ['C'], ['B'], ['B'], ['B'], ['E'], ['E'], ['E'], ['D'], ['D'], ['C'], ['B'], ['E'], ['E'], ['D'], ['B'], ['E'], ['A'], ['C'], ['B'], ['D'], ['C'], ['A'], ['D'], ['D'], ['D'], ['C'], ['A'], ['E'], ['D'], ['A'], ['D'], ['C'], ['E'], ['D'], ['E'], ['C'], ['E'], ['C'], ['E'], ['C'], ['D'], ['C'], ['D'], ['E'], ['B'], ['C'], ['E'], ['B'], ['D'], ['E'], ['D'], ['C'], ['D'], ['C'], ['D'], ['A'], ['C'], ['C'], ['D'], ['D'], ['A'], ['A'], ['A'], ['C'], ['A'], ['E'], ['E'], ['A'], ['E'], ['E'], ['A'], ['D'], ['A'], ['A'], ['E'], ['C'], ['D'], ['E'], ['E'], ['B'], ['E'], ['E'], ['D'], ['E'], ['E'], ['E'], ['C'], ['C'], ['B'], ['C'], ['C'], ['E'], ['A'], ['C'], ['D'], ['C'], ['D'], ['B'], ['E'], ['C'], ['D'], ['E'], ['A'], ['A'], ['B'], ['D'], ['C'], ['E'], ['E'], ['C'], ['D'], ['D'], ['D'], ['E'], ['C'], ['E'], ['B'], ['D'], ['B'], ['C'], ['B'], ['E'], ['E'], ['D'], ['E'], ['E'], ['E'], ['C'], ['E'], ['D'], ['C'], ['D'], ['D'], ['B'], ['E'], ['D'], ['B'], ['A'], ['E'], ['B'], ['B'], ['B'], ['E'], ['D'], ['C'], ['C'], ['E'], ['C'], ['B'], ['E'], ['E'], ['C'], ['E'], ['E'], ['B'], ['D'], ['A'], ['D'], ['E'], ['D'], ['E'], ['E'], ['E'], ['E'], ['B'], ['E'], ['E'], ['D'], ['B'], ['A'], ['C'], ['E'], ['D'], ['D'], ['E'], ['E'], ['A'], ['B'], ['B'], ['E'], ['E'], ['E'], ['C'], ['C'], ['D'], ['C'], ['B'], ['C'], ['B'], ['A'], ['B'], ['D'], ['D'], ['B'], ['A'], ['E'], ['E'], ['E'], ['E'], ['A'], ['D'], ['B'], ['D'], ['C'], ['D'], ['B'], ['C'], ['D'], ['D'], ['D'], ['D'], ['B'], ['E'], ['C'], ['E'], ['A'], ['D'], ['C'], ['D'], ['E'], ['E'], ['A'], ['E'], ['C'], ['B']]\n",
      "corresponding grade:  ['E', 'E', 'D', 'D', 'C']\n",
      "51 students got A\n",
      "86 students got B\n"
     ]
    }
   ],
   "source": [
    "#a.\n",
    "\n",
    "marks=np.random.randint(0,101,500)\n",
    "# print(marks)\n",
    "grade_structure={'A':[],'B':[],'C':[],'D':[],'E':[]}\n",
    "for i in marks:\n",
    "    if 100>=i>=90:\n",
    "        grade_structure['A'].append(i)\n",
    "    if 89>=i>=70:\n",
    "        grade_structure['B'].append(i)\n",
    "    if 69>=i>=50:\n",
    "        grade_structure['C'].append(i)\n",
    "    if 49>=i>=30:\n",
    "        grade_structure['D'].append(i)\n",
    "    if 29>=i>=0:\n",
    "        grade_structure['E'].append(i)\n",
    "\n",
    "# print(grade_structure)\n",
    "def grade_of_student(*args):\n",
    "    l=[]\n",
    "    for i in args:\n",
    "        if i in grade_structure['A']:\n",
    "            l.append('A')\n",
    "        if i in grade_structure['B']:\n",
    "            l.append('B')\n",
    "        if i in grade_structure['C']:\n",
    "            l.append('C')\n",
    "        if i in grade_structure['D']:\n",
    "            l.append('D')\n",
    "        if i in grade_structure['E']:\n",
    "            l.append('E')\n",
    "\n",
    "    return l\n",
    "\n",
    "r=[]\n",
    "for i in marks:\n",
    "    r.append(grade_of_student(i))\n",
    "\n",
    "print(r)\n",
    "\n",
    "print('corresponding grade: ',grade_of_student(10,20,30,40,50))\n",
    "\n",
    "print(len(grade_structure['A']),'students got A')\n",
    "print(len(grade_structure['B']),'students got B')"
   ]
  },
  {
   "cell_type": "code",
   "execution_count": 19,
   "metadata": {},
   "outputs": [
    {
     "data": {
      "text/plain": [
       "(2, 1)"
      ]
     },
     "execution_count": 19,
     "metadata": {},
     "output_type": "execute_result"
    }
   ],
   "source": [
    "# (b)\n",
    "l=[1,2,3,4,4,5,6,6]\n",
    "def func(li,a,b):\n",
    "    count_a=0\n",
    "    count_b=0\n",
    "    for i in range(len(li)):\n",
    "        if li[i]==a:\n",
    "            count_a+=1\n",
    "        if li[i]==b:\n",
    "            count_b+=1\n",
    "    return count_a,count_b\n",
    "func(l,4,2)"
   ]
  },
  {
   "cell_type": "code",
   "execution_count": 22,
   "metadata": {},
   "outputs": [
    {
     "data": {
      "text/plain": [
       "30"
      ]
     },
     "execution_count": 22,
     "metadata": {},
     "output_type": "execute_result"
    }
   ],
   "source": [
    "#(c)\n",
    "def div_check(a,*args):\n",
    "    numbers=list(args)\n",
    "    sum=0\n",
    "    for i in numbers:\n",
    "        if i%a==0:\n",
    "            sum+=i\n",
    "    return sum\n",
    "\n",
    "check_parameter=3\n",
    "div_check(check_parameter,7,2,21,7,9)"
   ]
  },
  {
   "cell_type": "code",
   "execution_count": 397,
   "metadata": {},
   "outputs": [
    {
     "data": {
      "text/plain": [
       "'time taken to execute read_file function is :0.0007965564727783203'"
      ]
     },
     "execution_count": 397,
     "metadata": {},
     "output_type": "execute_result"
    }
   ],
   "source": [
    "# (d)\n",
    "\n",
    "\n",
    "def deco(f):\n",
    "    def inner_func(*args,**kwargs):\n",
    "        # print(args[0])\n",
    "        t1=time.time()\n",
    "        f(args[0])\n",
    "        t2=time.time()\n",
    "        return f'time taken to execute read_file function is :{t2-t1}'\n",
    "    return inner_func\n",
    "\n",
    "@deco\n",
    "def read_file(name):\n",
    "    cont=open(name,mode='r')\n",
    "    l=cont.readlines()\n",
    "    return l\n",
    "\n",
    "read_file('text.txt')\n"
   ]
  },
  {
   "cell_type": "code",
   "execution_count": 67,
   "metadata": {},
   "outputs": [
    {
     "name": "stdout",
     "output_type": "stream",
     "text": [
      "[[1 2 1 5 5]\n",
      " [1 2 5 1 5]\n",
      " [4 1 4 1 1]\n",
      " [1 4 3 3 3]]\n",
      "[[2 5]\n",
      " [2 1]\n",
      " [1 1]\n",
      " [4 3]]\n",
      "[[1 2 1 5 5]\n",
      " [1 4 3 3 3]]\n"
     ]
    }
   ],
   "source": [
    "# (e)\n",
    "\n",
    "a = np.random.randint(1,6,size=(4,5))\n",
    "print(a)\n",
    "new_mat=np.zeros((4,2),dtype=int)\n",
    "new_mat[:,0]=a[:,1]\n",
    "new_mat[:,1]=a[:,3]\n",
    "print(new_mat)\n",
    "new_mat1=np.zeros((2,5),dtype=int)\n",
    "new_mat1[0,:]=a[0,:]\n",
    "new_mat1[1,:]=a[3,:]\n",
    "print(new_mat1)"
   ]
  },
  {
   "cell_type": "code",
   "execution_count": 109,
   "metadata": {},
   "outputs": [
    {
     "data": {
      "text/plain": [
       "1      Cumings, Mrs. John Bradley (Florence Briggs Th...\n",
       "2                                 Heikkinen, Miss. Laina\n",
       "3           Futrelle, Mrs. Jacques Heath (Lily May Peel)\n",
       "8      Johnson, Mrs. Oscar W (Elisabeth Vilhelmina Berg)\n",
       "9                    Nasser, Mrs. Nicholas (Adele Achem)\n",
       "                             ...                        \n",
       "875                     Najib, Miss. Adele Kiamie \"Jane\"\n",
       "879        Potter, Mrs. Thomas Jr (Lily Alexenia Wilson)\n",
       "880         Shelley, Mrs. William (Imanita Parrish Hall)\n",
       "887                         Graham, Miss. Margaret Edith\n",
       "889                                Behr, Mr. Karl Howell\n",
       "Name: Name, Length: 342, dtype: object"
      ]
     },
     "execution_count": 109,
     "metadata": {},
     "output_type": "execute_result"
    }
   ],
   "source": [
    "# (f)\n",
    "# PART A\n",
    "titanic_data=pd.read_csv('titanic_train.csv')\n",
    "titanic_data.iloc[:,list(range(0,titanic_data.shape[1],2))]\n",
    "\n",
    "#PART B\n",
    "titanic_data[titanic_data['Survived']==1]['Name']\n",
    "# titanic_data"
   ]
  },
  {
   "cell_type": "code",
   "execution_count": 118,
   "metadata": {},
   "outputs": [
    {
     "name": "stdout",
     "output_type": "stream",
     "text": [
      "[[5 4 1 5 1]\n",
      " [1 5 3 1 5]\n",
      " [1 4 3 2 2]\n",
      " [1 5 1 3 3]]\n",
      "row Sum is :  [16 15 12 13]\n",
      "Column Sum is :  [ 8 18  8 11 11]\n"
     ]
    }
   ],
   "source": [
    "# (g)\n",
    "matx= np.random.randint(1,6,size=(4,5))\n",
    "print(matx)\n",
    "row_sum=np.sum(matx,axis=1)\n",
    "print(\"row Sum is : \",row_sum)\n",
    "col_sum=np.sum(matx,axis=0)\n",
    "print(\"Column Sum is : \",col_sum)"
   ]
  },
  {
   "cell_type": "code",
   "execution_count": 156,
   "metadata": {},
   "outputs": [
    {
     "name": "stdout",
     "output_type": "stream",
     "text": [
      "Solution of x is \n",
      " [1.7 1.6]\n",
      "By multiplying A and the solution x we get B as :\n",
      " [5. 2.]\n"
     ]
    }
   ],
   "source": [
    "# (h)\n",
    "# 2x + y = 5\n",
    "# 4x - 3y = 2\n",
    "A=np.array([[2,1],[4,-3]])\n",
    "B=np.array([5,2])\n",
    "\n",
    "A_inv=inv(A)\n",
    "x=np.dot(A_inv,B)\n",
    "print(\"Solution of x is \\n\",x)\n",
    "# print(x.shape)\n",
    "# print(x)\n",
    "B_achieved=np.dot(A,x)\n",
    "\n",
    "print(\"By multiplying A and the solution x we get B as :\\n\",B_achieved)"
   ]
  },
  {
   "cell_type": "markdown",
   "metadata": {},
   "source": [
    "# 2"
   ]
  },
  {
   "cell_type": "code",
   "execution_count": 570,
   "metadata": {},
   "outputs": [
    {
     "data": {
      "text/plain": [
       "(0.0, 20.0)"
      ]
     },
     "execution_count": 570,
     "metadata": {},
     "output_type": "execute_result"
    },
    {
     "data": {
      "image/png": "[encoded data removed]",
      "text/plain": [
       "<Figure size 200x200 with 1 Axes>"
      ]
     },
     "metadata": {},
     "output_type": "display_data"
    }
   ],
   "source": [
    "# (a)\n",
    "all_points4 = np.random.random((1600,2))*20\n",
    "cg = np.array([10,10]).reshape(1,2)\n",
    "\n",
    "# on_circle = all_points4[(np.sqrt(np.sum(np.power(all_points4-cg,2),axis=1)) >= 7) & (np.sqrt(np.sum(np.power(all_points4-cg,2),axis=1)) <= 8)]\n",
    "in_circle = all_points4[~(np.sqrt(np.sum(np.power(all_points4-cg,2),axis=1)) >= 7) ]\n",
    "plt.figure(figsize=(2,2))\n",
    "plt.scatter(all_points4[:,0],all_points4[:,1],marker='x',color = 'blue')\n",
    "# plt.scatter(on_circle[:,0],on_circle[:,1],marker='x',color = 'red')\n",
    "plt.scatter(in_circle[:,0],in_circle[:,1],marker='x',color = 'red')\n",
    "\n",
    "plt.xlim(0,20)\n",
    "plt.ylim(0,20)"
   ]
  },
  {
   "cell_type": "code",
   "execution_count": 578,
   "metadata": {},
   "outputs": [
    {
     "name": "stdout",
     "output_type": "stream",
     "text": [
      "[[9 8 7 7 2]\n",
      " [1 1 5 7 1]\n",
      " [3 3 9 1 2]\n",
      " [2 6 6 3 3]]\n",
      "Transpose = \n",
      " [[9. 1. 3. 2.]\n",
      " [8. 1. 3. 6.]\n",
      " [7. 5. 9. 6.]\n",
      " [7. 7. 1. 3.]\n",
      " [2. 1. 2. 3.]]\n"
     ]
    }
   ],
   "source": [
    "# (c) i\n",
    "\n",
    "\n",
    "def Transpose(A):\n",
    "    B=np.zeros((A.shape[1],A.shape[0]))\n",
    "    for i in range(A.shape[1]):\n",
    "        B[i,:]=A[:,i]\n",
    "\n",
    "    return B\n",
    "\n",
    "\n",
    "matrix_=np.random.randint(1,10,size=(4,5))\n",
    "print(matrix_)\n",
    "\n",
    "print(f'Transpose = \\n {Transpose(matrix_)}')"
   ]
  },
  {
   "cell_type": "code",
   "execution_count": 579,
   "metadata": {},
   "outputs": [
    {
     "data": {
      "text/plain": [
       "array([[9, 8, 7, 7, 2]])"
      ]
     },
     "execution_count": 579,
     "metadata": {},
     "output_type": "execute_result"
    }
   ],
   "source": [
    "# (c) ii\n",
    "def row_selection(a):\n",
    "    l=[]\n",
    "    mat_avg=np.mean(a)\n",
    "    for i in range(a.shape[0]):\n",
    "        if mat_avg<np.mean(a[i,:]):\n",
    "            l.append(a[i,:])\n",
    "    return np.array(l)\n",
    "\n",
    "row_selection(matrix_)"
   ]
  },
  {
   "cell_type": "markdown",
   "metadata": {},
   "source": [
    "# 3."
   ]
  },
  {
   "cell_type": "code",
   "execution_count": 574,
   "metadata": {},
   "outputs": [
    {
     "data": {
      "text/plain": [
       "<matplotlib.collections.PathCollection at 0x7fcd532ac430>"
      ]
     },
     "execution_count": 574,
     "metadata": {},
     "output_type": "execute_result"
    },
    {
     "data": {
      "image/png": "[encoded data removed]",
      "text/plain": [
       "<Figure size 640x480 with 1 Axes>"
      ]
     },
     "metadata": {},
     "output_type": "display_data"
    }
   ],
   "source": [
    "# (a)\n",
    "\n",
    "\n",
    "all_points = np.random.random((16000,2))*20\n",
    "plt.scatter(all_points[:,0],all_points[:,1],marker='x',color = 'blue')\n",
    "center=np.array([10,10])\n",
    "# print(np.abs(((all_points[:,0]-center[0])/5)**2 + ((all_points[:,1]-center[1])/5)**2))\n",
    "# d=np.round(((all_points[:,0]-center[0])/5)**2 + ((all_points[:,1]-center[1])/8)**2)\n",
    "a_len=8\n",
    "b_len=5\n",
    "on_elipse=all_points[np.round(((all_points[:,0]-center[0])/a_len)**2 + ((all_points[:,1]-center[1])/b_len)**2)==1]\n",
    "plt.scatter(on_elipse[:,0],on_elipse[:,1],marker='x',color = 'red')"
   ]
  },
  {
   "cell_type": "code",
   "execution_count": 575,
   "metadata": {},
   "outputs": [
    {
     "data": {
      "text/plain": [
       "1    550\n",
       "0    183\n",
       "2    158\n",
       "Name: count, dtype: int64"
      ]
     },
     "execution_count": 575,
     "metadata": {},
     "output_type": "execute_result"
    }
   ],
   "source": [
    "# (b) i\n",
    "titanic_dataset=pd.read_csv(\"titanic_train.csv\")\n",
    "titanic_dataset.isna().sum(axis=1).value_counts() #row"
   ]
  },
  {
   "cell_type": "code",
   "execution_count": 576,
   "metadata": {},
   "outputs": [
    {
     "name": "stdout",
     "output_type": "stream",
     "text": [
      "0      9\n",
      "177    1\n",
      "687    1\n",
      "2      1\n",
      "Name: count, dtype: int64\n"
     ]
    }
   ],
   "source": [
    "# (b) ii\n",
    "s=titanic_dataset.isna().sum(axis=0).value_counts() #col\n",
    "print(s)"
   ]
  },
  {
   "cell_type": "code",
   "execution_count": 285,
   "metadata": {},
   "outputs": [
    {
     "name": "stdout",
     "output_type": "stream",
     "text": [
      "PassengerId      0\n",
      "Survived         0\n",
      "Pclass           0\n",
      "Name             0\n",
      "Sex              0\n",
      "Age            177\n",
      "SibSp            0\n",
      "Parch            0\n",
      "Ticket           0\n",
      "Fare             0\n",
      "Cabin          687\n",
      "Embarked         2\n",
      "dtype: int64\n",
      "\n",
      "Column 'Cabin' has most mising values\n"
     ]
    }
   ],
   "source": [
    "# (b) iii\n",
    "s=titanic_dataset.isna().sum(axis=0)\n",
    "print(s)\n",
    "print(\"\\nColumn 'Cabin' has most mising values\")"
   ]
  },
  {
   "cell_type": "code",
   "execution_count": 577,
   "metadata": {},
   "outputs": [
    {
     "data": {
      "text/plain": [
       "PassengerId    0\n",
       "Survived       0\n",
       "Pclass         0\n",
       "Name           0\n",
       "Sex            0\n",
       "SibSp          0\n",
       "Parch          0\n",
       "Ticket         0\n",
       "Fare           0\n",
       "Embarked       2\n",
       "dtype: int64"
      ]
     },
     "execution_count": 577,
     "metadata": {},
     "output_type": "execute_result"
    }
   ],
   "source": [
    "# (b) iv\n",
    "titanic_dataset.drop(['Age','Cabin'],axis=1 ,inplace=True)\n",
    "titanic_dataset.isna().sum(axis=0)"
   ]
  },
  {
   "cell_type": "code",
   "execution_count": 287,
   "metadata": {},
   "outputs": [
    {
     "name": "stdout",
     "output_type": "stream",
     "text": [
      "0    9\n",
      "2    1\n",
      "Name: count, dtype: int64\n",
      "There are 9 columns with 0 missing val and one column with 2 missing val, so 'missingness' improved a lot ,\n",
      "but is can be improved even more by dropping those two rows which have missing values\n"
     ]
    }
   ],
   "source": [
    "# (b) v\n",
    "r=titanic_dataset.isna().sum(axis=0).value_counts()\n",
    "print(r)\n",
    "print(\"There are 9 columns with 0 missing val and one column with 2 missing val, so 'missingness' improved a lot ,\\nbut is can be improved even more by dropping those two rows which have missing values\")"
   ]
  },
  {
   "cell_type": "code",
   "execution_count": 288,
   "metadata": {},
   "outputs": [
    {
     "data": {
      "text/plain": [
       "PassengerId      int16\n",
       "Survived         int16\n",
       "Pclass           int16\n",
       "Name            object\n",
       "Sex             object\n",
       "SibSp            int16\n",
       "Parch            int16\n",
       "Ticket          object\n",
       "Fare           float16\n",
       "Embarked        object\n",
       "dtype: object"
      ]
     },
     "execution_count": 288,
     "metadata": {},
     "output_type": "execute_result"
    }
   ],
   "source": [
    "# (b) vi\n",
    "cols=titanic_dataset.columns\n",
    "\n",
    "\n",
    "\n",
    "# dtypes_dict=dict(zip(cols,[np.int16]*3+[str]*2+[np.int16]*2+[str]*))\n",
    "titanic_dataset['PassengerId']=titanic_dataset['PassengerId'].astype(np.int16)\n",
    "titanic_dataset['Survived']=titanic_dataset['Survived'].astype(np.int16)\n",
    "titanic_dataset['Pclass']=titanic_dataset['Pclass'].astype(np.int16)\n",
    "titanic_dataset['SibSp']=titanic_dataset['SibSp'].astype(np.int16)\n",
    "titanic_dataset['Parch']=titanic_dataset['Parch'].astype(np.int16)\n",
    "titanic_dataset['Fare']=titanic_dataset['Fare'].astype(np.float16)\n",
    "\n",
    "titanic_dataset.dtypes"
   ]
  },
  {
   "cell_type": "code",
   "execution_count": 292,
   "metadata": {},
   "outputs": [
    {
     "name": "stdout",
     "output_type": "stream",
     "text": [
      "PassengerId    0\n",
      "Survived       0\n",
      "Pclass         0\n",
      "Name           0\n",
      "Sex            0\n",
      "SibSp          0\n",
      "Parch          0\n",
      "Ticket         0\n",
      "Fare           0\n",
      "Embarked       0\n",
      "dtype: int64\n",
      "0    889\n",
      "Name: count, dtype: int64\n"
     ]
    }
   ],
   "source": [
    "# (b) vii\n",
    "print(titanic_dataset.isna().sum(axis=0))\n",
    "print(titanic_dataset.isna().sum(axis=1).value_counts())\n",
    "# there are 2 rown with missing value in Embarked column which is a object col so we drop those rows\n",
    "titanic_dataset.dropna(axis=0,inplace=True)\n"
   ]
  },
  {
   "cell_type": "code",
   "execution_count": 296,
   "metadata": {},
   "outputs": [
    {
     "data": {
      "text/plain": [
       "Survived\n",
       "0    22.118013\n",
       "1    48.211823\n",
       "Name: Fare, dtype: float32"
      ]
     },
     "execution_count": 296,
     "metadata": {},
     "output_type": "execute_result"
    }
   ],
   "source": [
    "# (b) viii\n",
    "titanic_dataset\n",
    "titanic_dataset.groupby('Survived')['Fare'].mean()\n",
    "#so, avg fare paid by survived is 48.211823 and those who not survived is 22.118013"
   ]
  },
  {
   "cell_type": "code",
   "execution_count": 312,
   "metadata": {},
   "outputs": [
    {
     "name": "stdout",
     "output_type": "stream",
     "text": [
      "Sex     Survived\n",
      "female  0           23.024740\n",
      "        1           51.697849\n",
      "male    0           21.961079\n",
      "        1           40.824005\n",
      "Name: Fare, dtype: float32\n",
      "Survived          0          1\n",
      "Sex                           \n",
      "female    23.024740  51.697849\n",
      "male      21.961079  40.824005\n",
      "                      Fare\n",
      "Survived Sex              \n",
      "0        female  23.024740\n",
      "         male    21.961079\n",
      "1        female  51.697849\n",
      "         male    40.824005\n"
     ]
    },
    {
     "name": "stderr",
     "output_type": "stream",
     "text": [
      "/tmp/ipykernel_11568/4175565400.py:4: FutureWarning: The provided callable <function mean at 0x7fcd9429a200> is currently using SeriesGroupBy.mean. In a future version of pandas, the provided callable will be used directly. To keep current behavior pass the string \"mean\" instead.\n",
      "  print(titanic_dataset.groupby(['Survived','Sex']).agg({'Fare':np.mean}))\n"
     ]
    }
   ],
   "source": [
    "# (b) ix\n",
    "print(titanic_dataset.groupby(['Sex','Survived'])['Fare'].mean())\n",
    "print(titanic_dataset.pivot_table('Fare','Sex','Survived'))\n",
    "print(titanic_dataset.groupby(['Survived','Sex']).agg({'Fare':np.mean}))\n",
    "# avg fare paid by surviving females=51.697\n",
    "# avg fare paid by non surviving females=23.0247"
   ]
  },
  {
   "cell_type": "code",
   "execution_count": 323,
   "metadata": {},
   "outputs": [
    {
     "data": {
      "text/plain": [
       "Sex     Pclass\n",
       "female  1          92\n",
       "        2          76\n",
       "        3         144\n",
       "male    1         122\n",
       "        2         108\n",
       "        3         347\n",
       "Name: Survived, dtype: int64"
      ]
     },
     "execution_count": 323,
     "metadata": {},
     "output_type": "execute_result"
    }
   ],
   "source": [
    "# (b) x\n",
    "titanic_dataset.groupby(['Sex','Pclass',]).count()['Survived']\n",
    "# 92 female with class val 1 survived\n",
    "# 76 female with class val 2 survived\n",
    "# 144 female with class val 3 survived\n",
    "# 122 male with class val 1 survived\n",
    "# 108 male with class val 2 survived\n",
    "# 347 male with class val 3 survived"
   ]
  },
  {
   "cell_type": "code",
   "execution_count": null,
   "metadata": {},
   "outputs": [],
   "source": []
  }
 ],
 "metadata": {
  "kernelspec": {
   "display_name": "Python 3",
   "language": "python",
   "name": "python3"
  },
  "language_info": {
   "codemirror_mode": {
    "name": "ipython",
    "version": 3
   },
   "file_extension": ".py",
   "mimetype": "text/x-python",
   "name": "python",
   "nbconvert_exporter": "python",
   "pygments_lexer": "ipython3",
   "version": "3.10.12"
  }
 },
 "nbformat": 4,
 "nbformat_minor": 2
}
