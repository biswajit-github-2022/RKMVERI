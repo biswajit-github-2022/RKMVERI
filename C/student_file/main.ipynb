{
 "cells": [
  {
   "cell_type": "code",
   "execution_count": 103,
   "metadata": {},
   "outputs": [
    {
     "data": {
      "text/plain": [
       "('subject.txt', 'name.txt')"
      ]
     },
     "execution_count": 103,
     "metadata": {},
     "output_type": "execute_result"
    }
   ],
   "source": [
    "def inp_file_names():#f1\n",
    "    a=input(\"Enter File Name Containing Grade Structure\")\n",
    "    b=input(\"Enter File Name Containing Marks\")\n",
    "    return a,b\n",
    "    # return \"subject.txt\",\"name.txt\"\n",
    "\n",
    "\n",
    "inp_file_names()"
   ]
  },
  {
   "cell_type": "code",
   "execution_count": 108,
   "metadata": {},
   "outputs": [
    {
     "data": {
      "text/plain": [
       "([['roll_no', 'marks'],\n",
       "  ['1', '80'],\n",
       "  ['2', '78'],\n",
       "  ['3', '90'],\n",
       "  ['4', '70'],\n",
       "  ['5', '89'],\n",
       "  ['6', '60'],\n",
       "  ['7', '90']],\n",
       " [['roll_no', 'name'],\n",
       "  ['1', 'A'],\n",
       "  ['2', 'B'],\n",
       "  ['3', 'C'],\n",
       "  ['4', 'D'],\n",
       "  ['5', 'E'],\n",
       "  ['6', 'F'],\n",
       "  ['7', 'G']])"
      ]
     },
     "execution_count": 108,
     "metadata": {},
     "output_type": "execute_result"
    }
   ],
   "source": [
    "def get_data():#f3\n",
    "    file_names = inp_file_names()#f2\n",
    "    l1=[]\n",
    "    l2=[]\n",
    "    sub=open(file_names[0])\n",
    "    name=open(file_names[1])\n",
    "    sub_lines=sub.readlines()\n",
    "    for i in range(len(sub_lines)):\n",
    "        sub_lines[i]=sub_lines[i].strip('\\n')\n",
    "        l1.append(sub_lines[i].split(','))\n",
    "    name_lines=name.readlines()\n",
    "    for i in range(len(name_lines)):\n",
    "        name_lines[i]=name_lines[i].strip('\\n')\n",
    "        l2.append(name_lines[i].split(','))\n",
    "    # for i in range(1,len(l1)):\n",
    "        # print(f'student with roll no. {l1[i][0]} named {l2[i][1]} scored {l1[i][1]}')\n",
    "    \n",
    "    return l1,l2\n",
    "\n",
    "get_data()"
   ]
  },
  {
   "cell_type": "code",
   "execution_count": 111,
   "metadata": {},
   "outputs": [
    {
     "data": {
      "text/plain": [
       "'roll: 6 , marks: 60'"
      ]
     },
     "execution_count": 111,
     "metadata": {},
     "output_type": "execute_result"
    }
   ],
   "source": [
    "def search_using_name(name:str):\n",
    "    res=get_data()\n",
    "    for i in range(1,len(res[1])):\n",
    "        if name==res[1][i][1]:\n",
    "            return f\"roll: {res[1][i][0]} , marks: {res[0][i][1]}\"\n",
    "    if name!=res[1][i][1]:\n",
    "        return \"Student dont exist in database\"\n",
    "search_using_name(name='F')"
   ]
  },
  {
   "cell_type": "code",
   "execution_count": 109,
   "metadata": {},
   "outputs": [
    {
     "data": {
      "text/plain": [
       "\"People with marks between 80 and 90 is ['A', 'C', 'E', 'G']\""
      ]
     },
     "execution_count": 109,
     "metadata": {},
     "output_type": "execute_result"
    }
   ],
   "source": [
    "def name_of_student_in_marks_range(lower_lim:int,upper_lim:int):\n",
    "    res=get_data()\n",
    "    name_list=[]\n",
    "    for i in range(1,len(res[0])):\n",
    "        if lower_lim<=int(res[0][i][1])<=upper_lim:\n",
    "            name_list.append(res[1][i][1])\n",
    "    return f'People with marks between {lower_lim} and {upper_lim} is {name_list}'\n",
    "\n",
    "\n",
    "name_of_student_in_marks_range(80,90)"
   ]
  },
  {
   "cell_type": "code",
   "execution_count": 124,
   "metadata": {},
   "outputs": [
    {
     "name": "stdout",
     "output_type": "stream",
     "text": [
      "roll: 6 , marks: 60\n",
      "People with marks between 80 and 90 is ['A', 'C', 'E', 'G']\n"
     ]
    }
   ],
   "source": [
    "class Student_Info:\n",
    "    def __init__(self) :\n",
    "        self.a=input(\"Enter File Name Containing subject grades\")\n",
    "        self.b=input(\"Enter File Name Containing name of student\")\n",
    "\n",
    "\n",
    "    def get_data(self):#f3\n",
    "        file_names = inp_file_names()#f2\n",
    "        l1=[]\n",
    "        l2=[]\n",
    "        sub=open(self.a)\n",
    "        name=open(self.b)\n",
    "        sub_lines=sub.readlines()\n",
    "        for i in range(len(sub_lines)):\n",
    "            sub_lines[i]=sub_lines[i].strip('\\n')\n",
    "            l1.append(sub_lines[i].split(','))\n",
    "        name_lines=name.readlines()\n",
    "        for i in range(len(name_lines)):\n",
    "            name_lines[i]=name_lines[i].strip('\\n')\n",
    "            l2.append(name_lines[i].split(','))\n",
    "        # for i in range(1,len(l1)):\n",
    "        #     print(f'student with roll no. {l1[i][0]} named {l2[i][1]} scored {l1[i][1]}')\n",
    "        return l1,l2\n",
    "    \n",
    "\n",
    "    def search_using_name(self,name:str):\n",
    "        res=self.get_data()\n",
    "        for i in range(1,len(res[1])):\n",
    "            if name==res[1][i][1]:\n",
    "                return f\"roll: {res[1][i][0]} , marks: {res[0][i][1]}\"\n",
    "        if name!=res[1][i][1]:\n",
    "            return \"Student dont exist in database\"\n",
    "        \n",
    "    def name_of_student_in_marks_range(self,lower_lim:int,upper_lim:int):\n",
    "        res=self.get_data()\n",
    "        name_list=[]\n",
    "        for i in range(1,len(res[0])):\n",
    "            if lower_lim<=int(res[0][i][1])<=upper_lim:\n",
    "                name_list.append(res[1][i][1])\n",
    "        return f'People with marks between {lower_lim} and {upper_lim} is {name_list}'\n",
    "    \n",
    "    def __str__(self):\n",
    "        return \"This is a class to give a view about student data\"\n",
    "\n",
    "\n",
    "main_data=Student_Info()\n",
    "print(main_data.search_using_name(name=\"F\"))\n",
    "print(main_data.name_of_student_in_marks_range(80,90))"
   ]
  },
  {
   "cell_type": "code",
   "execution_count": 148,
   "metadata": {},
   "outputs": [
    {
     "ename": "TypeError",
     "evalue": "A.__init__() missing 1 required positional argument: 'name'",
     "output_type": "error",
     "traceback": [
      "\u001b[0;31m---------------------------------------------------------------------------\u001b[0m",
      "\u001b[0;31mTypeError\u001b[0m                                 Traceback (most recent call last)",
      "\u001b[0;32m/tmp/ipykernel_6386/2299387567.py\u001b[0m in \u001b[0;36m<module>\u001b[0;34m\u001b[0m\n\u001b[1;32m     12\u001b[0m \u001b[0mobj1\u001b[0m\u001b[0;34m=\u001b[0m\u001b[0mA\u001b[0m\u001b[0;34m(\u001b[0m\u001b[0mname\u001b[0m\u001b[0;34m=\u001b[0m\u001b[0;34m'a'\u001b[0m\u001b[0;34m)\u001b[0m\u001b[0;34m\u001b[0m\u001b[0;34m\u001b[0m\u001b[0m\n\u001b[1;32m     13\u001b[0m \u001b[0mobj2\u001b[0m\u001b[0;34m=\u001b[0m\u001b[0mB\u001b[0m\u001b[0;34m(\u001b[0m\u001b[0mname\u001b[0m\u001b[0;34m=\u001b[0m\u001b[0;34m'b'\u001b[0m\u001b[0;34m)\u001b[0m\u001b[0;34m\u001b[0m\u001b[0;34m\u001b[0m\u001b[0m\n\u001b[0;32m---> 14\u001b[0;31m \u001b[0mobj3\u001b[0m\u001b[0;34m=\u001b[0m\u001b[0mC\u001b[0m\u001b[0;34m(\u001b[0m\u001b[0;34m)\u001b[0m\u001b[0;34m\u001b[0m\u001b[0;34m\u001b[0m\u001b[0m\n\u001b[0m\u001b[1;32m     15\u001b[0m \u001b[0mobj3\u001b[0m\u001b[0;34m.\u001b[0m\u001b[0mname\u001b[0m\u001b[0;34m\u001b[0m\u001b[0;34m\u001b[0m\u001b[0m\n",
      "\u001b[0;31mTypeError\u001b[0m: A.__init__() missing 1 required positional argument: 'name'"
     ]
    }
   ],
   "source": [
    "class A:\n",
    "    def __init__(self,name):\n",
    "        self.name=name\n",
    "class B:\n",
    "    def __init__(self,name):\n",
    "        self.name=name\n",
    "class C(A,B):\n",
    "    # def __init__(self):\n",
    "    #     print(super.name)\n",
    "    pass\n",
    "\n",
    "obj1=A(name='a')      \n",
    "obj2=B(name='b')  \n",
    "obj3=C()\n",
    "obj3.name"
   ]
  }
 ],
 "metadata": {
  "kernelspec": {
   "display_name": "Python 3",
   "language": "python",
   "name": "python3"
  },
  "language_info": {
   "codemirror_mode": {
    "name": "ipython",
    "version": 3
   },
   "file_extension": ".py",
   "mimetype": "text/x-python",
   "name": "python",
   "nbconvert_exporter": "python",
   "pygments_lexer": "ipython3",
   "version": "3.10.12"
  },
  "orig_nbformat": 4
 },
 "nbformat": 4,
 "nbformat_minor": 2
}
