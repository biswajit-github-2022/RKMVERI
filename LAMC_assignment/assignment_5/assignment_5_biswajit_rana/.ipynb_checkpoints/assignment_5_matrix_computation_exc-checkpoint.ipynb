{
 "cells": [
  {
   "cell_type": "code",
   "execution_count": 4,
   "id": "610498f6",
   "metadata": {},
   "outputs": [
    {
     "name": "stdout",
     "output_type": "stream",
     "text": [
      "The autoreload extension is already loaded. To reload it, use:\n",
      "  %reload_ext autoreload\n"
     ]
    }
   ],
   "source": [
    "\"\"\"\n",
    "-----------------------------------------------------------------------------\n",
    "Assignment-5: Matrix computation exercise using python and numpy\n",
    "-----------------------------------------------------------------------------\n",
    "AUTHOR: Soumitra Samanta (soumitra.samanta@gm.rkmvu.ac.in)\n",
    "-----------------------------------------------------------------------------\n",
    "Package required:\n",
    "Numpy: https://numpy.org/\n",
    "Matplotlib: https://matplotlib.org\n",
    "-----------------------------------------------------------------------------\n",
    "\"\"\"\n",
    "\n",
    "import numpy as np\n",
    "from numpy.random import RandomState\n",
    "from assignment_5_matrix_computation_exc import *\n",
    "\n",
    "# for auto-reloading extenrnal modules\n",
    "# see http://stackoverflow.com/questions/1907993/autoreload-of-modules-in-ipython\n",
    "%load_ext autoreload\n",
    "%autoreload 2\n"
   ]
  },
  {
   "cell_type": "markdown",
   "id": "469344da",
   "metadata": {},
   "source": [
    "# Please check the file <font color='red'>assignment_5_matrix_computation.py</font> and fillup all the functions implementation from Assignment-2, Assignment-3 and Assignment-4.\n",
    "-----------------------------------------------------------------------------\n",
    "\n",
    "# Factarize a square matrix $A$ of order $n$ to $LU$ form. Implement your funtion as <font color='red'>factorize_to_lu_matrix</font> started at <font color='red'>line no 856</font> in <font color='red'>assignment_5_matrix_computation.py</font> file in appropriate location. You'll find <font color='red'>assignment_5_matrix_computation.py</font> within this folder. Check your result with the python [scipy](https://docs.scipy.org/doc/scipy/reference/generated/scipy.linalg.lu.html) implementation.\n",
    "[30 points]"
   ]
  },
  {
   "cell_type": "code",
   "execution_count": 5,
   "id": "de56a7fb",
   "metadata": {},
   "outputs": [
    {
     "name": "stdout",
     "output_type": "stream",
     "text": [
      "A random matrices A:\n",
      "[]\n",
      "----------------------------------------------------------------------\n",
      "LU factorization of A:\n",
      "[]\n",
      "is\n",
      "L: \n",
      "[]\n",
      "U: []\n",
      " \n",
      "----------------------------------------------------------------------\n"
     ]
    }
   ],
   "source": [
    "\n",
    "# Now test your code\n",
    "np.random.seed(42)# for reproduce the random numbers\n",
    "l = 9\n",
    "n = 5\n",
    "error_decimal = 10\n",
    "A = []\n",
    "print('A random matrices A:\\n{}' .format(A))\n",
    "print('-'*70)\n",
    "\n",
    "L,  U= factorize_to_lu_matrix(A)        \n",
    "print('LU factorization of A:\\n{}\\nis\\nL: \\n{}\\nU: {}\\n ' .format(np.round(A, error_decimal), np.round(L, error_decimal), np.round(U, error_decimal)))\n",
    "print('-'*70)   \n",
    "\n",
    "\n"
   ]
  },
  {
   "cell_type": "markdown",
   "id": "65603636",
   "metadata": {},
   "source": [
    "# Apply the above LU factorization method to find a soluation of a system $Ax=b$. Where $A$ is a matrix of order $n \\times n$. You have to generate a random system of linear equation ($n$-equations with $n$ unknowns) and check your results. Use your previous funtion <font color='red'>generate_random_linear_system</font> to generate the linear system and implement <font color='red'>soln_n_equations_n_unknowns_lu_factorization</font> started at <font color='red'>line no 883</font> in <font color='red'>assignment_5_matrix_computation.py</font> file in appropriate location. You'll find <font color='red'>assignment_5_matrix_computation.py</font> within this folder.\n",
    "[20 points]"
   ]
  },
  {
   "cell_type": "code",
   "execution_count": 7,
   "id": "129c9919",
   "metadata": {},
   "outputs": [],
   "source": [
    "np.random.seed(42)# for reproduce the random numbers\n",
    "l = 9\n",
    "n = 5\n",
    "error_decimal = 10\n",
    "\n",
    "A, b, x = generate_random_linear_system(n, n)\n",
    "print('The coefficient matrix A: \\n{}' .format(A))\n",
    "print('-'*70) \n",
    "print('Right-hand vector b: \\n{}' .format(b))\n",
    "print('-'*70)\n",
    "print('Actual soluation x: \\n{}' .format(x))\n",
    "print('-'*70)\n",
    "\n",
    "\n",
    "x_est = soln_n_equations_n_unknowns_lu_factorization(A, b)        \n",
    "print('Estimated soluation x_est: \\n{}\\nand \\nabsolute diff|x-x_est| upto {}-th decimal place: \\n{}' .format(np.round(x_est, 3), error_decimal, np.round(np.abs(x-x_est), error_decimal)))\n",
    "print('-'*70)      \n",
    "\n",
    "\n",
    "\n",
    "\n"
   ]
  },
  {
   "cell_type": "code",
   "execution_count": null,
   "id": "d6b22c27",
   "metadata": {},
   "outputs": [],
   "source": []
  }
 ],
 "metadata": {
  "kernelspec": {
   "display_name": "Python 3 (ipykernel)",
   "language": "python",
   "name": "python3"
  },
  "language_info": {
   "codemirror_mode": {
    "name": "ipython",
    "version": 3
   },
   "file_extension": ".py",
   "mimetype": "text/x-python",
   "name": "python",
   "nbconvert_exporter": "python",
   "pygments_lexer": "ipython3",
   "version": "3.10.13"
  }
 },
 "nbformat": 4,
 "nbformat_minor": 5
}
