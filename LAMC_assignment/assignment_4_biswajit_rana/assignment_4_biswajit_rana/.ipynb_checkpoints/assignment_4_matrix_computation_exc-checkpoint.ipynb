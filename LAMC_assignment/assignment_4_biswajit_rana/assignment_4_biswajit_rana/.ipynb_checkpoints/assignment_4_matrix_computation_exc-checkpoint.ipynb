{
 "cells": [
  {
   "cell_type": "code",
   "execution_count": 1,
   "id": "610498f6",
   "metadata": {},
   "outputs": [],
   "source": [
    "\"\"\"\n",
    "-----------------------------------------------------------------------------\n",
    "Assignment-4: Matrix computation exercise using python and numpy\n",
    "-----------------------------------------------------------------------------\n",
    "AUTHOR: Soumitra Samanta (soumitra.samanta@gm.rkmvu.ac.in)\n",
    "-----------------------------------------------------------------------------\n",
    "Package required:\n",
    "Numpy: https://numpy.org/\n",
    "Matplotlib: https://matplotlib.org\n",
    "-----------------------------------------------------------------------------\n",
    "\"\"\"\n",
    "\n",
    "import numpy as np\n",
    "from numpy.random import RandomState\n",
    "from assignment_4_matrix_computation_exc import *\n",
    "\n",
    "# for auto-reloading extenrnal modules\n",
    "# see http://stackoverflow.com/questions/1907993/autoreload-of-modules-in-ipython\n",
    "%load_ext autoreload\n",
    "%autoreload 2\n"
   ]
  },
  {
   "cell_type": "markdown",
   "id": "469344da",
   "metadata": {},
   "source": [
    "# Please check the file <font color='red'>assignment_4_matrix_computation.py</font> and fillup all the functions implementation from Assignment-2 & Assignment-3.\n",
    "-----------------------------------------------------------------------------\n",
    "\n",
    "# Reduce a square matrix $A$ of order $n$ to Hermite cannonical form (HCF) by elementary row operations only. Implement your funtion as <font color='red'>reduce_to_hcf_matrix</font> started at <font color='red'>line no 735</font> in <font color='red'>assignment_4_matrix_computation.py</font> file in appropriate location. You'll find <font color='red'>assignment_4_matrix_computation.py</font> within this folder.\n",
    "[20 points]"
   ]
  },
  {
   "cell_type": "code",
   "execution_count": 2,
   "id": "de56a7fb",
   "metadata": {},
   "outputs": [],
   "source": [
    "\n",
    "# Now test your code\n",
    "np.random.seed(42)# for reproduce the random numbers\n",
    "l = 9\n",
    "n = 5\n",
    "error_decimal = 10\n",
    "A = []\n",
    "print('A random matrices A:\\n{}' .format(A))\n",
    "print('-'*70)\n",
    "\n",
    "A_hcf,  E_ops= reduce_to_hcf_matrix(A)        \n",
    "print('The reduce to HCF of A:\\n{}\\nand\\nE_ops: \\n{} ' .format(np.round(A_hcf, error_decimal), np.round(E_ops, error_decimal)))\n",
    "print('-'*70)   \n",
    "\n",
    "\n"
   ]
  },
  {
   "cell_type": "markdown",
   "id": "65603636",
   "metadata": {},
   "source": [
    "# Apply the above HCF method to find a soluation of a system $Ax=b$. Where $A$ is a matrix of order $m \\times n$. You have to generate a random system of linear equation ($m$-equations with $n$ unknowns) and check your results. Use your previous funtion <font color='red'>generate_random_linear_system</font> to generate the linear system and implement <font color='red'>soln_m_equations_n_unknowns</font> started at <font color='red'>line no 766</font> in <font color='red'>assignment_4_matrix_computation.py</font> file in appropriate location. You'll find <font color='red'>assignment_4_matrix_computation.py</font> within this folder.\n",
    "[10 points]"
   ]
  },
  {
   "cell_type": "code",
   "execution_count": 3,
   "id": "129c9919",
   "metadata": {},
   "outputs": [],
   "source": [
    "np.random.seed(42)# for reproduce the random numbers\n",
    "l = 9\n",
    "m = 4\n",
    "n = 5\n",
    "error_decimal = 10\n",
    "\n",
    "A, b, x = generate_random_linear_system(m, n)\n",
    "print('The coefficient matrix A: \\n{}' .format(A))\n",
    "print('-'*70) \n",
    "print('Right-hand vector b: \\n{}' .format(b))\n",
    "print('-'*70)\n",
    "print('Actual soluation x: \\n{}' .format(x))\n",
    "print('-'*70)\n",
    "\n",
    "\n",
    "x_est, HCF_A = soln_m_equations_n_unknowns(A, b)        \n",
    "print('Estimated soluation x_est: \\n{}\\nand \\nabsolute diff|x-x_est| upto {}-th decimal place: \\n{}' .format(np.round(x_est, 3), error_decimal, np.round(np.abs(x-x_est), error_decimal)))\n",
    "print('-'*70)      \n",
    "\n",
    "\n",
    "\n",
    "\n"
   ]
  },
  {
   "cell_type": "markdown",
   "id": "9bdf3e66",
   "metadata": {},
   "source": [
    "# Use a suitable matrix reduced form (RCF, UTF, NF, HCF...) to find the $determinant$ of a square matrix of order $n$. You generate a random random square matrix of different order  and check your results with the [numpy.linalg.det](https://numpy.org/doc/stable/reference/generated/numpy.linalg.det.html). Implement your funtion <font color='red'>determinant_matrix</font> started at <font color='red'>line no 797</font> in <font color='red'>assignment_4_matrix_computation.py</font> file in appropriate location. You'll find <font color='red'>assignment_4_matrix_computation.py</font> within this folder.\n",
    "[10 points]"
   ]
  },
  {
   "cell_type": "code",
   "execution_count": 4,
   "id": "8c0f0cfd",
   "metadata": {},
   "outputs": [],
   "source": [
    "\n",
    "# Now test your code\n",
    "np.random.seed(42)# for reproduce the random numbers\n",
    "l = 9\n",
    "n = 5\n",
    "error_decimal = 10\n",
    "A = []\n",
    "print('A random matrices A:\\n{}' .format(A))\n",
    "print('-'*70)\n",
    "\n",
    "det_value = determinant_matrix(A)    \n",
    "det_value_numpy = np.linalg.det(A)\n",
    "print('The determinant value of A using my implementarion is:\\n{}\\nand\\nUsing numpy: \\n{}\\nError: {} ' .format(det_value, det_value_numpy, det_value - det_value_numpy))\n",
    "print('-'*70)   \n",
    "\n",
    "\n"
   ]
  },
  {
   "cell_type": "markdown",
   "id": "07d684fd",
   "metadata": {},
   "source": [
    "# Implement Cramer's rule to find a soluation of a system $Ax=b$. Where $A$ is a matrix of order $n \\times n$. You have to generate a random system of linear equation ($n$-equations with $n$ unknowns) and check your results. Use your previous funtion <font color='red'>generate_random_linear_system</font> to generate the linear system and implement <font color='red'>soln_n_equations_n_unknowns_cramers_rule</font> started at <font color='red'>line no 825</font> in <font color='red'>assignment_4_matrix_computation.py</font> file in appropriate location. You'll find <font color='red'>assignment_4_matrix_computation.py</font> within this folder.\n",
    "[10 points]"
   ]
  },
  {
   "cell_type": "code",
   "execution_count": 5,
   "id": "4a85e661",
   "metadata": {},
   "outputs": [],
   "source": [
    "np.random.seed(42)# for reproduce the random numbers\n",
    "l = 9\n",
    "n = 5\n",
    "error_decimal = 10\n",
    "\n",
    "A, b, x = generate_random_linear_system(n, n)\n",
    "print('The coefficient matrix A: \\n{}' .format(A))\n",
    "print('-'*70) \n",
    "print('Right-hand vector b: \\n{}' .format(b))\n",
    "print('-'*70)\n",
    "print('Actual soluation x: \\n{}' .format(x))\n",
    "print('-'*70)\n",
    "\n",
    "\n",
    "x_est = soln_n_equations_n_unknowns_cramers_rule(A, b)        \n",
    "print('Estimated soluation x_est: \\n{}\\nand \\nabsolute diff|x-x_est| upto {}-th decimal place: \\n{}' .format(np.round(x_est, 3), error_decimal, np.round(np.abs(x-x_est), error_decimal)))\n",
    "print('-'*70)      \n",
    "\n",
    "\n",
    "\n",
    "\n"
   ]
  },
  {
   "cell_type": "code",
   "execution_count": null,
   "id": "d6b22c27",
   "metadata": {},
   "outputs": [],
   "source": []
  }
 ],
 "metadata": {
  "kernelspec": {
   "display_name": "Python 3 (ipykernel)",
   "language": "python",
   "name": "python3"
  },
  "language_info": {
   "codemirror_mode": {
    "name": "ipython",
    "version": 3
   },
   "file_extension": ".py",
   "mimetype": "text/x-python",
   "name": "python",
   "nbconvert_exporter": "python",
   "pygments_lexer": "ipython3",
   "version": "3.10.13"
  }
 },
 "nbformat": 4,
 "nbformat_minor": 5
}
