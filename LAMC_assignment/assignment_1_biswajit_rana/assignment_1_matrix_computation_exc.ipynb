{
 "cells": [
  {
   "cell_type": "code",
   "execution_count": 1,
   "id": "7318da17",
   "metadata": {},
   "outputs": [],
   "source": [
    "\"\"\"\n",
    "-----------------------------------------------------------------------------\n",
    "Assignment-1: Matrix computation exercise using python and numpy\n",
    "-----------------------------------------------------------------------------\n",
    "AUTHOR: Soumitra Samanta (soumitra.samanta@gm.rkmvu.ac.in)\n",
    "-----------------------------------------------------------------------------\n",
    "Package required:\n",
    "Numpy: https://numpy.org/\n",
    "Matplotlib: https://matplotlib.org\n",
    "-----------------------------------------------------------------------------\n",
    "\"\"\"\n",
    "\n",
    "import numpy as np\n",
    "from numpy.random import RandomState\n",
    "\n",
    "from typing import Tuple\n",
    "\n",
    "np.random.seed(42)# To reproduce the random numbers\n"
   ]
  },
  {
   "cell_type": "markdown",
   "id": "f981d248",
   "metadata": {},
   "source": [
    "# Generate a random vector $x \\in \\mathbf{R}^{n}$ contains intergers between $[-l, l]$.\n",
    "[3 points]"
   ]
  },
  {
   "cell_type": "code",
   "execution_count": 2,
   "id": "7abfce98",
   "metadata": {},
   "outputs": [
    {
     "name": "stdout",
     "output_type": "stream",
     "text": [
      "A random vector of size 10: \n",
      "----------------------------------------------------------------------\n",
      "x: [-3  5  1 -2 -3  9  1  1 -6 -2]\n",
      "----------------------------------------------------------------------\n"
     ]
    }
   ],
   "source": [
    "n = 10\n",
    "l = 9\n",
    "x = []\n",
    "############################################################################\n",
    "#                             Your code will be here                       #\n",
    "#--------------------------------------------------------------------------#\n",
    "def generate_random_vector(min,max,length):\n",
    "    return np.random.randint(min,max+1,length)\n",
    "x=generate_random_vector(-l,l,n)\n",
    "#--------------------------------------------------------------------------#\n",
    "#                             End of your code                             #\n",
    "############################################################################\n",
    "\n",
    "print('A random vector of size {}: ' .format(n))\n",
    "print('-'*70)\n",
    "print('x: {}' .format(x))\n",
    "print('-'*70)"
   ]
  },
  {
   "cell_type": "markdown",
   "id": "2a0c1c9c",
   "metadata": {},
   "source": [
    "# Write a function to calculate the 'dot' product between two vectors. Generate two random vectors $x, y \\in \\mathbf{R}^{n}$ contains intergers between $[-l, l]$ and find the dot product between $x$ and $y$ (your function should handle different order vectors). Check your result with the [numpy.dot](https://numpy.org/doc/stable/reference/generated/numpy.dot.html).\n",
    "[5 points]\n",
    "\n",
    "\n"
   ]
  },
  {
   "cell_type": "code",
   "execution_count": 6,
   "id": "29a4584f",
   "metadata": {},
   "outputs": [
    {
     "name": "stdout",
     "output_type": "stream",
     "text": [
      "Two random vectors of size 10 are:\n",
      "----------------------------------------------------------------------\n",
      "x: [-9  2 -2  1  9  7 -2 -7 -7 -9]\n",
      "and \n",
      "y: [-5  0 -3 -1 -3 -1 -2  2 -8 -9]\n",
      "----------------------------------------------------------------------\n",
      "Result of numpy.dot is 143\n",
      "dot product is matching with result of .dot\n",
      "The dot product between x and y is: 143.0\n",
      "----------------------------------------------------------------------\n"
     ]
    }
   ],
   "source": [
    "n = 10\n",
    "l = 9\n",
    "x = []\n",
    "y = []\n",
    "\n",
    "def vector_dot_product(\n",
    "    x: np.array,\n",
    "    y: np.array,\n",
    ")->float:\n",
    "    \"\"\"\n",
    "    Dot product between two vectors\n",
    "    \n",
    "    Inputs:\n",
    "        - x: 1st vector\n",
    "        - y: 2nd vector\n",
    "       \n",
    "    Output:\n",
    "        - val: Dot product between x and y\n",
    "    \n",
    "    \"\"\"\n",
    "    \n",
    "    val = []\n",
    "    ############################################################################\n",
    "    #                             Your code will be here                       #\n",
    "    #--------------------------------------------------------------------------#\n",
    "    if len(x)==len(y):\n",
    "        sum=0\n",
    "        for i in range(len(x)):\n",
    "            sum+=x[i]*y[i]\n",
    "        val=float(sum)\n",
    "\n",
    "        \n",
    "        d=np.dot(x,y)\n",
    "        print(f'Result of numpy.dot is {d}')\n",
    "        \n",
    "        if val==d:\n",
    "            print(\"dot product is matching with result of .dot\")\n",
    "        else:\n",
    "            print(\"dot product is not matching with .dot\")\n",
    "    else:\n",
    "        print(\"Dot product is not possible \")\n",
    "        val=None\n",
    "    #--------------------------------------------------------------------------#\n",
    "    #                             End of your code                             #\n",
    "    ############################################################################\n",
    "    \n",
    "    return val\n",
    "\n",
    "# np.random.seed(42)# for reproduce the random numbers\n",
    "x = generate_random_vector(-l,l,n)\n",
    "y = generate_random_vector(-l,l,n)\n",
    "\n",
    "print('Two random vectors of size {} are:' .format(n))\n",
    "print('-'*70)\n",
    "print('x: {}\\nand \\ny: {}' .format(x, y))\n",
    "print('-'*70)\n",
    "\n",
    "val = vector_dot_product(x, y)\n",
    "print('The dot product between x and y is: {}' .format(val))\n",
    "print('-'*70)"
   ]
  },
  {
   "cell_type": "markdown",
   "id": "8c35a511",
   "metadata": {},
   "source": [
    "# Generate a random matrix $A$ of size $m \\times n$ contains intergers between $[-l, l]$.\n",
    "[2 points]"
   ]
  },
  {
   "cell_type": "code",
   "execution_count": 4,
   "id": "e8568a9c",
   "metadata": {},
   "outputs": [
    {
     "name": "stdout",
     "output_type": "stream",
     "text": [
      "A random matrix of size 3x5 A:\n",
      "[[-3  8 -6  4  8]\n",
      " [-1 -8  5 -3  2]\n",
      " [-2  5 -7  4  7]]: \n",
      "----------------------------------------------------------------------\n"
     ]
    }
   ],
   "source": [
    "m = 3\n",
    "n = 5\n",
    "l = 9\n",
    "A = []\n",
    "############################################################################\n",
    "#                             Your code will be here                       #\n",
    "#--------------------------------------------------------------------------#\n",
    "def mXn_matrix_generator(min, max ,row,col):\n",
    "    return np.array([np.random.randint(min,max+1,col) for _ in range(row)])\n",
    "A=mXn_matrix_generator(-l,l,m,n)\n",
    "#--------------------------------------------------------------------------#\n",
    "#                             End of your code                             #\n",
    "############################################################################\n",
    "\n",
    "print('A random matrix of size {}x{} A:\\n{}: ' .format(m, n, A))\n",
    "print('-'*70)\n",
    "\n"
   ]
  },
  {
   "cell_type": "markdown",
   "id": "8d2d1ca3",
   "metadata": {},
   "source": [
    "# Write a function to calculate the product of two matrices. Generate two random matrices $x \\in \\mathbf{R}^{m \\times n}$ and $y \\in \\mathbf{R}^{n \\times m}$ contains intergers between $[-l, l]$ and find the product of of $x$ and $y$ (your function should handle different order matrices). Check your result with the [numpy.matmul](https://numpy.org/doc/stable/reference/generated/numpy.matmul.html) or [numpy.dot](https://numpy.org/doc/stable/reference/generated/numpy.dot.html).\n",
    "\n",
    "[10 points]\n",
    "\n",
    "\n"
   ]
  },
  {
   "cell_type": "code",
   "execution_count": 5,
   "id": "bd7602d8",
   "metadata": {},
   "outputs": [
    {
     "name": "stdout",
     "output_type": "stream",
     "text": [
      "Two random matrices are:\n",
      "A: \n",
      "[[-6  8 -2 -6 -8]\n",
      " [-4  0 -6  8  2]\n",
      " [-8  0 -6  4  6]]\n",
      "and\n",
      "B: \n",
      "[[ 5 -2  4]\n",
      " [-2  6  3]\n",
      " [ 8  5  3]\n",
      " [-1  5  3]\n",
      " [-9 -3 -1]]\n",
      "----------------------------------------------------------------------\n",
      "The multiplication of A and B using my function is: \n",
      "[[  16   44  -16]\n",
      " [ -94   12  -12]\n",
      " [-146  -12  -44]]\n",
      "----------------------------------------------------------------------\n",
      "The multiplication of A and B using numpy.matmul is: \n",
      "[[  16   44  -16]\n",
      " [ -94   12  -12]\n",
      " [-146  -12  -44]]\n",
      "----------------------------------------------------------------------\n",
      "The multiplication of A and B using numpy.dot is: \n",
      "[[  16   44  -16]\n",
      " [ -94   12  -12]\n",
      " [-146  -12  -44]]\n",
      "----------------------------------------------------------------------\n"
     ]
    }
   ],
   "source": [
    "m = 3\n",
    "n = 5\n",
    "l = 9\n",
    "x = []\n",
    "y = []\n",
    "\n",
    "def matrix_multiplication(\n",
    "    x: np.array,\n",
    "    y: np.array,\n",
    ")->np.array:\n",
    "    \"\"\"\n",
    "    Dot product between two vectors\n",
    "    \n",
    "    Inputs:\n",
    "        - x: 1st matrix\n",
    "        - y: 2nd matrix\n",
    "       \n",
    "    Output:\n",
    "        - val: multiplication x and y\n",
    "    \n",
    "    \"\"\"\n",
    "    \n",
    "    val = []\n",
    "    ############################################################################\n",
    "    #                             Your code will be here                       #\n",
    "    #--------------------------------------------------------------------------#\n",
    "    if len(x[0])!=len(y):\n",
    "        return f'Not Possible'\n",
    "    else:\n",
    "        val=np.zeros([len(x),len(y[0])], int)\n",
    "        for i in range(len(x)):  \n",
    "            for j in range(len(y[0])):  \n",
    "                for k in range(len(y)):  \n",
    "                    val[i][j] += x[i][k] * y[k][j] \n",
    "    #--------------------------------------------------------------------------#\n",
    "    #                             End of your code                             #\n",
    "    ############################################################################\n",
    "    \n",
    "    return val\n",
    "\n",
    "# np.random.seed(42)# for reproduce the random numbers\n",
    "A = mXn_matrix_generator(-l,l,m,n)\n",
    "B = mXn_matrix_generator(-l,l,n,m)\n",
    "\n",
    "print('Two random matrices are:')\n",
    "print('A: \\n{}\\nand\\nB: \\n{}' .format(A, B))\n",
    "print('-'*70)\n",
    "\n",
    "val = matrix_multiplication(A, B)\n",
    "print('The multiplication of A and B using my function is: \\n{}' .format(val))\n",
    "print('-'*70)\n",
    "\n",
    "val1 = np.matmul(A, B)\n",
    "print('The multiplication of A and B using numpy.matmul is: \\n{}' .format(val1))\n",
    "print('-'*70)\n",
    "\n",
    "val1 = np.dot(A, B)\n",
    "print('The multiplication of A and B using numpy.dot is: \\n{}' .format(val1))\n",
    "print('-'*70)\n"
   ]
  }
 ],
 "metadata": {
  "kernelspec": {
   "display_name": "Python 3 (ipykernel)",
   "language": "python",
   "name": "python3"
  },
  "language_info": {
   "codemirror_mode": {
    "name": "ipython",
    "version": 3
   },
   "file_extension": ".py",
   "mimetype": "text/x-python",
   "name": "python",
   "nbconvert_exporter": "python",
   "pygments_lexer": "ipython3",
   "version": "3.10.5"
  }
 },
 "nbformat": 4,
 "nbformat_minor": 5
}
