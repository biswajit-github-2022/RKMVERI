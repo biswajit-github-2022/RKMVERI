{
 "cells": [
  {
   "cell_type": "code",
   "execution_count": 7,
   "metadata": {},
   "outputs": [],
   "source": [
    "def process(s1,s2):#f1\n",
    "    l=[]\n",
    "    t_l=[]\n",
    "    gs=open(s1)\n",
    "    ml=open(s2)\n",
    "    gs_lines=gs.readlines()\n",
    "    for i in range(len(gs_lines)):\n",
    "        gs_lines[i]=gs_lines[i].strip('\\n')\n",
    "        l.append(gs_lines[i].split(':'))\n",
    "    for i in l:\n",
    "        for j in range(len(i)-1):\n",
    "            i[j+1]=int(i[j+1])\n",
    "        t=tuple(i)\n",
    "        t_l.append(t)\n",
    "\n",
    "    ml_line=ml.readline()\n",
    "    ml_list=[]\n",
    "    l=ml_line.split(',')\n",
    "    # print(l[0])\n",
    "    for i in range(len(l)):\n",
    "        l[i]=int(l[i])\n",
    "\n",
    "    return t_l,l"
   ]
  },
  {
   "cell_type": "code",
   "execution_count": 8,
   "metadata": {},
   "outputs": [],
   "source": [
    "def inp_file_names():#f1\n",
    "    a=input(\"Enter File Name Containing Grade Structure\")\n",
    "    b=input(\"Enter File Name Containing Marks\")\n",
    "    return a,b"
   ]
  },
  {
   "cell_type": "code",
   "execution_count": 9,
   "metadata": {},
   "outputs": [],
   "source": [
    "def create_result (p1,p2):\n",
    "    l_class=[]\n",
    "    for i in p1:\n",
    "        l_class.append([])\n",
    "    x=[]\n",
    "    grade_box={}\n",
    "    for i in p2:\n",
    "        for j in range(len(p1)):\n",
    "            if i<=p1[j][1] and i>=p1[j][2]:\n",
    "                l_class[j].append(i)\n",
    "    for i in range(len(p1)):\n",
    "        grade_box[p1[i][0]]=l_class[i]\n",
    "        x.append((p1[i][0],len(l_class[i])))\n",
    "\n",
    "    return grade_box,tuple(x)"
   ]
  },
  {
   "cell_type": "code",
   "execution_count": 12,
   "metadata": {},
   "outputs": [],
   "source": [
    "def generate_grade_score():#f3\n",
    "    file_names = inp_file_names()#f2\n",
    "    res = process(file_names[0],file_names[1])#f1\n",
    "    result=create_result(res[0],res[1])\n",
    "    return result"
   ]
  },
  {
   "cell_type": "code",
   "execution_count": 15,
   "metadata": {},
   "outputs": [
    {
     "data": {
      "text/plain": [
       "({'A': [90, 95, 98, 94, 94],\n",
       "  'B': [80, 88, 86, 76],\n",
       "  'C': [66, 61, 66, 60, 53, 62, 57, 60, 58],\n",
       "  'D': [44, 46],\n",
       "  'E': [31, 35, 29, 25, 27, 31],\n",
       "  'F': [22, 20, 13, 2]},\n",
       " (('A', 5), ('B', 4), ('C', 9), ('D', 2), ('E', 6), ('F', 4)))"
      ]
     },
     "execution_count": 15,
     "metadata": {},
     "output_type": "execute_result"
    }
   ],
   "source": [
    "generate_grade_score()#f3"
   ]
  }
 ],
 "metadata": {
  "kernelspec": {
   "display_name": "Python 3",
   "language": "python",
   "name": "python3"
  },
  "language_info": {
   "codemirror_mode": {
    "name": "ipython",
    "version": 3
   },
   "file_extension": ".py",
   "mimetype": "text/x-python",
   "name": "python",
   "nbconvert_exporter": "python",
   "pygments_lexer": "ipython3",
   "version": "3.10.12"
  },
  "orig_nbformat": 4
 },
 "nbformat": 4,
 "nbformat_minor": 2
}
