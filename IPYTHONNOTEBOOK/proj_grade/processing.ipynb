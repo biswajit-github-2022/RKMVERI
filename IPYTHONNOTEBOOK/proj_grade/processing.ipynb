{
 "cells": [
  {
   "cell_type": "code",
   "execution_count": 4,
   "metadata": {},
   "outputs": [],
   "source": [
    "def process(s1,s2):#f1\n",
    "    l=[]\n",
    "    t_l=[]\n",
    "    gs=open(s1)\n",
    "    ml=open(s2)\n",
    "    gs_lines=gs.readlines()\n",
    "    for i in range(len(gs_lines)):\n",
    "        gs_lines[i]=gs_lines[i].strip('\\n')\n",
    "        l.append(gs_lines[i].split(':'))\n",
    "    for i in l:\n",
    "        for j in range(len(i)-1):\n",
    "            i[j+1]=int(i[j+1])\n",
    "        t=tuple(i)\n",
    "        t_l.append(t)\n",
    "\n",
    "    ml_line=ml.readline()\n",
    "    ml_list=[]\n",
    "    l=ml_line.split(',')\n",
    "    # print(l[0])\n",
    "    for i in range(len(l)):\n",
    "        l[i]=int(l[i])\n",
    "\n",
    "    return t_l,l"
   ]
  },
  {
   "cell_type": "code",
   "execution_count": 5,
   "metadata": {},
   "outputs": [
    {
     "name": "stdout",
     "output_type": "stream",
     "text": [
      "([('A', 100, 80), ('B', 79, 60), ('C', 59, 40), ('D', 39, 0)], [26, 14, 2, 19, 50, 53, 51, 6, 58, 4, 92, 13, 74, 29, 4, 38, 28, 59, 60, 23])\n"
     ]
    }
   ],
   "source": [
    "# res=process(\"grade_struct.txt\",\"marks_list.txt\")\n",
    "# print(res)"
   ]
  },
  {
   "cell_type": "code",
   "execution_count": 6,
   "metadata": {},
   "outputs": [],
   "source": [
    "def inp_file_names():#f1\n",
    "    a=input(\"Enter File Name Containing Grade Structure\")\n",
    "    b=input(\"Enter File Name Containing Marks\")\n",
    "    return a,b"
   ]
  },
  {
   "cell_type": "code",
   "execution_count": 7,
   "metadata": {},
   "outputs": [],
   "source": [
    "def create_result (p1,p2):\n",
    "    l_class=[]\n",
    "    for i in p1:\n",
    "        l_class.append([])\n",
    "    x=[]\n",
    "    grade_box={}\n",
    "    for i in p2:\n",
    "        for j in range(len(p1)):\n",
    "            if i<=p1[j][1] and i>=p1[j][2]:\n",
    "                l_class[j].append(i)\n",
    "    for i in range(len(p1)):\n",
    "        grade_box[p1[i][0]]=l_class[i]\n",
    "        x.append((p1[i][0],len(l_class[i])))\n",
    "\n",
    "    return grade_box,tuple(x)"
   ]
  },
  {
   "cell_type": "code",
   "execution_count": 11,
   "metadata": {},
   "outputs": [],
   "source": [
    "def generate_grade_score():#f3\n",
    "    file_names = inp_file_names()#f2\n",
    "    grade_structure, marks = file_names\n",
    "    res = process(grade_structure,marks)#f1\n",
    "    result=create_result(res[0],res[1])\n",
    "    return result"
   ]
  },
  {
   "cell_type": "code",
   "execution_count": 14,
   "metadata": {},
   "outputs": [
    {
     "data": {
      "text/plain": [
       "({'A': [92],\n",
       "  'B': [74, 60],\n",
       "  'C': [50, 53, 51, 58, 59],\n",
       "  'D': [38],\n",
       "  'E': [26, 14, 2, 19, 6, 4, 13, 29, 4, 28, 23]},\n",
       " (('A', 1), ('B', 2), ('C', 5), ('D', 1), ('E', 11)))"
      ]
     },
     "execution_count": 14,
     "metadata": {},
     "output_type": "execute_result"
    }
   ],
   "source": [
    "generate_grade_score()#f3"
   ]
  },
  {
   "cell_type": "code",
   "execution_count": 13,
   "metadata": {},
   "outputs": [
    {
     "data": {
      "text/plain": [
       "2"
      ]
     },
     "execution_count": 13,
     "metadata": {},
     "output_type": "execute_result"
    }
   ],
   "source": [
    "t=(1,2)\n",
    "a,b=t\n",
    "b"
   ]
  }
 ],
 "metadata": {
  "kernelspec": {
   "display_name": "Python 3",
   "language": "python",
   "name": "python3"
  },
  "language_info": {
   "codemirror_mode": {
    "name": "ipython",
    "version": 3
   },
   "file_extension": ".py",
   "mimetype": "text/x-python",
   "name": "python",
   "nbconvert_exporter": "python",
   "pygments_lexer": "ipython3",
   "version": "3.10.5"
  },
  "orig_nbformat": 4
 },
 "nbformat": 4,
 "nbformat_minor": 2
}
