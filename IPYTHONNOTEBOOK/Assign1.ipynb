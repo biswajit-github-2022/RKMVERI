{
 "cells": [
  {
   "cell_type": "code",
   "execution_count": 1,
   "metadata": {},
   "outputs": [
    {
     "name": "stdout",
     "output_type": "stream",
     "text": [
      "[7, 1, 7, 13, 4, 18, 13, 9, 12, 10]\n"
     ]
    }
   ],
   "source": [
    "#1. import random module and use randint function to create a list of 10 random numbers b/w 1 and 20.\n",
    "import random\n",
    "l=[]\n",
    "for i in range(0,10):\n",
    "    x= random.randint(1,20)\n",
    "    l.append(x)\n",
    "print(l)\n"
   ]
  },
  {
   "cell_type": "code",
   "execution_count": 2,
   "metadata": {},
   "outputs": [
    {
     "name": "stdout",
     "output_type": "stream",
     "text": [
      "[6, 5, 4, 3, 2, 1]\n",
      "[6, 5, 4, 3, 2, 1]\n"
     ]
    }
   ],
   "source": [
    "#2. reverse a list of elements without using reversed builtin function. \n",
    "l=[1,2,3,4,5,6]\n",
    "l_1=[]\n",
    "for i in range(1,len(l)+1):\n",
    "    l_1.append(l[-i])\n",
    "print(l_1)\n",
    "\n",
    "l2=l[-1::-1]\n",
    "print(l2)"
   ]
  },
  {
   "cell_type": "code",
   "execution_count": 3,
   "metadata": {},
   "outputs": [
    {
     "name": "stdout",
     "output_type": "stream",
     "text": [
      "[1, 3, 4, 5, 7, 10, 17, 19]\n",
      "(1, 3)\n",
      "(1, 5)\n",
      "(1, 7)\n",
      "(1, 17)\n",
      "(1, 19)\n",
      "(3, 5)\n",
      "(3, 7)\n",
      "(3, 17)\n",
      "(3, 19)\n",
      "(5, 7)\n",
      "(5, 17)\n",
      "(5, 19)\n",
      "(7, 17)\n",
      "(7, 19)\n",
      "(17, 19)\n"
     ]
    }
   ],
   "source": [
    "# 3. from a sequence of integer values and find all the distinct pair of numbers in the sequence whose product is odd.\n",
    "\n",
    "l=[7, 4, 1, 17, 19, 17, 1, 5, 3, 10]\n",
    "l=list(set(l))\n",
    "print(l)\n",
    "for i in range (len(l)):\n",
    "    for j in range(i+1,len(l)):\n",
    "        if (l[i]*l[j])%2!=0 :\n",
    "            print(f'({l[i]}, {l[j]})')\n",
    "# print(l)"
   ]
  },
  {
   "cell_type": "code",
   "execution_count": 4,
   "metadata": {},
   "outputs": [
    {
     "name": "stdout",
     "output_type": "stream",
     "text": [
      "Least val: 1\n"
     ]
    }
   ],
   "source": [
    "# 4. takes a sequence of integer values and determine the least value.\n",
    "import sys\n",
    "l=[2, 10, 15, 16, 8, 11, 8, 1, 15, 10]\n",
    "\n",
    "min=sys.maxsize\n",
    "for i in range(len(l)):\n",
    "    if min>l[i]:\n",
    "        min=l[i]\n",
    "print(f'Least val: {min}')"
   ]
  },
  {
   "cell_type": "code",
   "execution_count": 5,
   "metadata": {},
   "outputs": [
    {
     "name": "stdout",
     "output_type": "stream",
     "text": [
      "[1, 2, 8, 8, 10, 10, 11, 15, 15, 16]\n"
     ]
    }
   ],
   "source": [
    "# 5. build over the solution in #4 and create a new sequence of sorted values from the original unsorted sequence. \n",
    "# Hint: a very naive sorting algorithm -->\n",
    "# step 1: find the least element in the original sequence\n",
    "# step 2: store this least element in a new second sequence\n",
    "# step 3: delete this least element from the original sequence\n",
    "# step 4: repeat steps 1-3\n",
    "\n",
    "\n",
    "import sys\n",
    "l=[2, 10, 15, 16, 8, 11, 8, 1, 15, 10]\n",
    "l1=[]\n",
    "length=len(l)\n",
    "c=0\n",
    "while len(l)>0:\n",
    "    min=sys.maxsize\n",
    "    for i in range(length-c):\n",
    "        if min>l[i]:\n",
    "            min=l[i]\n",
    "    l1.append(min)\n",
    "    l.remove(min)\n",
    "    c+=1\n",
    "print(l1)\n"
   ]
  },
  {
   "cell_type": "code",
   "execution_count": 6,
   "metadata": {},
   "outputs": [
    {
     "name": "stdout",
     "output_type": "stream",
     "text": [
      "[4, 19, 16, 16, 1, 18, 17, 12, 16, 3]\n",
      "[1, 3, 4, 12, 16, 16, 16, 17, 18, 19]\n"
     ]
    }
   ],
   "source": [
    "#6. take a sequence of random integer values and sort them using the following algorithm:\n",
    "# step 1: go over the sequence from left to right and swap the consecutive value s if left one is more than right one\n",
    "# step 2: go the beginning of the sequence (left most position)\n",
    "# step 3: repeat steps 1-2 as many number of times as there are elements\n",
    "\n",
    "import random\n",
    "l=[]\n",
    "for i in range(0,10):\n",
    "    x= random.randint(1,20)\n",
    "    l.append(x)\n",
    "print(l)\n",
    "length=len(l)\n",
    "for i in range(length-1): \n",
    "    for j in range(length-i-1): # go the beginning of the sequence\n",
    "        if l[j]>l[j+1]:     #if left one is more than right one\n",
    "            l[j],l[j+1]=l[j+1],l[j]  #swap the consecutive values \n",
    "print(l)"
   ]
  },
  {
   "cell_type": "code",
   "execution_count": 7,
   "metadata": {},
   "outputs": [
    {
     "name": "stdout",
     "output_type": "stream",
     "text": [
      "[8, 19, 15, 18, 14, 19, 20, 20, 13, 11]\n",
      "[8, 11, 13, 14, 15, 18, 19, 19, 20, 20]\n"
     ]
    }
   ],
   "source": [
    "# 7. is it possible to optimize the algo in step 6 using a while loop?\n",
    "import random\n",
    "l=[]\n",
    "for i in range(0,10):\n",
    "    x= random.randint(1,20)\n",
    "    l.append(x)\n",
    "print(l)\n",
    "length=len(l)\n",
    "\n",
    "i=0\n",
    "while i<length:\n",
    "    j=i+1\n",
    "    while j<length:\n",
    "        if l[i]>l[j]:\n",
    "            l[i],l[j]=l[j],l[i]\n",
    "            i=-1\n",
    "        else :\n",
    "            j+=1\n",
    "    i+=1\n",
    "print(l)"
   ]
  },
  {
   "cell_type": "code",
   "execution_count": 8,
   "metadata": {},
   "outputs": [
    {
     "name": "stdout",
     "output_type": "stream",
     "text": [
      "this cant be a problems solution\n"
     ]
    }
   ],
   "source": [
    "# 8. remove all the apostrophes from the sentence: \"this can't be a problem's solution\". \n",
    "sentence= \"this can't be a problem's solution\"\n",
    "l=list(sentence)\n",
    "c=l.count('\\'')\n",
    "for i in range(c):\n",
    "    l.remove(\"'\")\n",
    "# print(l)\n",
    "sentence=''.join(l)\n",
    "print(sentence)"
   ]
  },
  {
   "cell_type": "code",
   "execution_count": 9,
   "metadata": {},
   "outputs": [
    {
     "name": "stdout",
     "output_type": "stream",
     "text": [
      "number of words = 16 and words are: ['aa', 'ab', 'ac', 'ad', 'ba', 'bb', 'bc', 'bd', 'ca', 'cb', 'cc', 'cd', 'da', 'db', 'dc', 'dd']\n",
      "\n",
      "number of words = 64 and words are: ['aaa', 'aab', 'aac', 'aad', 'aba', 'abb', 'abc', 'abd', 'aca', 'acb', 'acc', 'acd', 'ada', 'adb', 'adc', 'add', 'baa', 'bab', 'bac', 'bad', 'bba', 'bbb', 'bbc', 'bbd', 'bca', 'bcb', 'bcc', 'bcd', 'bda', 'bdb', 'bdc', 'bdd', 'caa', 'cab', 'cac', 'cad', 'cba', 'cbb', 'cbc', 'cbd', 'cca', 'ccb', 'ccc', 'ccd', 'cda', 'cdb', 'cdc', 'cdd', 'daa', 'dab', 'dac', 'dad', 'dba', 'dbb', 'dbc', 'dbd', 'dca', 'dcb', 'dcc', 'dcd', 'dda', 'ddb', 'ddc', 'ddd']\n",
      "\n",
      "number of words = 256 and words are: ['aaaa', 'aaab', 'aaac', 'aaad', 'aaba', 'aabb', 'aabc', 'aabd', 'aaca', 'aacb', 'aacc', 'aacd', 'aada', 'aadb', 'aadc', 'aadd', 'abaa', 'abab', 'abac', 'abad', 'abba', 'abbb', 'abbc', 'abbd', 'abca', 'abcb', 'abcc', 'abcd', 'abda', 'abdb', 'abdc', 'abdd', 'acaa', 'acab', 'acac', 'acad', 'acba', 'acbb', 'acbc', 'acbd', 'acca', 'accb', 'accc', 'accd', 'acda', 'acdb', 'acdc', 'acdd', 'adaa', 'adab', 'adac', 'adad', 'adba', 'adbb', 'adbc', 'adbd', 'adca', 'adcb', 'adcc', 'adcd', 'adda', 'addb', 'addc', 'addd', 'baaa', 'baab', 'baac', 'baad', 'baba', 'babb', 'babc', 'babd', 'baca', 'bacb', 'bacc', 'bacd', 'bada', 'badb', 'badc', 'badd', 'bbaa', 'bbab', 'bbac', 'bbad', 'bbba', 'bbbb', 'bbbc', 'bbbd', 'bbca', 'bbcb', 'bbcc', 'bbcd', 'bbda', 'bbdb', 'bbdc', 'bbdd', 'bcaa', 'bcab', 'bcac', 'bcad', 'bcba', 'bcbb', 'bcbc', 'bcbd', 'bcca', 'bccb', 'bccc', 'bccd', 'bcda', 'bcdb', 'bcdc', 'bcdd', 'bdaa', 'bdab', 'bdac', 'bdad', 'bdba', 'bdbb', 'bdbc', 'bdbd', 'bdca', 'bdcb', 'bdcc', 'bdcd', 'bdda', 'bddb', 'bddc', 'bddd', 'caaa', 'caab', 'caac', 'caad', 'caba', 'cabb', 'cabc', 'cabd', 'caca', 'cacb', 'cacc', 'cacd', 'cada', 'cadb', 'cadc', 'cadd', 'cbaa', 'cbab', 'cbac', 'cbad', 'cbba', 'cbbb', 'cbbc', 'cbbd', 'cbca', 'cbcb', 'cbcc', 'cbcd', 'cbda', 'cbdb', 'cbdc', 'cbdd', 'ccaa', 'ccab', 'ccac', 'ccad', 'ccba', 'ccbb', 'ccbc', 'ccbd', 'ccca', 'cccb', 'cccc', 'cccd', 'ccda', 'ccdb', 'ccdc', 'ccdd', 'cdaa', 'cdab', 'cdac', 'cdad', 'cdba', 'cdbb', 'cdbc', 'cdbd', 'cdca', 'cdcb', 'cdcc', 'cdcd', 'cdda', 'cddb', 'cddc', 'cddd', 'daaa', 'daab', 'daac', 'daad', 'daba', 'dabb', 'dabc', 'dabd', 'daca', 'dacb', 'dacc', 'dacd', 'dada', 'dadb', 'dadc', 'dadd', 'dbaa', 'dbab', 'dbac', 'dbad', 'dbba', 'dbbb', 'dbbc', 'dbbd', 'dbca', 'dbcb', 'dbcc', 'dbcd', 'dbda', 'dbdb', 'dbdc', 'dbdd', 'dcaa', 'dcab', 'dcac', 'dcad', 'dcba', 'dcbb', 'dcbc', 'dcbd', 'dcca', 'dccb', 'dccc', 'dccd', 'dcda', 'dcdb', 'dcdc', 'dcdd', 'ddaa', 'ddab', 'ddac', 'ddad', 'ddba', 'ddbb', 'ddbc', 'ddbd', 'ddca', 'ddcb', 'ddcc', 'ddcd', 'ddda', 'dddb', 'dddc', 'dddd']\n",
      "\n"
     ]
    }
   ],
   "source": [
    "# 9. given the following characters - a,b,c,d find all the 2-char and 3-char words that can be formed. \n",
    "# Can you also get all the 4-char words?\n",
    "#  how many words do you get in each case - print both the quanity and the words in the same print statement.\n",
    "\n",
    "alp=['a','b','c','d']\n",
    "l1,l2,l3=[],[],[]\n",
    "\n",
    "for  i in alp:\n",
    "    for j in alp:\n",
    "        l1.append(i+j)\n",
    "        for k in alp:\n",
    "            l2.append(i+j+k)\n",
    "            for l in alp:\n",
    "                l3.append(i+j+k+l)\n",
    "print(f'number of words = {len(l1)} and words are: {l1}\\n')\n",
    "print(f'number of words = {len(l2)} and words are: {l2}\\n')\n",
    "print(f'number of words = {len(l3)} and words are: {l3}\\n')"
   ]
  },
  {
   "cell_type": "code",
   "execution_count": 10,
   "metadata": {},
   "outputs": [
    {
     "name": "stdout",
     "output_type": "stream",
     "text": [
      "{500: 3, 100: 1, 10: 1, 2: 1, 1: 1}\n"
     ]
    }
   ],
   "source": [
    "# 10. given the set of INR currencies split Rs.1613 into the minimum number of currency values (change). \n",
    "# Try a variety of values to test your algorithm.\n",
    "currency=[2000,500,200,100,50,20,10,5,2,1]\n",
    "l={}\n",
    "val=1613\n",
    "# val=2056\n",
    "# val=785\n",
    "for money in currency:\n",
    "    if val//money>0:\n",
    "        l[money]=val//money\n",
    "        val=val%money\n",
    "print(l)\n"
   ]
  },
  {
   "cell_type": "code",
   "execution_count": 9,
   "metadata": {},
   "outputs": [
    {
     "name": "stdout",
     "output_type": "stream",
     "text": [
      "[('1', '2', '10'), ('1', '5', '100'), ('1', '4', '30'), ('2', '3', '50'), ('3', '5', '10'), ('4', '3', '20'), ('4', '5', '60')]\n"
     ]
    }
   ],
   "source": [
    "l=[\"1:2:10\",\"1:5:100\",\"1:4:30\",\"2:3:50\",\"3:5:10\",\"4:3:20\",\"4:5:60\"]\n",
    "l1=[]\n",
    "for i in l :\n",
    "    l=i.split(':')\n",
    "    t=tuple(l)\n",
    "    l1.append(t)\n",
    "print(l1)"
   ]
  }
 ],
 "metadata": {
  "kernelspec": {
   "display_name": "Python 3",
   "language": "python",
   "name": "python3"
  },
  "language_info": {
   "codemirror_mode": {
    "name": "ipython",
    "version": 3
   },
   "file_extension": ".py",
   "mimetype": "text/x-python",
   "name": "python",
   "nbconvert_exporter": "python",
   "pygments_lexer": "ipython3",
   "version": "3.10.5"
  },
  "orig_nbformat": 4
 },
 "nbformat": 4,
 "nbformat_minor": 2
}
