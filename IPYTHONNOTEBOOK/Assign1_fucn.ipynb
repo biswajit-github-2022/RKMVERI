{
 "cells": [
  {
   "cell_type": "code",
   "execution_count": 18,
   "metadata": {},
   "outputs": [
    {
     "data": {
      "text/plain": [
       "[4, 7, 8, 4, 20, 6, 18, 14, 10, 10]"
      ]
     },
     "execution_count": 18,
     "metadata": {},
     "output_type": "execute_result"
    }
   ],
   "source": [
    "#1. import random module and use randint function to create a list of 10 random numbers b/w 1 and 20.\n",
    "import random\n",
    "def rand_num_list(p1,p2):\n",
    "    l=[]\n",
    "    for i in range(0,p1):\n",
    "        x= random.randint(1,p2)\n",
    "        l.append(x)\n",
    "    return l\n",
    "rand_num_list(10,20)\n",
    "\n"
   ]
  },
  {
   "cell_type": "code",
   "execution_count": 19,
   "metadata": {},
   "outputs": [
    {
     "data": {
      "text/plain": [
       "[6, 5, 4, 3, 2, 1]"
      ]
     },
     "execution_count": 19,
     "metadata": {},
     "output_type": "execute_result"
    }
   ],
   "source": [
    "#2. reverse a list of elements without using reversed builtin function. \n",
    "l_num=[1,2,3,4,5,6]\n",
    "def reverse_list(l):\n",
    "    l_1=[]\n",
    "    for i in range(1,len(l)+1):\n",
    "        l_1.append(l[-i])\n",
    "    return l_1\n",
    "reverse_list(l_num)\n",
    "\n",
    "# l2=l[-1::-1]\n",
    "# print(l2)"
   ]
  },
  {
   "cell_type": "code",
   "execution_count": 23,
   "metadata": {},
   "outputs": [
    {
     "name": "stdout",
     "output_type": "stream",
     "text": [
      "[1, 3, 4, 5, 7, 10, 17, 19]\n"
     ]
    },
    {
     "data": {
      "text/plain": [
       "[(1, 3),\n",
       " (1, 5),\n",
       " (1, 7),\n",
       " (1, 17),\n",
       " (1, 19),\n",
       " (3, 5),\n",
       " (3, 7),\n",
       " (3, 17),\n",
       " (3, 19),\n",
       " (5, 7),\n",
       " (5, 17),\n",
       " (5, 19),\n",
       " (7, 17),\n",
       " (7, 19),\n",
       " (17, 19)]"
      ]
     },
     "execution_count": 23,
     "metadata": {},
     "output_type": "execute_result"
    }
   ],
   "source": [
    "# 3. from a sequence of integer values and find all the distinct pair of numbers in the sequence whose product is odd.\n",
    "\n",
    "l_num=[7, 4, 1, 17, 19, 17, 1, 5, 3, 10]\n",
    "def odd_pair(l):\n",
    "    l1=[]\n",
    "    l=list(set(l))\n",
    "    print(l)\n",
    "    for i in range (len(l)):\n",
    "        for j in range(i+1,len(l)):\n",
    "            if (l[i]*l[j])%2!=0 :\n",
    "                l1.append((l[i], l[j]))\n",
    "    return l1\n",
    "# print(l1)\n",
    "\n",
    "\n",
    "odd_pair(l_num)"
   ]
  },
  {
   "cell_type": "code",
   "execution_count": 27,
   "metadata": {},
   "outputs": [
    {
     "name": "stdout",
     "output_type": "stream",
     "text": [
      "Least val: 1\n"
     ]
    }
   ],
   "source": [
    "# 4. takes a sequence of integer values and determine the least value.\n",
    "import sys\n",
    "l_num=[2, 10, 15, 16, 8, 11, 8, 1, 15, 10]\n",
    "\n",
    "def minimum_l(l):\n",
    "    min=sys.maxsize\n",
    "    for i in range(len(l)):\n",
    "        if min>l[i]:\n",
    "            min=l[i]\n",
    "    return min\n",
    "\n",
    "x=minimum_l(l_num)\n",
    "print(f'Least val: {x}')"
   ]
  },
  {
   "cell_type": "code",
   "execution_count": 30,
   "metadata": {},
   "outputs": [
    {
     "data": {
      "text/plain": [
       "[1, 2, 8, 8, 10, 10, 11, 15, 15, 16]"
      ]
     },
     "execution_count": 30,
     "metadata": {},
     "output_type": "execute_result"
    }
   ],
   "source": [
    "# 5. build over the solution in #4 and create a new sequence of sorted values from the original unsorted sequence. \n",
    "# Hint: a very naive sorting algorithm -->\n",
    "# step 1: find the least element in the original sequence\n",
    "# step 2: store this least element in a new second sequence\n",
    "# step 3: delete this least element from the original sequence\n",
    "# step 4: repeat steps 1-3\n",
    "\n",
    "\n",
    "import sys\n",
    "l_num=[2, 10, 15, 16, 8, 11, 8, 1, 15, 10]\n",
    "\n",
    "def naive_sort(l):\n",
    "    l1=[]\n",
    "    length=len(l)\n",
    "    c=0\n",
    "    while len(l)>0:\n",
    "        min=sys.maxsize\n",
    "        for i in range(length-c):\n",
    "            if min>l[i]:\n",
    "                min=l[i]\n",
    "        l1.append(min)\n",
    "        l.remove(min)\n",
    "        c+=1\n",
    "    return l1\n",
    "\n",
    "naive_sort(l_num)"
   ]
  },
  {
   "cell_type": "code",
   "execution_count": 40,
   "metadata": {},
   "outputs": [
    {
     "name": "stdout",
     "output_type": "stream",
     "text": [
      "[7, 6, 4, 6, 5, 17, 12, 20, 2, 6]\n"
     ]
    },
    {
     "data": {
      "text/plain": [
       "[2, 4, 5, 6, 6, 6, 7, 12, 17, 20]"
      ]
     },
     "execution_count": 40,
     "metadata": {},
     "output_type": "execute_result"
    }
   ],
   "source": [
    "#6. take a sequence of random integer values and sort them using the following algorithm:\n",
    "# step 1: go over the sequence from left to right and swap the consecutive value s if left one is more than right one\n",
    "# step 2: go the beginning of the sequence (left most position)\n",
    "# step 3: repeat steps 1-2 as many number of times as there are elements\n",
    "\n",
    "# import random\n",
    "l_num=rand_num_list(10,20)\n",
    "print(l_num)\n",
    "\n",
    "def sort_a(l):\n",
    "    length=len(l)\n",
    "    for i in range(length-1): \n",
    "        for j in range(length-i-1): # go the beginning of the sequence\n",
    "            if l[j]>l[j+1]:     #if left one is more than right one\n",
    "                l[j],l[j+1]=l[j+1],l[j]  #swap the consecutive values\n",
    "    return l\n",
    "\n",
    "\n",
    "sort_a(l_num)"
   ]
  },
  {
   "cell_type": "code",
   "execution_count": 45,
   "metadata": {},
   "outputs": [
    {
     "name": "stdout",
     "output_type": "stream",
     "text": [
      "[16, 13, 20, 13, 19, 6, 16, 8, 17, 11]\n"
     ]
    },
    {
     "data": {
      "text/plain": [
       "[6, 8, 11, 13, 13, 16, 16, 17, 19, 20]"
      ]
     },
     "execution_count": 45,
     "metadata": {},
     "output_type": "execute_result"
    }
   ],
   "source": [
    "# 7. is it possible to optimize the algo in step 6 using a while loop?\n",
    "import random\n",
    "l_num=rand_num_list(10,20)\n",
    "print(l_num)\n",
    "\n",
    "def sort_a_while(l):\n",
    "    i=0\n",
    "    length=len(l)\n",
    "    while i<length:\n",
    "        j=i+1\n",
    "        while j<length:\n",
    "            if l[i]>l[j]:\n",
    "                l[i],l[j]=l[j],l[i]\n",
    "                i=-1\n",
    "            else :\n",
    "                j+=1\n",
    "        i+=1\n",
    "    return l\n",
    "\n",
    "sort_a_while(l_num)"
   ]
  },
  {
   "cell_type": "code",
   "execution_count": 47,
   "metadata": {},
   "outputs": [
    {
     "data": {
      "text/plain": [
       "'this cant be a problems solution'"
      ]
     },
     "execution_count": 47,
     "metadata": {},
     "output_type": "execute_result"
    }
   ],
   "source": [
    "# 8. remove all the apostrophes from the sentence: \"this can't be a problem's solution\". \n",
    "sentence= \"this can't be a problem's solution\"\n",
    "\n",
    "def apostrophes_remover(p):\n",
    "    l=list(p)\n",
    "    c=l.count('\\'')\n",
    "    for i in range(c):\n",
    "        l.remove(\"'\")\n",
    "    # print(l)\n",
    "    p=''.join(l)\n",
    "    return p\n",
    "\n",
    "apostrophes_remover(sentence)"
   ]
  },
  {
   "cell_type": "code",
   "execution_count": 1,
   "metadata": {},
   "outputs": [
    {
     "name": "stdout",
     "output_type": "stream",
     "text": [
      "number of words = 16 and words are: ['aa', 'ab', 'ac', 'ad', 'ba', 'bb', 'bc', 'bd', 'ca', 'cb', 'cc', 'cd', 'da', 'db', 'dc', 'dd']\n",
      "\n",
      "number of words = 64 and words are: ['aaa', 'aab', 'aac', 'aad', 'aba', 'abb', 'abc', 'abd', 'aca', 'acb', 'acc', 'acd', 'ada', 'adb', 'adc', 'add', 'baa', 'bab', 'bac', 'bad', 'bba', 'bbb', 'bbc', 'bbd', 'bca', 'bcb', 'bcc', 'bcd', 'bda', 'bdb', 'bdc', 'bdd', 'caa', 'cab', 'cac', 'cad', 'cba', 'cbb', 'cbc', 'cbd', 'cca', 'ccb', 'ccc', 'ccd', 'cda', 'cdb', 'cdc', 'cdd', 'daa', 'dab', 'dac', 'dad', 'dba', 'dbb', 'dbc', 'dbd', 'dca', 'dcb', 'dcc', 'dcd', 'dda', 'ddb', 'ddc', 'ddd']\n",
      "\n",
      "number of words = 256 and words are: ['aaaa', 'aaab', 'aaac', 'aaad', 'aaba', 'aabb', 'aabc', 'aabd', 'aaca', 'aacb', 'aacc', 'aacd', 'aada', 'aadb', 'aadc', 'aadd', 'abaa', 'abab', 'abac', 'abad', 'abba', 'abbb', 'abbc', 'abbd', 'abca', 'abcb', 'abcc', 'abcd', 'abda', 'abdb', 'abdc', 'abdd', 'acaa', 'acab', 'acac', 'acad', 'acba', 'acbb', 'acbc', 'acbd', 'acca', 'accb', 'accc', 'accd', 'acda', 'acdb', 'acdc', 'acdd', 'adaa', 'adab', 'adac', 'adad', 'adba', 'adbb', 'adbc', 'adbd', 'adca', 'adcb', 'adcc', 'adcd', 'adda', 'addb', 'addc', 'addd', 'baaa', 'baab', 'baac', 'baad', 'baba', 'babb', 'babc', 'babd', 'baca', 'bacb', 'bacc', 'bacd', 'bada', 'badb', 'badc', 'badd', 'bbaa', 'bbab', 'bbac', 'bbad', 'bbba', 'bbbb', 'bbbc', 'bbbd', 'bbca', 'bbcb', 'bbcc', 'bbcd', 'bbda', 'bbdb', 'bbdc', 'bbdd', 'bcaa', 'bcab', 'bcac', 'bcad', 'bcba', 'bcbb', 'bcbc', 'bcbd', 'bcca', 'bccb', 'bccc', 'bccd', 'bcda', 'bcdb', 'bcdc', 'bcdd', 'bdaa', 'bdab', 'bdac', 'bdad', 'bdba', 'bdbb', 'bdbc', 'bdbd', 'bdca', 'bdcb', 'bdcc', 'bdcd', 'bdda', 'bddb', 'bddc', 'bddd', 'caaa', 'caab', 'caac', 'caad', 'caba', 'cabb', 'cabc', 'cabd', 'caca', 'cacb', 'cacc', 'cacd', 'cada', 'cadb', 'cadc', 'cadd', 'cbaa', 'cbab', 'cbac', 'cbad', 'cbba', 'cbbb', 'cbbc', 'cbbd', 'cbca', 'cbcb', 'cbcc', 'cbcd', 'cbda', 'cbdb', 'cbdc', 'cbdd', 'ccaa', 'ccab', 'ccac', 'ccad', 'ccba', 'ccbb', 'ccbc', 'ccbd', 'ccca', 'cccb', 'cccc', 'cccd', 'ccda', 'ccdb', 'ccdc', 'ccdd', 'cdaa', 'cdab', 'cdac', 'cdad', 'cdba', 'cdbb', 'cdbc', 'cdbd', 'cdca', 'cdcb', 'cdcc', 'cdcd', 'cdda', 'cddb', 'cddc', 'cddd', 'daaa', 'daab', 'daac', 'daad', 'daba', 'dabb', 'dabc', 'dabd', 'daca', 'dacb', 'dacc', 'dacd', 'dada', 'dadb', 'dadc', 'dadd', 'dbaa', 'dbab', 'dbac', 'dbad', 'dbba', 'dbbb', 'dbbc', 'dbbd', 'dbca', 'dbcb', 'dbcc', 'dbcd', 'dbda', 'dbdb', 'dbdc', 'dbdd', 'dcaa', 'dcab', 'dcac', 'dcad', 'dcba', 'dcbb', 'dcbc', 'dcbd', 'dcca', 'dccb', 'dccc', 'dccd', 'dcda', 'dcdb', 'dcdc', 'dcdd', 'ddaa', 'ddab', 'ddac', 'ddad', 'ddba', 'ddbb', 'ddbc', 'ddbd', 'ddca', 'ddcb', 'ddcc', 'ddcd', 'ddda', 'dddb', 'dddc', 'dddd']\n",
      "\n"
     ]
    }
   ],
   "source": [
    "# 9. given the following characters - a,b,c,d find all the 2-char and 3-char words that can be formed. \n",
    "# Can you also get all the 4-char words?\n",
    "#  how many words do you get in each case - print both the quanity and the words in the same print statement.\n",
    "\n",
    "alp=['a','b','c','d']\n",
    "l1,l2,l3=[],[],[]\n",
    "\n",
    "for  i in alp:\n",
    "    for j in alp:\n",
    "        l1.append(i+j)\n",
    "        for k in alp:\n",
    "            l2.append(i+j+k)\n",
    "            for l in alp:\n",
    "                l3.append(i+j+k+l)\n",
    "print(f'number of words = {len(l1)} and words are: {l1}\\n')\n",
    "print(f'number of words = {len(l2)} and words are: {l2}\\n')\n",
    "print(f'number of words = {len(l3)} and words are: {l3}\\n')"
   ]
  },
  {
   "cell_type": "code",
   "execution_count": 48,
   "metadata": {},
   "outputs": [
    {
     "name": "stdout",
     "output_type": "stream",
     "text": [
      "{500: 3, 100: 1, 10: 1, 2: 1, 1: 1}\n"
     ]
    }
   ],
   "source": [
    "# 10. given the set of INR currencies split Rs.1613 into the minimum number of currency values (change). \n",
    "# Try a variety of values to test your algorithm.\n",
    "amount=1613\n",
    "def currency_calculator(p):\n",
    "    currency=[2000,500,200,100,50,20,10,5,2,1]\n",
    "    l={}\n",
    "    for money in currency:\n",
    "        if p//money>0:\n",
    "            l[money]=p//money\n",
    "            p=p%money\n",
    "    print(l)\n",
    "\n",
    "currency_calculator(amount)\n"
   ]
  },
  {
   "cell_type": "code",
   "execution_count": 9,
   "metadata": {},
   "outputs": [
    {
     "name": "stdout",
     "output_type": "stream",
     "text": [
      "[('1', '2', '10'), ('1', '5', '100'), ('1', '4', '30'), ('2', '3', '50'), ('3', '5', '10'), ('4', '3', '20'), ('4', '5', '60')]\n"
     ]
    }
   ],
   "source": [
    "l=[\"1:2:10\",\"1:5:100\",\"1:4:30\",\"2:3:50\",\"3:5:10\",\"4:3:20\",\"4:5:60\"]\n",
    "l1=[]\n",
    "for i in l :\n",
    "    l=i.split(':')\n",
    "    t=tuple(l)\n",
    "    l1.append(t)\n",
    "print(l1)"
   ]
  }
 ],
 "metadata": {
  "kernelspec": {
   "display_name": "Python 3",
   "language": "python",
   "name": "python3"
  },
  "language_info": {
   "codemirror_mode": {
    "name": "ipython",
    "version": 3
   },
   "file_extension": ".py",
   "mimetype": "text/x-python",
   "name": "python",
   "nbconvert_exporter": "python",
   "pygments_lexer": "ipython3",
   "version": "3.10.5"
  },
  "orig_nbformat": 4
 },
 "nbformat": 4,
 "nbformat_minor": 2
}
