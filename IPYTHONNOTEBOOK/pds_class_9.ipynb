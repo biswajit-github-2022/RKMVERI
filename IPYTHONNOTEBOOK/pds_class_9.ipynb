{
 "cells": [
  {
   "cell_type": "code",
   "execution_count": 2,
   "metadata": {},
   "outputs": [
    {
     "name": "stdout",
     "output_type": "stream",
     "text": [
      "1 1\n",
      "2 2\n",
      "(1, 1)\n",
      "(2, 2)\n"
     ]
    }
   ],
   "source": [
    "d1 = {1: 1, 2: 2}\n",
    "for k, v in d1.items():\n",
    "    print(k, v)\n",
    "for e in d1.items():\n",
    "    print(e)"
   ]
  },
  {
   "cell_type": "code",
   "execution_count": null,
   "metadata": {},
   "outputs": [],
   "source": [
    "c in [\"A\", \"E\", \"I\", \"O\", \"U\"]"
   ]
  },
  {
   "cell_type": "code",
   "execution_count": null,
   "metadata": {},
   "outputs": [],
   "source": [
    "# -----------------------------------------------------------------------"
   ]
  },
  {
   "cell_type": "code",
   "execution_count": 25,
   "metadata": {
    "slideshow": {
     "slide_type": "slide"
    }
   },
   "outputs": [
    {
     "name": "stdout",
     "output_type": "stream",
     "text": [
      "3 2 4 23 5\n"
     ]
    }
   ],
   "source": [
    "def f1(x, y, z, a=10, b=20):  # foral param\n",
    "    \"\"\"\n",
    "    signature of a funcrtion ,x,y,z=> psitional param ,a,b=>keyowrd param\\n\n",
    "    a,b defined in signature so default params\\n\n",
    "    first positional arg then keyword args\\n\n",
    "    \"\"\"\n",
    "    print(x, y, z, a, b)\n",
    "\n",
    "\n",
    "# f1(2,3,4)\n",
    "# f1(2,3)\n",
    "# f1(2,3,4,5)\n",
    "# f1(2,3,4,5,6)\n",
    "# f1(2,3,x=9,5,6)\n",
    "# f1(2,3,4,5,x=6)\n",
    "f1(y=2, x=3, z=4, a=23, b=5)  # actual params"
   ]
  },
  {
   "cell_type": "code",
   "execution_count": 52,
   "metadata": {},
   "outputs": [
    {
     "name": "stdout",
     "output_type": "stream",
     "text": [
      "1 2 3 4 5 (2, 3, 4) {'m': 9, 'n': 7}\n",
      "4\n",
      "4\n"
     ]
    }
   ],
   "source": [
    "# variable no of aruments\n",
    "\n",
    "\n",
    "def f2(x, y, z, a=10, b=20, *args, **kwargs):\n",
    "    \"\"\"\n",
    "    var no of pos arg sent to func as => *() =>star tuple\\n\n",
    "    var no of keywoird arg sent to func as => **{} => **dictionary\\n\n",
    "    f1(pos arg,def params, *variable pos arg, **variable key word arg)\\n\n",
    "    \"\"\"\n",
    "    print(x, y, z, a, b, args, kwargs)\n",
    "    print(args[len(args) - 1])\n",
    "    print(args[-1])\n",
    "\n",
    "\n",
    "# f2(1, 2, 3)\n",
    "# f2(1, 2, 3, 4, 5)\n",
    "# f2(1, 2, 3, 4, 5, 6, 7, 8, 9, 10)\n",
    "# f2(1, 2, 3, 4, 5, 6, 7, 8, 9, 10, m=9, n=7)\n",
    "f2(1, 2, 3, 4, 5, *(2, 3, 4), **{\"m\": 9, \"n\": 7})"
   ]
  },
  {
   "cell_type": "code",
   "execution_count": 49,
   "metadata": {},
   "outputs": [
    {
     "name": "stdout",
     "output_type": "stream",
     "text": [
      "10\n",
      "100\n"
     ]
    }
   ],
   "source": [
    "a = 100\n",
    "\n",
    "\n",
    "def f3(a):\n",
    "    print(a)\n",
    "\n",
    "\n",
    "f3(10)\n",
    "print(a)"
   ]
  },
  {
   "cell_type": "code",
   "execution_count": 58,
   "metadata": {},
   "outputs": [
    {
     "name": "stdout",
     "output_type": "stream",
     "text": [
      "True P\n",
      "True P\n"
     ]
    }
   ],
   "source": [
    "# Q.\n",
    "def f4(*args, **kwargs):\n",
    "    if len(args) <= 5:\n",
    "        print(\"True P\")\n",
    "    else:\n",
    "        print(\"False P\")\n",
    "    if len(kwargs.keys()) <= 2:\n",
    "        print(\"True P\")\n",
    "    else:\n",
    "        print(\"False P\")\n",
    "\n",
    "\n",
    "f4(1, 2, 3, 4, 5, a=1, b=3)"
   ]
  },
  {
   "cell_type": "code",
   "execution_count": null,
   "metadata": {},
   "outputs": [],
   "source": [
    "# Q. f1(4 formal params)=>>gives range of params\n",
    "# f2(10 formal params)=>> min\n",
    "# f3(5 formal params)=>> max\n",
    "\n",
    "# f_wrap(list of functions :f,*args):\n",
    "#     f(args)"
   ]
  }
 ],
 "metadata": {
  "kernelspec": {
   "display_name": "Python 3",
   "language": "python",
   "name": "python3"
  },
  "language_info": {
   "codemirror_mode": {
    "name": "ipython",
    "version": 3
   },
   "file_extension": ".py",
   "mimetype": "text/x-python",
   "name": "python",
   "nbconvert_exporter": "python",
   "pygments_lexer": "ipython3",
   "version": "3.10.12"
  },
  "orig_nbformat": 4
 },
 "nbformat": 4,
 "nbformat_minor": 2
}
