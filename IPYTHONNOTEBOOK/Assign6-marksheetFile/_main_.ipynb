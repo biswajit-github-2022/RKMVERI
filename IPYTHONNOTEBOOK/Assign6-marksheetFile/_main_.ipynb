{
 "cells": [
  {
   "cell_type": "code",
   "execution_count": 16,
   "metadata": {},
   "outputs": [],
   "source": [
    "import os\n",
    "\n",
    "class FileReaderWithDelimeter:\n",
    "    def __init__(self,file_name:str,delimeter:str) -> None:\n",
    "        '''\n",
    "        -file is read\n",
    "        -the file name, file size, column headers is stored into instance variables \n",
    "        -the file data is read and stored column-wise and row-wise into seperate instance variables\n",
    "        '''\n",
    "        self.file_name=file_name\n",
    "        self.file_size=os.path.getsize(file_name)\n",
    "        self.file_column_headers=[]\n",
    "        self.file_column_wise_data={}\n",
    "        self.file_row_wise_data=[]\n",
    "\n",
    "        with open(file_name, 'r') as main_file:\n",
    "            lines=main_file.readlines()\n",
    "            lines=[line.strip() for line in lines]\n",
    "        #header\n",
    "        self.file_column_headers=lines[0].split(delimeter+\" \")\n",
    "        #row wise\n",
    "        for line in range(1,len(lines)):\n",
    "            self.file_row_wise_data.append(lines[line].split(delimeter))\n",
    "        #column wise\n",
    "        for i in range(len(self.file_column_headers)):\n",
    "            self.file_column_wise_data[self.file_column_headers[i]]=list(zip(*self.file_row_wise_data))[i]\n",
    "\n",
    "\n",
    "    def __str__(self) -> str:\n",
    "        return f'{\"-\"*50}\\nFile Name : {self.file_name},\\nFile Size : {self.file_size},\\nNumber of columns : {len(self.file_column_headers)},\\nNumber of rows : {len(self.file_row_wise_data)}\\n{\"-\"*50}'\n",
    "\n",
    "\n",
    "    def find_row_using_number(self,*args):\n",
    "        '''\n",
    "        1. it receives a variable number of row numbers as paramter(s) and prints the data contained in those rows. \n",
    "        '''\n",
    "        for i in range(len(args)):\n",
    "            if args[i] not in range(1,len(self.file_row_wise_data)+1):\n",
    "                print( f'Enter valid Index of rows')\n",
    "                continue\n",
    "            print(f\"{args[i]}-th Row:\",self.file_row_wise_data[args[i]-1],)\n",
    "        print(f\"{'-'*50}\")\n",
    "\n",
    "\n",
    "    def find_column_using_header(self,column_name):\n",
    "        '''\n",
    "        2. it receives a column name and prints the data for the entire column\n",
    "        '''\n",
    "        if column_name in self.file_column_headers:\n",
    "            print(f\"{column_name} : \",self.file_column_wise_data[column_name])\n",
    "        else :\n",
    "            print(\"Enter a valid column name\")\n",
    "        print(f\"{'-'*50}\")\n",
    "\n",
    "    def find_row_using_col_name_and_val(self,col_name:str,col_val):\n",
    "        '''\n",
    "        3. it receives a column name and a column value as parameters and prints all the rows having that column value.\n",
    "        '''\n",
    "        print(f\"Rows with val '{col_val}' in column '{col_name}' are: \")\n",
    "        index_list=[]\n",
    "        if col_name in self.file_column_headers:\n",
    "            for i in range(len(self.file_column_wise_data[col_name])):\n",
    "                if col_val==self.file_column_wise_data[col_name][i]:\n",
    "                    index_list.append(i+1)\n",
    "            self.find_row_using_number(*index_list)\n",
    "        else:\n",
    "            print(f\"Enter valid Column Name\")\n",
    "    \n",
    "    def find_row_using_multiple_col_name_and_val(self,col_name1:str,col_val1,col_name2:str,col_val2):\n",
    "        '''\n",
    "        4. it receives a pair of column names and column values and prints all the rows having the specified column values in the specified columns passed as parameters. The rows printed should satsify BOTH the conditions.\n",
    "        '''\n",
    "        print(f\"Rows with val '{col_val1}' and '{col_val2}' in column '{col_name1}' and '{col_name2}' are: \")\n",
    "        index_list=[]\n",
    "        if col_name1 and col_name2 in self.file_column_headers :\n",
    "            for i in range(len(self.file_column_wise_data[col_name1])):\n",
    "                if col_val1==self.file_column_wise_data[col_name1][i] and col_val2==self.file_column_wise_data[col_name2][i]:\n",
    "                    index_list.append(i+1)\n",
    "            self.find_row_using_number(*index_list)\n",
    "        else:\n",
    "            print(f\"Enter valid Column Name\")\n",
    "    "
   ]
  },
  {
   "cell_type": "code",
   "execution_count": 18,
   "metadata": {},
   "outputs": [
    {
     "name": "stdout",
     "output_type": "stream",
     "text": [
      "--------------------------------------------------\n",
      "File Name : marksheet_exercise copy.txt,\n",
      "File Size : 184,\n",
      "Number of columns : 6,\n",
      "Number of rows : 4\n",
      "--------------------------------------------------\n",
      "1-th Row: ['rajeev', '10', 'PDS', '67', '1st year', 'CS']\n",
      "2-th Row: ['pradeep', '12', 'LA', '89', '2nd year', 'CS']\n",
      "3-th Row: ['sujit', '15', 'DAA', '65', '2nd year', 'BDA']\n",
      "--------------------------------------------------\n",
      "Year :  ('1st year', '2nd year', '2nd year', '1st year')\n",
      "--------------------------------------------------\n",
      "Rows with val 'PDS' in column 'Subject' are: \n",
      "1-th Row: ['rajeev', '10', 'PDS', '67', '1st year', 'CS']\n",
      "4-th Row: ['sumit', '16', 'PDS', '90', '1st year', 'BDA']\n",
      "--------------------------------------------------\n",
      "Rows with val 'PDS' and '1st year' in column 'Subject' and 'Year' are: \n",
      "1-th Row: ['rajeev', '10', 'PDS', '67', '1st year', 'CS']\n",
      "4-th Row: ['sumit', '16', 'PDS', '90', '1st year', 'BDA']\n",
      "--------------------------------------------------\n"
     ]
    }
   ],
   "source": [
    "file_data=FileReaderWithDelimeter(\"marksheet_exercise copy.txt\", \"::\")\n",
    "print(file_data)\n",
    "file_data.find_row_using_number(1,2,3)\n",
    "file_data.find_column_using_header(\"Year\")\n",
    "file_data.find_row_using_col_name_and_val(\"Subject\",\"PDS\")\n",
    "file_data.find_row_using_multiple_col_name_and_val(\"Subject\",\"PDS\",\"Year\",\"1st year\")"
   ]
  },
  {
   "cell_type": "code",
   "execution_count": 102,
   "metadata": {},
   "outputs": [
    {
     "name": "stdout",
     "output_type": "stream",
     "text": [
      "(1, 5, 9)\n"
     ]
    }
   ],
   "source": [
    "my_list = [[1, 2, 3, 4], [5, 6, 7, 8], [9, 10, 11, 12]]\n",
    "column_1 = list(zip(*my_list))[0]\n",
    "print(column_1)"
   ]
  }
 ],
 "metadata": {
  "kernelspec": {
   "display_name": "Python 3",
   "language": "python",
   "name": "python3"
  },
  "language_info": {
   "codemirror_mode": {
    "name": "ipython",
    "version": 3
   },
   "file_extension": ".py",
   "mimetype": "text/x-python",
   "name": "python",
   "nbconvert_exporter": "python",
   "pygments_lexer": "ipython3",
   "version": "3.10.5"
  }
 },
 "nbformat": 4,
 "nbformat_minor": 2
}
