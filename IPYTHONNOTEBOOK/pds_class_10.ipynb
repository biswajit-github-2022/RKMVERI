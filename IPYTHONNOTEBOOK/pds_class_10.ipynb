{
 "cells": [
  {
   "cell_type": "code",
   "execution_count": 10,
   "metadata": {},
   "outputs": [
    {
     "data": {
      "text/plain": [
       "3.5"
      ]
     },
     "execution_count": 10,
     "metadata": {},
     "output_type": "execute_result"
    }
   ],
   "source": [
    "def power(a, b):\n",
    "    return a**b\n",
    "\n",
    "\n",
    "def max_num(*args):\n",
    "    return max(args)\n",
    "\n",
    "\n",
    "def mean_(*args):\n",
    "    return sum(args) / len(args)\n",
    "\n",
    "\n",
    "mean_(1, 2, 3, 4, 5, 6)"
   ]
  },
  {
   "cell_type": "code",
   "execution_count": 15,
   "metadata": {},
   "outputs": [],
   "source": [
    "def f_wrapper(l, *args):\n",
    "    if len(args) == 2:\n",
    "        return l[0](*args)\n",
    "    if len(args) == 3:\n",
    "        return l[1](*args)\n",
    "    if len(args) == 6:\n",
    "        return l[2](*args)\n",
    "\n",
    "\n",
    "f_list = [power, max_num, mean_]\n",
    "f_wrapper(f_list, 1, 2)"
   ]
  },
  {
   "cell_type": "code",
   "execution_count": 17,
   "metadata": {},
   "outputs": [
    {
     "name": "stdout",
     "output_type": "stream",
     "text": [
      "1695968117.2355103\n"
     ]
    }
   ],
   "source": [
    "##Decorators\n",
    "import time \n",
    "t1=time.\n",
    "print(t1)"
   ]
  },
  {
   "cell_type": "code",
   "execution_count": 14,
   "metadata": {},
   "outputs": [
    {
     "name": "stdout",
     "output_type": "stream",
     "text": [
      "1.0064780712127686\n",
      "5\n"
     ]
    }
   ],
   "source": [
    "import time\n",
    "\n",
    "def deco(f):\n",
    "    def inner_func(*args,**kwargs):\n",
    "        t1=time.time()\n",
    "        f(*args,**kwargs)\n",
    "        t2=time.time()\n",
    "        return t2-t1\n",
    "    return inner_func\n",
    "\n",
    "\n",
    "# @deco\n",
    "def f1 (a,b):\n",
    "    time.sleep(1)\n",
    "    return a+b\n",
    "\n",
    "f2=deco(f1)\n",
    "\n",
    "print(f2(2,3))\n",
    "print(f1(2,3))"
   ]
  },
  {
   "cell_type": "code",
   "execution_count": 29,
   "metadata": {},
   "outputs": [
    {
     "name": "stdout",
     "output_type": "stream",
     "text": [
      "It is either a TypeError or NameError :: name 'qq' is not defined\n",
      "caught <class 'NameError'>\n",
      "this will always execute w/ or w/o exception occuring\n"
     ]
    }
   ],
   "source": [
    "def my_add(x,y):\n",
    " return x+y\n",
    "try: \n",
    "#  x = int(1)\n",
    "#  x=3/0\n",
    "#  x = int('a') # will throw a ValueError\n",
    " #my_add(2,'a') # will throw a TypeError\n",
    " #'a' + 10 # will throw a TypeError\n",
    "#  print(qq) # will throw a NameError if qq has not been defined in local, outer or global scope\n",
    " raise Exception('param1','param2') # raising an exception programmatically with optional parameters\n",
    "except ValueError:\n",
    " print(\"Oops! That was no valid number. Try again...\")\n",
    "except (TypeError, NameError) as e:\n",
    " print(\"It is either a TypeError or NameError ::\", e)\n",
    " print(f'caught {type(e)}')\n",
    "except Exception as e:\n",
    " print(e)\n",
    "else:\n",
    " print(\"everything went fine (no exception occured). you may like to do wrap up activities here such as closing open files, etc.\")\n",
    "finally:\n",
    " print(\"this will always execute w/ or w/o exception occuring\")"
   ]
  },
  {
   "cell_type": "code",
   "execution_count": 15,
   "metadata": {},
   "outputs": [
    {
     "ename": "ZeroDivisionError",
     "evalue": "division by zero",
     "output_type": "error",
     "traceback": [
      "\u001b[1;31m---------------------------------------------------------------------------\u001b[0m",
      "\u001b[1;31mZeroDivisionError\u001b[0m                         Traceback (most recent call last)",
      "\u001b[1;32mc:\\Users\\biswajit\\Downloads\\RKMVERI\\Desktop\\RKMVERI\\IPYTHONNOTEBOOK\\pds_class_10.ipynb Cell 6\u001b[0m line \u001b[0;36m1\n\u001b[1;32m----> <a href='vscode-notebook-cell:/c%3A/Users/biswajit/Downloads/RKMVERI/Desktop/RKMVERI/IPYTHONNOTEBOOK/pds_class_10.ipynb#W5sZmlsZQ%3D%3D?line=0'>1</a>\u001b[0m \u001b[39m3\u001b[39;49m\u001b[39m/\u001b[39;49m\u001b[39m0\u001b[39;49m\n",
      "\u001b[1;31mZeroDivisionError\u001b[0m: division by zero"
     ]
    }
   ],
   "source": [
    "3/0"
   ]
  }
 ],
 "metadata": {
  "kernelspec": {
   "display_name": "Python 3",
   "language": "python",
   "name": "python3"
  },
  "language_info": {
   "codemirror_mode": {
    "name": "ipython",
    "version": 3
   },
   "file_extension": ".py",
   "mimetype": "text/x-python",
   "name": "python",
   "nbconvert_exporter": "python",
   "pygments_lexer": "ipython3",
   "version": "3.10.5"
  },
  "orig_nbformat": 4
 },
 "nbformat": 4,
 "nbformat_minor": 2
}
