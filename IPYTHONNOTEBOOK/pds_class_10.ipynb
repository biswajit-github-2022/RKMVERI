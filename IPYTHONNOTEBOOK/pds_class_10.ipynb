{
 "cells": [
  {
   "cell_type": "code",
   "execution_count": 10,
   "metadata": {},
   "outputs": [
    {
     "data": {
      "text/plain": [
       "3.5"
      ]
     },
     "execution_count": 10,
     "metadata": {},
     "output_type": "execute_result"
    }
   ],
   "source": [
    "def power(a, b):\n",
    "    return a**b\n",
    "\n",
    "\n",
    "def max_num(*args):\n",
    "    return max(args)\n",
    "\n",
    "\n",
    "def mean_(*args):\n",
    "    return sum(args) / len(args)\n",
    "\n",
    "\n",
    "mean_(1, 2, 3, 4, 5, 6)"
   ]
  },
  {
   "cell_type": "code",
   "execution_count": 15,
   "metadata": {},
   "outputs": [],
   "source": [
    "def f_wrapper(l, *args):\n",
    "    if len(args) == 2:\n",
    "        return l[0](*args)\n",
    "    if len(args) == 3:\n",
    "        return l[1](*args)\n",
    "    if len(args) == 6:\n",
    "        return l[2](*args)\n",
    "\n",
    "\n",
    "f_list = [power, max_num, mean_]\n",
    "f_wrapper(f_list, 1, 2)"
   ]
  },
  {
   "cell_type": "code",
   "execution_count": 17,
   "metadata": {},
   "outputs": [
    {
     "name": "stdout",
     "output_type": "stream",
     "text": [
      "1695968117.2355103\n"
     ]
    }
   ],
   "source": [
    "##Decorators\n",
    "import time \n",
    "t1=time.\n",
    "print(t1)"
   ]
  },
  {
   "cell_type": "code",
   "execution_count": null,
   "metadata": {},
   "outputs": [],
   "source": []
  }
 ],
 "metadata": {
  "kernelspec": {
   "display_name": "Python 3",
   "language": "python",
   "name": "python3"
  },
  "language_info": {
   "codemirror_mode": {
    "name": "ipython",
    "version": 3
   },
   "file_extension": ".py",
   "mimetype": "text/x-python",
   "name": "python",
   "nbconvert_exporter": "python",
   "pygments_lexer": "ipython3",
   "version": "3.10.12"
  },
  "orig_nbformat": 4
 },
 "nbformat": 4,
 "nbformat_minor": 2
}
