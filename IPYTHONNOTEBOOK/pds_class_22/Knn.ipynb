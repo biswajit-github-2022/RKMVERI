{
 "cells": [
  {
   "cell_type": "code",
   "execution_count": 4,
   "metadata": {},
   "outputs": [
    {
     "name": "stdout",
     "output_type": "stream",
     "text": [
      "[[4 6 2 1]\n",
      " [7 3 2 1]\n",
      " [9 1 1 0]\n",
      " [7 9 8 1]\n",
      " [1 9 1 0]\n",
      " [8 4 6 1]\n",
      " [6 4 6 0]\n",
      " [5 3 9 0]\n",
      " [7 4 9 0]\n",
      " [8 1 9 0]]\n",
      "[1 2 3]\n",
      "[ 5.09901951  6.164414    8.30662386 10.48808848  7.28010989  7.87400787\n",
      "  6.164414    7.28010989  8.71779789  9.2736185 ]\n",
      "[0 1 6 4 7]\n",
      "[3 2]\n"
     ]
    },
    {
     "data": {
      "text/plain": [
       "'No'"
      ]
     },
     "execution_count": 4,
     "metadata": {},
     "output_type": "execute_result"
    }
   ],
   "source": [
    "\n",
    "import numpy as np \n",
    "\n",
    "features=np.random.randint(1,10,(10,3))\n",
    "class_data=np.random.randint(0,2,(10,1))\n",
    "main_data=np.block([features,class_data])\n",
    "print(main_data)\n",
    "test=np.array([1,2,3])\n",
    "print(test)\n",
    "def KNN(data,given):\n",
    "    distance=np.sqrt(np.sum((given-data[:,:-1])**2,axis=1))\n",
    "    print(distance)\n",
    "    t5=np.argsort(distance)[:5]\n",
    "    print(t5)\n",
    "    count_of_class=np.bincount(data[t5,3])\n",
    "    print(count_of_class)\n",
    "    if count_of_class[0]<count_of_class[1]:\n",
    "        return \"Yes\"\n",
    "    else:\n",
    "        return \"No\"\n",
    "KNN(main_data,test)"
   ]
  }
 ],
 "metadata": {
  "kernelspec": {
   "display_name": "Python 3",
   "language": "python",
   "name": "python3"
  },
  "language_info": {
   "codemirror_mode": {
    "name": "ipython",
    "version": 3
   },
   "file_extension": ".py",
   "mimetype": "text/x-python",
   "name": "python",
   "nbconvert_exporter": "python",
   "pygments_lexer": "ipython3",
   "version": "3.10.5"
  }
 },
 "nbformat": 4,
 "nbformat_minor": 2
}
