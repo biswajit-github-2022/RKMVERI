{
 "cells": [
  {
   "cell_type": "code",
   "execution_count": 3,
   "metadata": {},
   "outputs": [],
   "source": [
    "import numpy as np"
   ]
  },
  {
   "cell_type": "code",
   "execution_count": 4,
   "metadata": {},
   "outputs": [
    {
     "data": {
      "text/plain": [
       "array([2, 1, 5, 3, 4, 0], dtype=int64)"
      ]
     },
     "execution_count": 4,
     "metadata": {},
     "output_type": "execute_result"
    }
   ],
   "source": [
    "x=np.array([10,3,2,7,9,5])\n",
    "np.argsort(x)"
   ]
  },
  {
   "cell_type": "code",
   "execution_count": 5,
   "metadata": {},
   "outputs": [
    {
     "data": {
      "text/plain": [
       "array([0, 0, 1, 1, 0, 1, 0, 1, 0, 1, 1], dtype=int64)"
      ]
     },
     "execution_count": 5,
     "metadata": {},
     "output_type": "execute_result"
    }
   ],
   "source": [
    "np.bincount(x)"
   ]
  },
  {
   "cell_type": "code",
   "execution_count": null,
   "metadata": {},
   "outputs": [],
   "source": []
  },
  {
   "cell_type": "code",
<<<<<<< HEAD
   "execution_count": 81,
=======
   "execution_count": 39,
>>>>>>> cc8f1b6680c63bd5274877b88a74da5fb4746fe6
   "metadata": {},
   "outputs": [
    {
     "name": "stdout",
     "output_type": "stream",
     "text": [
<<<<<<< HEAD
      "[[3 3 2 0]\n",
      " [1 6 6 0]\n",
      " [7 8 6 0]\n",
      " [6 4 2 0]\n",
      " [2 9 4 1]\n",
      " [6 3 6 0]\n",
      " [7 8 5 1]\n",
      " [7 1 7 0]\n",
      " [3 1 2 1]\n",
      " [4 3 6 1]]\n"
=======
      "[[1 1 4 1]\n",
      " [4 7 1 1]\n",
      " [5 4 6 0]\n",
      " [5 3 7 1]\n",
      " [5 9 9 0]\n",
      " [6 4 5 1]\n",
      " [5 5 7 1]\n",
      " [4 8 6 1]\n",
      " [4 7 5 0]\n",
      " [1 1 2 1]]\n",
      "[4 1 4 7 1 1 5 4 6 0 5 3 7 1 5 9 9 0 6 4 5 1 5 5 7 1 4 8 6 1 4 7 5 0 1 1 2\n",
      " 1]\n"
>>>>>>> cc8f1b6680c63bd5274877b88a74da5fb4746fe6
     ]
    }
   ],
   "source": [
    "features=np.random.randint(1,10,(10,3))\n",
    "features\n",
    "class_data=np.random.randint(0,2,(10,1))\n",
    "class_data\n",
    "data=np.block([features,class_data])\n",
    "print(data)\n",
<<<<<<< HEAD
    "# print(data[:,:-1])\n",
    "# print(data[0][:3])\n"
=======
    "print(np.delete(data,data[:,3]))"
>>>>>>> cc8f1b6680c63bd5274877b88a74da5fb4746fe6
   ]
  },
  {
   "cell_type": "code",
   "execution_count": 99,
   "metadata": {},
   "outputs": [
    {
     "name": "stdout",
     "output_type": "stream",
     "text": [
      "[[7 3 8 1]\n",
      " [3 2 3 1]\n",
      " [2 5 9 1]\n",
      " [9 1 2 1]\n",
      " [9 8 4 0]\n",
      " [6 7 8 0]\n",
      " [6 4 8 1]\n",
      " [6 2 6 0]\n",
      " [9 6 9 0]\n",
      " [1 7 4 1]]\n",
      "[1 2 3]\n"
     ]
    },
    {
     "data": {
      "text/plain": [
       "'No'"
      ]
     },
     "execution_count": 99,
     "metadata": {},
     "output_type": "execute_result"
    }
   ],
   "source": [
    "features=np.random.randint(1,10,(10,3))\n",
    "class_data=np.random.randint(0,2,(10,1))\n",
    "main_data=np.block([features,class_data])\n",
    "print(data)\n",
    "test=np.array([1,2,3])\n",
    "print(test)\n",
    "def KNN(data,given):\n",
    "    distance=np.sqrt(np.sum((given-data[:,:-1])**2,axis=1))\n",
    "    # print(distance)\n",
    "    t5=np.argsort(distance)[:5]\n",
    "    count_of_class=np.bincount(data[t5,3])\n",
    "    # print(count_of_class)\n",
    "    if count_of_class[0]<count_of_class[1]:\n",
    "        return \"Yes\"\n",
    "    else:\n",
    "        return \"No\"\n",
    "\n",
    "KNN(main_data,test)"
   ]
  },
  {
   "cell_type": "code",
   "execution_count": 100,
   "metadata": {},
   "outputs": [
    {
     "name": "stdout",
     "output_type": "stream",
     "text": [
      "[1 4]\n",
      "Yes\n"
     ]
    }
   ],
   "source": [
    "count_of_class=np.bincount(data[np.argsort(np.sqrt(np.sum((test-data[:,:-1])**2,axis=1)))[:5],3])\n",
    "print(count_of_class)\n",
    "if count_of_class[0]<count_of_class[1]:\n",
    "    print(\"Yes\")\n",
    "else:\n",
    "    print(\"No\")"
   ]
  },
  {
   "cell_type": "markdown",
   "metadata": {},
   "source": [
    "# Pandas"
   ]
  },
  {
   "cell_type": "code",
   "execution_count": null,
   "metadata": {},
   "outputs": [],
   "source": []
  }
 ],
 "metadata": {
  "kernelspec": {
   "display_name": "Python 3",
   "language": "python",
   "name": "python3"
  },
  "language_info": {
   "codemirror_mode": {
    "name": "ipython",
    "version": 3
   },
   "file_extension": ".py",
   "mimetype": "text/x-python",
   "name": "python",
   "nbconvert_exporter": "python",
   "pygments_lexer": "ipython3",
   "version": "3.10.5"
  }
 },
 "nbformat": 4,
 "nbformat_minor": 2
}
