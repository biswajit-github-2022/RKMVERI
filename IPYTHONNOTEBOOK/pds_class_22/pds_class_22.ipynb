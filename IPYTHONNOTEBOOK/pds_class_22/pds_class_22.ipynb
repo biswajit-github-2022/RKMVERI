{
 "cells": [
  {
   "cell_type": "code",
   "execution_count": 4,
   "metadata": {},
   "outputs": [
    {
     "name": "stdout",
     "output_type": "stream",
     "text": [
      "[[3 6 6 1]\n",
      " [5 3 7 1]\n",
      " [2 9 6 1]\n",
      " [8 3 7 1]\n",
      " [7 4 2 2]\n",
      " [7 9 4 1]\n",
      " [2 2 8 1]\n",
      " [2 7 6 1]\n",
      " [6 7 3 2]\n",
      " [1 6 3 2]]\n",
      "[1 2 3]\n",
      "[5.38516481 5.74456265 7.68114575 8.1240384  6.40312424 9.2736185\n",
      " 5.09901951 5.91607978 7.07106781 4.        ]\n",
      "[9 6 0 1 7]\n",
      "[0 4 1]\n"
     ]
    },
    {
     "data": {
      "text/plain": [
       "1"
      ]
     },
     "execution_count": 4,
     "metadata": {},
     "output_type": "execute_result"
    }
   ],
   "source": [
    "\n",
    "import numpy as np \n",
    "\n",
    "features=np.random.randint(1,10,(10,3))\n",
    "class_data=np.random.randint(1,3,(10,1))\n",
    "main_data=np.block([features,class_data])\n",
    "print(main_data)\n",
    "test=np.array([1,2,3])\n",
    "print(test)\n",
    "def KNN(data,given):\n",
    "    distance=np.sqrt(np.sum((given-data[:,:-1])**2,axis=1))\n",
    "    print(distance)\n",
    "    t5=np.argsort(distance)[:5]\n",
    "    print(t5)\n",
    "    count_of_class=np.bincount(data[t5,3])\n",
    "    print(count_of_class)\n",
    "    return np.argmax(count_of_class)\n",
    "KNN(main_data,test)"
   ]
  },
  {
   "cell_type": "code",
   "execution_count": 9,
   "metadata": {},
   "outputs": [
    {
     "data": {
      "text/plain": [
       "array([[3, 6, 6],\n",
       "       [5, 3, 7],\n",
       "       [2, 9, 6],\n",
       "       [8, 3, 7],\n",
       "       [7, 4, 2],\n",
       "       [7, 9, 4],\n",
       "       [2, 2, 8],\n",
       "       [2, 7, 6],\n",
       "       [6, 7, 3],\n",
       "       [1, 6, 3]])"
      ]
     },
     "execution_count": 9,
     "metadata": {},
     "output_type": "execute_result"
    }
   ],
   "source": [
    "main_data[:,:3]"
   ]
  }
 ],
 "metadata": {
  "kernelspec": {
   "display_name": "Python 3",
   "language": "python",
   "name": "python3"
  },
  "language_info": {
   "codemirror_mode": {
    "name": "ipython",
    "version": 3
   },
   "file_extension": ".py",
   "mimetype": "text/x-python",
   "name": "python",
   "nbconvert_exporter": "python",
   "pygments_lexer": "ipython3",
   "version": "3.10.5"
  }
 },
 "nbformat": 4,
 "nbformat_minor": 2
}
