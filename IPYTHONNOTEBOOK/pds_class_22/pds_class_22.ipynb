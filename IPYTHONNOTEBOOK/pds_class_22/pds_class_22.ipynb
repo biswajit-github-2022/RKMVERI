{
 "cells": [
  {
   "cell_type": "code",
   "execution_count": 21,
   "metadata": {},
   "outputs": [
    {
     "name": "stdout",
     "output_type": "stream",
     "text": [
      "[[9 5 8 1]\n",
      " [1 5 3 1]\n",
      " [1 5 9 1]\n",
      " [2 2 1 2]\n",
      " [9 5 3 1]\n",
      " [6 9 5 1]\n",
      " [1 8 5 1]\n",
      " [3 5 2 2]\n",
      " [7 7 8 1]\n",
      " [4 7 5 2]]\n",
      "[1 2 3]\n",
      "[9.89949494 3.         6.70820393 2.23606798 8.54400375 8.83176087\n",
      " 6.32455532 3.74165739 9.2736185  6.164414  ]\n",
      "[3 1 7 9 6]\n",
      "[0 2 3]\n"
     ]
    },
    {
     "data": {
      "text/plain": [
       "2"
      ]
     },
     "execution_count": 21,
     "metadata": {},
     "output_type": "execute_result"
    }
   ],
   "source": [
    "\n",
    "import numpy as np \n",
    "\n",
    "features=np.random.randint(1,10,(10,3))\n",
    "class_data=np.random.randint(1,3,(10,1))\n",
    "main_data=np.block([features,class_data])\n",
    "print(main_data)\n",
    "test=np.array([1,2,3])\n",
    "print(test)\n",
    "def KNN(data,given):\n",
    "    distance=np.sqrt(np.sum((given-data[:,:-1])**2,axis=1))\n",
    "    print(distance)\n",
    "    t5=np.argsort(distance)[:5]\n",
    "    print(t5)\n",
    "    count_of_class=np.bincount(data[t5,3])\n",
    "    print(count_of_class)\n",
    "    return np.argmax(count_of_class)\n",
    "KNN(main_data,test)"
   ]
  }
 ],
 "metadata": {
  "kernelspec": {
   "display_name": "Python 3",
   "language": "python",
   "name": "python3"
  },
  "language_info": {
   "codemirror_mode": {
    "name": "ipython",
    "version": 3
   },
   "file_extension": ".py",
   "mimetype": "text/x-python",
   "name": "python",
   "nbconvert_exporter": "python",
   "pygments_lexer": "ipython3",
   "version": "3.10.5"
  }
 },
 "nbformat": 4,
 "nbformat_minor": 2
}
