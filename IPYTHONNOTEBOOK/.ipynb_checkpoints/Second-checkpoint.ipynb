{
 "cells": [
  {
   "cell_type": "code",
   "execution_count": 6,
   "id": "14a00700",
   "metadata": {},
   "outputs": [],
   "source": [
    "List=[10,11,9,2,1,7]"
   ]
  },
  {
   "cell_type": "code",
   "execution_count": 7,
   "id": "8d47243a",
   "metadata": {},
   "outputs": [],
   "source": [
    "z=0\n",
    "i=0"
   ]
  },
  {
   "cell_type": "code",
   "execution_count": 8,
   "id": "4f4303df",
   "metadata": {},
   "outputs": [],
   "source": [
    "length=len(List)"
   ]
  },
  {
   "cell_type": "code",
   "execution_count": 9,
   "id": "b60bceeb",
   "metadata": {},
   "outputs": [],
   "source": [
    "while(i<length):\n",
    "    z += List[i]*(i+1)\n",
    "    i+=1"
   ]
  },
  {
   "cell_type": "code",
   "execution_count": 10,
   "id": "972727c1",
   "metadata": {},
   "outputs": [
    {
     "name": "stdout",
     "output_type": "stream",
     "text": [
      "114\n"
     ]
    }
   ],
   "source": [
    "print(z)"
   ]
  }
 ],
 "metadata": {
  "kernelspec": {
   "display_name": "Python 3 (ipykernel)",
   "language": "python",
   "name": "python3"
  },
  "language_info": {
   "codemirror_mode": {
    "name": "ipython",
    "version": 3
   },
   "file_extension": ".py",
   "mimetype": "text/x-python",
   "name": "python",
   "nbconvert_exporter": "python",
   "pygments_lexer": "ipython3",
   "version": "3.11.4"
  }
 },
 "nbformat": 4,
 "nbformat_minor": 5
}
