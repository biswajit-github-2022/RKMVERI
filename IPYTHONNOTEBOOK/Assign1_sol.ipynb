{
 "cells": [
  {
   "cell_type": "code",
   "execution_count": 1,
   "metadata": {},
   "outputs": [
    {
     "data": {
      "text/plain": [
       "[65, 40, 49, 8, 62, 89, 40, 35, 28, 2, 59]"
      ]
     },
     "execution_count": 1,
     "metadata": {},
     "output_type": "execute_result"
    }
   ],
   "source": [
    "import random\n",
    "l1 = []\n",
    "for i in range(11):\n",
    "    l1.append(random.randint(1, 100))\n",
    "l1"
   ]
  },
  {
   "cell_type": "code",
   "execution_count": 2,
   "metadata": {},
   "outputs": [
    {
     "data": {
      "text/plain": [
       "[59, 2, 28, 35, 40, 89, 62, 8, 49, 40, 65]"
      ]
     },
     "execution_count": 2,
     "metadata": {},
     "output_type": "execute_result"
    }
   ],
   "source": [
    "for i in range(len(l1)//2):\n",
    "    l1[i], l1[len(l1)-1-i] = l1[len(l1)-1-i], l1[i]\n",
    "\n",
    "l1"
   ]
  },
  {
   "cell_type": "code",
   "execution_count": 3,
   "metadata": {},
   "outputs": [
    {
     "name": "stdout",
     "output_type": "stream",
     "text": [
      "original list: [59, 2, 28, 35, 40, 89, 62, 8, 49, 40, 65] product list: {(35, 59), (59, 65), (35, 49), (49, 65), (35, 65), (59, 89), (49, 89), (35, 89), (49, 59), (65, 89)}\n"
     ]
    }
   ],
   "source": [
    "all_prods = set()\n",
    "for i in range(len(l1)-1):\n",
    "    for j in range(i+1, len(l1)):\n",
    "        if l1[i]*l1[j] % 2 != 0:\n",
    "            all_prods.add(tuple(sorted((l1[i], l1[j]))))\n",
    "print(f'original list: {l1} product list: {all_prods}')"
   ]
  },
  {
   "cell_type": "code",
   "execution_count": 4,
   "metadata": {},
   "outputs": [
    {
     "name": "stdout",
     "output_type": "stream",
     "text": [
      "original list: [59, 2, 28, 35, 40, 89, 62, 8, 49, 40, 65] least value: 2\n"
     ]
    }
   ],
   "source": [
    "temp = 100\n",
    "for i in range(len(l1)):\n",
    "    if temp > l1[i]:\n",
    "        temp = l1[i]\n",
    "print(f'original list: {l1} least value: {temp}')"
   ]
  },
  {
   "cell_type": "code",
   "execution_count": 5,
   "metadata": {},
   "outputs": [
    {
     "name": "stdout",
     "output_type": "stream",
     "text": [
      "original sequence: [59, 2, 28, 35, 40, 89, 62, 8, 49, 40, 65] sorted sequence: [2, 8, 28, 35, 40, 40, 49, 59, 62, 65, 89]\n"
     ]
    }
   ],
   "source": [
    "l3 = []\n",
    "l4 = l1.copy()\n",
    "while len(l1) > 0:\n",
    "    temp = 100\n",
    "    index_to_delete = -100\n",
    "    for i, e in enumerate(l1):\n",
    "        if temp >= e:\n",
    "            temp = e\n",
    "            index_to_delete = i\n",
    "    l3.append(temp)\n",
    "    del l1[index_to_delete]\n",
    "print(f'original sequence: {l4} sorted sequence: {l3}')"
   ]
  },
  {
   "cell_type": "code",
   "execution_count": 6,
   "metadata": {},
   "outputs": [
    {
     "name": "stdout",
     "output_type": "stream",
     "text": [
      "at global (level 0): x= 10\n",
      "at level 1: x= 10\n",
      "at level 1 after re-assign: x= 9\n",
      "at level 2: x= 9\n",
      "at level 2 after re-assign: x= 8 y = 100\n",
      "at level 2: x= 8\n",
      "at level 2 after re-assign: x= 7 y = 100\n",
      "back at global (level 0): x= 7\n",
      "at global (level 0): z= 1000\n"
     ]
    }
   ],
   "source": [
    "x = 10\n",
    "y = 100\n",
    "print(f'at global (level 0): x= {x}')\n",
    "if x == 10:\n",
    "    print(f'at level 1: x= {x}')\n",
    "    x = 9\n",
    "    print(f'at level 1 after re-assign: x= {x}')\n",
    "    if x == 9:\n",
    "        print(f'at level 2: x= {x}')\n",
    "        x = 8\n",
    "        print(f'at level 2 after re-assign: x= {x} y = {y}')\n",
    "        if x == 8:\n",
    "            print(f'at level 2: x= {x}')\n",
    "            x = 7\n",
    "            print(f'at level 2 after re-assign: x= {x} y = {y}')\n",
    "            z = 1000\n",
    "print(f'back at global (level 0): x= {x}')\n",
    "print(f'at global (level 0): z= {z}')\n",
    "\n",
    "            "
   ]
  },
  {
   "cell_type": "code",
   "execution_count": 7,
   "metadata": {},
   "outputs": [
    {
     "name": "stdout",
     "output_type": "stream",
     "text": [
      "at level 1: x= 20\n",
      "at level 0: x= 20 z = 20\n"
     ]
    }
   ],
   "source": [
    "x = 10\n",
    "while True:\n",
    "    x = 20\n",
    "    print(f'at level 1: x= {x}')\n",
    "    z = 20\n",
    "    break\n",
    "print(f'at level 0: x= {x} z = {z}')\n",
    "\n"
   ]
  },
  {
   "cell_type": "code",
   "execution_count": 8,
   "metadata": {},
   "outputs": [
    {
     "name": "stdout",
     "output_type": "stream",
     "text": [
      "10\n",
      "10\n",
      "10\n",
      "13\n",
      "28\n",
      "6.3\n"
     ]
    }
   ],
   "source": [
    "x =10 \n",
    "def f1(a):\n",
    "    x = 20 \n",
    "print(x)\n",
    "def f2(x): \n",
    "    x = 30\n",
    "print(x)\n",
    "def f3(x=40): \n",
    "    pass\n",
    "print(x)\n",
    "def f4(x=25): \n",
    "    return x + 3\n",
    "print(f4(x))\n",
    "print(f4()) \n",
    "print(f4(3.3))\n"
   ]
  },
  {
   "cell_type": "code",
   "execution_count": 9,
   "metadata": {},
   "outputs": [
    {
     "name": "stdout",
     "output_type": "stream",
     "text": [
      "10\n",
      "20\n",
      "0\n",
      "1\n",
      "2\n",
      "0\n",
      "1\n",
      "2\n",
      "p: 2\n"
     ]
    }
   ],
   "source": [
    "x = 10  # global scope\n",
    "print(x) # print function is built-in scope\n",
    "while(True):\n",
    "    x = 20 \n",
    "    print(x)\n",
    "    for x in range(3):\n",
    "        print(x)\n",
    "    for p in range(3):\n",
    "        print(p)\n",
    "    break\n",
    "print(f'p: {p}')"
   ]
  },
  {
   "cell_type": "code",
   "execution_count": 10,
   "metadata": {},
   "outputs": [
    {
     "name": "stdout",
     "output_type": "stream",
     "text": [
      "2\n",
      "9.3\n",
      "9.3\n"
     ]
    }
   ],
   "source": [
    "print(x)\n",
    "\n",
    "while(True):\n",
    "    a11 = 9.3\n",
    "    print(a11)\n",
    "    break\n",
    "print(a11)\n"
   ]
  },
  {
   "cell_type": "code",
   "execution_count": 11,
   "metadata": {},
   "outputs": [
    {
     "data": {
      "text/plain": [
       "[20, 18, 77, 88, 65, 5, 70, 5, 5, 29, 4]"
      ]
     },
     "execution_count": 11,
     "metadata": {},
     "output_type": "execute_result"
    }
   ],
   "source": [
    "import random\n",
    "l1 = []\n",
    "for i in range(11):\n",
    "    l1.append(random.randint(1, 100))\n",
    "l1"
   ]
  },
  {
   "cell_type": "code",
   "execution_count": 12,
   "metadata": {},
   "outputs": [
    {
     "name": "stdout",
     "output_type": "stream",
     "text": [
      "[4, 5, 5, 5, 18, 20, 29, 65, 70, 77, 88]\n"
     ]
    }
   ],
   "source": [
    "# just ok bubble sort\n",
    "for i in range(len(l1)):\n",
    "    for j in range(len(l1)-1):\n",
    "        if l1[j]>l1[j+1]:\n",
    "            l1[j],l1[j+1] = l1[j+1],l1[j]\n",
    "\n",
    "print(l1)"
   ]
  },
  {
   "cell_type": "code",
   "execution_count": 13,
   "metadata": {},
   "outputs": [
    {
     "name": "stdout",
     "output_type": "stream",
     "text": [
      "[4, 5, 5, 5, 18, 20, 29, 65, 70, 77, 88]\n"
     ]
    }
   ],
   "source": [
    "# better bubble sort\n",
    "for i in range(len(l1)):\n",
    "    for j in range(0,len(l1)-1-i):\n",
    "        if l1[j]>l1[j+1]:\n",
    "            l1[j],l1[j+1] = l1[j+1],l1[j]\n",
    "print(l1)"
   ]
  },
  {
   "cell_type": "code",
   "execution_count": 14,
   "metadata": {},
   "outputs": [
    {
     "data": {
      "text/plain": [
       "[100, 81, 9, 11, 7, 91, 71, 30, 85, 73, 25]"
      ]
     },
     "execution_count": 14,
     "metadata": {},
     "output_type": "execute_result"
    }
   ],
   "source": [
    "import random\n",
    "l1 = []\n",
    "for i in range(11):\n",
    "    l1.append(random.randint(1, 100))\n",
    "l1"
   ]
  },
  {
   "cell_type": "code",
   "execution_count": 15,
   "metadata": {},
   "outputs": [
    {
     "name": "stdout",
     "output_type": "stream",
     "text": [
      "sorted [7, 9, 11, 25, 30, 71, 73, 81, 85, 91, 100] in 8 iterations\n"
     ]
    }
   ],
   "source": [
    "swapped = True\n",
    "i = 0\n",
    "while swapped:\n",
    "    swapped = False\n",
    "    for j in range(0,len(l1)-1):\n",
    "        if l1[j]>l1[j+1]:\n",
    "            l1[j],l1[j+1] = l1[j+1],l1[j]\n",
    "            swapped = True\n",
    "    i += 1\n",
    "print(f'sorted {l1} in {i} iterations')"
   ]
  },
  {
   "cell_type": "code",
   "execution_count": 16,
   "metadata": {},
   "outputs": [
    {
     "data": {
      "text/plain": [
       "\"this can't be a problem's solution\""
      ]
     },
     "execution_count": 16,
     "metadata": {},
     "output_type": "execute_result"
    }
   ],
   "source": [
    "s1 = 'this can\\'t be a problem\\'s solution'\n",
    "s1"
   ]
  },
  {
   "cell_type": "code",
   "execution_count": 17,
   "metadata": {},
   "outputs": [
    {
     "data": {
      "text/plain": [
       "'thiscantbeaproblemssolution'"
      ]
     },
     "execution_count": 17,
     "metadata": {},
     "output_type": "execute_result"
    }
   ],
   "source": [
    "ls = []\n",
    "for e in s1:\n",
    "    if e != '\\'' and e != ' ':\n",
    "        ls.append(e)\n",
    "s1 = ''.join(ls)\n",
    "s1"
   ]
  },
  {
   "cell_type": "code",
   "execution_count": 18,
   "metadata": {},
   "outputs": [
    {
     "name": "stdout",
     "output_type": "stream",
     "text": [
      "no of 2 letter words: 12 :: {'bd', 'ca', 'ab', 'ba', 'db', 'dc', 'bc', 'ad', 'ac', 'cb', 'cd', 'da'}\n",
      "no of 3 letter words: 24 :: {'dac', 'acb', 'abd', 'bdc', 'cda', 'dbc', 'adc', 'bcd', 'bca', 'dca', 'dba', 'cdb', 'abc', 'dcb', 'dab', 'bda', 'cbd', 'adb', 'bad', 'cab', 'bac', 'cad', 'acd', 'cba'}\n",
      "no of 4 letter words: 24 :: {'cbda', 'dacb', 'badc', 'acbd', 'dcba', 'adcb', 'abdc', 'acdb', 'dabc', 'cdba', 'bdca', 'cabd', 'cdab', 'adbc', 'abcd', 'dbca', 'bcda', 'cbad', 'bcad', 'dcab', 'bacd', 'dbac', 'bdac', 'cadb'}\n",
      "length: 60 :: {'dac', 'cbda', 'acb', 'dacb', 'badc', 'abd', 'bdc', 'acbd', 'cda', 'dbc', 'cba', 'adc', 'dcba', 'adcb', 'bcd', 'abdc', 'acdb', 'dabc', 'cdba', 'dc', 'bc', 'ad', 'bca', 'dca', 'bdca', 'dba', 'cdb', 'abc', 'dcb', 'cb', 'dab', 'cabd', 'cdab', 'adbc', 'ca', 'bda', 'abcd', 'dbca', 'ba', 'db', 'adb', 'bcda', 'cbad', 'ac', 'bad', 'bcad', 'cab', 'cd', 'dcab', 'bd', 'ab', 'bacd', 'bac', 'dbac', 'da', 'bdac', 'cad', 'acd', 'cadb', 'cbd'}\n"
     ]
    }
   ],
   "source": [
    "l1 = list('abcd')\n",
    "st1 = set()\n",
    "for i in range(len(l1)):\n",
    "    for j in range(i+1,len(l1)):\n",
    "        st1.add(l1[i]+l1[j])\n",
    "        st1.add(l1[j]+l1[i])\n",
    "print(f'no of 2 letter words: {len(st1)} :: {st1}')\n",
    "st2 = set()\n",
    "for e in st1:\n",
    "    for c in l1:\n",
    "        if c not in e:\n",
    "            st2.add(e+c)\n",
    "            st2.add(c+e)\n",
    "\n",
    "print(f'no of 3 letter words: {len(st2)} :: {st2}')\n",
    "st1 |= st2\n",
    "#print(f'length: {len(st1)} :: {st1}')\n",
    "\n",
    "st3 = set()\n",
    "for e in st1:\n",
    "    for c in l1:\n",
    "        if len(e) == 3 and c not in e:\n",
    "            st3.add(e+c)\n",
    "            st3.add(c+e)\n",
    "\n",
    "print(f'no of 4 letter words: {len(st3)} :: {st3}')\n",
    "st1 |= st3\n",
    "print(f'length: {len(st1)} :: {st1}')"
   ]
  },
  {
   "cell_type": "code",
   "execution_count": 19,
   "metadata": {},
   "outputs": [
    {
     "name": "stdout",
     "output_type": "stream",
     "text": [
      "[3, 0, 1, 0, 0, 1, 3]\n"
     ]
    }
   ],
   "source": [
    "coins = [1,5,10,20,50,100,500]\n",
    "change = [0] * len(coins)\n",
    "x = 1613\n",
    "remains = x\n",
    "for i,e in enumerate(reversed(coins)):\n",
    "    change[i] = remains // e\n",
    "    remains = remains % e\n",
    "    \n",
    "print(list(reversed(change)))\n",
    "        \n"
   ]
  },
  {
   "cell_type": "code",
   "execution_count": 20,
   "metadata": {},
   "outputs": [
    {
     "data": {
      "text/plain": [
       "False"
      ]
     },
     "execution_count": 20,
     "metadata": {},
     "output_type": "execute_result"
    }
   ],
   "source": [
    "import random\n",
    "l1 = []\n",
    "for _ in range(20):\n",
    "    l1.append(random.randint(1,30))\n",
    "\n",
    "len(l1) == len(set(l1))"
   ]
  },
  {
   "cell_type": "code",
   "execution_count": 21,
   "metadata": {},
   "outputs": [
    {
     "name": "stdout",
     "output_type": "stream",
     "text": [
      "[1, 2, 3, 5] : 70\n",
      "[1, 5] : 100\n",
      "[1, 4, 3, 5] : 60\n",
      "[1, 4, 5] : 90\n"
     ]
    }
   ],
   "source": [
    "city_graph = {1:[(2,10),(5,100),(4,30),(6,10)],2:[(3,50)],3:[(5,10)],4:[(3,20),(5,60)]}\n",
    "start = 1\n",
    "stop = 5\n",
    "from_city1 = city_graph[start]\n",
    "path = [start]\n",
    "path_length = []\n",
    "for city,distance in from_city1:\n",
    "    path.append(city)\n",
    "    path_length.append(distance)\n",
    "    if city == stop:\n",
    "        print(f'{path} : {sum(path_length)}')\n",
    "    if city in city_graph.keys():\n",
    "        from_city2 = city_graph[city]\n",
    "        for city,distance in from_city2:\n",
    "            path.append(city)\n",
    "            path_length.append(distance)\n",
    "            if city == stop:\n",
    "                print(f'{path} : {sum(path_length)}')\n",
    "            if city in city_graph.keys():\n",
    "                from_city3 = city_graph[city]\n",
    "                for city,distance in from_city3:\n",
    "                    path.append(city)\n",
    "                    path_length.append(distance)\n",
    "                    if city == stop:\n",
    "                        print(f'{path} : {sum(path_length)}')\n",
    "                    path.pop(-1)\n",
    "                    path_length.pop(-1)       \n",
    "            path.pop(-1)\n",
    "            path_length.pop(-1)\n",
    "    path.pop(-1)\n",
    "    path_length.pop(-1)      \n"
   ]
  }
 ],
 "metadata": {
  "kernelspec": {
   "display_name": "Python 3 (ipykernel)",
   "language": "python",
   "name": "python3"
  },
  "language_info": {
   "codemirror_mode": {
    "name": "ipython",
    "version": 3
   },
   "file_extension": ".py",
   "mimetype": "text/x-python",
   "name": "python",
   "nbconvert_exporter": "python",
   "pygments_lexer": "ipython3",
   "version": "3.10.12"
  }
 },
 "nbformat": 4,
 "nbformat_minor": 2
}
