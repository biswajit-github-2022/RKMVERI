{
 "cells": [
  {
   "cell_type": "code",
   "execution_count": 1,
   "metadata": {},
   "outputs": [],
   "source": [
    "#######################( 1 )###########################"
   ]
  },
  {
   "cell_type": "code",
   "execution_count": 2,
   "metadata": {},
   "outputs": [
    {
     "name": "stdout",
     "output_type": "stream",
     "text": [
      "(2, 4, 'hi', False, True)\n"
     ]
    }
   ],
   "source": [
    "#1.a\n",
    "t=tuple((2,4,'hi',False,True))\n",
    "print(t)"
   ]
  },
  {
   "cell_type": "code",
   "execution_count": 3,
   "metadata": {},
   "outputs": [
    {
     "name": "stdout",
     "output_type": "stream",
     "text": [
      "[2, 4, 'hi', False, True]\n"
     ]
    }
   ],
   "source": [
    "#1.b\n",
    "l=list(t)\n",
    "print(l)"
   ]
  },
  {
   "cell_type": "code",
   "execution_count": 4,
   "metadata": {},
   "outputs": [
    {
     "name": "stdout",
     "output_type": "stream",
     "text": [
      "[2, 4, 'hi', False, True, 'hello']\n"
     ]
    }
   ],
   "source": [
    "#1.c\n",
    "l.append('hello')\n",
    "print(l)"
   ]
  },
  {
   "cell_type": "code",
   "execution_count": 5,
   "metadata": {},
   "outputs": [
    {
     "data": {
      "text/plain": [
       "[2, 4, 'hi', False, True, 'hello', 6, 7]"
      ]
     },
     "execution_count": 5,
     "metadata": {},
     "output_type": "execute_result"
    }
   ],
   "source": [
    "# 1.d\n",
    "l1=list([6,7])\n",
    "l2=l+l1\n",
    "l2"
   ]
  },
  {
   "cell_type": "code",
   "execution_count": 6,
   "metadata": {},
   "outputs": [
    {
     "name": "stdout",
     "output_type": "stream",
     "text": [
      "nation\n",
      "nation\n"
     ]
    }
   ],
   "source": [
    "# 1.e\n",
    "strng='examination'\n",
    "#positive indices\n",
    "sp=strng[5:]\n",
    "print(sp)\n",
    "#negetive indices\n",
    "sn=strng[-6:]\n",
    "print(sp)"
   ]
  },
  {
   "cell_type": "code",
   "execution_count": 7,
   "metadata": {},
   "outputs": [
    {
     "data": {
      "text/plain": [
       "{2, 4, 6, 7, False, True, 'hello', 'hi'}"
      ]
     },
     "execution_count": 7,
     "metadata": {},
     "output_type": "execute_result"
    }
   ],
   "source": [
    "# 1.f\n",
    "s=set(l2)\n",
    "s"
   ]
  },
  {
   "cell_type": "code",
   "execution_count": 8,
   "metadata": {},
   "outputs": [
    {
     "name": "stdout",
     "output_type": "stream",
     "text": [
      "[12, 8, 28, 20, 16]\n"
     ]
    }
   ],
   "source": [
    "# 1.g\n",
    "l3=[3,2,7,5,4]\n",
    "for i in range(len(l3)):\n",
    "    l3[i]=l3[i]*4\n",
    "print(l3)\n"
   ]
  },
  {
   "cell_type": "code",
   "execution_count": 9,
   "metadata": {},
   "outputs": [
    {
     "name": "stdout",
     "output_type": "stream",
     "text": [
      "[25, 40, 45, 15, 25]\n"
     ]
    }
   ],
   "source": [
    "# 1.h\n",
    "l4=[5,8,9,3,5]\n",
    "i=0\n",
    "while i<len(l4):\n",
    "    l4[i]*=5\n",
    "    i+=1\n",
    "print(l4)"
   ]
  },
  {
   "cell_type": "code",
   "execution_count": 10,
   "metadata": {},
   "outputs": [
    {
     "name": "stdout",
     "output_type": "stream",
     "text": [
      "{'a': 'apple', 'o': 'orange', 'p': 'pineapple', 'b': 'banana'}\n"
     ]
    }
   ],
   "source": [
    "# 1.i\n",
    "fruits=['apple','orange','pineapple','banana']\n",
    "fruit_dict={}\n",
    "for i in range(len(fruits)):\n",
    "    fruit_dict[fruits[i][0]]=fruits[i]\n",
    "print(fruit_dict)"
   ]
  },
  {
   "cell_type": "code",
   "execution_count": 11,
   "metadata": {},
   "outputs": [
    {
     "name": "stdout",
     "output_type": "stream",
     "text": [
      "74\n"
     ]
    }
   ],
   "source": [
    "# 1.j\n",
    "l5=[12,4,56,76,78,34,5,6,9]\n",
    "minimum=min(l5)\n",
    "maximum=max(l5)\n",
    "range_of_l5=maximum-minimum\n",
    "print(range_of_l5)"
   ]
  },
  {
   "cell_type": "code",
   "execution_count": 12,
   "metadata": {},
   "outputs": [],
   "source": [
    "####################(2)#########################"
   ]
  },
  {
   "cell_type": "code",
   "execution_count": 13,
   "metadata": {},
   "outputs": [
    {
     "name": "stdout",
     "output_type": "stream",
     "text": [
      "Number of vowels = 952\n",
      "Number of words = 585\n",
      "['the', 'a', 'list', 'and', 'of', 'to', 'in', 'that', 'is', 'sorted', 'values', 'value', 'be', 'order', 'inserted', 'having', 'case', 'function', '2,3,4,56,100,102', 'into', 'from', 'elements', 'number', 'create', 'tuple', 'as', 'new', 'using', 'two', '2', '-', 'literal', 'find', 'an', 'with', 'go', 'given', 'so', 'count', 'all', 'contents', 'datastructure', 'corresponding', 'python', 'original', 'fruit', 'are', 'vowels', 'ASCII', 'numbers', 'a1,', 'created', 'A', 'generate', 'this', '=', 'previous', 'report', 'words', 'by', 'parameters', 'dictionary', 'multiply', 'it', 'received', 'c1', 'loop', 'any', 'for', 'string', 'updated.', 'collection', 'The', 'following', 'extract', 'h.', 'negative', 'correctness', 'earlier', 'parameters.', 'them', 'frequency', \"('z','q',3,6),\", 'alternative', 'Create', 'each', 'labels', \"[5,'z',8],[2,'q',9],[7,3,'m'],[1,6,'n']](b)Write\", 'add', 'indices.f.', 'while', 'descending', '(see', 'J', 'code', 'on', 'bda23_25_midterm.txt', 'receives', 'following:a.', 'i.', 'beside', 'range', 'selected', 'categories', 'Add', 'sample', 'one', 'C,', 'structure.', 'data', 'location', 'built-in', 'iii)', 'random', '90', '7', 'made', \"[['one','two','three'],\", 'accepts', 'B', 'alpabhet', 'A,E,I,O,U', '10test', 'name', 'rest', 'line', 'X,', 'space', '*************************************************************4.(a)Convert', \"{8,9,'m','n'}}B\", 'test', 'Do', '1:', 'question', 'letter', 'Z.', 'g.', '101test', \"{'one':\", '****************c1', 'Numbers', 'stars', 'other', 'Use', 'second', '5:', 'multiplied', 'below):a1', \"'nation'\", 'positive', '(anything', 'now', 'substring', 'following:i)', 'alphabets.', 'fourth', \"'three':\", 'elements.', 'word).c.', 'based', 'boolean.b.', 'questions', 'appropriate', 'Z,', 'statistical', '1', '(a,e,i,o,u)b.', 'indices', '2test', 'numbers,', 'Convert', 'set', 'first', 'parameter', 'Categorise', '1test', 'programmatically:A', 'listc.', 'list.', 'below', 'parameter.(b)chr()', \"'two':\", 'provides', 'frm', '2:', 'updated', 'elements.e.', 'put', 'Demonstrate', '6:', 'character.', 'text', 'element', '5test', '4:', '65', 'select', 'arrange', 'such', '7:', '(difference', 'step.d.', '1000', 'correct', 'names.j.', 'All', 'converts', 'keys', 'some', 'integers', 'print', 'returns', 'largest', '1.a.', 'shown', '***********************c2', '103', 'number)', 'up', '5', 'separated', 'c2.', 'where', 'c2', 'sub-part', 'inserts', 'cases:test', 'S,', '102test', 'ii)', '3:', 'Using', '3', \"'examination'\", 'list).', '[5,2,7,1],', 'file', '(a', 'provided', 'do', 'category', 'functions.2.', 'smallest', 'these', 'ways', 'counts.3.(a)Create']\n"
     ]
    }
   ],
   "source": [
    "#2.a\n",
    "with open('bda23_25_midterm.txt',mode='r', encoding='utf-8') as f:\n",
    "    lines = f.readlines()\n",
    "    l = [line.strip('\\n') for line in lines]\n",
    "    # print(l)\n",
    "s=''\n",
    "for item in l:\n",
    "    s=s+item\n",
    "vowel_count=0\n",
    "for i in s:\n",
    "    if i in ['a','e','i','o','u']:\n",
    "        vowel_count+=1\n",
    "print(f'Number of vowels = {vowel_count}')\n",
    "\n",
    "\n",
    "###\n",
    "#2.b\n",
    "word_list=s.split(\" \")\n",
    "print(f'Number of words = {len(word_list)}')\n",
    "\n",
    "\n",
    "###\n",
    "# 2.c\n",
    "pair=[]\n",
    "descending_order_word_list=[]\n",
    "\n",
    "\n",
    "# print(word_list)\n",
    "unique_word_list=list(set(word_list))\n",
    "\n",
    "for word in unique_word_list:\n",
    "    pair.append((word_list.count(word),word))\n",
    "pair.sort(key=lambda x: x[0],reverse=True)\n",
    "for i in pair:\n",
    "    descending_order_word_list.append(i[1])\n",
    "print(descending_order_word_list)\n",
    "\n",
    "    \n",
    "    "
   ]
  },
  {
   "cell_type": "code",
   "execution_count": 14,
   "metadata": {},
   "outputs": [],
   "source": [
    "####################(3)#########################"
   ]
  },
  {
   "cell_type": "code",
   "execution_count": 15,
   "metadata": {},
   "outputs": [
    {
     "name": "stdout",
     "output_type": "stream",
     "text": [
      "(5, 10, 15)\n"
     ]
    }
   ],
   "source": [
    "# 3.a\n",
    "def tuple_scalar_multiplier(t,a):\n",
    "    tup_list=list(t)\n",
    "    for i in range(len(tup_list)):\n",
    "        tup_list[i]*=a\n",
    "    return tuple(tup_list)\n",
    "print(tuple_scalar_multiplier((1,2,3),5))"
   ]
  },
  {
   "cell_type": "code",
   "execution_count": 16,
   "metadata": {},
   "outputs": [
    {
     "name": "stdout",
     "output_type": "stream",
     "text": [
      "['R', 'I', 'N', 'J', 'L', 'T', 'Y', 'K', 'U', 'W', 'T', 'D', 'C', 'K', 'R', 'J', 'X', 'R', 'S', 'N', 'O', 'F', 'Q', 'T', 'O', 'E', 'X', 'T', 'X', 'Z', 'X', 'S', 'J', 'Z', 'V', 'X', 'S', 'R', 'H', 'A', 'U', 'B', 'B', 'H', 'E', 'W', 'E', 'R', 'J', 'R', 'X', 'O', 'A', 'B', 'B', 'H', 'A', 'L', 'V', 'W', 'J', 'Z', 'U', 'T', 'S', 'W', 'S', 'U', 'J', 'K', 'V', 'E', 'Z', 'L', 'O', 'W', 'B', 'U', 'N', 'Q', 'Q', 'L', 'M', 'R', 'D', 'X', 'T', 'S', 'V', 'L', 'N', 'L', 'E', 'V', 'L', 'U', 'R', 'C', 'H', 'N', 'B', 'R', 'V', 'N', 'W', 'R', 'Q', 'N', 'V', 'H', 'L', 'Q', 'J', 'I', 'B', 'H', 'T', 'F', 'I', 'M', 'B', 'C', 'J', 'K', 'N', 'K', 'L', 'U', 'S', 'Y', 'E', 'K', 'H', 'S', 'I', 'X', 'O', 'P', 'B', 'P', 'F', 'M', 'N', 'Y', 'T', 'N', 'Y', 'H', 'E', 'R', 'F', 'W', 'W', 'Q', 'D', 'E', 'J', 'X', 'D', 'N', 'H', 'O', 'V', 'T', 'U', 'I', 'D', 'C', 'U', 'K', 'K', 'V', 'S', 'N', 'Q', 'H', 'E', 'M', 'I', 'B', 'T', 'D', 'O', 'N', 'H', 'G', 'D', 'N', 'X', 'E', 'P', 'N', 'X', 'J', 'D', 'N', 'Z', 'O', 'S', 'F', 'X', 'Q', 'V', 'J', 'C', 'I', 'B', 'V', 'C', 'E', 'E', 'D', 'Q', 'J', 'Z', 'I', 'M', 'B', 'K', 'F', 'I', 'E', 'B', 'M', 'B', 'I', 'P', 'V', 'Q', 'Z', 'F', 'I', 'L', 'P', 'J', 'U', 'S', 'H', 'V', 'A', 'J', 'X', 'M', 'H', 'H', 'C', 'E', 'J', 'H', 'M', 'F', 'R', 'A', 'L', 'A', 'H', 'I', 'D', 'N', 'E', 'P', 'T', 'N', 'U', 'Y', 'Q', 'Z', 'N', 'Q', 'E', 'I', 'K', 'E', 'O', 'H', 'D', 'Y', 'Q', 'U', 'O', 'X', 'O', 'A', 'F', 'A', 'U', 'V', 'M', 'D', 'G', 'M', 'G', 'H', 'H', 'U', 'U', 'X', 'D', 'D', 'I', 'E', 'X', 'D', 'Z', 'V', 'I', 'R', 'E', 'O', 'N', 'A', 'X', 'U', 'M', 'H', 'D', 'H', 'X', 'M', 'C', 'Y', 'V', 'A', 'V', 'E', 'Z', 'A', 'R', 'D', 'E', 'F', 'S', 'N', 'A', 'D', 'Q', 'C', 'Y', 'F', 'V', 'W', 'J', 'M', 'U', 'O', 'X', 'S', 'E', 'X', 'D', 'P', 'P', 'N', 'N', 'D', 'N', 'E', 'B', 'J', 'P', 'J', 'F', 'B', 'J', 'C', 'R', 'H', 'K', 'T', 'E', 'O', 'P', 'C', 'O', 'L', 'S', 'H', 'P', 'P', 'T', 'V', 'K', 'V', 'E', 'B', 'B', 'M', 'F', 'G', 'Z', 'A', 'R', 'I', 'B', 'L', 'C', 'I', 'L', 'K', 'L', 'E', 'R', 'M', 'G', 'A', 'S', 'L', 'E', 'M', 'Z', 'I', 'A', 'N', 'E', 'O', 'B', 'W', 'F', 'I', 'Q', 'X', 'K', 'U', 'B', 'K', 'B', 'Z', 'R', 'P', 'O', 'R', 'O', 'P', 'G', 'M', 'Y', 'J', 'H', 'I', 'P', 'Q', 'V', 'X', 'K', 'B', 'K', 'H', 'F', 'R', 'C', 'Y', 'C', 'K', 'H', 'K', 'S', 'A', 'X', 'Q', 'F', 'D', 'N', 'M', 'Z', 'G', 'Q', 'T', 'Z', 'J', 'S', 'F', 'G', 'J', 'Q', 'B', 'A', 'E', 'Z', 'H', 'J', 'R', 'J', 'O', 'R', 'H', 'Y', 'A', 'Y', 'B', 'P', 'Y', 'U', 'C', 'Y', 'H', 'P', 'D', 'R', 'P', 'T', 'I', 'Z', 'O', 'V', 'U', 'X', 'P', 'T', 'B', 'Y', 'F', 'F', 'M', 'P', 'U', 'V', 'W', 'D', 'A', 'C', 'M', 'T', 'Y', 'J', 'N', 'O', 'J', 'O', 'M', 'J', 'L', 'X', 'E', 'G', 'S', 'Q', 'Q', 'Q', 'N', 'A', 'W', 'W', 'X', 'B', 'T', 'N', 'A', 'P', 'A', 'V', 'A', 'N', 'T', 'E', 'L', 'Y', 'G', 'S', 'G', 'E', 'J', 'J', 'V', 'X', 'L', 'H', 'Y', 'S', 'U', 'W', 'W', 'C', 'X', 'G', 'V', 'V', 'L', 'V', 'T', 'H', 'K', 'D', 'D', 'S', 'H', 'M', 'Q', 'S', 'R', 'T', 'X', 'C', 'N', 'V', 'B', 'J', 'A', 'S', 'A', 'J', 'R', 'K', 'Q', 'D', 'L', 'A', 'R', 'T', 'B', 'G', 'I', 'S', 'B', 'R', 'K', 'I', 'C', 'Z', 'Y', 'E', 'F', 'M', 'K', 'C', 'P', 'O', 'F', 'C', 'I', 'I', 'S', 'G', 'A', 'D', 'G', 'U', 'N', 'A', 'T', 'N', 'X', 'T', 'A', 'C', 'X', 'L', 'Z', 'M', 'G', 'M', 'S', 'V', 'M', 'O', 'A', 'M', 'E', 'E', 'V', 'D', 'Y', 'W', 'K', 'L', 'V', 'Q', 'R', 'P', 'P', 'R', 'Y', 'L', 'T', 'X', 'W', 'A', 'V', 'A', 'X', 'I', 'X', 'E', 'B', 'L', 'A', 'Y', 'B', 'L', 'D', 'L', 'N', 'F', 'H', 'Q', 'U', 'G', 'G', 'B', 'B', 'Z', 'B', 'N', 'G', 'K', 'I', 'M', 'H', 'Z', 'J', 'H', 'R', 'L', 'E', 'W', 'J', 'Y', 'B', 'V', 'Q', 'H', 'P', 'V', 'D', 'H', 'K', 'M', 'Q', 'G', 'Y', 'B', 'X', 'Q', 'D', 'L', 'G', 'N', 'J', 'E', 'Z', 'S', 'X', 'N', 'D', 'D', 'B', 'Z', 'O', 'H', 'I', 'S', 'G', 'M', 'R', 'O', 'E', 'R', 'C', 'U', 'G', 'D', 'L', 'Y', 'J', 'B', 'Y', 'Q', 'V', 'F', 'J', 'W', 'V', 'Z', 'N', 'X', 'M', 'J', 'J', 'C', 'Y', 'E', 'X', 'Q', 'D', 'H', 'I', 'L', 'O', 'P', 'R', 'L', 'T', 'D', 'Z', 'N', 'B', 'F', 'M', 'O', 'Y', 'G', 'B', 'A', 'U', 'G', 'P', 'F', 'H', 'H', 'W', 'B', 'Y', 'M', 'I', 'E', 'L', 'Z', 'H', 'X', 'L', 'A', 'B', 'L', 'V', 'I', 'J', 'N', 'M', 'K', 'A', 'R', 'U', 'K', 'U', 'F', 'W', 'L', 'Z', 'P', 'G', 'N', 'W', 'Y', 'M', 'O', 'Q', 'S', 'U', 'K', 'C', 'E', 'G', 'S', 'R', 'M', 'J', 'C', 'B', 'U', 'Y', 'P', 'F', 'U', 'E', 'V', 'L', 'H', 'O', 'B', 'Y', 'Q', 'Q', 'Q', 'U', 'Q', 'K', 'V', 'J', 'Q', 'R', 'P', 'M', 'N', 'M', 'W', 'R', 'J', 'H', 'E', 'I', 'H', 'M', 'O', 'L', 'T', 'E', 'U', 'G', 'G', 'W', 'N', 'L', 'D', 'C', 'X', 'U', 'Z', 'E', 'F', 'N', 'J', 'F', 'I', 'O', 'A', 'Y', 'X', 'W', 'X', 'Z', 'Y', 'Y', 'L', 'V', 'Q', 'R', 'L', 'C', 'J', 'G', 'T', 'Z', 'I', 'I', 'A', 'Q', 'V', 'K', 'S', 'J', 'W', 'W', 'X', 'F', 'V', 'J', 'X', 'A', 'P', 'V', 'Q', 'A', 'A', 'Z', 'B', 'C', 'A', 'A', 'F', 'T', 'C', 'J', 'C', 'G', 'C', 'F', 'C', 'G', 'G', 'O', 'X', 'I', 'X', 'M', 'J', 'S', 'V', 'J', 'Y', 'F', 'D', 'Q', 'X', 'Z', 'T', 'N', 'S', 'R', 'N', 'S', 'P', 'O', 'Q', 'W', 'N', 'C', 'M', 'B', 'R', 'P', 'I']\n"
     ]
    }
   ],
   "source": [
    "#3.b.i\n",
    "import random\n",
    "alphabates=[]\n",
    "for i in range(1000):\n",
    "    alphabates.append(chr(random.randint(65,90)))\n",
    "print(alphabates)"
   ]
  },
  {
   "cell_type": "code",
   "execution_count": 17,
   "metadata": {},
   "outputs": [
    {
     "name": "stdout",
     "output_type": "stream",
     "text": [
      "{'a1': ['I', 'E', 'A', 'E', 'E', 'A', 'A', 'E', 'E', 'I', 'I', 'E', 'I', 'E', 'E', 'I', 'E', 'I', 'E', 'I', 'E', 'E', 'I', 'I', 'E', 'I', 'I', 'A', 'E', 'A', 'A', 'I', 'E', 'E', 'I', 'E', 'A', 'A', 'I', 'E', 'I', 'E', 'A', 'A', 'E', 'A', 'E', 'A', 'E', 'E', 'E', 'E', 'A', 'I', 'I', 'E', 'A', 'E', 'I', 'A', 'E', 'I', 'I', 'A', 'A', 'E', 'A', 'I', 'A', 'E', 'A', 'A', 'A', 'A', 'E', 'E', 'A', 'A', 'A', 'I', 'I', 'E', 'I', 'I', 'A', 'A', 'A', 'A', 'E', 'E', 'A', 'A', 'I', 'E', 'A', 'I', 'E', 'E', 'I', 'E', 'E', 'I', 'A', 'I', 'E', 'A', 'I', 'A', 'E', 'E', 'E', 'I', 'E', 'E', 'I', 'A', 'I', 'I', 'A', 'A', 'A', 'A', 'A', 'A', 'I', 'I'], 'c1': ['J', 'C', 'J', 'X', 'X', 'X', 'Z', 'X', 'J', 'Z', 'X', 'J', 'X', 'J', 'Z', 'J', 'Z', 'X', 'C', 'J', 'C', 'J', 'X', 'J', 'X', 'C', 'X', 'X', 'J', 'Z', 'X', 'J', 'C', 'C', 'J', 'Z', 'Z', 'J', 'J', 'X', 'C', 'J', 'Z', 'X', 'X', 'X', 'Z', 'X', 'X', 'C', 'Z', 'C', 'J', 'X', 'X', 'J', 'J', 'J', 'C', 'C', 'Z', 'C', 'Z', 'X', 'Z', 'J', 'X', 'C', 'C', 'X', 'Z', 'Z', 'J', 'J', 'Z', 'J', 'J', 'C', 'Z', 'X', 'C', 'J', 'J', 'J', 'X', 'X', 'J', 'J', 'X', 'C', 'X', 'X', 'C', 'J', 'J', 'C', 'Z', 'C', 'C', 'X', 'C', 'X', 'Z', 'X', 'X', 'X', 'Z', 'Z', 'J', 'J', 'X', 'J', 'Z', 'X', 'Z', 'C', 'J', 'J', 'Z', 'X', 'J', 'J', 'C', 'X', 'Z', 'Z', 'X', 'J', 'Z', 'C', 'J', 'C', 'J', 'J', 'C', 'X', 'Z', 'J', 'X', 'X', 'Z', 'C', 'J', 'Z', 'J', 'X', 'J', 'X', 'Z', 'C', 'C', 'J', 'C', 'C', 'C', 'X', 'X', 'J', 'J', 'X', 'Z', 'C'], 'c2': ['R', 'I', 'N', 'L', 'T', 'Y', 'K', 'U', 'W', 'T', 'D', 'K', 'R', 'R', 'S', 'N', 'O', 'F', 'Q', 'T', 'O', 'E', 'T', 'S', 'V', 'S', 'R', 'H', 'A', 'U', 'B', 'B', 'H', 'E', 'W', 'E', 'R', 'R', 'O', 'A', 'B', 'B', 'H', 'A', 'L', 'V', 'W', 'U', 'T', 'S', 'W', 'S', 'U', 'K', 'V', 'E', 'L', 'O', 'W', 'B', 'U', 'N', 'Q', 'Q', 'L', 'M', 'R', 'D', 'T', 'S', 'V', 'L', 'N', 'L', 'E', 'V', 'L', 'U', 'R', 'H', 'N', 'B', 'R', 'V', 'N', 'W', 'R', 'Q', 'N', 'V', 'H', 'L', 'Q', 'I', 'B', 'H', 'T', 'F', 'I', 'M', 'B', 'K', 'N', 'K', 'L', 'U', 'S', 'Y', 'E', 'K', 'H', 'S', 'I', 'O', 'P', 'B', 'P', 'F', 'M', 'N', 'Y', 'T', 'N', 'Y', 'H', 'E', 'R', 'F', 'W', 'W', 'Q', 'D', 'E', 'D', 'N', 'H', 'O', 'V', 'T', 'U', 'I', 'D', 'U', 'K', 'K', 'V', 'S', 'N', 'Q', 'H', 'E', 'M', 'I', 'B', 'T', 'D', 'O', 'N', 'H', 'G', 'D', 'N', 'E', 'P', 'N', 'D', 'N', 'O', 'S', 'F', 'Q', 'V', 'I', 'B', 'V', 'E', 'E', 'D', 'Q', 'I', 'M', 'B', 'K', 'F', 'I', 'E', 'B', 'M', 'B', 'I', 'P', 'V', 'Q', 'F', 'I', 'L', 'P', 'U', 'S', 'H', 'V', 'A', 'M', 'H', 'H', 'E', 'H', 'M', 'F', 'R', 'A', 'L', 'A', 'H', 'I', 'D', 'N', 'E', 'P', 'T', 'N', 'U', 'Y', 'Q', 'N', 'Q', 'E', 'I', 'K', 'E', 'O', 'H', 'D', 'Y', 'Q', 'U', 'O', 'O', 'A', 'F', 'A', 'U', 'V', 'M', 'D', 'G', 'M', 'G', 'H', 'H', 'U', 'U', 'D', 'D', 'I', 'E', 'D', 'V', 'I', 'R', 'E', 'O', 'N', 'A', 'U', 'M', 'H', 'D', 'H', 'M', 'Y', 'V', 'A', 'V', 'E', 'A', 'R', 'D', 'E', 'F', 'S', 'N', 'A', 'D', 'Q', 'Y', 'F', 'V', 'W', 'M', 'U', 'O', 'S', 'E', 'D', 'P', 'P', 'N', 'N', 'D', 'N', 'E', 'B', 'P', 'F', 'B', 'R', 'H', 'K', 'T', 'E', 'O', 'P', 'O', 'L', 'S', 'H', 'P', 'P', 'T', 'V', 'K', 'V', 'E', 'B', 'B', 'M', 'F', 'G', 'A', 'R', 'I', 'B', 'L', 'I', 'L', 'K', 'L', 'E', 'R', 'M', 'G', 'A', 'S', 'L', 'E', 'M', 'I', 'A', 'N', 'E', 'O', 'B', 'W', 'F', 'I', 'Q', 'K', 'U', 'B', 'K', 'B', 'R', 'P', 'O', 'R', 'O', 'P', 'G', 'M', 'Y', 'H', 'I', 'P', 'Q', 'V', 'K', 'B', 'K', 'H', 'F', 'R', 'Y', 'K', 'H', 'K', 'S', 'A', 'Q', 'F', 'D', 'N', 'M', 'G', 'Q', 'T', 'S', 'F', 'G', 'Q', 'B', 'A', 'E', 'H', 'R', 'O', 'R', 'H', 'Y', 'A', 'Y', 'B', 'P', 'Y', 'U', 'Y', 'H', 'P', 'D', 'R', 'P', 'T', 'I', 'O', 'V', 'U', 'P', 'T', 'B', 'Y', 'F', 'F', 'M', 'P', 'U', 'V', 'W', 'D', 'A', 'M', 'T', 'Y', 'N', 'O', 'O', 'M', 'L', 'E', 'G', 'S', 'Q', 'Q', 'Q', 'N', 'A', 'W', 'W', 'B', 'T', 'N', 'A', 'P', 'A', 'V', 'A', 'N', 'T', 'E', 'L', 'Y', 'G', 'S', 'G', 'E', 'V', 'L', 'H', 'Y', 'S', 'U', 'W', 'W', 'G', 'V', 'V', 'L', 'V', 'T', 'H', 'K', 'D', 'D', 'S', 'H', 'M', 'Q', 'S', 'R', 'T', 'N', 'V', 'B', 'A', 'S', 'A', 'R', 'K', 'Q', 'D', 'L', 'A', 'R', 'T', 'B', 'G', 'I', 'S', 'B', 'R', 'K', 'I', 'Y', 'E', 'F', 'M', 'K', 'P', 'O', 'F', 'I', 'I', 'S', 'G', 'A', 'D', 'G', 'U', 'N', 'A', 'T', 'N', 'T', 'A', 'L', 'M', 'G', 'M', 'S', 'V', 'M', 'O', 'A', 'M', 'E', 'E', 'V', 'D', 'Y', 'W', 'K', 'L', 'V', 'Q', 'R', 'P', 'P', 'R', 'Y', 'L', 'T', 'W', 'A', 'V', 'A', 'I', 'E', 'B', 'L', 'A', 'Y', 'B', 'L', 'D', 'L', 'N', 'F', 'H', 'Q', 'U', 'G', 'G', 'B', 'B', 'B', 'N', 'G', 'K', 'I', 'M', 'H', 'H', 'R', 'L', 'E', 'W', 'Y', 'B', 'V', 'Q', 'H', 'P', 'V', 'D', 'H', 'K', 'M', 'Q', 'G', 'Y', 'B', 'Q', 'D', 'L', 'G', 'N', 'E', 'S', 'N', 'D', 'D', 'B', 'O', 'H', 'I', 'S', 'G', 'M', 'R', 'O', 'E', 'R', 'U', 'G', 'D', 'L', 'Y', 'B', 'Y', 'Q', 'V', 'F', 'W', 'V', 'N', 'M', 'Y', 'E', 'Q', 'D', 'H', 'I', 'L', 'O', 'P', 'R', 'L', 'T', 'D', 'N', 'B', 'F', 'M', 'O', 'Y', 'G', 'B', 'A', 'U', 'G', 'P', 'F', 'H', 'H', 'W', 'B', 'Y', 'M', 'I', 'E', 'L', 'H', 'L', 'A', 'B', 'L', 'V', 'I', 'N', 'M', 'K', 'A', 'R', 'U', 'K', 'U', 'F', 'W', 'L', 'P', 'G', 'N', 'W', 'Y', 'M', 'O', 'Q', 'S', 'U', 'K', 'E', 'G', 'S', 'R', 'M', 'B', 'U', 'Y', 'P', 'F', 'U', 'E', 'V', 'L', 'H', 'O', 'B', 'Y', 'Q', 'Q', 'Q', 'U', 'Q', 'K', 'V', 'Q', 'R', 'P', 'M', 'N', 'M', 'W', 'R', 'H', 'E', 'I', 'H', 'M', 'O', 'L', 'T', 'E', 'U', 'G', 'G', 'W', 'N', 'L', 'D', 'U', 'E', 'F', 'N', 'F', 'I', 'O', 'A', 'Y', 'W', 'Y', 'Y', 'L', 'V', 'Q', 'R', 'L', 'G', 'T', 'I', 'I', 'A', 'Q', 'V', 'K', 'S', 'W', 'W', 'F', 'V', 'A', 'P', 'V', 'Q', 'A', 'A', 'B', 'A', 'A', 'F', 'T', 'G', 'F', 'G', 'G', 'O', 'I', 'M', 'S', 'V', 'Y', 'F', 'D', 'Q', 'T', 'N', 'S', 'R', 'N', 'S', 'P', 'O', 'Q', 'W', 'N', 'M', 'B', 'R', 'P', 'I']}\n"
     ]
    }
   ],
   "source": [
    "#3.b.ii\n",
    "alphabates_divs={\n",
    "    'a1':[],\n",
    "    'c1':[],\n",
    "    'c2':[]\n",
    "}\n",
    "for i in alphabates:\n",
    "    if i in ['A','E','I']:\n",
    "        alphabates_divs['a1'].append(i)\n",
    "    if i=='C' or i=='s' or i=='X' or i=='Z' or i=='J':\n",
    "        alphabates_divs['c1'].append(i)\n",
    "    else:\n",
    "        alphabates_divs['c2'].append(i)\n",
    "print(alphabates_divs)"
   ]
  },
  {
   "cell_type": "code",
   "execution_count": 18,
   "metadata": {},
   "outputs": [
    {
     "name": "stdout",
     "output_type": "stream",
     "text": [
      "126\n",
      "a1: ************\n",
      "162\n",
      "c1: ****************\n",
      "838\n",
      "c2: ***********************************************************************************\n"
     ]
    }
   ],
   "source": [
    "#3.b.iii\n",
    "for i in range(3):\n",
    "    k=list(alphabates_divs.keys())[i]\n",
    "    print(len(alphabates_divs[k]))\n",
    "    s='*' * (len(alphabates_divs[k])//10)\n",
    "    print(f'{k}: {s}')"
   ]
  },
  {
   "cell_type": "code",
   "execution_count": 19,
   "metadata": {},
   "outputs": [],
   "source": [
    "############################(4)#############################"
   ]
  },
  {
   "cell_type": "code",
   "execution_count": 20,
   "metadata": {},
   "outputs": [
    {
     "name": "stdout",
     "output_type": "stream",
     "text": [
      "[['one', 'two', 'three'], [5, 'z', 8], [2, 'q', 9], [7, 3, 'n'], [1, 6, 'm']]\n"
     ]
    }
   ],
   "source": [
    "#4.a\n",
    "A={'one': [5,2,7,1], 'two': ('z','q',3,6), 'three': {8,9,'m','n'}}\n",
    "keys=list(A.keys())\n",
    "values=list(A.values())\n",
    "B=[]\n",
    "for i in range(len(A)):\n",
    "    A[keys[i]]=list(values[i])\n",
    "# print(A)\n",
    "for i in range(len(A['one'])+1): #+1 for key\n",
    "    B.append([])\n",
    "\n",
    "for i in range(len(A)):\n",
    "    B[0].append(keys[i])\n",
    "for i in range(len(A)):\n",
    "    for j in range(1,len(B)):#\n",
    "        B[j].append( A[keys[i]][j-1])\n",
    "print(B)"
   ]
  },
  {
   "cell_type": "code",
   "execution_count": 21,
   "metadata": {},
   "outputs": [
    {
     "data": {
      "text/plain": [
       "[2, 3, 4, 56, 100, 102, 103]"
      ]
     },
     "execution_count": 21,
     "metadata": {},
     "output_type": "execute_result"
    }
   ],
   "source": [
    "#4.b\n",
    "def correct_insertion(s_list,x):\n",
    "    for i in range(len(s_list)):\n",
    "        if x<=s_list[i]:\n",
    "            s_list.insert(i,x)\n",
    "            break\n",
    "        if x>max(s_list):\n",
    "            s_list.insert(len(s_list),x)\n",
    "    return s_list\n",
    "\n",
    "correct_insertion([2,3,4,56,100,102],103)"
   ]
  },
  {
   "cell_type": "code",
   "execution_count": 22,
   "metadata": {},
   "outputs": [
    {
     "ename": "ValueError",
     "evalue": "invalid literal for int() with base 10: ''",
     "output_type": "error",
     "traceback": [
      "\u001b[1;31m---------------------------------------------------------------------------\u001b[0m",
      "\u001b[1;31mValueError\u001b[0m                                Traceback (most recent call last)",
      "\u001b[1;32mc:\\Users\\biswajit\\Downloads\\RKMVERI\\Desktop\\RKMVERI\\IPYTHONNOTEBOOK\\pds_mid_term\\Biswajit_midterm_sol.ipynb Cell 22\u001b[0m line \u001b[0;36m2\n\u001b[0;32m     <a href='vscode-notebook-cell:/c%3A/Users/biswajit/Downloads/RKMVERI/Desktop/RKMVERI/IPYTHONNOTEBOOK/pds_mid_term/Biswajit_midterm_sol.ipynb#X30sZmlsZQ%3D%3D?line=20'>21</a>\u001b[0m \u001b[39mwhile\u001b[39;00m check:\n\u001b[0;32m     <a href='vscode-notebook-cell:/c%3A/Users/biswajit/Downloads/RKMVERI/Desktop/RKMVERI/IPYTHONNOTEBOOK/pds_mid_term/Biswajit_midterm_sol.ipynb#X30sZmlsZQ%3D%3D?line=21'>22</a>\u001b[0m     list_1\u001b[39m=\u001b[39m[\u001b[39m2\u001b[39m,\u001b[39m3\u001b[39m,\u001b[39m4\u001b[39m,\u001b[39m56\u001b[39m,\u001b[39m100\u001b[39m,\u001b[39m102\u001b[39m]\n\u001b[1;32m---> <a href='vscode-notebook-cell:/c%3A/Users/biswajit/Downloads/RKMVERI/Desktop/RKMVERI/IPYTHONNOTEBOOK/pds_mid_term/Biswajit_midterm_sol.ipynb#X30sZmlsZQ%3D%3D?line=22'>23</a>\u001b[0m     number\u001b[39m=\u001b[39m\u001b[39mint\u001b[39;49m(\u001b[39minput\u001b[39;49m(\u001b[39m\"\u001b[39;49m\u001b[39mthe value to be inserted is  \u001b[39;49m\u001b[39m\"\u001b[39;49m))\n\u001b[0;32m     <a href='vscode-notebook-cell:/c%3A/Users/biswajit/Downloads/RKMVERI/Desktop/RKMVERI/IPYTHONNOTEBOOK/pds_mid_term/Biswajit_midterm_sol.ipynb#X30sZmlsZQ%3D%3D?line=23'>24</a>\u001b[0m     ins\u001b[39m=\u001b[39mcorrect_insertion(list_1,number)\n\u001b[0;32m     <a href='vscode-notebook-cell:/c%3A/Users/biswajit/Downloads/RKMVERI/Desktop/RKMVERI/IPYTHONNOTEBOOK/pds_mid_term/Biswajit_midterm_sol.ipynb#X30sZmlsZQ%3D%3D?line=24'>25</a>\u001b[0m     \u001b[39mif\u001b[39;00m ins \u001b[39m==\u001b[39m sorting(ins):\n",
      "\u001b[1;31mValueError\u001b[0m: invalid literal for int() with base 10: ''"
     ]
    }
   ],
   "source": [
    "#4.b\n",
    "def correct_insertion(s_list,x):\n",
    "    for i in range(len(s_list)):\n",
    "        if x<=s_list[i]:\n",
    "            s_list.insert(i,x)\n",
    "            break\n",
    "        if x>max(s_list):\n",
    "            s_list.insert(len(s_list),x)\n",
    "    return s_list\n",
    "\n",
    "\n",
    "def sorting(list_4):\n",
    "    for i in range(len(list_4)-1): \n",
    "        for j in range(len(list_4)-i-1): \n",
    "            if list_4[j]>list_4[j+1]:     \n",
    "                list_4[j],list_4[j+1]=list_4[j+1],list_4[j] \n",
    "    return list_4\n",
    "    \n",
    "\n",
    "check=1\n",
    "while check:\n",
    "    list_1=[2,3,4,56,100,102]\n",
    "    number=int(input(\"the value to be inserted is  \"))\n",
    "    ins=correct_insertion(list_1,number)\n",
    "    if ins == sorting(ins):\n",
    "        print(f\"{number} inserted correctly in list [2,3,4,56,100,102] : {ins}\")\n",
    "    else:\n",
    "        print(\"not Correct\")\n",
    "    check=int(input(\"Enter 1 for keep going 0 for termination\"))"
   ]
  },
  {
   "cell_type": "code",
   "execution_count": null,
   "metadata": {},
   "outputs": [],
   "source": []
  }
 ],
 "metadata": {
  "kernelspec": {
   "display_name": "Python 3",
   "language": "python",
   "name": "python3"
  },
  "language_info": {
   "codemirror_mode": {
    "name": "ipython",
    "version": 3
   },
   "file_extension": ".py",
   "mimetype": "text/x-python",
   "name": "python",
   "nbconvert_exporter": "python",
   "pygments_lexer": "ipython3",
   "version": "3.10.5"
  },
  "orig_nbformat": 4
 },
 "nbformat": 4,
 "nbformat_minor": 2
}
