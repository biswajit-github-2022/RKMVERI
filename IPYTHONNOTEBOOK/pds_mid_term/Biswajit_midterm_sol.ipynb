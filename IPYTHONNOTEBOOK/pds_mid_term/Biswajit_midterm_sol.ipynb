{
 "cells": [
  {
   "cell_type": "code",
   "execution_count": 2,
   "metadata": {},
   "outputs": [],
   "source": [
    "#######################( 1 )###########################"
   ]
  },
  {
   "cell_type": "code",
   "execution_count": 3,
   "metadata": {},
   "outputs": [
    {
     "name": "stdout",
     "output_type": "stream",
     "text": [
      "(2, 4, 'hi', False, True)\n"
     ]
    }
   ],
   "source": [
    "#1.a\n",
    "t=tuple((2,4,'hi',False,True))\n",
    "print(t)"
   ]
  },
  {
   "cell_type": "code",
   "execution_count": 4,
   "metadata": {},
   "outputs": [
    {
     "name": "stdout",
     "output_type": "stream",
     "text": [
      "[2, 4, 'hi', False, True]\n"
     ]
    }
   ],
   "source": [
    "#1.b\n",
    "l=list(t)\n",
    "print(l)"
   ]
  },
  {
   "cell_type": "code",
   "execution_count": 5,
   "metadata": {},
   "outputs": [
    {
     "name": "stdout",
     "output_type": "stream",
     "text": [
      "[2, 4, 'hi', False, True, 'hello']\n"
     ]
    }
   ],
   "source": [
    "#1.c\n",
    "l.append('hello')\n",
    "print(l)"
   ]
  },
  {
   "cell_type": "code",
   "execution_count": 6,
   "metadata": {},
   "outputs": [
    {
     "data": {
      "text/plain": [
       "[2, 4, 'hi', False, True, 'hello', 6, 7]"
      ]
     },
     "execution_count": 6,
     "metadata": {},
     "output_type": "execute_result"
    }
   ],
   "source": [
    "# 1.d\n",
    "l1=list([6,7])\n",
    "l2=l+l1\n",
    "l2"
   ]
  },
  {
   "cell_type": "code",
   "execution_count": 7,
   "metadata": {},
   "outputs": [
    {
     "name": "stdout",
     "output_type": "stream",
     "text": [
      "nation\n",
      "nation\n"
     ]
    }
   ],
   "source": [
    "# 1.e\n",
    "strng='examination'\n",
    "#positive indices\n",
    "sp=strng[5:]\n",
    "print(sp)\n",
    "#negetive indices\n",
    "sn=strng[-6:]\n",
    "print(sp)"
   ]
  },
  {
   "cell_type": "code",
   "execution_count": 8,
   "metadata": {},
   "outputs": [
    {
     "data": {
      "text/plain": [
       "{2, 4, 6, 7, False, True, 'hello', 'hi'}"
      ]
     },
     "execution_count": 8,
     "metadata": {},
     "output_type": "execute_result"
    }
   ],
   "source": [
    "# 1.f\n",
    "s=set(l2)\n",
    "s"
   ]
  },
  {
   "cell_type": "code",
   "execution_count": 9,
   "metadata": {},
   "outputs": [
    {
     "name": "stdout",
     "output_type": "stream",
     "text": [
      "[12, 8, 28, 20, 16]\n"
     ]
    }
   ],
   "source": [
    "# 1.g\n",
    "l3=[3,2,7,5,4]\n",
    "for i in range(len(l3)):\n",
    "    l3[i]=l3[i]*4\n",
    "print(l3)\n"
   ]
  },
  {
   "cell_type": "code",
   "execution_count": 10,
   "metadata": {},
   "outputs": [
    {
     "name": "stdout",
     "output_type": "stream",
     "text": [
      "[25, 40, 45, 15, 25]\n"
     ]
    }
   ],
   "source": [
    "# 1.h\n",
    "l4=[5,8,9,3,5]\n",
    "i=0\n",
    "while i<len(l4):\n",
    "    l4[i]*=5\n",
    "    i+=1\n",
    "print(l4)"
   ]
  },
  {
   "cell_type": "code",
   "execution_count": 11,
   "metadata": {},
   "outputs": [
    {
     "name": "stdout",
     "output_type": "stream",
     "text": [
      "{'a': 'apple', 'o': 'orange', 'p': 'pineapple', 'b': 'banana'}\n"
     ]
    }
   ],
   "source": [
    "# 1.i\n",
    "fruits=['apple','orange','pineapple','banana']\n",
    "fruit_dict={}\n",
    "for i in range(len(fruits)):\n",
    "    fruit_dict[fruits[i][0]]=fruits[i]\n",
    "print(fruit_dict)"
   ]
  },
  {
   "cell_type": "code",
   "execution_count": 12,
   "metadata": {},
   "outputs": [
    {
     "name": "stdout",
     "output_type": "stream",
     "text": [
      "74\n"
     ]
    }
   ],
   "source": [
    "# 1.j\n",
    "l5=[12,4,56,76,78,34,5,6,9]\n",
    "minimum=min(l5)\n",
    "maximum=max(l5)\n",
    "range_of_l5=maximum-minimum\n",
    "print(range_of_l5)"
   ]
  },
  {
   "cell_type": "code",
   "execution_count": 13,
   "metadata": {},
   "outputs": [],
   "source": [
    "####################(2)#########################"
   ]
  },
  {
   "cell_type": "code",
   "execution_count": 99,
   "metadata": {},
   "outputs": [
    {
     "name": "stdout",
     "output_type": "stream",
     "text": [
      "['1.', 'a. Create an tuple of 5 literal elements - 2 numbers, 1 string and 2 boolean.', 'b. Convert the tuple created in previous question into a list', 'c. Add a new element to the list from the previous step.', 'd. create a new list of 2 literal elements and add the contents from this new list to the list from the earlier questions such that the updated list is now made up of 7 literal elements.', \"e. given a string - 'examination' extract the substring 'nation' using two ways - using positive indices and negative indices.\", 'f. using the list created in fourth sub-part select the alternative elements and create a new set from these selected elements. ', 'g. create a for loop to multiply the elements of a list with any number so that the original list is updated. ', 'h. create a while loop to multiply the elements of a list with any number so that the original list is updated. ', 'i. create a dictionary so that the keys are first letter of a fruit name and the values are the corresponding fruit names.', 'j. given a list of integers find the statistical range (difference of the largest number and smallest number) of the numbers in the list using some of the built-in functions.', '', '', '2. ', 'Using the provided text file bda23_25_midterm.txt do the following:', 'a. find the count of all the vowels (a,e,i,o,u)', 'b. find the count of all the words (anything separated by space is a word).', 'c. arrange the words in descending order of counts.', '', '3.', '(a)', 'Create a function that receives a tuple and a number as two parameters. The function returns a tuple with the contents of the tuple it received as one of the parameters multiplied by the number it received as the other parameter.', '(b)', 'chr() function in python provides converts an ASCII code into the corresponding ASCII character. Numbers frm 65 to 90 generate from A to Z. Do the following:', 'i) Use this function to generate a random collection of 1000 alphabets. ', 'ii) Categorise the alpabhet collection into 3 categories a1, c1 and c2 and put them into an appropriate dictionary based data structure. All the vowels A,E,I,O,U go to a1, C, S, X, Z, J go to c1 and rest go to c2. ', 'iii) print a report where on each line the frequency count is shown as stars beside the category labels (see sample report below):', 'a1 ****************', 'c1 ***********************', 'c2 *************************************************************', '', '', '4.', '(a)', 'Convert the following python datastructure A into datastructure B given below programmatically:', \"A = {'one': [5,2,7,1], 'two': ('z','q',3,6), 'three': {8,9,'m','n'}}\", \"B = [['one','two','three'], [5,'z',8],[2,'q',9],[7,3,'m'],[1,6,'n']]\", '(b)', 'Write a function that accepts two parameters (a list of sorted numbers and a value to be inserted into the list). The function inserts the second parameter in the correct location in the sorted list. Demonstrate the correctness of the function for all the following test cases:', 'test case 1: sorted list having values 2,3,4,56,100,102 in that order and the value to be inserted is 1', 'test case 2: sorted list having values 2,3,4,56,100,102 in that order and the value to be inserted is 2', 'test case 3: sorted list having values 2,3,4,56,100,102 in that order and the value to be inserted is 5', 'test case 4: sorted list having values 2,3,4,56,100,102 in that order and the value to be inserted is 10', 'test case 5: sorted list having values 2,3,4,56,100,102 in that order and the value to be inserted is 101', 'test case 6: sorted list having values 2,3,4,56,100,102 in that order and the value to be inserted is 102', 'test case 7: sorted list having values 2,3,4,56,100,102 in that order and the value to be inserted is 103']\n",
      "Number of vowels = 952\n",
      "Number of words = 585\n",
      "['the', 'a', 'list', 'to', 'and', 'of', 'in', 'that', 'is', 'sorted', 'value', 'values', 'inserted', 'be', 'order', 'function', '2,3,4,56,100,102', 'case', 'having', 'into', 'create', 'from', 'number', 'tuple', 'elements', 'new', 'as', 'using', 'so', 'all', 'literal', 'go', '-', 'find', 'with', 'count', 'two', 'given', 'an', '2', 'contents', 'created', 'A', 'generate', 'vowels', 'this', 'c1', 'words', 'are', 'collection', 'for', 'multiply', 'a1,', 'report', 'loop', 'ASCII', 'received', 'numbers', 'corresponding', 'any', 'it', 'string', 'by', 'python', '=', 'dictionary', 'original', 'updated.', 'parameters', 'datastructure', 'following', 'The', 'previous', 'fruit', 'Add', 'text', 'random', \"{8,9,'m','n'}}B\", 'B', '3:', 'descending', 'i.', 'correct', 'list).', 'following:i)', 'alternative', '65', 'C,', 'frm', 'Numbers', 'element', 'other', 'where', 'list.', 'rest', 'g.', 'keys', 'character.', '90', 'indices.f.', 'them', 'boolean.b.', '*************************************************************4.(a)Convert', '103', 'now', 'first', '(a,e,i,o,u)b.', 'category', 'smallest', 'parameters.', 'following:a.', 'Z,', \"[5,'z',8],[2,'q',9],[7,3,'m'],[1,6,'n']](b)Write\", 'set', 'question', 'receives', '7:', 'listc.', 'code', 'built-in', \"'three':\", 'alpabhet', 'multiplied', 'returns', 'stars', 'largest', 'on', 'one', 'extract', 'made', 'earlier', 'based', '4:', 'second', 'test', 'frequency', \"[['one','two','three'],\", '5', 'word).c.', 'A,E,I,O,U', '1:', '1.a.', 'substring', 'beside', 'Use', \"'two':\", 'bda23_25_midterm.txt', '2:', 'correctness', '6:', '1', 'line', 'Using', '102test', '***********************c2', 'provided', 'each', 'alphabets.', 'integers', 'letter', 'sub-part', 'step.d.', 'functions.2.', 'separated', 'name', '5test', '(a', 'below):a1', '(anything', 'Convert', 'labels', 'space', 'indices', 'file', 'J', 'appropriate', \"'examination'\", 'Demonstrate', 'negative', 'shown', 'counts.3.(a)Create', 'X,', 'provides', '5:', 'selected', 'S,', 'elements.', 'such', 'put', 'questions', 'categories', 'cases:test', 'ways', 'print', \"'nation'\", '1test', 'positive', 'fourth', 'do', 'ii)', 'c2', 'Create', 'converts', 'Categorise', 'parameter', 'updated', 'while', 'select', '10test', 'Z.', 'below', '3', \"('z','q',3,6),\", '101test', '[5,2,7,1],', 'structure.', 'sample', 'location', 'parameter.(b)chr()', 'elements.e.', '1000', 'Do', '2test', '****************c1', 'some', 'accepts', 'these', 'All', 'add', '(see', 'names.j.', 'arrange', 'numbers,', 'c2.', 'data', 'iii)', 'up', 'programmatically:A', '7', 'range', 'number)', 'h.', 'inserts', \"{'one':\", '(difference', 'statistical']\n"
     ]
    }
   ],
   "source": [
    "#2.a\n",
    "with open('bda23_25_midterm.txt',mode='r', encoding='utf-8') as f:\n",
    "    lines = f.readlines()\n",
    "    l = [line.strip('\\n') for line in lines]\n",
    "    # print(l)\n",
    "s=''\n",
    "for item in l:\n",
    "    s=s+item\n",
    "vowel_count=0\n",
    "for i in s:\n",
    "    if i in ['a','e','i','o','u']:\n",
    "        vowel_count+=1\n",
    "print(f'Number of vowels = {vowel_count}')\n",
    "\n",
    "\n",
    "###\n",
    "#2.b\n",
    "word_list=s.split(\" \")\n",
    "print(f'Number of words = {len(word_list)}')\n",
    "\n",
    "\n",
    "###\n",
    "# 2.c\n",
    "pair=[]\n",
    "descending_order_word_list=[]\n",
    "\n",
    "\n",
    "# print(word_list)\n",
    "unique_word_list=list(set(word_list))\n",
    "\n",
    "for word in unique_word_list:\n",
    "    pair.append((word_list.count(word),word))\n",
    "pair.sort(key=lambda x: x[0],reverse=True)\n",
    "for i in pair:\n",
    "    descending_order_word_list.append(i[1])\n",
    "print(descending_order_word_list)\n",
    "\n",
    "    \n",
    "    "
   ]
  },
  {
   "cell_type": "code",
   "execution_count": 15,
   "metadata": {},
   "outputs": [],
   "source": [
    "####################(3)#########################"
   ]
  },
  {
   "cell_type": "code",
   "execution_count": 37,
   "metadata": {},
   "outputs": [
    {
     "name": "stdout",
     "output_type": "stream",
     "text": [
      "(5, 10, 15)\n"
     ]
    }
   ],
   "source": [
    "# 3.a\n",
    "def tuple_scalar_multiplier(t,a):\n",
    "    tup_list=list(t)\n",
    "    for i in range(len(tup_list)):\n",
    "        tup_list[i]*=a\n",
    "    return tuple(tup_list)\n",
    "print(tuple_scalar_multiplier((1,2,3),5))"
   ]
  },
  {
   "cell_type": "code",
   "execution_count": 55,
   "metadata": {},
   "outputs": [
    {
     "name": "stdout",
     "output_type": "stream",
     "text": [
      "['K', 'W', 'T', 'S', 'N', 'C', 'L', 'T', 'I', 'X', 'W', 'G', 'F', 'N', 'T', 'M', 'F', 'C', 'M', 'Y', 'U', 'Y', 'T', 'T', 'P', 'U', 'T', 'S', 'T', 'I', 'E', 'J', 'A', 'R', 'P', 'O', 'Z', 'T', 'S', 'U', 'S', 'N', 'B', 'O', 'U', 'O', 'X', 'S', 'P', 'W', 'F', 'O', 'Q', 'R', 'F', 'E', 'J', 'P', 'V', 'J', 'T', 'I', 'I', 'D', 'Q', 'Y', 'K', 'F', 'V', 'M', 'P', 'U', 'H', 'J', 'M', 'T', 'I', 'B', 'C', 'B', 'V', 'Z', 'Y', 'E', 'N', 'I', 'P', 'C', 'D', 'H', 'I', 'P', 'J', 'B', 'G', 'M', 'Z', 'I', 'F', 'K', 'M', 'X', 'O', 'I', 'U', 'N', 'B', 'L', 'M', 'R', 'X', 'N', 'W', 'M', 'W', 'D', 'K', 'D', 'L', 'T', 'F', 'M', 'G', 'O', 'V', 'B', 'O', 'V', 'Q', 'K', 'S', 'M', 'T', 'H', 'J', 'T', 'R', 'K', 'M', 'C', 'G', 'G', 'Y', 'M', 'A', 'V', 'D', 'B', 'N', 'W', 'J', 'R', 'U', 'Q', 'T', 'K', 'E', 'W', 'P', 'Q', 'F', 'O', 'Q', 'M', 'B', 'U', 'N', 'S', 'Q', 'Q', 'M', 'F', 'M', 'L', 'E', 'Q', 'P', 'R', 'H', 'P', 'P', 'G', 'D', 'O', 'R', 'O', 'Z', 'I', 'A', 'K', 'T', 'H', 'V', 'H', 'D', 'M', 'S', 'H', 'A', 'E', 'G', 'T', 'T', 'H', 'V', 'F', 'U', 'A', 'Z', 'J', 'L', 'X', 'L', 'I', 'Z', 'Q', 'D', 'B', 'B', 'I', 'N', 'G', 'H', 'D', 'G', 'O', 'F', 'B', 'F', 'O', 'V', 'L', 'W', 'S', 'L', 'T', 'I', 'H', 'D', 'Z', 'Z', 'F', 'P', 'L', 'E', 'E', 'G', 'Y', 'E', 'P', 'E', 'I', 'H', 'I', 'D', 'U', 'H', 'V', 'V', 'J', 'A', 'B', 'E', 'C', 'S', 'J', 'I', 'V', 'S', 'I', 'W', 'W', 'M', 'G', 'F', 'L', 'K', 'O', 'X', 'U', 'U', 'V', 'H', 'G', 'W', 'P', 'J', 'O', 'N', 'L', 'E', 'H', 'P', 'X', 'D', 'U', 'N', 'Y', 'N', 'D', 'N', 'J', 'F', 'Y', 'M', 'Z', 'T', 'M', 'K', 'A', 'D', 'A', 'Q', 'T', 'I', 'U', 'O', 'D', 'W', 'F', 'F', 'P', 'B', 'V', 'I', 'K', 'G', 'M', 'D', 'Y', 'M', 'I', 'E', 'H', 'D', 'V', 'Y', 'Y', 'K', 'J', 'X', 'U', 'I', 'Z', 'N', 'K', 'Q', 'H', 'W', 'P', 'P', 'G', 'I', 'J', 'T', 'P', 'K', 'W', 'Y', 'W', 'R', 'B', 'H', 'Y', 'O', 'A', 'F', 'C', 'U', 'O', 'Z', 'Q', 'H', 'I', 'A', 'C', 'L', 'J', 'E', 'X', 'K', 'N', 'J', 'T', 'G', 'H', 'S', 'B', 'U', 'U', 'M', 'U', 'I', 'C', 'K', 'E', 'I', 'M', 'N', 'M', 'H', 'J', 'N', 'T', 'N', 'Q', 'I', 'O', 'A', 'M', 'H', 'P', 'X', 'T', 'K', 'V', 'B', 'P', 'C', 'E', 'O', 'H', 'W', 'D', 'E', 'F', 'M', 'O', 'R', 'U', 'F', 'S', 'F', 'P', 'L', 'S', 'A', 'M', 'Z', 'A', 'J', 'E', 'K', 'L', 'C', 'Y', 'Z', 'I', 'E', 'Z', 'F', 'Q', 'I', 'R', 'N', 'G', 'I', 'X', 'V', 'P', 'W', 'Y', 'L', 'Z', 'B', 'C', 'H', 'I', 'V', 'K', 'Q', 'T', 'W', 'D', 'O', 'D', 'T', 'W', 'M', 'R', 'G', 'V', 'C', 'I', 'W', 'V', 'I', 'S', 'O', 'K', 'T', 'U', 'O', 'A', 'F', 'H', 'I', 'Z', 'G', 'M', 'I', 'F', 'O', 'L', 'J', 'Z', 'Z', 'R', 'L', 'C', 'P', 'Q', 'Y', 'O', 'B', 'X', 'Z', 'D', 'E', 'F', 'D', 'D', 'X', 'M', 'K', 'H', 'C', 'R', 'J', 'B', 'Y', 'U', 'C', 'G', 'C', 'H', 'T', 'V', 'Q', 'P', 'E', 'E', 'D', 'D', 'X', 'U', 'R', 'U', 'I', 'Z', 'J', 'X', 'C', 'M', 'S', 'M', 'H', 'B', 'M', 'A', 'B', 'I', 'E', 'V', 'V', 'P', 'J', 'Z', 'L', 'Q', 'O', 'Z', 'N', 'G', 'S', 'P', 'E', 'N', 'A', 'Q', 'G', 'O', 'R', 'E', 'B', 'L', 'K', 'G', 'B', 'Y', 'S', 'W', 'H', 'Y', 'V', 'Z', 'D', 'O', 'P', 'L', 'Z', 'X', 'X', 'P', 'Z', 'Z', 'T', 'V', 'R', 'E', 'U', 'A', 'N', 'A', 'M', 'G', 'M', 'W', 'F', 'H', 'Y', 'Q', 'E', 'X', 'Z', 'G', 'O', 'C', 'X', 'T', 'Q', 'U', 'D', 'O', 'U', 'H', 'V', 'W', 'K', 'D', 'B', 'J', 'O', 'A', 'X', 'J', 'T', 'F', 'A', 'O', 'H', 'H', 'M', 'J', 'L', 'J', 'N', 'F', 'O', 'I', 'L', 'U', 'U', 'I', 'P', 'G', 'N', 'J', 'N', 'I', 'E', 'H', 'W', 'Z', 'Y', 'N', 'C', 'C', 'B', 'U', 'Z', 'B', 'N', 'B', 'F', 'P', 'H', 'W', 'J', 'R', 'F', 'G', 'G', 'Y', 'C', 'K', 'R', 'W', 'K', 'N', 'Q', 'Z', 'F', 'U', 'M', 'T', 'Y', 'B', 'Z', 'B', 'F', 'D', 'N', 'T', 'H', 'R', 'Q', 'Q', 'C', 'T', 'I', 'D', 'Y', 'Z', 'G', 'K', 'L', 'V', 'N', 'S', 'R', 'U', 'N', 'T', 'X', 'S', 'T', 'B', 'Q', 'F', 'V', 'D', 'C', 'B', 'G', 'R', 'N', 'P', 'J', 'O', 'I', 'D', 'H', 'M', 'S', 'Q', 'K', 'Z', 'L', 'I', 'O', 'C', 'S', 'J', 'C', 'K', 'R', 'A', 'M', 'W', 'M', 'Q', 'U', 'P', 'W', 'B', 'E', 'I', 'E', 'Q', 'K', 'R', 'T', 'U', 'I', 'B', 'I', 'L', 'P', 'O', 'Q', 'Y', 'B', 'U', 'Q', 'A', 'B', 'T', 'Z', 'V', 'H', 'X', 'X', 'J', 'E', 'B', 'L', 'O', 'X', 'X', 'P', 'K', 'G', 'K', 'M', 'T', 'O', 'M', 'Q', 'W', 'J', 'Y', 'F', 'C', 'M', 'P', 'D', 'Q', 'E', 'C', 'D', 'H', 'R', 'F', 'P', 'D', 'P', 'A', 'O', 'F', 'C', 'N', 'E', 'P', 'W', 'E', 'G', 'X', 'M', 'V', 'P', 'G', 'P', 'F', 'U', 'H', 'T', 'S', 'H', 'K', 'X', 'Q', 'L', 'Q', 'I', 'B', 'I', 'A', 'O', 'K', 'D', 'U', 'Q', 'B', 'D', 'C', 'A', 'K', 'D', 'N', 'I', 'D', 'C', 'P', 'T', 'P', 'C', 'Y', 'V', 'T', 'O', 'N', 'E', 'S', 'K', 'H', 'Y', 'K', 'Y', 'X', 'Q', 'N', 'Z', 'W', 'R', 'A', 'H', 'M', 'G', 'K', 'W', 'L', 'S', 'O', 'C', 'Q', 'T', 'S', 'X', 'L', 'F', 'K', 'T', 'W', 'J', 'H', 'B', 'E', 'M', 'K', 'W', 'B', 'T', 'D', 'S', 'Z', 'Q', 'G', 'C', 'Y', 'G', 'M', 'U', 'H', 'S', 'L', 'Y', 'U', 'D', 'W', 'Q', 'X', 'G', 'I', 'R', 'L', 'I', 'I', 'A', 'D', 'Z', 'I', 'K', 'T', 'H', 'L', 'D', 'I', 'L', 'C', 'Q', 'S', 'S', 'A', 'L', 'O', 'X', 'L', 'U', 'L', 'U', 'K', 'N', 'F', 'W', 'V', 'S', 'E', 'V', 'K', 'S', 'O', 'O', 'H', 'R', 'G', 'D', 'D', 'P', 'Q']\n"
     ]
    }
   ],
   "source": [
    "#3.b.i\n",
    "import random\n",
    "alphabates=[]\n",
    "for i in range(1000):\n",
    "    alphabates.append(chr(random.randint(65,90)))\n",
    "print(alphabates)"
   ]
  },
  {
   "cell_type": "code",
   "execution_count": 56,
   "metadata": {},
   "outputs": [
    {
     "name": "stdout",
     "output_type": "stream",
     "text": [
      "{'a1': ['I', 'I', 'E', 'A', 'E', 'I', 'I', 'I', 'E', 'I', 'I', 'I', 'I', 'A', 'E', 'E', 'I', 'A', 'A', 'E', 'A', 'I', 'I', 'I', 'E', 'E', 'E', 'E', 'I', 'I', 'A', 'E', 'I', 'I', 'E', 'A', 'A', 'I', 'I', 'I', 'E', 'I', 'I', 'A', 'I', 'A', 'E', 'I', 'E', 'I', 'I', 'A', 'E', 'E', 'A', 'A', 'E', 'I', 'E', 'I', 'I', 'I', 'I', 'I', 'A', 'I', 'I', 'E', 'E', 'E', 'I', 'A', 'I', 'E', 'E', 'A', 'E', 'E', 'A', 'A', 'E', 'A', 'A', 'I', 'I', 'I', 'E', 'I', 'I', 'I', 'A', 'E', 'I', 'E', 'I', 'I', 'A', 'E', 'E', 'A', 'E', 'E', 'I', 'I', 'A', 'A', 'I', 'E', 'A', 'E', 'I', 'I', 'I', 'A', 'I', 'I', 'A', 'E'], 'c1': ['C', 'X', 'C', 'J', 'Z', 'X', 'J', 'J', 'J', 'C', 'Z', 'C', 'J', 'Z', 'X', 'X', 'J', 'C', 'J', 'Z', 'Z', 'J', 'X', 'Z', 'Z', 'Z', 'J', 'C', 'J', 'X', 'J', 'X', 'J', 'Z', 'J', 'X', 'Z', 'J', 'C', 'Z', 'C', 'J', 'X', 'J', 'C', 'J', 'X', 'C', 'Z', 'J', 'C', 'Z', 'Z', 'X', 'Z', 'C', 'C', 'Z', 'J', 'Z', 'Z', 'C', 'X', 'Z', 'X', 'C', 'J', 'C', 'C', 'X', 'Z', 'J', 'X', 'C', 'J', 'Z', 'Z', 'Z', 'Z', 'X', 'X', 'Z', 'Z', 'X', 'Z', 'C', 'X', 'J', 'X', 'J', 'J', 'J', 'J', 'Z', 'C', 'C', 'Z', 'J', 'C', 'Z', 'Z', 'C', 'Z', 'X', 'C', 'J', 'Z', 'C', 'J', 'C', 'Z', 'X', 'X', 'J', 'X', 'X', 'J', 'C', 'C', 'C', 'X', 'X', 'C', 'C', 'C', 'X', 'Z', 'C', 'X', 'J', 'Z', 'C', 'X', 'Z', 'C', 'X'], 'c2': ['K', 'W', 'T', 'S', 'N', 'L', 'T', 'I', 'W', 'G', 'F', 'N', 'T', 'M', 'F', 'M', 'Y', 'U', 'Y', 'T', 'T', 'P', 'U', 'T', 'S', 'T', 'I', 'E', 'A', 'R', 'P', 'O', 'T', 'S', 'U', 'S', 'N', 'B', 'O', 'U', 'O', 'S', 'P', 'W', 'F', 'O', 'Q', 'R', 'F', 'E', 'P', 'V', 'T', 'I', 'I', 'D', 'Q', 'Y', 'K', 'F', 'V', 'M', 'P', 'U', 'H', 'M', 'T', 'I', 'B', 'B', 'V', 'Y', 'E', 'N', 'I', 'P', 'D', 'H', 'I', 'P', 'B', 'G', 'M', 'I', 'F', 'K', 'M', 'O', 'I', 'U', 'N', 'B', 'L', 'M', 'R', 'N', 'W', 'M', 'W', 'D', 'K', 'D', 'L', 'T', 'F', 'M', 'G', 'O', 'V', 'B', 'O', 'V', 'Q', 'K', 'S', 'M', 'T', 'H', 'T', 'R', 'K', 'M', 'G', 'G', 'Y', 'M', 'A', 'V', 'D', 'B', 'N', 'W', 'R', 'U', 'Q', 'T', 'K', 'E', 'W', 'P', 'Q', 'F', 'O', 'Q', 'M', 'B', 'U', 'N', 'S', 'Q', 'Q', 'M', 'F', 'M', 'L', 'E', 'Q', 'P', 'R', 'H', 'P', 'P', 'G', 'D', 'O', 'R', 'O', 'I', 'A', 'K', 'T', 'H', 'V', 'H', 'D', 'M', 'S', 'H', 'A', 'E', 'G', 'T', 'T', 'H', 'V', 'F', 'U', 'A', 'L', 'L', 'I', 'Q', 'D', 'B', 'B', 'I', 'N', 'G', 'H', 'D', 'G', 'O', 'F', 'B', 'F', 'O', 'V', 'L', 'W', 'S', 'L', 'T', 'I', 'H', 'D', 'F', 'P', 'L', 'E', 'E', 'G', 'Y', 'E', 'P', 'E', 'I', 'H', 'I', 'D', 'U', 'H', 'V', 'V', 'A', 'B', 'E', 'S', 'I', 'V', 'S', 'I', 'W', 'W', 'M', 'G', 'F', 'L', 'K', 'O', 'U', 'U', 'V', 'H', 'G', 'W', 'P', 'O', 'N', 'L', 'E', 'H', 'P', 'D', 'U', 'N', 'Y', 'N', 'D', 'N', 'F', 'Y', 'M', 'T', 'M', 'K', 'A', 'D', 'A', 'Q', 'T', 'I', 'U', 'O', 'D', 'W', 'F', 'F', 'P', 'B', 'V', 'I', 'K', 'G', 'M', 'D', 'Y', 'M', 'I', 'E', 'H', 'D', 'V', 'Y', 'Y', 'K', 'U', 'I', 'N', 'K', 'Q', 'H', 'W', 'P', 'P', 'G', 'I', 'T', 'P', 'K', 'W', 'Y', 'W', 'R', 'B', 'H', 'Y', 'O', 'A', 'F', 'U', 'O', 'Q', 'H', 'I', 'A', 'L', 'E', 'K', 'N', 'T', 'G', 'H', 'S', 'B', 'U', 'U', 'M', 'U', 'I', 'K', 'E', 'I', 'M', 'N', 'M', 'H', 'N', 'T', 'N', 'Q', 'I', 'O', 'A', 'M', 'H', 'P', 'T', 'K', 'V', 'B', 'P', 'E', 'O', 'H', 'W', 'D', 'E', 'F', 'M', 'O', 'R', 'U', 'F', 'S', 'F', 'P', 'L', 'S', 'A', 'M', 'A', 'E', 'K', 'L', 'Y', 'I', 'E', 'F', 'Q', 'I', 'R', 'N', 'G', 'I', 'V', 'P', 'W', 'Y', 'L', 'B', 'H', 'I', 'V', 'K', 'Q', 'T', 'W', 'D', 'O', 'D', 'T', 'W', 'M', 'R', 'G', 'V', 'I', 'W', 'V', 'I', 'S', 'O', 'K', 'T', 'U', 'O', 'A', 'F', 'H', 'I', 'G', 'M', 'I', 'F', 'O', 'L', 'R', 'L', 'P', 'Q', 'Y', 'O', 'B', 'D', 'E', 'F', 'D', 'D', 'M', 'K', 'H', 'R', 'B', 'Y', 'U', 'G', 'H', 'T', 'V', 'Q', 'P', 'E', 'E', 'D', 'D', 'U', 'R', 'U', 'I', 'M', 'S', 'M', 'H', 'B', 'M', 'A', 'B', 'I', 'E', 'V', 'V', 'P', 'L', 'Q', 'O', 'N', 'G', 'S', 'P', 'E', 'N', 'A', 'Q', 'G', 'O', 'R', 'E', 'B', 'L', 'K', 'G', 'B', 'Y', 'S', 'W', 'H', 'Y', 'V', 'D', 'O', 'P', 'L', 'P', 'T', 'V', 'R', 'E', 'U', 'A', 'N', 'A', 'M', 'G', 'M', 'W', 'F', 'H', 'Y', 'Q', 'E', 'G', 'O', 'T', 'Q', 'U', 'D', 'O', 'U', 'H', 'V', 'W', 'K', 'D', 'B', 'O', 'A', 'T', 'F', 'A', 'O', 'H', 'H', 'M', 'L', 'N', 'F', 'O', 'I', 'L', 'U', 'U', 'I', 'P', 'G', 'N', 'N', 'I', 'E', 'H', 'W', 'Y', 'N', 'B', 'U', 'B', 'N', 'B', 'F', 'P', 'H', 'W', 'R', 'F', 'G', 'G', 'Y', 'K', 'R', 'W', 'K', 'N', 'Q', 'F', 'U', 'M', 'T', 'Y', 'B', 'B', 'F', 'D', 'N', 'T', 'H', 'R', 'Q', 'Q', 'T', 'I', 'D', 'Y', 'G', 'K', 'L', 'V', 'N', 'S', 'R', 'U', 'N', 'T', 'S', 'T', 'B', 'Q', 'F', 'V', 'D', 'B', 'G', 'R', 'N', 'P', 'O', 'I', 'D', 'H', 'M', 'S', 'Q', 'K', 'L', 'I', 'O', 'S', 'K', 'R', 'A', 'M', 'W', 'M', 'Q', 'U', 'P', 'W', 'B', 'E', 'I', 'E', 'Q', 'K', 'R', 'T', 'U', 'I', 'B', 'I', 'L', 'P', 'O', 'Q', 'Y', 'B', 'U', 'Q', 'A', 'B', 'T', 'V', 'H', 'E', 'B', 'L', 'O', 'P', 'K', 'G', 'K', 'M', 'T', 'O', 'M', 'Q', 'W', 'Y', 'F', 'M', 'P', 'D', 'Q', 'E', 'D', 'H', 'R', 'F', 'P', 'D', 'P', 'A', 'O', 'F', 'N', 'E', 'P', 'W', 'E', 'G', 'M', 'V', 'P', 'G', 'P', 'F', 'U', 'H', 'T', 'S', 'H', 'K', 'Q', 'L', 'Q', 'I', 'B', 'I', 'A', 'O', 'K', 'D', 'U', 'Q', 'B', 'D', 'A', 'K', 'D', 'N', 'I', 'D', 'P', 'T', 'P', 'Y', 'V', 'T', 'O', 'N', 'E', 'S', 'K', 'H', 'Y', 'K', 'Y', 'Q', 'N', 'W', 'R', 'A', 'H', 'M', 'G', 'K', 'W', 'L', 'S', 'O', 'Q', 'T', 'S', 'L', 'F', 'K', 'T', 'W', 'H', 'B', 'E', 'M', 'K', 'W', 'B', 'T', 'D', 'S', 'Q', 'G', 'Y', 'G', 'M', 'U', 'H', 'S', 'L', 'Y', 'U', 'D', 'W', 'Q', 'G', 'I', 'R', 'L', 'I', 'I', 'A', 'D', 'I', 'K', 'T', 'H', 'L', 'D', 'I', 'L', 'Q', 'S', 'S', 'A', 'L', 'O', 'L', 'U', 'L', 'U', 'K', 'N', 'F', 'W', 'V', 'S', 'E', 'V', 'K', 'S', 'O', 'O', 'H', 'R', 'G', 'D', 'D', 'P', 'Q']}\n"
     ]
    }
   ],
   "source": [
    "#3.b.ii\n",
    "alphabates_divs={\n",
    "    'a1':[],\n",
    "    'c1':[],\n",
    "    'c2':[]\n",
    "}\n",
    "for i in alphabates:\n",
    "    if i in ['A','E','I']:\n",
    "        alphabates_divs['a1'].append(i)\n",
    "    if i=='C' or i=='s' or i=='X' or i=='Z' or i=='J':\n",
    "        alphabates_divs['c1'].append(i)\n",
    "    else:\n",
    "        alphabates_divs['c2'].append(i)\n",
    "print(alphabates_divs)"
   ]
  },
  {
   "cell_type": "code",
   "execution_count": 57,
   "metadata": {},
   "outputs": [
    {
     "name": "stdout",
     "output_type": "stream",
     "text": [
      "118\n",
      "a1: ***********\n",
      "136\n",
      "c1: *************\n",
      "864\n",
      "c2: **************************************************************************************\n"
     ]
    }
   ],
   "source": [
    "#3.b.iii\n",
    "for i in range(3):\n",
    "    k=list(alphabates_divs.keys())[i]\n",
    "    print(len(alphabates_divs[k]))\n",
    "    s='*' * (len(alphabates_divs[k])//10)\n",
    "    print(f'{k}: {s}')"
   ]
  },
  {
   "cell_type": "code",
   "execution_count": 20,
   "metadata": {},
   "outputs": [],
   "source": [
    "############################(4)#############################"
   ]
  },
  {
   "cell_type": "code",
   "execution_count": 70,
   "metadata": {},
   "outputs": [
    {
     "name": "stdout",
     "output_type": "stream",
     "text": [
      "[['one', 'two', 'three'], [5, 'z', 8], [2, 'q', 9], [7, 3, 'm'], [1, 6, 'n']]\n"
     ]
    }
   ],
   "source": [
    "#4.a\n",
    "A={'one': [5,2,7,1], 'two': ('z','q',3,6), 'three': {8,9,'m','n'}}\n",
    "keys=list(A.keys())\n",
    "values=list(A.values())\n",
    "B=[]\n",
    "for i in range(len(A)):\n",
    "    A[keys[i]]=list(values[i])\n",
    "# print(A)\n",
    "for i in range(len(A['one'])+1): #+1 for key\n",
    "    B.append([])\n",
    "\n",
    "for i in range(len(A)):\n",
    "    B[0].append(keys[i])\n",
    "for i in range(len(A)):\n",
    "    for j in range(1,len(B)):#\n",
    "        B[j].append( A[keys[i]][j-1])\n",
    "print(B)"
   ]
  },
  {
   "cell_type": "code",
   "execution_count": 22,
   "metadata": {},
   "outputs": [
    {
     "data": {
      "text/plain": [
       "[2, 3, 4, 56, 100, 102, 103]"
      ]
     },
     "execution_count": 22,
     "metadata": {},
     "output_type": "execute_result"
    }
   ],
   "source": [
    "#4.b\n",
    "def correct_insertion(s_list,x):\n",
    "    for i in range(len(s_list)):\n",
    "        if x<=s_list[i]:\n",
    "            s_list.insert(i,x)\n",
    "            break\n",
    "        if x>max(s_list):\n",
    "            s_list.insert(len(s_list),x)\n",
    "    return s_list\n",
    "\n",
    "correct_insertion([2,3,4,56,100,102],103)"
   ]
  },
  {
   "cell_type": "code",
   "execution_count": 65,
   "metadata": {},
   "outputs": [
    {
     "name": "stdout",
     "output_type": "stream",
     "text": [
      "1 inserted correctly in list [2,3,4,56,100,102] : [1, 2, 3, 4, 56, 100, 102]\n",
      "2 inserted correctly in list [2,3,4,56,100,102] : [2, 2, 3, 4, 56, 100, 102]\n",
      "0 inserted correctly in list [2,3,4,56,100,102] : [0, 2, 3, 4, 56, 100, 102]\n"
     ]
    }
   ],
   "source": [
    "#4.b\n",
    "def correct_insertion(s_list,x):\n",
    "    for i in range(len(s_list)):\n",
    "        if x<=s_list[i]:\n",
    "            s_list.insert(i,x)\n",
    "            break\n",
    "        if x>max(s_list):\n",
    "            s_list.insert(len(s_list),x)\n",
    "    return s_list\n",
    "\n",
    "\n",
    "def sorting(list_4):\n",
    "    for i in range(len(list_4)-1): \n",
    "        for j in range(len(list_4)-i-1): \n",
    "            if list_4[j]>list_4[j+1]:     \n",
    "                list_4[j],list_4[j+1]=list_4[j+1],list_4[j] \n",
    "    return list_4\n",
    "    \n",
    "\n",
    "check=1\n",
    "while check:\n",
    "    list_1=[2,3,4,56,100,102]\n",
    "    number=int(input(\"the value to be inserted is  \"))\n",
    "    ins=correct_insertion(list_1,number)\n",
    "    if ins == sorting(ins):\n",
    "        print(f\"{number} inserted correctly in list [2,3,4,56,100,102] : {ins}\")\n",
    "    else:\n",
    "        print(\"not Correct\")\n",
    "    check=int(input(\"Enter 1 for keep going 0 for termination\"))"
   ]
  },
  {
   "cell_type": "code",
   "execution_count": null,
   "metadata": {},
   "outputs": [],
   "source": []
  }
 ],
 "metadata": {
  "kernelspec": {
   "display_name": "Python 3",
   "language": "python",
   "name": "python3"
  },
  "language_info": {
   "codemirror_mode": {
    "name": "ipython",
    "version": 3
   },
   "file_extension": ".py",
   "mimetype": "text/x-python",
   "name": "python",
   "nbconvert_exporter": "python",
   "pygments_lexer": "ipython3",
   "version": "3.10.5"
  },
  "orig_nbformat": 4
 },
 "nbformat": 4,
 "nbformat_minor": 2
}
