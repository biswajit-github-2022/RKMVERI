{
 "cells": [
  {
   "cell_type": "code",
   "execution_count": 101,
   "metadata": {},
   "outputs": [],
   "source": [
    "#######################( 1 )###########################"
   ]
  },
  {
   "cell_type": "code",
   "execution_count": 102,
   "metadata": {},
   "outputs": [
    {
     "name": "stdout",
     "output_type": "stream",
     "text": [
      "(2, 4, 'hi', False, True)\n"
     ]
    }
   ],
   "source": [
    "#1.a\n",
    "t=tuple((2,4,'hi',False,True))\n",
    "print(t)"
   ]
  },
  {
   "cell_type": "code",
   "execution_count": 103,
   "metadata": {},
   "outputs": [
    {
     "name": "stdout",
     "output_type": "stream",
     "text": [
      "[2, 4, 'hi', False, True]\n"
     ]
    }
   ],
   "source": [
    "#1.b\n",
    "l=list(t)\n",
    "print(l)"
   ]
  },
  {
   "cell_type": "code",
   "execution_count": 104,
   "metadata": {},
   "outputs": [
    {
     "name": "stdout",
     "output_type": "stream",
     "text": [
      "[2, 4, 'hi', False, True, 'hello']\n"
     ]
    }
   ],
   "source": [
    "#1.c\n",
    "l.append('hello')\n",
    "print(l)"
   ]
  },
  {
   "cell_type": "code",
   "execution_count": 105,
   "metadata": {},
   "outputs": [
    {
     "data": {
      "text/plain": [
       "[2, 4, 'hi', False, True, 'hello', 6, 7]"
      ]
     },
     "execution_count": 105,
     "metadata": {},
     "output_type": "execute_result"
    }
   ],
   "source": [
    "# 1.d\n",
    "l1=list([6,7])\n",
    "l2=l+l1\n",
    "l2"
   ]
  },
  {
   "cell_type": "code",
   "execution_count": 106,
   "metadata": {},
   "outputs": [
    {
     "name": "stdout",
     "output_type": "stream",
     "text": [
      "nation\n",
      "nation\n"
     ]
    }
   ],
   "source": [
    "# 1.e\n",
    "strng='examination'\n",
    "#positive indices\n",
    "sp=strng[5:]\n",
    "print(sp)\n",
    "#negetive indices\n",
    "sn=strng[-6:]\n",
    "print(sp)"
   ]
  },
  {
   "cell_type": "code",
   "execution_count": 107,
   "metadata": {},
   "outputs": [
    {
     "data": {
      "text/plain": [
       "{2, 4, 6, 7, False, True, 'hello', 'hi'}"
      ]
     },
     "execution_count": 107,
     "metadata": {},
     "output_type": "execute_result"
    }
   ],
   "source": [
    "# 1.f\n",
    "s=set(l2)\n",
    "s"
   ]
  },
  {
   "cell_type": "code",
   "execution_count": 108,
   "metadata": {},
   "outputs": [
    {
     "name": "stdout",
     "output_type": "stream",
     "text": [
      "[12, 8, 28, 20, 16]\n"
     ]
    }
   ],
   "source": [
    "# 1.g\n",
    "l3=[3,2,7,5,4]\n",
    "for i in range(len(l3)):\n",
    "    l3[i]=l3[i]*4\n",
    "print(l3)\n"
   ]
  },
  {
   "cell_type": "code",
   "execution_count": 109,
   "metadata": {},
   "outputs": [
    {
     "name": "stdout",
     "output_type": "stream",
     "text": [
      "[25, 40, 45, 15, 25]\n"
     ]
    }
   ],
   "source": [
    "# 1.h\n",
    "l4=[5,8,9,3,5]\n",
    "i=0\n",
    "while i<len(l4):\n",
    "    l4[i]*=5\n",
    "    i+=1\n",
    "print(l4)"
   ]
  },
  {
   "cell_type": "code",
   "execution_count": 110,
   "metadata": {},
   "outputs": [
    {
     "name": "stdout",
     "output_type": "stream",
     "text": [
      "{'a': 'apple', 'o': 'orange', 'p': 'pineapple', 'b': 'banana'}\n"
     ]
    }
   ],
   "source": [
    "# 1.i\n",
    "fruits=['apple','orange','pineapple','banana']\n",
    "fruit_dict={}\n",
    "for i in range(len(fruits)):\n",
    "    fruit_dict[fruits[i][0]]=fruits[i]\n",
    "print(fruit_dict)"
   ]
  },
  {
   "cell_type": "code",
   "execution_count": 111,
   "metadata": {},
   "outputs": [
    {
     "name": "stdout",
     "output_type": "stream",
     "text": [
      "74\n"
     ]
    }
   ],
   "source": [
    "# 1.j\n",
    "l5=[12,4,56,76,78,34,5,6,9]\n",
    "minimum=min(l5)\n",
    "maximum=max(l5)\n",
    "range_of_l5=maximum-minimum\n",
    "print(range_of_l5)"
   ]
  },
  {
   "cell_type": "code",
   "execution_count": 112,
   "metadata": {},
   "outputs": [],
   "source": [
    "####################(2)#########################"
   ]
  },
  {
   "cell_type": "code",
   "execution_count": 113,
   "metadata": {},
   "outputs": [
    {
     "name": "stdout",
     "output_type": "stream",
     "text": [
      "Number of vowels = 952\n",
      "Number of words = 585\n",
      "['the', 'a', 'list', 'to', 'and', 'of', 'in', 'that', 'is', 'sorted', 'value', 'values', 'inserted', 'be', 'order', 'function', '2,3,4,56,100,102', 'case', 'having', 'into', 'create', 'from', 'number', 'tuple', 'elements', 'new', 'as', 'using', 'so', 'all', 'literal', 'go', '-', 'find', 'with', 'count', 'two', 'given', 'an', '2', 'contents', 'created', 'A', 'generate', 'vowels', 'this', 'c1', 'words', 'are', 'collection', 'for', 'multiply', 'a1,', 'report', 'loop', 'ASCII', 'received', 'numbers', 'corresponding', 'any', 'it', 'string', 'by', 'python', '=', 'dictionary', 'original', 'updated.', 'parameters', 'datastructure', 'following', 'The', 'previous', 'fruit', 'Add', 'text', 'random', \"{8,9,'m','n'}}B\", 'B', '3:', 'descending', 'i.', 'correct', 'list).', 'following:i)', 'alternative', '65', 'C,', 'frm', 'Numbers', 'element', 'other', 'where', 'list.', 'rest', 'g.', 'keys', 'character.', '90', 'indices.f.', 'them', 'boolean.b.', '*************************************************************4.(a)Convert', '103', 'now', 'first', '(a,e,i,o,u)b.', 'category', 'smallest', 'parameters.', 'following:a.', 'Z,', \"[5,'z',8],[2,'q',9],[7,3,'m'],[1,6,'n']](b)Write\", 'set', 'question', 'receives', '7:', 'listc.', 'code', 'built-in', \"'three':\", 'alpabhet', 'multiplied', 'returns', 'stars', 'largest', 'on', 'one', 'extract', 'made', 'earlier', 'based', '4:', 'second', 'test', 'frequency', \"[['one','two','three'],\", '5', 'word).c.', 'A,E,I,O,U', '1:', '1.a.', 'substring', 'beside', 'Use', \"'two':\", 'bda23_25_midterm.txt', '2:', 'correctness', '6:', '1', 'line', 'Using', '102test', '***********************c2', 'provided', 'each', 'alphabets.', 'integers', 'letter', 'sub-part', 'step.d.', 'functions.2.', 'separated', 'name', '5test', '(a', 'below):a1', '(anything', 'Convert', 'labels', 'space', 'indices', 'file', 'J', 'appropriate', \"'examination'\", 'Demonstrate', 'negative', 'shown', 'counts.3.(a)Create', 'X,', 'provides', '5:', 'selected', 'S,', 'elements.', 'such', 'put', 'questions', 'categories', 'cases:test', 'ways', 'print', \"'nation'\", '1test', 'positive', 'fourth', 'do', 'ii)', 'c2', 'Create', 'converts', 'Categorise', 'parameter', 'updated', 'while', 'select', '10test', 'Z.', 'below', '3', \"('z','q',3,6),\", '101test', '[5,2,7,1],', 'structure.', 'sample', 'location', 'parameter.(b)chr()', 'elements.e.', '1000', 'Do', '2test', '****************c1', 'some', 'accepts', 'these', 'All', 'add', '(see', 'names.j.', 'arrange', 'numbers,', 'c2.', 'data', 'iii)', 'up', 'programmatically:A', '7', 'range', 'number)', 'h.', 'inserts', \"{'one':\", '(difference', 'statistical']\n"
     ]
    }
   ],
   "source": [
    "#2.a\n",
    "with open('bda23_25_midterm.txt',mode='r', encoding='utf-8') as f:\n",
    "    lines = f.readlines()\n",
    "    l = [line.strip('\\n') for line in lines]\n",
    "    # print(l)\n",
    "s=''\n",
    "for item in l:\n",
    "    s=s+item\n",
    "vowel_count=0\n",
    "for i in s:\n",
    "    if i in ['a','e','i','o','u']:\n",
    "        vowel_count+=1\n",
    "print(f'Number of vowels = {vowel_count}')\n",
    "\n",
    "\n",
    "###\n",
    "#2.b\n",
    "word_list=s.split(\" \")\n",
    "print(f'Number of words = {len(word_list)}')\n",
    "\n",
    "\n",
    "###\n",
    "# 2.c\n",
    "pair=[]\n",
    "descending_order_word_list=[]\n",
    "\n",
    "\n",
    "# print(word_list)\n",
    "unique_word_list=list(set(word_list))\n",
    "\n",
    "for word in unique_word_list:\n",
    "    pair.append((word_list.count(word),word))\n",
    "pair.sort(key=lambda x: x[0],reverse=True)\n",
    "for i in pair:\n",
    "    descending_order_word_list.append(i[1])\n",
    "print(descending_order_word_list)\n",
    "\n",
    "    \n",
    "    "
   ]
  },
  {
   "cell_type": "code",
   "execution_count": 114,
   "metadata": {},
   "outputs": [],
   "source": [
    "####################(3)#########################"
   ]
  },
  {
   "cell_type": "code",
   "execution_count": 115,
   "metadata": {},
   "outputs": [
    {
     "name": "stdout",
     "output_type": "stream",
     "text": [
      "(5, 10, 15)\n"
     ]
    }
   ],
   "source": [
    "# 3.a\n",
    "def tuple_scalar_multiplier(t,a):\n",
    "    tup_list=list(t)\n",
    "    for i in range(len(tup_list)):\n",
    "        tup_list[i]*=a\n",
    "    return tuple(tup_list)\n",
    "print(tuple_scalar_multiplier((1,2,3),5))"
   ]
  },
  {
   "cell_type": "code",
   "execution_count": 116,
   "metadata": {},
   "outputs": [
    {
     "name": "stdout",
     "output_type": "stream",
     "text": [
      "['R', 'N', 'V', 'E', 'F', 'E', 'V', 'R', 'N', 'S', 'G', 'F', 'S', 'T', 'N', 'J', 'Z', 'O', 'H', 'I', 'S', 'U', 'H', 'H', 'V', 'B', 'X', 'T', 'W', 'V', 'L', 'N', 'C', 'N', 'Z', 'E', 'C', 'U', 'G', 'D', 'A', 'Y', 'U', 'X', 'U', 'I', 'O', 'I', 'M', 'X', 'I', 'H', 'H', 'M', 'T', 'Z', 'T', 'U', 'Z', 'U', 'L', 'H', 'Y', 'T', 'Y', 'G', 'L', 'X', 'I', 'N', 'C', 'M', 'X', 'T', 'N', 'S', 'N', 'R', 'D', 'R', 'G', 'I', 'O', 'W', 'T', 'U', 'D', 'E', 'B', 'Z', 'I', 'Z', 'D', 'P', 'Z', 'D', 'B', 'O', 'U', 'Q', 'Z', 'D', 'V', 'I', 'Z', 'J', 'X', 'V', 'B', 'T', 'J', 'V', 'W', 'H', 'J', 'V', 'W', 'A', 'F', 'M', 'W', 'H', 'Y', 'K', 'C', 'K', 'M', 'N', 'T', 'Z', 'C', 'O', 'G', 'J', 'V', 'I', 'V', 'E', 'S', 'C', 'B', 'X', 'K', 'D', 'C', 'B', 'K', 'V', 'J', 'G', 'Y', 'O', 'U', 'U', 'P', 'S', 'G', 'Z', 'M', 'N', 'G', 'X', 'F', 'C', 'Z', 'L', 'D', 'Q', 'E', 'L', 'O', 'U', 'X', 'O', 'J', 'E', 'P', 'M', 'D', 'F', 'D', 'B', 'P', 'A', 'H', 'Y', 'G', 'N', 'C', 'J', 'F', 'D', 'Q', 'E', 'P', 'U', 'V', 'A', 'H', 'O', 'V', 'A', 'M', 'J', 'B', 'K', 'A', 'C', 'Z', 'H', 'B', 'W', 'U', 'V', 'U', 'Z', 'D', 'H', 'P', 'Y', 'D', 'B', 'J', 'A', 'Z', 'J', 'N', 'O', 'X', 'N', 'P', 'X', 'P', 'B', 'Y', 'U', 'K', 'L', 'Y', 'B', 'G', 'Q', 'A', 'G', 'W', 'Y', 'J', 'Q', 'F', 'B', 'H', 'K', 'U', 'W', 'Y', 'F', 'C', 'O', 'H', 'W', 'I', 'N', 'D', 'O', 'M', 'M', 'J', 'P', 'K', 'I', 'M', 'H', 'N', 'X', 'U', 'F', 'H', 'O', 'V', 'K', 'G', 'I', 'M', 'N', 'X', 'F', 'Q', 'S', 'C', 'U', 'G', 'P', 'M', 'K', 'N', 'E', 'X', 'Q', 'F', 'J', 'J', 'Z', 'T', 'Z', 'H', 'S', 'A', 'V', 'G', 'W', 'N', 'I', 'N', 'D', 'K', 'U', 'J', 'V', 'N', 'K', 'D', 'G', 'I', 'I', 'U', 'E', 'K', 'K', 'P', 'U', 'V', 'J', 'M', 'S', 'K', 'U', 'X', 'X', 'V', 'N', 'S', 'D', 'X', 'O', 'U', 'B', 'C', 'L', 'I', 'P', 'F', 'Y', 'M', 'R', 'E', 'Q', 'B', 'U', 'W', 'G', 'T', 'M', 'T', 'P', 'B', 'J', 'Y', 'R', 'H', 'I', 'B', 'K', 'N', 'X', 'T', 'X', 'L', 'E', 'U', 'R', 'Q', 'D', 'W', 'S', 'T', 'X', 'F', 'T', 'R', 'Y', 'Z', 'X', 'Y', 'I', 'Y', 'U', 'O', 'S', 'I', 'H', 'P', 'D', 'U', 'E', 'K', 'Z', 'N', 'Y', 'S', 'C', 'G', 'H', 'P', 'P', 'K', 'S', 'C', 'I', 'K', 'P', 'Q', 'A', 'V', 'V', 'F', 'X', 'W', 'S', 'A', 'V', 'N', 'I', 'I', 'Q', 'L', 'N', 'X', 'H', 'M', 'D', 'X', 'F', 'K', 'I', 'D', 'U', 'M', 'H', 'R', 'I', 'O', 'Q', 'V', 'A', 'W', 'I', 'J', 'E', 'S', 'T', 'V', 'T', 'I', 'G', 'J', 'V', 'F', 'S', 'L', 'N', 'R', 'G', 'P', 'A', 'M', 'U', 'R', 'O', 'X', 'J', 'Q', 'D', 'O', 'S', 'K', 'D', 'X', 'C', 'G', 'N', 'M', 'D', 'C', 'M', 'D', 'T', 'Y', 'K', 'W', 'J', 'I', 'B', 'V', 'F', 'D', 'E', 'A', 'T', 'N', 'Z', 'C', 'Q', 'J', 'O', 'K', 'F', 'T', 'K', 'N', 'J', 'X', 'E', 'G', 'H', 'V', 'D', 'A', 'J', 'D', 'X', 'F', 'O', 'G', 'Y', 'S', 'D', 'F', 'X', 'T', 'I', 'V', 'R', 'W', 'R', 'I', 'X', 'T', 'A', 'N', 'Z', 'I', 'C', 'V', 'J', 'Q', 'Z', 'K', 'F', 'R', 'S', 'G', 'C', 'V', 'L', 'V', 'U', 'Z', 'J', 'Q', 'B', 'S', 'I', 'B', 'K', 'M', 'N', 'Q', 'F', 'F', 'G', 'F', 'A', 'C', 'P', 'K', 'I', 'B', 'P', 'V', 'J', 'O', 'J', 'B', 'F', 'Y', 'K', 'S', 'B', 'A', 'G', 'N', 'F', 'I', 'C', 'W', 'C', 'D', 'H', 'I', 'O', 'B', 'X', 'B', 'E', 'T', 'M', 'Z', 'C', 'Q', 'C', 'U', 'N', 'S', 'W', 'R', 'H', 'X', 'O', 'K', 'I', 'Q', 'X', 'C', 'Y', 'T', 'T', 'P', 'T', 'O', 'K', 'K', 'T', 'W', 'R', 'Y', 'T', 'B', 'E', 'C', 'J', 'U', 'D', 'R', 'U', 'I', 'Q', 'G', 'P', 'W', 'F', 'K', 'T', 'B', 'I', 'G', 'G', 'N', 'I', 'A', 'L', 'Z', 'M', 'O', 'E', 'V', 'B', 'X', 'U', 'N', 'X', 'N', 'D', 'Y', 'Y', 'S', 'Z', 'T', 'V', 'N', 'O', 'K', 'B', 'L', 'I', 'A', 'K', 'V', 'D', 'G', 'Y', 'A', 'N', 'Q', 'Z', 'M', 'V', 'D', 'Y', 'V', 'H', 'A', 'X', 'U', 'P', 'N', 'R', 'F', 'U', 'E', 'E', 'K', 'R', 'Z', 'Q', 'T', 'A', 'O', 'S', 'T', 'K', 'C', 'P', 'D', 'M', 'G', 'Y', 'M', 'G', 'V', 'P', 'L', 'K', 'M', 'W', 'O', 'Z', 'M', 'Y', 'O', 'A', 'L', 'D', 'C', 'H', 'X', 'I', 'A', 'O', 'K', 'O', 'X', 'T', 'N', 'G', 'P', 'Z', 'Y', 'L', 'J', 'H', 'Z', 'O', 'N', 'T', 'X', 'P', 'X', 'E', 'T', 'K', 'Q', 'E', 'Y', 'B', 'U', 'K', 'I', 'Q', 'S', 'V', 'A', 'Z', 'P', 'W', 'Q', 'P', 'M', 'U', 'N', 'N', 'W', 'N', 'V', 'S', 'R', 'L', 'I', 'Q', 'Y', 'Q', 'A', 'M', 'N', 'R', 'N', 'R', 'R', 'L', 'P', 'V', 'F', 'X', 'Q', 'G', 'K', 'D', 'W', 'B', 'Y', 'N', 'F', 'J', 'X', 'I', 'G', 'L', 'U', 'L', 'P', 'E', 'F', 'D', 'W', 'Z', 'M', 'Q', 'Y', 'U', 'G', 'U', 'B', 'I', 'B', 'K', 'W', 'Y', 'P', 'X', 'O', 'X', 'J', 'D', 'F', 'F', 'M', 'B', 'S', 'H', 'Y', 'I', 'Y', 'G', 'Z', 'I', 'K', 'Q', 'Z', 'O', 'K', 'G', 'J', 'H', 'I', 'Y', 'A', 'G', 'M', 'C', 'G', 'C', 'O', 'Z', 'Y', 'Q', 'G', 'Q', 'I', 'C', 'L', 'O', 'K', 'I', 'X', 'Q', 'A', 'Y', 'T', 'Q', 'C', 'X', 'O', 'A', 'W', 'T', 'B', 'E', 'P', 'J', 'C', 'Q', 'A', 'W', 'J', 'A', 'I', 'W', 'T', 'A', 'L', 'E', 'L', 'L', 'G', 'C', 'K', 'M', 'N', 'P', 'Z', 'W', 'O', 'R', 'V', 'X', 'Z', 'Q', 'F', 'S', 'X', 'E', 'L', 'A', 'O', 'K', 'Z', 'W', 'U', 'H', 'N', 'Q', 'F', 'G', 'U', 'I', 'K', 'B', 'R', 'Y', 'U', 'B', 'N', 'R', 'H', 'G', 'Y', 'H', 'Z', 'C', 'N', 'S', 'T', 'V', 'S', 'L', 'F', 'J', 'Z', 'D', 'H', 'S', 'K', 'F', 'C', 'H', 'Q', 'N', 'Y', 'G', 'T', 'E']\n"
     ]
    }
   ],
   "source": [
    "#3.b.i\n",
    "import random\n",
    "alphabates=[]\n",
    "for i in range(1000):\n",
    "    alphabates.append(chr(random.randint(65,90)))\n",
    "print(alphabates)"
   ]
  },
  {
   "cell_type": "code",
   "execution_count": 117,
   "metadata": {},
   "outputs": [
    {
     "name": "stdout",
     "output_type": "stream",
     "text": [
      "{'a1': ['E', 'E', 'I', 'E', 'A', 'I', 'I', 'I', 'I', 'I', 'E', 'I', 'I', 'A', 'I', 'E', 'E', 'E', 'A', 'E', 'A', 'A', 'A', 'A', 'A', 'I', 'I', 'I', 'E', 'A', 'I', 'I', 'I', 'E', 'I', 'E', 'I', 'E', 'I', 'I', 'E', 'I', 'A', 'A', 'I', 'I', 'I', 'I', 'A', 'I', 'E', 'I', 'A', 'I', 'E', 'A', 'E', 'A', 'I', 'I', 'A', 'I', 'I', 'A', 'I', 'A', 'I', 'I', 'E', 'I', 'E', 'I', 'I', 'I', 'A', 'E', 'I', 'A', 'A', 'A', 'E', 'E', 'A', 'A', 'I', 'A', 'E', 'E', 'I', 'A', 'I', 'A', 'I', 'E', 'I', 'I', 'I', 'I', 'A', 'I', 'I', 'A', 'A', 'E', 'A', 'A', 'I', 'A', 'E', 'E', 'A', 'I', 'E'], 'c1': ['J', 'Z', 'X', 'C', 'Z', 'C', 'X', 'X', 'Z', 'Z', 'X', 'C', 'X', 'Z', 'Z', 'Z', 'Z', 'Z', 'J', 'X', 'J', 'J', 'C', 'Z', 'C', 'J', 'C', 'X', 'C', 'J', 'Z', 'X', 'C', 'Z', 'X', 'J', 'C', 'J', 'J', 'C', 'Z', 'Z', 'J', 'Z', 'J', 'X', 'X', 'J', 'C', 'J', 'X', 'X', 'C', 'X', 'J', 'J', 'Z', 'Z', 'J', 'J', 'X', 'X', 'X', 'C', 'J', 'X', 'X', 'X', 'Z', 'X', 'Z', 'C', 'C', 'X', 'X', 'X', 'J', 'J', 'X', 'J', 'X', 'C', 'C', 'J', 'Z', 'C', 'J', 'J', 'X', 'J', 'X', 'X', 'X', 'Z', 'C', 'J', 'Z', 'C', 'Z', 'J', 'C', 'J', 'J', 'C', 'C', 'X', 'Z', 'C', 'C', 'X', 'X', 'C', 'C', 'J', 'Z', 'X', 'X', 'Z', 'Z', 'X', 'Z', 'C', 'Z', 'C', 'X', 'X', 'Z', 'J', 'Z', 'X', 'X', 'Z', 'X', 'J', 'X', 'Z', 'X', 'X', 'J', 'Z', 'Z', 'J', 'C', 'C', 'Z', 'C', 'X', 'C', 'X', 'J', 'C', 'J', 'C', 'Z', 'X', 'Z', 'X', 'Z', 'Z', 'C', 'J', 'Z', 'C'], 'c2': ['R', 'N', 'V', 'E', 'F', 'E', 'V', 'R', 'N', 'S', 'G', 'F', 'S', 'T', 'N', 'O', 'H', 'I', 'S', 'U', 'H', 'H', 'V', 'B', 'T', 'W', 'V', 'L', 'N', 'N', 'E', 'U', 'G', 'D', 'A', 'Y', 'U', 'U', 'I', 'O', 'I', 'M', 'I', 'H', 'H', 'M', 'T', 'T', 'U', 'U', 'L', 'H', 'Y', 'T', 'Y', 'G', 'L', 'I', 'N', 'M', 'T', 'N', 'S', 'N', 'R', 'D', 'R', 'G', 'I', 'O', 'W', 'T', 'U', 'D', 'E', 'B', 'I', 'D', 'P', 'D', 'B', 'O', 'U', 'Q', 'D', 'V', 'I', 'V', 'B', 'T', 'V', 'W', 'H', 'V', 'W', 'A', 'F', 'M', 'W', 'H', 'Y', 'K', 'K', 'M', 'N', 'T', 'O', 'G', 'V', 'I', 'V', 'E', 'S', 'B', 'K', 'D', 'B', 'K', 'V', 'G', 'Y', 'O', 'U', 'U', 'P', 'S', 'G', 'M', 'N', 'G', 'F', 'L', 'D', 'Q', 'E', 'L', 'O', 'U', 'O', 'E', 'P', 'M', 'D', 'F', 'D', 'B', 'P', 'A', 'H', 'Y', 'G', 'N', 'F', 'D', 'Q', 'E', 'P', 'U', 'V', 'A', 'H', 'O', 'V', 'A', 'M', 'B', 'K', 'A', 'H', 'B', 'W', 'U', 'V', 'U', 'D', 'H', 'P', 'Y', 'D', 'B', 'A', 'N', 'O', 'N', 'P', 'P', 'B', 'Y', 'U', 'K', 'L', 'Y', 'B', 'G', 'Q', 'A', 'G', 'W', 'Y', 'Q', 'F', 'B', 'H', 'K', 'U', 'W', 'Y', 'F', 'O', 'H', 'W', 'I', 'N', 'D', 'O', 'M', 'M', 'P', 'K', 'I', 'M', 'H', 'N', 'U', 'F', 'H', 'O', 'V', 'K', 'G', 'I', 'M', 'N', 'F', 'Q', 'S', 'U', 'G', 'P', 'M', 'K', 'N', 'E', 'Q', 'F', 'T', 'H', 'S', 'A', 'V', 'G', 'W', 'N', 'I', 'N', 'D', 'K', 'U', 'V', 'N', 'K', 'D', 'G', 'I', 'I', 'U', 'E', 'K', 'K', 'P', 'U', 'V', 'M', 'S', 'K', 'U', 'V', 'N', 'S', 'D', 'O', 'U', 'B', 'L', 'I', 'P', 'F', 'Y', 'M', 'R', 'E', 'Q', 'B', 'U', 'W', 'G', 'T', 'M', 'T', 'P', 'B', 'Y', 'R', 'H', 'I', 'B', 'K', 'N', 'T', 'L', 'E', 'U', 'R', 'Q', 'D', 'W', 'S', 'T', 'F', 'T', 'R', 'Y', 'Y', 'I', 'Y', 'U', 'O', 'S', 'I', 'H', 'P', 'D', 'U', 'E', 'K', 'N', 'Y', 'S', 'G', 'H', 'P', 'P', 'K', 'S', 'I', 'K', 'P', 'Q', 'A', 'V', 'V', 'F', 'W', 'S', 'A', 'V', 'N', 'I', 'I', 'Q', 'L', 'N', 'H', 'M', 'D', 'F', 'K', 'I', 'D', 'U', 'M', 'H', 'R', 'I', 'O', 'Q', 'V', 'A', 'W', 'I', 'E', 'S', 'T', 'V', 'T', 'I', 'G', 'V', 'F', 'S', 'L', 'N', 'R', 'G', 'P', 'A', 'M', 'U', 'R', 'O', 'Q', 'D', 'O', 'S', 'K', 'D', 'G', 'N', 'M', 'D', 'M', 'D', 'T', 'Y', 'K', 'W', 'I', 'B', 'V', 'F', 'D', 'E', 'A', 'T', 'N', 'Q', 'O', 'K', 'F', 'T', 'K', 'N', 'E', 'G', 'H', 'V', 'D', 'A', 'D', 'F', 'O', 'G', 'Y', 'S', 'D', 'F', 'T', 'I', 'V', 'R', 'W', 'R', 'I', 'T', 'A', 'N', 'I', 'V', 'Q', 'K', 'F', 'R', 'S', 'G', 'V', 'L', 'V', 'U', 'Q', 'B', 'S', 'I', 'B', 'K', 'M', 'N', 'Q', 'F', 'F', 'G', 'F', 'A', 'P', 'K', 'I', 'B', 'P', 'V', 'O', 'B', 'F', 'Y', 'K', 'S', 'B', 'A', 'G', 'N', 'F', 'I', 'W', 'D', 'H', 'I', 'O', 'B', 'B', 'E', 'T', 'M', 'Q', 'U', 'N', 'S', 'W', 'R', 'H', 'O', 'K', 'I', 'Q', 'Y', 'T', 'T', 'P', 'T', 'O', 'K', 'K', 'T', 'W', 'R', 'Y', 'T', 'B', 'E', 'U', 'D', 'R', 'U', 'I', 'Q', 'G', 'P', 'W', 'F', 'K', 'T', 'B', 'I', 'G', 'G', 'N', 'I', 'A', 'L', 'M', 'O', 'E', 'V', 'B', 'U', 'N', 'N', 'D', 'Y', 'Y', 'S', 'T', 'V', 'N', 'O', 'K', 'B', 'L', 'I', 'A', 'K', 'V', 'D', 'G', 'Y', 'A', 'N', 'Q', 'M', 'V', 'D', 'Y', 'V', 'H', 'A', 'U', 'P', 'N', 'R', 'F', 'U', 'E', 'E', 'K', 'R', 'Q', 'T', 'A', 'O', 'S', 'T', 'K', 'P', 'D', 'M', 'G', 'Y', 'M', 'G', 'V', 'P', 'L', 'K', 'M', 'W', 'O', 'M', 'Y', 'O', 'A', 'L', 'D', 'H', 'I', 'A', 'O', 'K', 'O', 'T', 'N', 'G', 'P', 'Y', 'L', 'H', 'O', 'N', 'T', 'P', 'E', 'T', 'K', 'Q', 'E', 'Y', 'B', 'U', 'K', 'I', 'Q', 'S', 'V', 'A', 'P', 'W', 'Q', 'P', 'M', 'U', 'N', 'N', 'W', 'N', 'V', 'S', 'R', 'L', 'I', 'Q', 'Y', 'Q', 'A', 'M', 'N', 'R', 'N', 'R', 'R', 'L', 'P', 'V', 'F', 'Q', 'G', 'K', 'D', 'W', 'B', 'Y', 'N', 'F', 'I', 'G', 'L', 'U', 'L', 'P', 'E', 'F', 'D', 'W', 'M', 'Q', 'Y', 'U', 'G', 'U', 'B', 'I', 'B', 'K', 'W', 'Y', 'P', 'O', 'D', 'F', 'F', 'M', 'B', 'S', 'H', 'Y', 'I', 'Y', 'G', 'I', 'K', 'Q', 'O', 'K', 'G', 'H', 'I', 'Y', 'A', 'G', 'M', 'G', 'O', 'Y', 'Q', 'G', 'Q', 'I', 'L', 'O', 'K', 'I', 'Q', 'A', 'Y', 'T', 'Q', 'O', 'A', 'W', 'T', 'B', 'E', 'P', 'Q', 'A', 'W', 'A', 'I', 'W', 'T', 'A', 'L', 'E', 'L', 'L', 'G', 'K', 'M', 'N', 'P', 'W', 'O', 'R', 'V', 'Q', 'F', 'S', 'E', 'L', 'A', 'O', 'K', 'W', 'U', 'H', 'N', 'Q', 'F', 'G', 'U', 'I', 'K', 'B', 'R', 'Y', 'U', 'B', 'N', 'R', 'H', 'G', 'Y', 'H', 'N', 'S', 'T', 'V', 'S', 'L', 'F', 'D', 'H', 'S', 'K', 'F', 'H', 'Q', 'N', 'Y', 'G', 'T', 'E']}\n"
     ]
    }
   ],
   "source": [
    "#3.b.ii\n",
    "alphabates_divs={\n",
    "    'a1':[],\n",
    "    'c1':[],\n",
    "    'c2':[]\n",
    "}\n",
    "for i in alphabates:\n",
    "    if i in ['A','E','I']:\n",
    "        alphabates_divs['a1'].append(i)\n",
    "    if i=='C' or i=='s' or i=='X' or i=='Z' or i=='J':\n",
    "        alphabates_divs['c1'].append(i)\n",
    "    else:\n",
    "        alphabates_divs['c2'].append(i)\n",
    "print(alphabates_divs)"
   ]
  },
  {
   "cell_type": "code",
   "execution_count": 118,
   "metadata": {},
   "outputs": [
    {
     "name": "stdout",
     "output_type": "stream",
     "text": [
      "113\n",
      "a1: ***********\n",
      "163\n",
      "c1: ****************\n",
      "837\n",
      "c2: ***********************************************************************************\n"
     ]
    }
   ],
   "source": [
    "#3.b.iii\n",
    "for i in range(3):\n",
    "    k=list(alphabates_divs.keys())[i]\n",
    "    print(len(alphabates_divs[k]))\n",
    "    s='*' * (len(alphabates_divs[k])//10)\n",
    "    print(f'{k}: {s}')"
   ]
  },
  {
   "cell_type": "code",
   "execution_count": 119,
   "metadata": {},
   "outputs": [],
   "source": [
    "############################(4)#############################"
   ]
  },
  {
   "cell_type": "code",
   "execution_count": 120,
   "metadata": {},
   "outputs": [
    {
     "name": "stdout",
     "output_type": "stream",
     "text": [
      "[['one', 'two', 'three'], [5, 'z', 8], [2, 'q', 9], [7, 3, 'm'], [1, 6, 'n']]\n"
     ]
    }
   ],
   "source": [
    "#4.a\n",
    "A={'one': [5,2,7,1], 'two': ('z','q',3,6), 'three': {8,9,'m','n'}}\n",
    "keys=list(A.keys())\n",
    "values=list(A.values())\n",
    "B=[]\n",
    "for i in range(len(A)):\n",
    "    A[keys[i]]=list(values[i])\n",
    "# print(A)\n",
    "for i in range(len(A['one'])+1): #+1 for key\n",
    "    B.append([])\n",
    "\n",
    "for i in range(len(A)):\n",
    "    B[0].append(keys[i])\n",
    "for i in range(len(A)):\n",
    "    for j in range(1,len(B)):#\n",
    "        B[j].append( A[keys[i]][j-1])\n",
    "print(B)"
   ]
  },
  {
   "cell_type": "code",
   "execution_count": 121,
   "metadata": {},
   "outputs": [
    {
     "data": {
      "text/plain": [
       "[2, 3, 4, 56, 100, 102, 103]"
      ]
     },
     "execution_count": 121,
     "metadata": {},
     "output_type": "execute_result"
    }
   ],
   "source": [
    "#4.b\n",
    "def correct_insertion(s_list,x):\n",
    "    for i in range(len(s_list)):\n",
    "        if x<=s_list[i]:\n",
    "            s_list.insert(i,x)\n",
    "            break\n",
    "        if x>max(s_list):\n",
    "            s_list.insert(len(s_list),x)\n",
    "    return s_list\n",
    "\n",
    "correct_insertion([2,3,4,56,100,102],103)"
   ]
  },
  {
   "cell_type": "code",
   "execution_count": 122,
   "metadata": {},
   "outputs": [
    {
     "name": "stdout",
     "output_type": "stream",
     "text": [
      "90 inserted correctly in list [2,3,4,56,100,102] : [2, 3, 4, 56, 90, 100, 102]\n"
     ]
    }
   ],
   "source": [
    "#4.b\n",
    "def correct_insertion(s_list,x):\n",
    "    for i in range(len(s_list)):\n",
    "        if x<=s_list[i]:\n",
    "            s_list.insert(i,x)\n",
    "            break\n",
    "        if x>max(s_list):\n",
    "            s_list.insert(len(s_list),x)\n",
    "    return s_list\n",
    "\n",
    "\n",
    "def sorting(list_4):\n",
    "    for i in range(len(list_4)-1): \n",
    "        for j in range(len(list_4)-i-1): \n",
    "            if list_4[j]>list_4[j+1]:     \n",
    "                list_4[j],list_4[j+1]=list_4[j+1],list_4[j] \n",
    "    return list_4\n",
    "    \n",
    "\n",
    "check=1\n",
    "while check:\n",
    "    list_1=[2,3,4,56,100,102]\n",
    "    number=int(input(\"the value to be inserted is  \"))\n",
    "    ins=correct_insertion(list_1,number)\n",
    "    if ins == sorting(ins):\n",
    "        print(f\"{number} inserted correctly in list [2,3,4,56,100,102] : {ins}\")\n",
    "    else:\n",
    "        print(\"not Correct\")\n",
    "    check=int(input(\"Enter 1 for keep going 0 for termination\"))"
   ]
  },
  {
   "cell_type": "code",
   "execution_count": null,
   "metadata": {},
   "outputs": [],
   "source": []
  }
 ],
 "metadata": {
  "kernelspec": {
   "display_name": "Python 3",
   "language": "python",
   "name": "python3"
  },
  "language_info": {
   "codemirror_mode": {
    "name": "ipython",
    "version": 3
   },
   "file_extension": ".py",
   "mimetype": "text/x-python",
   "name": "python",
   "nbconvert_exporter": "python",
   "pygments_lexer": "ipython3",
   "version": "3.10.5"
  },
  "orig_nbformat": 4
 },
 "nbformat": 4,
 "nbformat_minor": 2
}
