{
 "cells": [
  {
   "cell_type": "code",
   "execution_count": 47,
   "metadata": {},
   "outputs": [],
   "source": [
    "class Bank:\n",
    "    \"\"\"\n",
    "\tThis is Bank\n",
    "\tA user can have an account in Bank\n",
    "    user can Deposite,withdraw,\n",
    "\tThis class has two instance methods\n",
    "\t\"\"\"\n",
    "\n",
    "    rate_of_interest=6.5\n",
    "\n",
    "    def __init__(self,money):\n",
    "        print(\"==============Amount================\")\n",
    "        self.amount=money\n",
    "        print(f\"amount of money ={self.amount}\")\n",
    "        \n",
    "    def withdraw(self,amount):\n",
    "        print(\"==============Withdraw================\")\n",
    "        if amount>=self.amount:\n",
    "            print(\"you cant withdraw\")\n",
    "        else:\n",
    "            print( f\"Amount {amount} is withdrawed from your Bank account\")\n",
    "            self.amount-=amount\n",
    "            print( f\"Current Balance in Account is {self.amount}\")\n",
    "\n",
    "    def deposite(self,amount):\n",
    "        print(\"==============Deposite================\")\n",
    "        if amount<=0:\n",
    "            print(\"you cant deposite\")\n",
    "        else:\n",
    "            print( f\"Amount {amount} is deposited in your Bank account\")\n",
    "            self.amount+=amount\n",
    "            print( f\"Current Balance in Account is {self.amount}\")\n",
    "            # return self.amount\n",
    "\n",
    "    def interest(self,time):\n",
    "        print(\"==============Interest================\")\n",
    "        if time<=0:\n",
    "            print(\"insterest cannot be calculated\")\n",
    "        else:\n",
    "            print( f\"Current Balance in Account is {self.amount}\")\n",
    "            money_with_interest=(self.amount*(time/12)*Bank.rate_of_interest)/100\n",
    "            print(f\"Simple interest on current money over {time} month will be Rs.{money_with_interest} \")\n",
    "\n",
    "    def __str__(self) :\n",
    "        print(\"==============Our Interset================\")\n",
    "        return f\"Rate of Interest in Bank is {Bank.rate_of_interest}\""
   ]
  },
  {
   "cell_type": "code",
   "execution_count": 52,
   "metadata": {},
   "outputs": [
    {
     "name": "stdout",
     "output_type": "stream",
     "text": [
      "==============Amount================\n",
      "amount of money =500\n",
      "==============Withdraw================\n",
      "Amount 20 is withdrawed from your Bank account\n",
      "Current Balance in Account is 480\n",
      "Enter a valid operation\n"
     ]
    }
   ],
   "source": [
    "if __name__ == \"__main__\":\n",
    "    initial=int(input(\"Deposite Rs. 500 to open your account\"))\n",
    "    user=Bank(initial)\n",
    "    operation=1\n",
    "    while operation:\n",
    "        o=int(input(\"Enter 1 withdraw 2 deposite 3 interest\"))\n",
    "        if o==1:\n",
    "            a=int(input(\"Enter amount you want to withdraw\"))\n",
    "            user.withdraw(a)\n",
    "        if o==2:\n",
    "            b=int(input(\"Enter amount you want to withdraw\"))\n",
    "            user.deposite(b)\n",
    "        if o==2:\n",
    "            c=int(input(\"Enter no. of months you want to see the interest over the time\"))\n",
    "            user.interest(c)\n",
    "        else :\n",
    "            print(\"Enter a valid operation\")\n",
    "\n",
    "        operation=int(input(\"Enter 0 to exit the bank \\n Enter 1 to do some operation in the bank\"))\n",
    "    "
   ]
  },
  {
   "cell_type": "code",
   "execution_count": 50,
   "metadata": {},
   "outputs": [
    {
     "ename": "ModuleNotFoundError",
     "evalue": "No module named 'all_my_classes'",
     "output_type": "error",
     "traceback": [
      "\u001b[0;31m---------------------------------------------------------------------------\u001b[0m",
      "\u001b[0;31mModuleNotFoundError\u001b[0m                       Traceback (most recent call last)",
      "\u001b[1;32m/home/sysadm/Documents/working_directory/RKMVERI/IPYTHONNOTEBOOK/pds_class_14.ipynb Cell 3\u001b[0m line \u001b[0;36m1\n\u001b[0;32m----> <a href='vscode-notebook-cell:/home/sysadm/Documents/working_directory/RKMVERI/IPYTHONNOTEBOOK/pds_class_14.ipynb#W2sZmlsZQ%3D%3D?line=0'>1</a>\u001b[0m \u001b[39mimport\u001b[39;00m \u001b[39mall_my_classes\u001b[39;00m \u001b[39mas\u001b[39;00m \u001b[39mamc\u001b[39;00m\n\u001b[1;32m      <a href='vscode-notebook-cell:/home/sysadm/Documents/working_directory/RKMVERI/IPYTHONNOTEBOOK/pds_class_14.ipynb#W2sZmlsZQ%3D%3D?line=2'>3</a>\u001b[0m \u001b[39mclass\u001b[39;00m \u001b[39mmy_subclass\u001b[39;00m(amc\u001b[39m.\u001b[39mmy_class):\n\u001b[1;32m      <a href='vscode-notebook-cell:/home/sysadm/Documents/working_directory/RKMVERI/IPYTHONNOTEBOOK/pds_class_14.ipynb#W2sZmlsZQ%3D%3D?line=3'>4</a>\u001b[0m \u001b[39m\t\u001b[39m\u001b[39m\"\"\"\u001b[39;00m\n\u001b[1;32m      <a href='vscode-notebook-cell:/home/sysadm/Documents/working_directory/RKMVERI/IPYTHONNOTEBOOK/pds_class_14.ipynb#W2sZmlsZQ%3D%3D?line=4'>5</a>\u001b[0m \u001b[39m\tThis is a sublcass of my_class imported from the all_my_classes module\u001b[39;00m\n\u001b[1;32m      <a href='vscode-notebook-cell:/home/sysadm/Documents/working_directory/RKMVERI/IPYTHONNOTEBOOK/pds_class_14.ipynb#W2sZmlsZQ%3D%3D?line=5'>6</a>\u001b[0m \u001b[39m\tThis demonstrates the creation and usage of subclasses (inheritance) in python\u001b[39;00m\n\u001b[1;32m      <a href='vscode-notebook-cell:/home/sysadm/Documents/working_directory/RKMVERI/IPYTHONNOTEBOOK/pds_class_14.ipynb#W2sZmlsZQ%3D%3D?line=6'>7</a>\u001b[0m \u001b[39m\t\"\"\"\u001b[39;00m\n",
      "\u001b[0;31mModuleNotFoundError\u001b[0m: No module named 'all_my_classes'"
     ]
    }
   ],
   "source": [
    "#create 2 subclasses =>fixed diposite a/savings a\n",
    "#create new instance vars in subclass, new instance methods, override any one parent class method"
   ]
  }
 ],
 "metadata": {
  "kernelspec": {
   "display_name": "Python 3",
   "language": "python",
   "name": "python3"
  },
  "language_info": {
   "codemirror_mode": {
    "name": "ipython",
    "version": 3
   },
   "file_extension": ".py",
   "mimetype": "text/x-python",
   "name": "python",
   "nbconvert_exporter": "python",
   "pygments_lexer": "ipython3",
   "version": "3.10.12"
  }
 },
 "nbformat": 4,
 "nbformat_minor": 2
}
