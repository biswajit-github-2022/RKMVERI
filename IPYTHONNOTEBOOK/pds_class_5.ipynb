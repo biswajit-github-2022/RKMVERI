{
 "cells": [
  {
   "cell_type": "code",
   "execution_count": 4,
   "metadata": {},
   "outputs": [],
   "source": [
    "import random\n"
   ]
  },
  {
   "cell_type": "code",
   "execution_count": 5,
   "metadata": {},
   "outputs": [
    {
     "name": "stdout",
     "output_type": "stream",
     "text": [
      "{'A': [94, 90, 94, 82, 100, 91, 86, 88, 99, 91, 86, 94, 97, 96, 99, 83, 92, 97, 83, 89, 92, 83], 'B': [75, 73, 62, 73, 71, 66, 63, 69, 63, 74, 67, 66, 74, 63, 78, 72, 62, 78, 68, 60], 'C': [59, 30, 1, 49, 54, 31, 17, 56, 29, 14, 43, 55, 24, 35, 16, 33, 53, 39, 50, 17, 33, 20, 41, 32, 45, 49, 47, 2, 3, 31, 45, 3, 19, 38, 50, 4, 39, 44, 51, 5, 2, 2, 52, 1, 22, 55, 20, 53, 52, 46, 44, 52, 14, 43, 1, 44, 10, 25]}\n"
     ]
    }
   ],
   "source": [
    "marks_list=[]\n",
    "for i in range(100):\n",
    "    x=random.randint(1,100)\n",
    "    marks_list.append(x)\n",
    "# marks_list\n",
    "\n",
    "l1=[]\n",
    "l2=[]\n",
    "l3=[]\n",
    "grade_box={\"A\":[],\"B\":[],\"C\":[]}\n",
    "for i in marks_list:\n",
    "    if i<=100 and i>=80:\n",
    "        l1.append(i)\n",
    "    if i<80 and i>=60:\n",
    "        l2.append(i)\n",
    "    if i<60:\n",
    "        l3.append(i)\n",
    "\n",
    "grade_box[\"A\"]=l1\n",
    "grade_box[\"B\"]=l2\n",
    "grade_box[\"C\"]=l3\n",
    "\n",
    "print(grade_box)"
   ]
  },
  {
   "cell_type": "code",
   "execution_count": 6,
   "metadata": {},
   "outputs": [
    {
     "name": "stdout",
     "output_type": "stream",
     "text": [
      "{'A': [94, 90, 94, 82, 100, 91, 86, 88, 99, 91, 86, 94, 97, 96, 99, 83, 92, 97, 83, 89, 92, 83], 'B': [75, 73, 62, 73, 71, 66, 63, 69, 63, 74, 67, 66, 74, 63, 78, 72, 62, 78, 68, 60], 'C': [59, 30, 1, 49, 54, 31, 17, 56, 29, 14, 43, 55, 24, 35, 16, 33, 53, 39, 50, 17, 33, 20, 41, 32, 45, 49, 47, 2, 3, 31, 45, 3, 19, 38, 50, 4, 39, 44, 51, 5, 2, 2, 52, 1, 22, 55, 20, 53, 52, 46, 44, 52, 14, 43, 1, 44, 10, 25]}\n"
     ]
    }
   ],
   "source": [
    "#create a list error=>[(A,55,10)]\n",
    "print(grade_box)\n",
    "grade_box[\"A\"][4]=55\n",
    "grade_box[\"A\"][7]=12"
   ]
  },
  {
   "cell_type": "code",
   "execution_count": 7,
   "metadata": {},
   "outputs": [
    {
     "data": {
      "text/plain": [
       "[('A', 55, 4), ('A', 12, 7)]"
      ]
     },
     "execution_count": 7,
     "metadata": {},
     "output_type": "execute_result"
    }
   ],
   "source": [
    "err=[]\n",
    "\n",
    "for j in range(len(grade_box[\"A\"])):\n",
    "    if grade_box[\"A\"][j]<80 or grade_box[\"A\"][j]>100 :\n",
    "        x=tuple(('A',grade_box[\"A\"][j],j))\n",
    "        err.append(x)\n",
    "        # print(f'[(A,{grade_box[\"A\"][j]},{j})]')\n",
    "for j in range(len(grade_box[\"B\"])):\n",
    "    if grade_box[\"B\"][j]<60 or grade_box[\"B\"][j]>=80:\n",
    "        x=tuple(('B',grade_box[\"B\"][j],j))\n",
    "        err.append(x)\n",
    "        # print(f'[(B,{grade_box[\"B\"][j]},{j})]')\n",
    "for j in range(len(grade_box[\"C\"])):\n",
    "    if grade_box[\"C\"][j]<0 or grade_box[\"C\"][j]>=60:\n",
    "        x=tuple(('C',grade_box[\"C\"][j],j))\n",
    "        err.append(x)\n",
    "        # print(f'[(C,{grade_box[\"C\"][j]},{j})]')\n",
    "err"
   ]
  },
  {
   "cell_type": "code",
   "execution_count": 8,
   "metadata": {},
   "outputs": [],
   "source": [
    "#########inp Grade structure and Marks list\n",
    "# output: grades  and count"
   ]
  },
  {
   "cell_type": "code",
   "execution_count": 13,
   "metadata": {},
   "outputs": [
    {
     "name": "stdout",
     "output_type": "stream",
     "text": [
      "[55, 91, 98, 35, 24, 10, 13, 95, 50, 19, 1, 43, 49, 74, 80, 95, 46, 26, 47, 35]\n"
     ]
    }
   ],
   "source": [
    "GS=[(\"A1\",100,80),(\"A2\",79,60),(\"A3\",59,30),(\"A4\",29,0)]\n",
    "M=[]\n",
    "for i in range(20):\n",
    "    x=random.randint(1,100)\n",
    "    M.append(x)\n",
    "print(M)\n"
   ]
  },
  {
   "cell_type": "code",
   "execution_count": 14,
   "metadata": {},
   "outputs": [],
   "source": [
    "def create_result (p1,p2):\n",
    "    l_class=[]\n",
    "    for i in p1:\n",
    "        l_class.append([])\n",
    "    x=[]\n",
    "    grade_box={}\n",
    "    for i in p2:\n",
    "        for j in range(len(p1)):\n",
    "            if i<=p1[j][1] and i>=p1[j][2]:\n",
    "                l_class[j].append(i)\n",
    "    for i in range(len(p1)):\n",
    "        grade_box[p1[i][0]]=l_class[i]\n",
    "        x.append((p1[i][0],len(l_class[i])))\n",
    "\n",
    "    return grade_box,x"
   ]
  },
  {
   "cell_type": "code",
   "execution_count": 16,
   "metadata": {},
   "outputs": [
    {
     "data": {
      "text/plain": [
       "({'A1': [91, 98, 95, 80, 95],\n",
       "  'A2': [74],\n",
       "  'A3': [55, 35, 50, 43, 49, 46, 47, 35],\n",
       "  'A4': [24, 10, 13, 19, 1, 26]},\n",
       " [('A1', 5), ('A2', 1), ('A3', 8), ('A4', 6)])"
      ]
     },
     "execution_count": 16,
     "metadata": {},
     "output_type": "execute_result"
    }
   ],
   "source": [
    "a=create_result(GS,M)\n",
    "a"
   ]
  },
  {
   "cell_type": "code",
   "execution_count": 12,
   "metadata": {},
   "outputs": [
    {
     "name": "stdout",
     "output_type": "stream",
     "text": [
      "['a', 'b', 'c', 'd']\n",
      "[1, 2, 3, 4]\n",
      "[10, 9, 5, 11]\n"
     ]
    }
   ],
   "source": [
    "l1=['a','b','c']\n",
    "l2=[1,2,3]\n",
    "l3=[10,9,5]\n",
    "def func1(p1,p2,p3):\n",
    "    p1.append('d')\n",
    "    p2.append(4)\n",
    "    p3.append(11)\n",
    "func1(l1,l2,l3)\n",
    "print(l1)\n",
    "print(l2)\n",
    "print(l3)"
   ]
  }
 ],
 "metadata": {
  "kernelspec": {
   "display_name": "Python 3",
   "language": "python",
   "name": "python3"
  },
  "language_info": {
   "codemirror_mode": {
    "name": "ipython",
    "version": 3
   },
   "file_extension": ".py",
   "mimetype": "text/x-python",
   "name": "python",
   "nbconvert_exporter": "python",
   "pygments_lexer": "ipython3",
   "version": "3.10.12"
  },
  "orig_nbformat": 4
 },
 "nbformat": 4,
 "nbformat_minor": 2
}
