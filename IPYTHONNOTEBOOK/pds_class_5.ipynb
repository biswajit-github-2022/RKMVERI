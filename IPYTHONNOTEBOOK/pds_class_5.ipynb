{
 "cells": [
  {
   "cell_type": "code",
   "execution_count": 21,
   "metadata": {},
   "outputs": [],
   "source": [
    "import random\n"
   ]
  },
  {
   "cell_type": "code",
   "execution_count": 26,
   "metadata": {},
   "outputs": [
    {
     "data": {
      "text/plain": [
       "{'A': [90,\n",
       "  94,\n",
       "  82,\n",
       "  86,\n",
       "  91,\n",
       "  95,\n",
       "  96,\n",
       "  83,\n",
       "  99,\n",
       "  97,\n",
       "  84,\n",
       "  88,\n",
       "  85,\n",
       "  80,\n",
       "  85,\n",
       "  83,\n",
       "  100,\n",
       "  80,\n",
       "  92,\n",
       "  87,\n",
       "  98,\n",
       "  99,\n",
       "  98,\n",
       "  87,\n",
       "  96,\n",
       "  97,\n",
       "  93,\n",
       "  81],\n",
       " 'B': [66, 77, 74, 63, 61, 67, 62, 61, 60, 62, 70, 68, 64, 79, 69, 75],\n",
       " 'C': [4,\n",
       "  5,\n",
       "  28,\n",
       "  37,\n",
       "  3,\n",
       "  10,\n",
       "  53,\n",
       "  43,\n",
       "  3,\n",
       "  36,\n",
       "  55,\n",
       "  35,\n",
       "  34,\n",
       "  19,\n",
       "  48,\n",
       "  27,\n",
       "  21,\n",
       "  52,\n",
       "  30,\n",
       "  15,\n",
       "  8,\n",
       "  14,\n",
       "  31,\n",
       "  13,\n",
       "  34,\n",
       "  27,\n",
       "  55,\n",
       "  59,\n",
       "  33,\n",
       "  34,\n",
       "  42,\n",
       "  25,\n",
       "  23,\n",
       "  13,\n",
       "  38,\n",
       "  32,\n",
       "  30,\n",
       "  56,\n",
       "  37,\n",
       "  1,\n",
       "  2,\n",
       "  20,\n",
       "  21,\n",
       "  51,\n",
       "  38,\n",
       "  40,\n",
       "  54,\n",
       "  35,\n",
       "  49,\n",
       "  35,\n",
       "  18,\n",
       "  8,\n",
       "  14,\n",
       "  21,\n",
       "  33,\n",
       "  29]}"
      ]
     },
     "execution_count": 26,
     "metadata": {},
     "output_type": "execute_result"
    }
   ],
   "source": [
    "marks_list=[]\n",
    "for i in range(100):\n",
    "    x=random.randint(1,100)\n",
    "    marks_list.append(x)\n",
    "# marks_list\n",
    "\n",
    "l1=[]\n",
    "l2=[]\n",
    "l3=[]\n",
    "grade_box={\"A\":[],\"B\":[],\"C\":[]}\n",
    "for i in marks_list:\n",
    "    if i<=100 and i>=80:\n",
    "        l1.append(i)\n",
    "    if i<80 and i>=60:\n",
    "        l2.append(i)\n",
    "    if i<60:\n",
    "        l3.append(i)\n",
    "\n",
    "grade_box[\"A\"]=l1\n",
    "grade_box[\"B\"]=l2\n",
    "grade_box[\"C\"]=l3\n",
    "\n",
    "grade_box"
   ]
  },
  {
   "cell_type": "code",
   "execution_count": 38,
   "metadata": {},
   "outputs": [
    {
     "name": "stdout",
     "output_type": "stream",
     "text": [
      "{'A': [90, 94, 82, 86, 55, 95, 96, 12, 99, 97, 84, 88, 85, 80, 85, 83, 100, 80, 92, 87, 98, 99, 98, 87, 96, 97, 93, 81], 'B': [66, 77, 74, 63, 61, 67, 62, 61, 60, 62, 70, 68, 64, 79, 69, 75], 'C': [4, 5, 28, 37, 3, 10, 53, 43, 3, 36, 55, 35, 34, 19, 48, 27, 21, 52, 30, 15, 8, 14, 31, 13, 34, 27, 55, 59, 33, 34, 42, 25, 23, 13, 38, 32, 30, 56, 37, 1, 2, 20, 21, 51, 38, 40, 54, 35, 49, 35, 18, 8, 14, 21, 33, 29]}\n"
     ]
    }
   ],
   "source": [
    "#create a list error=>[(A,55,10)]\n",
    "print(grade_box)\n",
    "grade_box[\"A\"][4]=55\n",
    "grade_box[\"A\"][7]=12"
   ]
  },
  {
   "cell_type": "code",
   "execution_count": 53,
   "metadata": {},
   "outputs": [
    {
     "data": {
      "text/plain": [
       "[('A', 55, 4), ('A', 12, 7)]"
      ]
     },
     "execution_count": 53,
     "metadata": {},
     "output_type": "execute_result"
    }
   ],
   "source": [
    "err=[]\n",
    "\n",
    "for j in range(len(grade_box[\"A\"])):\n",
    "    if grade_box[\"A\"][j]<80 or grade_box[\"A\"][j]>100 :\n",
    "        x=tuple(('A',grade_box[\"A\"][j],j))\n",
    "        err.append(x)\n",
    "        # print(f'[(A,{grade_box[\"A\"][j]},{j})]')\n",
    "for j in range(len(grade_box[\"B\"])):\n",
    "    if grade_box[\"B\"][j]<60 or grade_box[\"B\"][j]>=80:\n",
    "        x=tuple(('B',grade_box[\"B\"][j],j))\n",
    "        err.append(x)\n",
    "        # print(f'[(B,{grade_box[\"B\"][j]},{j})]')\n",
    "for j in range(len(grade_box[\"C\"])):\n",
    "    if grade_box[\"C\"][j]<0 or grade_box[\"C\"][j]>=60:\n",
    "        x=tuple(('C',grade_box[\"C\"][j],j))\n",
    "        err.append(x)\n",
    "        # print(f'[(C,{grade_box[\"C\"][j]},{j})]')\n",
    "err"
   ]
  },
  {
   "cell_type": "code",
   "execution_count": 100,
   "metadata": {},
   "outputs": [
    {
     "data": {
      "text/plain": [
       "[26, 14, 2, 19, 50, 53, 51, 6, 58, 4, 92, 13, 74, 29, 4, 38, 28, 59, 60, 23]"
      ]
     },
     "execution_count": 100,
     "metadata": {},
     "output_type": "execute_result"
    }
   ],
   "source": [
    "GS=[(\"A1\",100,80),(\"A2\",79,60),(\"A3\",59,30),(\"A4\",29,0)]\n",
    "M=[]\n",
    "for i in range(20):\n",
    "    x=random.randint(1,100)\n",
    "    M.append(x)\n",
    "M"
   ]
  },
  {
   "cell_type": "code",
   "execution_count": 103,
   "metadata": {},
   "outputs": [],
   "source": [
    "def create_result (p1,p2):\n",
    "    l1=[]\n",
    "    l2=[]\n",
    "    l3=[]\n",
    "    l4=[]\n",
    "    x=[]\n",
    "    c1,c2,c3,c4=0,0,0,0\n",
    "    grade_box={\"A1\":[],\"A2\":[],\"A3\":[],\"A4\":[]}\n",
    "    for i in p2:\n",
    "        if i<=p1[0][1] and i>=p1[0][2]:\n",
    "            l1.append(i)\n",
    "            c1+=1\n",
    "        if i<p1[1][1] and i>=p1[1][2]:\n",
    "            l2.append(i)\n",
    "            c2+=1\n",
    "        if i<p1[2][1] and i>=p1[2][2]:\n",
    "            l3.append(i)\n",
    "            c3+=1\n",
    "        if i<p1[3][1] and i>=p1[3][2]:\n",
    "            l4.append(i)\n",
    "            c4+=1\n",
    "    grade_box[\"A1\"]=l1\n",
    "    grade_box[\"A2\"]=l2\n",
    "    grade_box[\"A3\"]=l3\n",
    "    grade_box[\"A4\"]=l4\n",
    "    x=((p1[0][0],c1),(p1[1][0],c2),(p1[2][0],c3),(p1[3][0],c4))\n",
    "\n",
    "    return grade_box,x\n",
    "        "
   ]
  },
  {
   "cell_type": "code",
   "execution_count": 104,
   "metadata": {},
   "outputs": [
    {
     "data": {
      "text/plain": [
       "({'A1': [92],\n",
       "  'A2': [74, 60],\n",
       "  'A3': [50, 53, 51, 58, 38],\n",
       "  'A4': [26, 14, 2, 19, 6, 4, 13, 4, 28, 23]},\n",
       " (('A1', 1), ('A2', 2), ('A3', 5), ('A4', 10)))"
      ]
     },
     "execution_count": 104,
     "metadata": {},
     "output_type": "execute_result"
    }
   ],
   "source": [
    "a=create_result(GS,M)\n",
    "a"
   ]
  },
  {
   "cell_type": "code",
   "execution_count": 80,
   "metadata": {},
   "outputs": [
    {
     "name": "stdout",
     "output_type": "stream",
     "text": [
      "['a', 'b', 'c', 'd']\n",
      "[1, 2, 3, 4]\n",
      "[10, 9, 5, 11]\n"
     ]
    }
   ],
   "source": [
    "l1=['a','b','c']\n",
    "l2=[1,2,3]\n",
    "l3=[10,9,5]\n",
    "def func1(p1,p2,p3):\n",
    "    p1.append('d')\n",
    "    p2.append(4)\n",
    "    p3.append(11)\n",
    "func1(l1,l2,l3)\n",
    "print(l1)\n",
    "print(l2)\n",
    "print(l3)"
   ]
  }
 ],
 "metadata": {
  "kernelspec": {
   "display_name": "Python 3",
   "language": "python",
   "name": "python3"
  },
  "language_info": {
   "codemirror_mode": {
    "name": "ipython",
    "version": 3
   },
   "file_extension": ".py",
   "mimetype": "text/x-python",
   "name": "python",
   "nbconvert_exporter": "python",
   "pygments_lexer": "ipython3",
   "version": "3.10.12"
  },
  "orig_nbformat": 4
 },
 "nbformat": 4,
 "nbformat_minor": 2
}
