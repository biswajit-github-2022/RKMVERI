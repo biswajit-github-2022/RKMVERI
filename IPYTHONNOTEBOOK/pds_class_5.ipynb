{
 "cells": [
  {
   "cell_type": "code",
   "execution_count": 3,
   "metadata": {},
   "outputs": [],
   "source": [
    "import random\n"
   ]
  },
  {
   "cell_type": "code",
   "execution_count": 4,
   "metadata": {},
   "outputs": [
    {
     "name": "stdout",
     "output_type": "stream",
     "text": [
      "{'A': [100, 86, 85, 100, 87, 88, 92, 89, 95, 92, 88, 97, 90, 81, 94, 94, 100, 83, 81, 81, 90, 84, 91], 'B': [79, 75, 77, 74, 63, 60, 65, 70, 70, 76, 76, 75], 'C': [3, 47, 42, 16, 28, 2, 10, 58, 43, 56, 16, 54, 38, 42, 30, 35, 54, 8, 7, 52, 31, 8, 37, 29, 25, 48, 28, 36, 58, 25, 23, 1, 10, 15, 8, 7, 13, 29, 4, 53, 13, 28, 9, 13, 8, 43, 34, 43, 12, 46, 8, 33, 47, 1, 54, 14, 57, 37, 45, 16, 9, 11, 29, 12, 5]}\n"
     ]
    }
   ],
   "source": [
    "marks_list=[]\n",
    "for i in range(100):\n",
    "    x=random.randint(1,100)\n",
    "    marks_list.append(x)\n",
    "# marks_list\n",
    "\n",
    "l1=[]\n",
    "l2=[]\n",
    "l3=[]\n",
    "grade_box={\"A\":[],\"B\":[],\"C\":[]}\n",
    "for i in marks_list:\n",
    "    if i<=100 and i>=80:\n",
    "        l1.append(i)\n",
    "    if i<80 and i>=60:\n",
    "        l2.append(i)\n",
    "    if i<60:\n",
    "        l3.append(i)\n",
    "\n",
    "grade_box[\"A\"]=l1\n",
    "grade_box[\"B\"]=l2\n",
    "grade_box[\"C\"]=l3\n",
    "\n",
    "print(grade_box)"
   ]
  },
  {
   "cell_type": "code",
   "execution_count": 5,
   "metadata": {},
   "outputs": [
    {
     "name": "stdout",
     "output_type": "stream",
     "text": [
      "{'A': [100, 86, 85, 100, 87, 88, 92, 89, 95, 92, 88, 97, 90, 81, 94, 94, 100, 83, 81, 81, 90, 84, 91], 'B': [79, 75, 77, 74, 63, 60, 65, 70, 70, 76, 76, 75], 'C': [3, 47, 42, 16, 28, 2, 10, 58, 43, 56, 16, 54, 38, 42, 30, 35, 54, 8, 7, 52, 31, 8, 37, 29, 25, 48, 28, 36, 58, 25, 23, 1, 10, 15, 8, 7, 13, 29, 4, 53, 13, 28, 9, 13, 8, 43, 34, 43, 12, 46, 8, 33, 47, 1, 54, 14, 57, 37, 45, 16, 9, 11, 29, 12, 5]}\n"
     ]
    }
   ],
   "source": [
    "#create a list error=>[(A,55,10)]\n",
    "print(grade_box)\n",
    "grade_box[\"A\"][4]=55\n",
    "grade_box[\"A\"][7]=12"
   ]
  },
  {
   "cell_type": "code",
   "execution_count": 6,
   "metadata": {},
   "outputs": [
    {
     "data": {
      "text/plain": [
       "[('A', 55, 4), ('A', 12, 7)]"
      ]
     },
     "execution_count": 6,
     "metadata": {},
     "output_type": "execute_result"
    }
   ],
   "source": [
    "err=[]\n",
    "\n",
    "for j in range(len(grade_box[\"A\"])):\n",
    "    if grade_box[\"A\"][j]<80 or grade_box[\"A\"][j]>100 :\n",
    "        x=tuple(('A',grade_box[\"A\"][j],j))\n",
    "        err.append(x)\n",
    "        # print(f'[(A,{grade_box[\"A\"][j]},{j})]')\n",
    "for j in range(len(grade_box[\"B\"])):\n",
    "    if grade_box[\"B\"][j]<60 or grade_box[\"B\"][j]>=80:\n",
    "        x=tuple(('B',grade_box[\"B\"][j],j))\n",
    "        err.append(x)\n",
    "        # print(f'[(B,{grade_box[\"B\"][j]},{j})]')\n",
    "for j in range(len(grade_box[\"C\"])):\n",
    "    if grade_box[\"C\"][j]<0 or grade_box[\"C\"][j]>=60:\n",
    "        x=tuple(('C',grade_box[\"C\"][j],j))\n",
    "        err.append(x)\n",
    "        # print(f'[(C,{grade_box[\"C\"][j]},{j})]')\n",
    "err"
   ]
  },
  {
   "cell_type": "code",
   "execution_count": 7,
   "metadata": {},
   "outputs": [],
   "source": [
    "#########inp Grade structure and Marks list\n",
    "# output: grades  and count"
   ]
  },
  {
   "cell_type": "code",
   "execution_count": 8,
   "metadata": {},
   "outputs": [
    {
     "data": {
      "text/plain": [
       "[36,\n",
       " 71,\n",
       " 56,\n",
       " 30,\n",
       " 57,\n",
       " 77,\n",
       " 76,\n",
       " 13,\n",
       " 44,\n",
       " 73,\n",
       " 40,\n",
       " 43,\n",
       " 63,\n",
       " 71,\n",
       " 83,\n",
       " 65,\n",
       " 62,\n",
       " 36,\n",
       " 28,\n",
       " 96]"
      ]
     },
     "execution_count": 8,
     "metadata": {},
     "output_type": "execute_result"
    }
   ],
   "source": [
    "GS=[(\"A1\",100,80),(\"A2\",79,60),(\"A3\",59,30),(\"A4\",29,0)]\n",
    "M=[]\n",
    "for i in range(20):\n",
    "    x=random.randint(1,100)\n",
    "    M.append(x)\n",
    "M"
   ]
  },
  {
   "cell_type": "code",
   "execution_count": 9,
   "metadata": {},
   "outputs": [],
   "source": [
    "def create_result (p1,p2):\n",
    "    l1=[]\n",
    "    l2=[]\n",
    "    l3=[]\n",
    "    l4=[]\n",
    "    x=[]\n",
    "    c1,c2,c3,c4=0,0,0,0\n",
    "    grade_box={\"A1\":[],\"A2\":[],\"A3\":[],\"A4\":[]}\n",
    "    for i in p2:\n",
    "        if i<=p1[0][1] and i>=p1[0][2]:\n",
    "            l1.append(i)\n",
    "            c1+=1\n",
    "        if i<p1[1][1] and i>=p1[1][2]:\n",
    "            l2.append(i)\n",
    "            c2+=1\n",
    "        if i<p1[2][1] and i>=p1[2][2]:\n",
    "            l3.append(i)\n",
    "            c3+=1\n",
    "        if i<p1[3][1] and i>=p1[3][2]:\n",
    "            l4.append(i)\n",
    "            c4+=1\n",
    "    grade_box[\"A1\"]=l1\n",
    "    grade_box[\"A2\"]=l2\n",
    "    grade_box[\"A3\"]=l3\n",
    "    grade_box[\"A4\"]=l4\n",
    "    x=((p1[0][0],c1),(p1[1][0],c2),(p1[2][0],c3),(p1[3][0],c4))\n",
    "\n",
    "    return grade_box,x\n",
    "        "
   ]
  },
  {
   "cell_type": "code",
   "execution_count": 10,
   "metadata": {},
   "outputs": [
    {
     "data": {
      "text/plain": [
       "({'A1': [83, 96],\n",
       "  'A2': [71, 77, 76, 73, 63, 71, 65, 62],\n",
       "  'A3': [36, 56, 30, 57, 44, 40, 43, 36],\n",
       "  'A4': [13, 28]},\n",
       " (('A1', 2), ('A2', 8), ('A3', 8), ('A4', 2)))"
      ]
     },
     "execution_count": 10,
     "metadata": {},
     "output_type": "execute_result"
    }
   ],
   "source": [
    "a=create_result(GS,M)\n",
    "a"
   ]
  },
  {
   "cell_type": "code",
   "execution_count": 11,
   "metadata": {},
   "outputs": [
    {
     "name": "stdout",
     "output_type": "stream",
     "text": [
      "['a', 'b', 'c', 'd']\n",
      "[1, 2, 3, 4]\n",
      "[10, 9, 5, 11]\n"
     ]
    }
   ],
   "source": [
    "l1=['a','b','c']\n",
    "l2=[1,2,3]\n",
    "l3=[10,9,5]\n",
    "def func1(p1,p2,p3):\n",
    "    p1.append('d')\n",
    "    p2.append(4)\n",
    "    p3.append(11)\n",
    "func1(l1,l2,l3)\n",
    "print(l1)\n",
    "print(l2)\n",
    "print(l3)"
   ]
  }
 ],
 "metadata": {
  "kernelspec": {
   "display_name": "Python 3",
   "language": "python",
   "name": "python3"
  },
  "language_info": {
   "codemirror_mode": {
    "name": "ipython",
    "version": 3
   },
   "file_extension": ".py",
   "mimetype": "text/x-python",
   "name": "python",
   "nbconvert_exporter": "python",
   "pygments_lexer": "ipython3",
   "version": "3.10.5"
  },
  "orig_nbformat": 4
 },
 "nbformat": 4,
 "nbformat_minor": 2
}
