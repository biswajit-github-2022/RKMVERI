{
 "cells": [
  {
   "cell_type": "code",
   "execution_count": 17,
   "metadata": {},
   "outputs": [
    {
     "name": "stdout",
     "output_type": "stream",
     "text": [
      "['B', 'D']\n"
     ]
    }
   ],
   "source": [
    "l=[2,5,7,1,4]\n",
    "a=[]\n",
    "for i in l:\n",
    "    if i%2==0:\n",
    "        a.append(chr(64+i))\n",
    "print(a)"
   ]
  },
  {
   "cell_type": "code",
   "execution_count": 19,
   "metadata": {},
   "outputs": [
    {
     "data": {
      "text/plain": [
       "['B', 'D']"
      ]
     },
     "execution_count": 19,
     "metadata": {},
     "output_type": "execute_result"
    }
   ],
   "source": [
    "l=[2,5,7,1,4]\n",
    "for i in range(len(l)):\n",
    "    if l[i]%2==0:\n",
    "        l.insert(i,chr(64+i))\n",
    "    else:\n",
    "        l.remove(i)\n",
    "print(a)"
   ]
  },
  {
   "cell_type": "code",
   "execution_count": 35,
   "metadata": {},
   "outputs": [
    {
     "data": {
      "text/plain": [
       "['B', 'D']"
      ]
     },
     "execution_count": 35,
     "metadata": {},
     "output_type": "execute_result"
    }
   ],
   "source": [
    "a=[]\n",
    "a=[chr(64+i) for i in l if i%2==0 ]\n",
    "a"
   ]
  },
  {
   "cell_type": "code",
   "execution_count": 6,
   "metadata": {},
   "outputs": [
    {
     "name": "stdout",
     "output_type": "stream",
     "text": [
      "['B', 'D']\n"
     ]
    }
   ],
   "source": [
    "#list comprehension\n",
    "a=[]\n",
    "a=[chr(64+i) for i in l if i%2==0]\n",
    "a"
   ]
  },
  {
   "cell_type": "code",
   "execution_count": 28,
   "metadata": {},
   "outputs": [
    {
     "name": "stdout",
     "output_type": "stream",
     "text": [
      "['a', 'bb', 'ccc', 'dddd']\n"
     ]
    }
   ],
   "source": [
    "l1=['a','b','c','d']\n",
    "s=[]\n",
    "for i in range(len(l1)):\n",
    "    s.append(l1[i]*(i+1))\n",
    "print(s)"
   ]
  },
  {
   "cell_type": "code",
   "execution_count": 27,
   "metadata": {},
   "outputs": [
    {
     "name": "stdout",
     "output_type": "stream",
     "text": [
      "['a', 'bb', 'ccc', 'dddd']\n"
     ]
    }
   ],
   "source": [
    "s=[]\n",
    "for i,e in enumerate(l1):\n",
    "    s.append(e*(i+1))\n",
    "print(s)"
   ]
  },
  {
   "cell_type": "code",
   "execution_count": 26,
   "metadata": {},
   "outputs": [
    {
     "data": {
      "text/plain": [
       "['a', 'bb', 'ccc', 'dddd']"
      ]
     },
     "execution_count": 26,
     "metadata": {},
     "output_type": "execute_result"
    }
   ],
   "source": [
    "#list comprehension\n",
    "s=[]\n",
    "s=[e*(i+1) for i,e in enumerate(l1)]\n",
    "s"
   ]
  },
  {
   "cell_type": "code",
   "execution_count": 39,
   "metadata": {},
   "outputs": [
    {
     "name": "stdout",
     "output_type": "stream",
     "text": [
      "<generator object <genexpr> at 0x7f52d4cbc430>\n",
      "a\n",
      "bb\n",
      "ccc\n",
      "dddd\n"
     ]
    }
   ],
   "source": [
    "g1=(e*(i+1) for i,e in enumerate(l1))\n",
    "print(g1)\n",
    "for e in g1:\n",
    "    print(e)"
   ]
  },
  {
   "cell_type": "code",
   "execution_count": 45,
   "metadata": {},
   "outputs": [
    {
     "name": "stdout",
     "output_type": "stream",
     "text": [
      "a\n",
      "b\n",
      "c\n",
      "c\n"
     ]
    }
   ],
   "source": [
    "def myGen():\n",
    "    yield 'a'\n",
    "    yield 'b'\n",
    "    yield 'c'\n",
    "    yield 'c'\n",
    "for i in myGen():\n",
    "    print(i)\n",
    "\n"
   ]
  },
  {
   "cell_type": "code",
   "execution_count": 51,
   "metadata": {},
   "outputs": [
    {
     "name": "stdout",
     "output_type": "stream",
     "text": [
      "a\n",
      "b\n",
      "c\n"
     ]
    },
    {
     "data": {
      "text/plain": [
       "['c']"
      ]
     },
     "execution_count": 51,
     "metadata": {},
     "output_type": "execute_result"
    }
   ],
   "source": [
    "y=myGen()\n",
    "print(next(y))\n",
    "print(next(y))\n",
    "print(next(y))\n",
    "list(y)"
   ]
  },
  {
   "cell_type": "code",
   "execution_count": 49,
   "metadata": {},
   "outputs": [
    {
     "name": "stdout",
     "output_type": "stream",
     "text": [
      "0\n",
      "2\n",
      "4\n",
      "6\n",
      "8\n",
      "10\n",
      "12\n",
      "14\n",
      "16\n",
      "18\n"
     ]
    }
   ],
   "source": [
    "def myGen2(j):\n",
    "    for i in range(j):\n",
    "        yield i*2\n",
    "for e in myGen2(10):\n",
    "    print(e)"
   ]
  },
  {
   "cell_type": "code",
   "execution_count": null,
   "metadata": {},
   "outputs": [],
   "source": [
    "#Exception handling\n",
    "#syntax error\n",
    "#runtime error"
   ]
  },
  {
   "cell_type": "code",
   "execution_count": null,
   "metadata": {},
   "outputs": [],
   "source": [
    "def my_add(x,y):\n",
    "    return x+y\n",
    "try:\n",
    "    x=int(1)\n",
    "    #x=int('a)\n",
    "    #my_add(2,'a)\n",
    "    #'a'+10\n",
    "    #print(qq)\n",
    "    \n",
    "except ValueError:\n",
    "    print(\"Oops! That was no valid number. Try again...\")\n",
    "except (TypeError, NameError) as e:\n",
    "    print(\"It is either a TypeError or NameError ::\", e)\n",
    "    print(f'caught {type(e)}')\n",
    "except Exception as e:\n",
    "    print(e.args[1])\n",
    "else:\n",
    "    print(\"everything went fine (no exception occured). you may like to do wrap up activities here such as closing open files, etc.\")\n",
    "finally:\n",
    "    print(\"this will always execute w/ or w/o exception occuring\")"
   ]
  }
 ],
 "metadata": {
  "kernelspec": {
   "display_name": "Python 3",
   "language": "python",
   "name": "python3"
  },
  "language_info": {
   "codemirror_mode": {
    "name": "ipython",
    "version": 3
   },
   "file_extension": ".py",
   "mimetype": "text/x-python",
   "name": "python",
   "nbconvert_exporter": "python",
   "pygments_lexer": "ipython3",
   "version": "3.10.12"
  }
 },
 "nbformat": 4,
 "nbformat_minor": 2
}
