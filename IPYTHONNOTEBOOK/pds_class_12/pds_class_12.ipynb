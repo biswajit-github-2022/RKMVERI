{
 "cells": [
  {
   "cell_type": "code",
   "execution_count": 4,
   "metadata": {},
   "outputs": [
    {
     "name": "stdout",
     "output_type": "stream",
     "text": [
      "['B', 'D']\n"
     ]
    }
   ],
   "source": [
    "l=[2,5,7,1,4]\n",
    "a=[]\n",
    "for i in l:\n",
    "    if i%2==0:\n",
    "        a.append(chr(64+i))\n",
    "print(a)"
   ]
  },
  {
   "cell_type": "code",
   "execution_count": 6,
   "metadata": {},
   "outputs": [
    {
     "name": "stdout",
     "output_type": "stream",
     "text": [
      "['B', 'D']\n"
     ]
    }
   ],
   "source": [
    "l=[2,5,7,1,4]\n",
    "for i in range(len(l)):\n",
    "    if l[i]%2==0:\n",
    "        l.insert(i,chr(64+i))\n",
    "    else:\n",
    "        l.remove(i)\n",
    "print(a)"
   ]
  }
 ],
 "metadata": {
  "kernelspec": {
   "display_name": "Python 3",
   "language": "python",
   "name": "python3"
  },
  "language_info": {
   "codemirror_mode": {
    "name": "ipython",
    "version": 3
   },
   "file_extension": ".py",
   "mimetype": "text/x-python",
   "name": "python",
   "nbconvert_exporter": "python",
   "pygments_lexer": "ipython3",
   "version": "3.10.12"
  }
 },
 "nbformat": 4,
 "nbformat_minor": 2
}
