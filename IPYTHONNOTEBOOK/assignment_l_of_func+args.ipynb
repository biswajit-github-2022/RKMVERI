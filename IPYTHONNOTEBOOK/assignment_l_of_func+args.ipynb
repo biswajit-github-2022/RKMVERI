{
 "cells": [
  {
   "cell_type": "code",
   "execution_count": 2,
   "metadata": {},
   "outputs": [],
   "source": [
    "def f1(*args):\n",
    "    return max(args)-min(args)\n",
    "def f2(*args):\n",
    "    return min(args)\n",
    "def f3(*args):\n",
    "    return max(args)"
   ]
  },
  {
   "cell_type": "code",
   "execution_count": 5,
   "metadata": {},
   "outputs": [
    {
     "data": {
      "text/plain": [
       "'for 4 number of parameters 3 is range of parameters'"
      ]
     },
     "execution_count": 5,
     "metadata": {},
     "output_type": "execute_result"
    }
   ],
   "source": [
    "def f_wrapper(f,*args):\n",
    "    if len(args)==4:\n",
    "        return f\"for {len(args)} number of parameters {f[0](*args)} is range of parameters\" \n",
    "    if len(args)==10:\n",
    "        return f\"for {len(args)} number of parameters {f[1](*args)} is minimum of parameters\" \n",
    "    if len(args)==5:\n",
    "        return f\"for {len(args)} number of parameters {f[2](*args)} is Maximum of parameters\" \n",
    "    else:\n",
    "        return f\"no function is defind for {len(args)} number of parameters \"\n",
    "f_wrapper([f1,f2,f3],1,2,3,4)"
   ]
  }
 ],
 "metadata": {
  "kernelspec": {
   "display_name": "Python 3",
   "language": "python",
   "name": "python3"
  },
  "language_info": {
   "codemirror_mode": {
    "name": "ipython",
    "version": 3
   },
   "file_extension": ".py",
   "mimetype": "text/x-python",
   "name": "python",
   "nbconvert_exporter": "python",
   "pygments_lexer": "ipython3",
   "version": "3.10.5"
  },
  "orig_nbformat": 4
 },
 "nbformat": 4,
 "nbformat_minor": 2
}
