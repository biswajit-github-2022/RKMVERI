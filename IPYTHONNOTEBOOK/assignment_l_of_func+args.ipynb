{
 "cells": [
  {
   "cell_type": "code",
   "execution_count": 14,
   "metadata": {},
   "outputs": [],
   "source": [
    "def f1(*args):\n",
    "    return max(*args) - min(args)\n",
    "\n",
    "\n",
    "def f2(*args):\n",
    "    return min(args)\n",
    "\n",
    "\n",
    "def f3(*args):\n",
    "    return max(args)"
   ]
  },
  {
   "cell_type": "code",
   "execution_count": 17,
   "metadata": {},
   "outputs": [
    {
     "data": {
      "text/plain": [
       "'no function is defind for 1 number of parameters '"
      ]
     },
     "execution_count": 17,
     "metadata": {},
     "output_type": "execute_result"
    }
   ],
   "source": [
    "def f_wrapper(f, *args):\n",
    "    if len(args) == 4:\n",
    "        return f\"for {len(args)} number of parameters {f[0](*args)} is range of parameters\"\n",
    "    if len(args) == 10:\n",
    "        return f\"for {len(args)} number of parameters {f[1](*args)} is minimum of parameters\"\n",
    "    if len(args) == 5:\n",
    "        return f\"for {len(args)} number of parameters {f[2](*args)} is Maximum of parameters\"\n",
    "    else:\n",
    "        return f\"no function is defind for {len(args)} number of parameters \"\n",
    "\n",
    "\n",
    "function_list = [f1, f2, f3]\n",
    "f_wrapper(function_list,1)"
   ]
  }
 ],
 "metadata": {
  "kernelspec": {
   "display_name": "Python 3",
   "language": "python",
   "name": "python3"
  },
  "language_info": {
   "codemirror_mode": {
    "name": "ipython",
    "version": 3
   },
   "file_extension": ".py",
   "mimetype": "text/x-python",
   "name": "python",
   "nbconvert_exporter": "python",
   "pygments_lexer": "ipython3",
   "version": "3.10.5"
  },
  "orig_nbformat": 4
 },
 "nbformat": 4,
 "nbformat_minor": 2
}
