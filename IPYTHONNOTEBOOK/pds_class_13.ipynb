{
 "cells": [
  {
   "cell_type": "code",
   "execution_count": 85,
   "metadata": {},
   "outputs": [
    {
     "ename": "Exception",
     "evalue": "1 argument is accepted, 2 arguments are given ",
     "output_type": "error",
     "traceback": [
      "\u001b[0;31m---------------------------------------------------------------------------\u001b[0m",
      "\u001b[0;31mException\u001b[0m                                 Traceback (most recent call last)",
      "\u001b[1;32m/home/sysadm/Documents/working_directory/RKMVERI/IPYTHONNOTEBOOK/pds_class_13.ipynb Cell 1\u001b[0m line \u001b[0;36m1\n\u001b[1;32m     <a href='vscode-notebook-cell:/home/sysadm/Documents/working_directory/RKMVERI/IPYTHONNOTEBOOK/pds_class_13.ipynb#W0sZmlsZQ%3D%3D?line=12'>13</a>\u001b[0m     \u001b[39mreturn\u001b[39;00m in_F\n\u001b[1;32m     <a href='vscode-notebook-cell:/home/sysadm/Documents/working_directory/RKMVERI/IPYTHONNOTEBOOK/pds_class_13.ipynb#W0sZmlsZQ%3D%3D?line=13'>14</a>\u001b[0m f1\u001b[39m=\u001b[39mdeco(f1)\n\u001b[0;32m---> <a href='vscode-notebook-cell:/home/sysadm/Documents/working_directory/RKMVERI/IPYTHONNOTEBOOK/pds_class_13.ipynb#W0sZmlsZQ%3D%3D?line=14'>15</a>\u001b[0m f1(\u001b[39m2\u001b[39;49m,\u001b[39m2\u001b[39;49m)\n",
      "\u001b[1;32m/home/sysadm/Documents/working_directory/RKMVERI/IPYTHONNOTEBOOK/pds_class_13.ipynb Cell 1\u001b[0m line \u001b[0;36m6\n\u001b[1;32m      <a href='vscode-notebook-cell:/home/sysadm/Documents/working_directory/RKMVERI/IPYTHONNOTEBOOK/pds_class_13.ipynb#W0sZmlsZQ%3D%3D?line=3'>4</a>\u001b[0m \u001b[39mdef\u001b[39;00m \u001b[39min_F\u001b[39m(\u001b[39m*\u001b[39margs,\u001b[39m*\u001b[39m\u001b[39m*\u001b[39mkwargs):\n\u001b[1;32m      <a href='vscode-notebook-cell:/home/sysadm/Documents/working_directory/RKMVERI/IPYTHONNOTEBOOK/pds_class_13.ipynb#W0sZmlsZQ%3D%3D?line=4'>5</a>\u001b[0m     \u001b[39mif\u001b[39;00m \u001b[39mlen\u001b[39m(args)\u001b[39m>\u001b[39m\u001b[39m1\u001b[39m:\n\u001b[0;32m----> <a href='vscode-notebook-cell:/home/sysadm/Documents/working_directory/RKMVERI/IPYTHONNOTEBOOK/pds_class_13.ipynb#W0sZmlsZQ%3D%3D?line=5'>6</a>\u001b[0m         \u001b[39mraise\u001b[39;00m \u001b[39mException\u001b[39;00m(\u001b[39mf\u001b[39m\u001b[39m\"\u001b[39m\u001b[39m1 argument is accepted, \u001b[39m\u001b[39m{\u001b[39;00m\u001b[39mlen\u001b[39m(args)\u001b[39m}\u001b[39;00m\u001b[39m arguments are given \u001b[39m\u001b[39m\"\u001b[39m)\n\u001b[1;32m      <a href='vscode-notebook-cell:/home/sysadm/Documents/working_directory/RKMVERI/IPYTHONNOTEBOOK/pds_class_13.ipynb#W0sZmlsZQ%3D%3D?line=6'>7</a>\u001b[0m     \u001b[39mif\u001b[39;00m \u001b[39mnot\u001b[39;00m \u001b[39misinstance\u001b[39m(args[\u001b[39m0\u001b[39m],\u001b[39mint\u001b[39m):\n\u001b[1;32m      <a href='vscode-notebook-cell:/home/sysadm/Documents/working_directory/RKMVERI/IPYTHONNOTEBOOK/pds_class_13.ipynb#W0sZmlsZQ%3D%3D?line=7'>8</a>\u001b[0m         \u001b[39mraise\u001b[39;00m \u001b[39mException\u001b[39;00m(\u001b[39m\"\u001b[39m\u001b[39minput has to be integer\u001b[39m\u001b[39m\"\u001b[39m)\n",
      "\u001b[0;31mException\u001b[0m: 1 argument is accepted, 2 arguments are given "
     ]
    }
   ],
   "source": [
    "def f1(x:int) -> int:\n",
    "    return 10**x\n",
    "def deco(f):\n",
    "    def in_F(*args,**kwargs):\n",
    "        if len(args)>1:\n",
    "            raise Exception(f\"1 argument is accepted, {len(args)} arguments are given \")\n",
    "        if not isinstance(args[0],int):\n",
    "            raise Exception(\"input has to be integer\")\n",
    "        if isinstance(args[0],int):\n",
    "            return f(args[0])\n",
    "    return in_F\n",
    "f1=deco(f1)\n",
    "f1(2,2)"
   ]
  },
  {
   "cell_type": "code",
   "execution_count": 68,
   "metadata": {},
   "outputs": [
    {
     "ename": "TypeError",
     "evalue": "f2() got multiple values for argument 'x'",
     "output_type": "error",
     "traceback": [
      "\u001b[0;31m---------------------------------------------------------------------------\u001b[0m",
      "\u001b[0;31mTypeError\u001b[0m                                 Traceback (most recent call last)",
      "\u001b[1;32m/home/sysadm/Documents/working_directory/RKMVERI/IPYTHONNOTEBOOK/pds_class_13.ipynb Cell 2\u001b[0m line \u001b[0;36m3\n\u001b[1;32m      <a href='vscode-notebook-cell:/home/sysadm/Documents/working_directory/RKMVERI/IPYTHONNOTEBOOK/pds_class_13.ipynb#X10sZmlsZQ%3D%3D?line=0'>1</a>\u001b[0m \u001b[39mdef\u001b[39;00m \u001b[39mf2\u001b[39m(x,y):\n\u001b[1;32m      <a href='vscode-notebook-cell:/home/sysadm/Documents/working_directory/RKMVERI/IPYTHONNOTEBOOK/pds_class_13.ipynb#X10sZmlsZQ%3D%3D?line=1'>2</a>\u001b[0m     \u001b[39mreturn\u001b[39;00m x\u001b[39m+\u001b[39my\n\u001b[0;32m----> <a href='vscode-notebook-cell:/home/sysadm/Documents/working_directory/RKMVERI/IPYTHONNOTEBOOK/pds_class_13.ipynb#X10sZmlsZQ%3D%3D?line=2'>3</a>\u001b[0m f2(\u001b[39m3\u001b[39;49m,x\u001b[39m=\u001b[39;49m\u001b[39m3\u001b[39;49m)\n",
      "\u001b[0;31mTypeError\u001b[0m: f2() got multiple values for argument 'x'"
     ]
    }
   ],
   "source": [
    "def f2(x,y):\n",
    "    return x+y\n",
    "f2(3,x=3)"
   ]
  },
  {
   "cell_type": "code",
   "execution_count": null,
   "metadata": {},
   "outputs": [],
   "source": [
    "# OOP"
   ]
  },
  {
   "cell_type": "code",
   "execution_count": 6,
   "metadata": {},
   "outputs": [
    {
     "name": "stdout",
     "output_type": "stream",
     "text": [
      "initialization of the instance variables done, an instance of the class created\n",
      "No. of instances created : 1 instance var1: 1 instance var2: 100\n"
     ]
    }
   ],
   "source": [
    "class my_class:\n",
    "\t\"\"\"\n",
    "\tThis is the documentation for my_class\n",
    "\tThis class has two instance variables and one class variable\n",
    "\tThis class has two instance methods\n",
    "\t\"\"\"\n",
    "\t\n",
    "\ta_class_var = 0 #class variable\n",
    "\t\n",
    "\tdef __init__(self, param1, param2,param3=3):\n",
    "\t\t\"\"\"\n",
    "\t\tthe instance variables are initialized, class variable updated and instance created\n",
    "\t\t\"\"\"\n",
    "\t\tself._instance_var1 = param1\n",
    "\t\tself._instance_var2 = param2\n",
    "\t\tself._instance_var3 = param3\n",
    "\t\tmy_class.a_class_var += 1\n",
    "\n",
    "\t\tprint('initialization of the instance variables done, an instance of the class created')\n",
    "\n",
    "\tdef instance_method1(self,param1):\n",
    "\t\t\"\"\"\n",
    "\t\tthe doc for instance_method1\n",
    "\t\t\"\"\"\n",
    "\t\tself._instance_var1 += param1\n",
    "\t\treturn self._instance_var1\n",
    "\n",
    "\tdef instance_method2(self,param1):\n",
    "\t\tself._instance_var2 += param1\n",
    "\t\treturn self._instance_var2\n",
    "\n",
    "\tdef instance_method3(self):\n",
    "\t\tprint(f'instance method 3 output: {self._instance_var1 + self._instance_var2}')\n",
    "\t\t\n",
    "\tdef instance_method4(self,param1):\n",
    "\t\treturn self._instance_var3+param1\n",
    "\n",
    "\tdef __str__(self):\n",
    "\t\treturn f'No. of instances created : {my_class.a_class_var} instance var1: {self._instance_var1} instance var2: {self._instance_var2}'\n",
    "\n",
    "if __name__ == '__main__':\n",
    "\to1 = my_class(1,100)\n",
    "\t# print(my_class.a_class_var)\n",
    "\t# o2 = my_class(-1,-100)\n",
    "\t# print(my_class.a_class_var)\n",
    "\t# o3 = my_class(2,200)\n",
    "\t# print(my_class.a_class_var)\n",
    "\tprint(o1)\n",
    "\t# print(o2)\n",
    "\t# o1.instance_method1(3)\n",
    "\t# o1.instance_method2(3)\n",
    "\t# o1.instance_method4(3)\n",
    "\t# print(o1)\n",
    "\t# print(my_class.__doc__)\n",
    "\t# print(o1.__doc__)\n",
    "\t# print(o1.__init__.__doc__)\n",
    "\t# print(o1.instance_method1.__doc__)"
   ]
  },
  {
   "cell_type": "code",
   "execution_count": null,
   "metadata": {},
   "outputs": [],
   "source": [
    "# create a bank ac class , initial bal 1000 rs,\n",
    "#metod1: withdraw (dec) :check current bal overdrawing not allowed :if not return false :else true\n",
    "#met2:deposite(inc):do some checking\n",
    "#met3: interest :class var "
   ]
  }
 ],
 "metadata": {
  "kernelspec": {
   "display_name": "Python 3",
   "language": "python",
   "name": "python3"
  },
  "language_info": {
   "codemirror_mode": {
    "name": "ipython",
    "version": 3
   },
   "file_extension": ".py",
   "mimetype": "text/x-python",
   "name": "python",
   "nbconvert_exporter": "python",
   "pygments_lexer": "ipython3",
   "version": "3.10.12"
  }
 },
 "nbformat": 4,
 "nbformat_minor": 2
}
