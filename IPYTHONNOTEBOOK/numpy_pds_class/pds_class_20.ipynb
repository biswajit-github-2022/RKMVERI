{
 "cells": [
  {
   "cell_type": "code",
   "execution_count": 33,
   "metadata": {},
   "outputs": [],
   "source": [
    "import numpy as np"
   ]
  },
  {
   "cell_type": "code",
   "execution_count": 38,
   "metadata": {},
   "outputs": [
    {
     "name": "stdout",
     "output_type": "stream",
     "text": [
      "[[ 1  2  3  4]\n",
      " [ 5  6  7  8]\n",
      " [ 9 10 11 12]]\n",
      "[10 26 42]\n",
      "[15 18 21 24]\n"
     ]
    }
   ],
   "source": [
    "x=np.arange(1,13,1).reshape(3,4)\n",
    "print(x)\n",
    "print(np.sum(x,axis=1))\n",
    "print(np.sum(x,axis=0))"
   ]
  },
  {
   "cell_type": "code",
   "execution_count": 48,
   "metadata": {},
   "outputs": [
    {
     "name": "stdout",
     "output_type": "stream",
     "text": [
      "[[False  True False  True]\n",
      " [False  True False  True]\n",
      " [False  True False  True]]\n",
      "[[False  True False  True]\n",
      " [ True  True False  True]\n",
      " [False  True False  True]]\n",
      "[ 2  4  5  6  8 10 12]\n"
     ]
    }
   ],
   "source": []
  },
  {
   "cell_type": "code",
   "execution_count": 32,
   "metadata": {},
   "outputs": [
    {
     "name": "stdout",
     "output_type": "stream",
     "text": [
      "[[[ 1  2  3]\n",
      "  [ 4  5  6]]\n",
      "\n",
      " [[ 7  8  9]\n",
      "  [10 11 12]]]\n",
      "[[ 6 15]\n",
      " [24 33]]\n",
      "[[ 5  7  9]\n",
      " [17 19 21]]\n",
      "[[ 8 10 12]\n",
      " [14 16 18]]\n"
     ]
    }
   ],
   "source": [
    "x=np.arange(1,13,1).reshape(2,2,3)\n",
    "print(x)\n",
    "print(np.sum(x,axis=2))\n",
    "print(np.sum(x,axis=1))\n",
    "print(np.sum(x,axis=0))"
   ]
  },
  {
   "cell_type": "code",
   "execution_count": 30,
   "metadata": {},
   "outputs": [],
   "source": [
    "x=x[np.newaxis,:,:,:]"
   ]
  },
  {
   "cell_type": "code",
   "execution_count": 31,
   "metadata": {},
   "outputs": [
    {
     "name": "stdout",
     "output_type": "stream",
     "text": [
      "[[[[ 1  2  3]\n",
      "   [ 4  5  6]]\n",
      "\n",
      "  [[ 7  8  9]\n",
      "   [10 11 12]]]]\n",
      "[[[ 6 15]\n",
      "  [24 33]]]\n",
      "[[[ 5  7  9]\n",
      "  [17 19 21]]]\n",
      "[[[ 8 10 12]\n",
      "  [14 16 18]]]\n",
      "[[[ 1  2  3]\n",
      "  [ 4  5  6]]\n",
      "\n",
      " [[ 7  8  9]\n",
      "  [10 11 12]]]\n"
     ]
    }
   ],
   "source": [
    "\n",
    "\n",
    "print(x)\n",
    "print(np.sum(x,axis=3))\n",
    "print(np.sum(x,axis=2))\n",
    "print(np.sum(x,axis=1))\n",
    "print(np.sum(x,axis=0))"
   ]
  },
  {
   "cell_type": "code",
   "execution_count": 49,
   "metadata": {},
   "outputs": [],
   "source": [
    "x=np.arange(1,13,1).reshape(3,4)"
   ]
  },
  {
   "cell_type": "code",
   "execution_count": 50,
   "metadata": {},
   "outputs": [
    {
     "name": "stdout",
     "output_type": "stream",
     "text": [
      "[[False  True False  True]\n",
      " [False  True False  True]\n",
      " [False  True False  True]]\n",
      "[[False  True False  True]\n",
      " [ True  True False  True]\n",
      " [False  True False  True]]\n",
      "[ 2  4  5  6  8 10 12]\n"
     ]
    }
   ],
   "source": [
    "print(x%2==0)#boolean mask array#same shape of original\n",
    "x[x%2==0]#1D (6,) array of true vals\n",
    "print((x%2==0) | (x%5==0))\n",
    "print(x[(x%2==0) | (x%5==0)])"
   ]
  },
  {
   "cell_type": "code",
   "execution_count": 104,
   "metadata": {},
   "outputs": [
    {
     "name": "stdout",
     "output_type": "stream",
     "text": [
      "[[1 2 3]\n",
      " [4 5 6]\n",
      " [7 8 9]]\n"
     ]
    },
    {
     "data": {
      "text/plain": [
       "array([3, 5, 7])"
      ]
     },
     "execution_count": 104,
     "metadata": {},
     "output_type": "execute_result"
    }
   ],
   "source": [
    "x=np.arange(1,10,1).reshape(3,3)\n",
    "x\n",
    "print(x)\n",
    "x[[False,True,False]]\n",
    "x[[False,True,False]].shape\n",
    "x[[True,True,True],[2,1,0]]\n",
    "x[[0,1,2],[2,1,0]]\n"
   ]
  },
  {
   "cell_type": "code",
   "execution_count": 108,
   "metadata": {},
   "outputs": [
    {
     "name": "stdout",
     "output_type": "stream",
     "text": [
      "[[[4 5 6]\n",
      "  [1 2 3]\n",
      "  [4 5 6]]\n",
      "\n",
      " [[1 2 3]\n",
      "  [4 5 6]\n",
      "  [1 2 3]]\n",
      "\n",
      " [[4 5 6]\n",
      "  [1 2 3]\n",
      "  [4 5 6]]]\n",
      "[[5 2 5]\n",
      " [2 5 2]\n",
      " [5 2 5]]\n",
      "[[4 2 6]\n",
      " [1 5 3]\n",
      " [4 2 6]]\n"
     ]
    }
   ],
   "source": [
    "print(x[x%2])\n",
    "print(x[x%2,np.ones((1,3),dtype=int)])\n",
    "print(x[x%2,np.array([0,1,2])])"
   ]
  },
  {
   "cell_type": "code",
   "execution_count": 101,
   "metadata": {},
   "outputs": [
    {
     "data": {
      "text/plain": [
       "array([[[3],\n",
       "        [2],\n",
       "        [1]],\n",
       "\n",
       "       [[6],\n",
       "        [5],\n",
       "        [4]],\n",
       "\n",
       "       [[9],\n",
       "        [8],\n",
       "        [7]]])"
      ]
     },
     "execution_count": 101,
     "metadata": {},
     "output_type": "execute_result"
    }
   ],
   "source": [
    "x[:,[[2],[1],[0]]]"
   ]
  },
  {
   "cell_type": "code",
   "execution_count": 91,
   "metadata": {},
   "outputs": [
    {
     "data": {
      "text/plain": [
       "array([0, 2])"
      ]
     },
     "execution_count": 91,
     "metadata": {},
     "output_type": "execute_result"
    }
   ],
   "source": [
    "x=np.array([[0,2],[2,1]])\n",
    "x[[0,1],[True,False]]"
   ]
  },
  {
   "cell_type": "code",
   "execution_count": 94,
   "metadata": {},
   "outputs": [
    {
     "ename": "IndexError",
     "evalue": "index 2 is out of bounds for axis 1 with size 2",
     "output_type": "error",
     "traceback": [
      "\u001b[0;31m---------------------------------------------------------------------------\u001b[0m",
      "\u001b[0;31mIndexError\u001b[0m                                Traceback (most recent call last)",
      "\u001b[1;32m/home/sysadm/Documents/working_directory/RKMVERI/IPYTHONNOTEBOOK/numpy_pds_class/pds_class_20.ipynb Cell 11\u001b[0m line \u001b[0;36m1\n\u001b[0;32m----> <a href='vscode-notebook-cell:/home/sysadm/Documents/working_directory/RKMVERI/IPYTHONNOTEBOOK/numpy_pds_class/pds_class_20.ipynb#X13sZmlsZQ%3D%3D?line=0'>1</a>\u001b[0m x[:,[\u001b[39m2\u001b[39;49m,\u001b[39m0\u001b[39;49m]]\n",
      "\u001b[0;31mIndexError\u001b[0m: index 2 is out of bounds for axis 1 with size 2"
     ]
    }
   ],
   "source": [
    "x[:,[2,0]]"
   ]
  }
 ],
 "metadata": {
  "kernelspec": {
   "display_name": "Python 3",
   "language": "python",
   "name": "python3"
  },
  "language_info": {
   "codemirror_mode": {
    "name": "ipython",
    "version": 3
   },
   "file_extension": ".py",
   "mimetype": "text/x-python",
   "name": "python",
   "nbconvert_exporter": "python",
   "pygments_lexer": "ipython3",
   "version": "3.10.12"
  }
 },
 "nbformat": 4,
 "nbformat_minor": 2
}
