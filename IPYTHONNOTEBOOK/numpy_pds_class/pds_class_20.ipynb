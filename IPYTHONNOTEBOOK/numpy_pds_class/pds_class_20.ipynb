{
 "cells": [
  {
   "cell_type": "code",
   "execution_count": 2,
   "metadata": {},
   "outputs": [],
   "source": [
    "import numpy as np"
   ]
  },
  {
   "cell_type": "code",
   "execution_count": 3,
   "metadata": {},
   "outputs": [
    {
     "name": "stdout",
     "output_type": "stream",
     "text": [
      "[[ 1  2  3  4]\n",
      " [ 5  6  7  8]\n",
      " [ 9 10 11 12]]\n",
      "[10 26 42]\n",
      "[15 18 21 24]\n"
     ]
    }
   ],
   "source": [
    "x=np.arange(1,13,1).reshape(3,4)\n",
    "print(x)\n",
    "print(np.sum(x,axis=1))\n",
    "print(np.sum(x,axis=0))"
   ]
  },
  {
   "cell_type": "code",
   "execution_count": null,
   "metadata": {},
   "outputs": [],
   "source": []
  },
  {
   "cell_type": "code",
   "execution_count": 4,
   "metadata": {},
   "outputs": [
    {
     "name": "stdout",
     "output_type": "stream",
     "text": [
      "[[[ 1  2  3]\n",
      "  [ 4  5  6]]\n",
      "\n",
      " [[ 7  8  9]\n",
      "  [10 11 12]]]\n",
      "[[ 6 15]\n",
      " [24 33]]\n",
      "[[ 5  7  9]\n",
      " [17 19 21]]\n",
      "[[ 8 10 12]\n",
      " [14 16 18]]\n"
     ]
    }
   ],
   "source": [
    "x=np.arange(1,13,1).reshape(2,2,3)\n",
    "print(x)\n",
    "print(np.sum(x,axis=2))\n",
    "print(np.sum(x,axis=1))\n",
    "print(np.sum(x,axis=0))"
   ]
  },
  {
   "cell_type": "code",
   "execution_count": 5,
   "metadata": {},
   "outputs": [],
   "source": [
    "x=x[np.newaxis,:,:,:]"
   ]
  },
  {
   "cell_type": "code",
   "execution_count": 6,
   "metadata": {},
   "outputs": [
    {
     "name": "stdout",
     "output_type": "stream",
     "text": [
      "[[[[ 1  2  3]\n",
      "   [ 4  5  6]]\n",
      "\n",
      "  [[ 7  8  9]\n",
      "   [10 11 12]]]]\n",
      "[[[ 6 15]\n",
      "  [24 33]]]\n",
      "[[[ 5  7  9]\n",
      "  [17 19 21]]]\n",
      "[[[ 8 10 12]\n",
      "  [14 16 18]]]\n",
      "[[[ 1  2  3]\n",
      "  [ 4  5  6]]\n",
      "\n",
      " [[ 7  8  9]\n",
      "  [10 11 12]]]\n"
     ]
    }
   ],
   "source": [
    "\n",
    "\n",
    "print(x)\n",
    "print(np.sum(x,axis=3))\n",
    "print(np.sum(x,axis=2))\n",
    "print(np.sum(x,axis=1))\n",
    "print(np.sum(x,axis=0))"
   ]
  },
  {
   "cell_type": "code",
   "execution_count": 7,
   "metadata": {},
   "outputs": [],
   "source": [
    "x=np.arange(1,13,1).reshape(3,4)"
   ]
  },
  {
   "cell_type": "code",
   "execution_count": 8,
   "metadata": {},
   "outputs": [
    {
     "name": "stdout",
     "output_type": "stream",
     "text": [
      "[[False  True False  True]\n",
      " [False  True False  True]\n",
      " [False  True False  True]]\n",
      "[[False  True False  True]\n",
      " [ True  True False  True]\n",
      " [False  True False  True]]\n",
      "[ 2  4  5  6  8 10 12]\n"
     ]
    }
   ],
   "source": [
    "print(x%2==0)#boolean mask array#same shape of original\n",
    "x[x%2==0]#1D (6,) array of true vals\n",
    "print((x%2==0) | (x%5==0))\n",
    "print(x[(x%2==0) | (x%5==0)])"
   ]
  },
  {
   "cell_type": "code",
   "execution_count": 15,
   "metadata": {},
   "outputs": [
    {
     "name": "stdout",
     "output_type": "stream",
     "text": [
      "[[1 2 3]\n",
      " [4 5 6]\n",
      " [7 8 9]]\n",
      "[[4 5 6]]\n",
      "[3 5 7]\n"
     ]
    },
    {
     "data": {
      "text/plain": [
       "array([[1, 2, 3],\n",
       "       [4, 5, 6],\n",
       "       [7, 8, 9]])"
      ]
     },
     "execution_count": 15,
     "metadata": {},
     "output_type": "execute_result"
    }
   ],
   "source": [
    "x=np.arange(1,10,1).reshape(3,3)\n",
    "x\n",
    "print(x)\n",
    "print(x[[False,True,False]])\n",
    "x[[False,True,False]].shape\n",
    "print(x[[True,True,True],[2,1,0]])\n",
    "x[[0,1,2],[2,1,0]]\n",
    "x\n"
   ]
  },
  {
   "cell_type": "code",
   "execution_count": 10,
   "metadata": {},
   "outputs": [
    {
     "name": "stdout",
     "output_type": "stream",
     "text": [
      "[[[4 5 6]\n",
      "  [1 2 3]\n",
      "  [4 5 6]]\n",
      "\n",
      " [[1 2 3]\n",
      "  [4 5 6]\n",
      "  [1 2 3]]\n",
      "\n",
      " [[4 5 6]\n",
      "  [1 2 3]\n",
      "  [4 5 6]]]\n",
      "[[5 2 5]\n",
      " [2 5 2]\n",
      " [5 2 5]]\n",
      "[[4 2 6]\n",
      " [1 5 3]\n",
      " [4 2 6]]\n"
     ]
    }
   ],
   "source": [
    "print(x[x%2])\n",
    "print(x[x%2,np.ones((1,3),dtype=int)])\n",
    "print(x[x%2,np.array([0,1,2])])"
   ]
  },
  {
   "cell_type": "code",
   "execution_count": 11,
   "metadata": {},
   "outputs": [
    {
     "data": {
      "text/plain": [
       "array([[[3],\n",
       "        [2],\n",
       "        [1]],\n",
       "\n",
       "       [[6],\n",
       "        [5],\n",
       "        [4]],\n",
       "\n",
       "       [[9],\n",
       "        [8],\n",
       "        [7]]])"
      ]
     },
     "execution_count": 11,
     "metadata": {},
     "output_type": "execute_result"
    }
   ],
   "source": [
    "x[:,[[2],[1],[0]]]"
   ]
  },
  {
   "cell_type": "code",
   "execution_count": 12,
   "metadata": {},
   "outputs": [
    {
     "data": {
      "text/plain": [
       "array([0, 2])"
      ]
     },
     "execution_count": 12,
     "metadata": {},
     "output_type": "execute_result"
    }
   ],
   "source": [
    "x=np.array([[0,2],[2,1]])\n",
    "x[[0,1],[True,False]]"
   ]
  },
  {
   "cell_type": "code",
   "execution_count": 13,
   "metadata": {},
   "outputs": [
    {
     "ename": "IndexError",
     "evalue": "index 2 is out of bounds for axis 0 with size 2",
     "output_type": "error",
     "traceback": [
      "\u001b[1;31m---------------------------------------------------------------------------\u001b[0m",
      "\u001b[1;31mIndexError\u001b[0m                                Traceback (most recent call last)",
      "\u001b[1;32mc:\\Users\\biswajit\\Downloads\\RKMVERI\\Desktop\\RKMVERI\\IPYTHONNOTEBOOK\\numpy_pds_class\\pds_class_20.ipynb Cell 13\u001b[0m line \u001b[0;36m1\n\u001b[1;32m----> <a href='vscode-notebook-cell:/c%3A/Users/biswajit/Downloads/RKMVERI/Desktop/RKMVERI/IPYTHONNOTEBOOK/numpy_pds_class/pds_class_20.ipynb#X15sZmlsZQ%3D%3D?line=0'>1</a>\u001b[0m x[[\u001b[39m2\u001b[39;49m,\u001b[39m0\u001b[39;49m,\u001b[39m1\u001b[39;49m],[\u001b[39m2\u001b[39;49m,\u001b[39m0\u001b[39;49m,\u001b[39m1\u001b[39;49m]]\n",
      "\u001b[1;31mIndexError\u001b[0m: index 2 is out of bounds for axis 0 with size 2"
     ]
    }
   ],
   "source": [
    "x[[2,0,1],[2,0,1]]"
   ]
  }
 ],
 "metadata": {
  "kernelspec": {
   "display_name": "Python 3",
   "language": "python",
   "name": "python3"
  },
  "language_info": {
   "codemirror_mode": {
    "name": "ipython",
    "version": 3
   },
   "file_extension": ".py",
   "mimetype": "text/x-python",
   "name": "python",
   "nbconvert_exporter": "python",
   "pygments_lexer": "ipython3",
   "version": "3.10.5"
  }
 },
 "nbformat": 4,
 "nbformat_minor": 2
}
