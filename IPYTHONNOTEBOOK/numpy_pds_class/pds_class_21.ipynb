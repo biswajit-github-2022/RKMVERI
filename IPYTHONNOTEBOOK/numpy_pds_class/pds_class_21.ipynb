{
 "cells": [
  {
   "cell_type": "code",
   "execution_count": 6,
   "metadata": {},
   "outputs": [],
   "source": [
    "import numpy as np\n",
    "import matplotlib.pyplot as plt"
   ]
  },
  {
   "cell_type": "code",
   "execution_count": 3,
   "metadata": {},
   "outputs": [
    {
     "data": {
      "text/plain": [
       "array([[[ 0,  1,  2],\n",
       "        [ 3,  4,  5]],\n",
       "\n",
       "       [[ 6,  7,  8],\n",
       "        [ 9, 10, 11]],\n",
       "\n",
       "       [[12, 13, 14],\n",
       "        [15, 16, 17]],\n",
       "\n",
       "       [[18, 19, 20],\n",
       "        [21, 22, 23]]])"
      ]
     },
     "execution_count": 3,
     "metadata": {},
     "output_type": "execute_result"
    }
   ],
   "source": [
    "x=np.arange(24).reshape((4,2,3))\n",
    "x"
   ]
  },
  {
   "cell_type": "code",
   "execution_count": 4,
   "metadata": {},
   "outputs": [
    {
     "data": {
      "text/plain": [
       "array([[[ 0,  2,  4],\n",
       "        [ 6,  8, 10]],\n",
       "\n",
       "       [[ 6,  8, 10],\n",
       "        [12, 14, 16]],\n",
       "\n",
       "       [[12, 14, 16],\n",
       "        [18, 20, 22]],\n",
       "\n",
       "       [[18, 20, 22],\n",
       "        [24, 26, 28]]])"
      ]
     },
     "execution_count": 4,
     "metadata": {},
     "output_type": "execute_result"
    }
   ],
   "source": [
    "y=np.arange(6).reshape((2,3))#from rule 1\n",
    "x+y"
   ]
  },
  {
   "cell_type": "code",
   "execution_count": 5,
   "metadata": {},
   "outputs": [
    {
     "ename": "ValueError",
     "evalue": "operands could not be broadcast together with shapes (4,2,3) (5,2,3) ",
     "output_type": "error",
     "traceback": [
      "\u001b[1;31m---------------------------------------------------------------------------\u001b[0m",
      "\u001b[1;31mValueError\u001b[0m                                Traceback (most recent call last)",
      "\u001b[1;32mc:\\Users\\biswajit\\Downloads\\RKMVERI\\Desktop\\RKMVERI\\IPYTHONNOTEBOOK\\numpy_pds_class\\pds_class_21.ipynb Cell 4\u001b[0m line \u001b[0;36m2\n\u001b[0;32m      <a href='vscode-notebook-cell:/c%3A/Users/biswajit/Downloads/RKMVERI/Desktop/RKMVERI/IPYTHONNOTEBOOK/numpy_pds_class/pds_class_21.ipynb#W3sZmlsZQ%3D%3D?line=0'>1</a>\u001b[0m y\u001b[39m=\u001b[39mnp\u001b[39m.\u001b[39marange(\u001b[39m30\u001b[39m)\u001b[39m.\u001b[39mreshape((\u001b[39m5\u001b[39m,\u001b[39m2\u001b[39m,\u001b[39m3\u001b[39m)) \u001b[39m#from rule3 \u001b[39;00m\n\u001b[1;32m----> <a href='vscode-notebook-cell:/c%3A/Users/biswajit/Downloads/RKMVERI/Desktop/RKMVERI/IPYTHONNOTEBOOK/numpy_pds_class/pds_class_21.ipynb#W3sZmlsZQ%3D%3D?line=1'>2</a>\u001b[0m x\u001b[39m+\u001b[39;49my\n",
      "\u001b[1;31mValueError\u001b[0m: operands could not be broadcast together with shapes (4,2,3) (5,2,3) "
     ]
    }
   ],
   "source": [
    "y=np.arange(30).reshape((5,2,3)) #from rule3 \n",
    "x+y"
   ]
  },
  {
   "cell_type": "code",
   "execution_count": null,
   "metadata": {},
   "outputs": [
    {
     "data": {
      "text/plain": [
       "array([[[ 0,  1,  2],\n",
       "        [ 4,  5,  6]],\n",
       "\n",
       "       [[ 8,  9, 10],\n",
       "        [12, 13, 14]],\n",
       "\n",
       "       [[16, 17, 18],\n",
       "        [20, 21, 22]],\n",
       "\n",
       "       [[24, 25, 26],\n",
       "        [28, 29, 30]]])"
      ]
     },
     "execution_count": 13,
     "metadata": {},
     "output_type": "execute_result"
    }
   ],
   "source": [
    "y=np.arange(8).reshape((4,2,1))#from rule 2\n",
    "x+y"
   ]
  },
  {
   "cell_type": "code",
   "execution_count": null,
   "metadata": {},
   "outputs": [
    {
     "ename": "ValueError",
     "evalue": "cannot reshape array of size 10 into shape (4,2,1)",
     "output_type": "error",
     "traceback": [
      "\u001b[0;31m---------------------------------------------------------------------------\u001b[0m",
      "\u001b[0;31mValueError\u001b[0m                                Traceback (most recent call last)",
      "\u001b[1;32m/home/sysadm/Documents/working_directory/RKMVERI/IPYTHONNOTEBOOK/numpy_pds_class/pds_class_21.ipynb Cell 6\u001b[0m line \u001b[0;36m1\n\u001b[0;32m----> <a href='vscode-notebook-cell:/home/sysadm/Documents/working_directory/RKMVERI/IPYTHONNOTEBOOK/numpy_pds_class/pds_class_21.ipynb#W5sZmlsZQ%3D%3D?line=0'>1</a>\u001b[0m y\u001b[39m=\u001b[39mnp\u001b[39m.\u001b[39;49marange(\u001b[39m10\u001b[39;49m)\u001b[39m.\u001b[39;49mreshape((\u001b[39m4\u001b[39;49m,\u001b[39m2\u001b[39;49m,\u001b[39m1\u001b[39;49m))\u001b[39m#from rule 2\u001b[39;00m\n\u001b[1;32m      <a href='vscode-notebook-cell:/home/sysadm/Documents/working_directory/RKMVERI/IPYTHONNOTEBOOK/numpy_pds_class/pds_class_21.ipynb#W5sZmlsZQ%3D%3D?line=1'>2</a>\u001b[0m x\u001b[39m+\u001b[39my\n",
      "\u001b[0;31mValueError\u001b[0m: cannot reshape array of size 10 into shape (4,2,1)"
     ]
    }
   ],
   "source": [
    "y=np.arange(10).reshape((5,2,1))#from rule 3\n",
    "x+y"
   ]
  },
  {
   "cell_type": "code",
   "execution_count": null,
   "metadata": {},
   "outputs": [
    {
     "name": "stdout",
     "output_type": "stream",
     "text": [
      "[0 1 2]\n"
     ]
    },
    {
     "data": {
      "text/plain": [
       "array([[0, 1],\n",
       "       [3, 4],\n",
       "       [6, 7]])"
      ]
     },
     "execution_count": 33,
     "metadata": {},
     "output_type": "execute_result"
    }
   ],
   "source": [
    "x=np.arange(6).reshape((3,2))\n",
    "y=np.arange(3)\n",
    "print(y)\n",
    "y1=y[:,np.newaxis]\n",
    "x+y1"
   ]
  },
  {
   "cell_type": "code",
   "execution_count": null,
   "metadata": {},
   "outputs": [
    {
     "data": {
      "text/plain": [
       "array([[1, 6],\n",
       "       [2, 1],\n",
       "       [4, 5],\n",
       "       [4, 7],\n",
       "       [6, 2],\n",
       "       [3, 6],\n",
       "       [8, 1],\n",
       "       [1, 9],\n",
       "       [6, 4],\n",
       "       [1, 4],\n",
       "       [7, 3],\n",
       "       [6, 3],\n",
       "       [6, 6],\n",
       "       [2, 2],\n",
       "       [5, 7],\n",
       "       [1, 1],\n",
       "       [1, 8],\n",
       "       [4, 1],\n",
       "       [5, 8],\n",
       "       [2, 5],\n",
       "       [1, 4],\n",
       "       [1, 1],\n",
       "       [1, 7],\n",
       "       [3, 1],\n",
       "       [6, 8],\n",
       "       [7, 9],\n",
       "       [3, 3],\n",
       "       [2, 3],\n",
       "       [2, 8],\n",
       "       [5, 8],\n",
       "       [4, 4],\n",
       "       [3, 6],\n",
       "       [4, 4],\n",
       "       [8, 2],\n",
       "       [2, 4],\n",
       "       [3, 1],\n",
       "       [8, 3],\n",
       "       [2, 1],\n",
       "       [1, 9],\n",
       "       [4, 3],\n",
       "       [6, 2],\n",
       "       [4, 6],\n",
       "       [3, 7],\n",
       "       [5, 2],\n",
       "       [1, 5],\n",
       "       [7, 3],\n",
       "       [3, 2],\n",
       "       [4, 2],\n",
       "       [3, 7],\n",
       "       [2, 5],\n",
       "       [8, 6],\n",
       "       [1, 1],\n",
       "       [4, 4],\n",
       "       [8, 7],\n",
       "       [1, 9],\n",
       "       [7, 6],\n",
       "       [7, 3],\n",
       "       [8, 2],\n",
       "       [8, 7],\n",
       "       [7, 2],\n",
       "       [7, 1],\n",
       "       [3, 4],\n",
       "       [4, 1],\n",
       "       [1, 4],\n",
       "       [2, 6],\n",
       "       [2, 7],\n",
       "       [1, 8],\n",
       "       [3, 6],\n",
       "       [5, 1],\n",
       "       [5, 6],\n",
       "       [8, 9],\n",
       "       [3, 1],\n",
       "       [8, 3],\n",
       "       [4, 5],\n",
       "       [6, 3],\n",
       "       [6, 8],\n",
       "       [7, 6],\n",
       "       [3, 2],\n",
       "       [9, 4],\n",
       "       [3, 5],\n",
       "       [6, 8],\n",
       "       [7, 8],\n",
       "       [7, 5],\n",
       "       [8, 1],\n",
       "       [3, 2],\n",
       "       [2, 1],\n",
       "       [9, 5],\n",
       "       [5, 2],\n",
       "       [6, 3],\n",
       "       [7, 6],\n",
       "       [8, 6],\n",
       "       [3, 6],\n",
       "       [1, 5],\n",
       "       [2, 4],\n",
       "       [4, 9],\n",
       "       [2, 6],\n",
       "       [8, 5],\n",
       "       [5, 9],\n",
       "       [7, 2],\n",
       "       [8, 5],\n",
       "       [9, 7],\n",
       "       [6, 9],\n",
       "       [4, 9],\n",
       "       [2, 6],\n",
       "       [9, 5],\n",
       "       [9, 5],\n",
       "       [9, 2],\n",
       "       [3, 1],\n",
       "       [9, 5],\n",
       "       [1, 2],\n",
       "       [4, 2],\n",
       "       [9, 8],\n",
       "       [6, 6],\n",
       "       [3, 2],\n",
       "       [7, 9],\n",
       "       [6, 4],\n",
       "       [8, 3],\n",
       "       [8, 2],\n",
       "       [8, 9],\n",
       "       [4, 9],\n",
       "       [4, 4],\n",
       "       [8, 8],\n",
       "       [9, 2],\n",
       "       [6, 9],\n",
       "       [8, 7],\n",
       "       [8, 1],\n",
       "       [3, 7],\n",
       "       [3, 6],\n",
       "       [3, 3],\n",
       "       [9, 2],\n",
       "       [9, 6],\n",
       "       [1, 1],\n",
       "       [2, 2],\n",
       "       [7, 6],\n",
       "       [1, 9],\n",
       "       [1, 8],\n",
       "       [7, 2],\n",
       "       [8, 4],\n",
       "       [1, 2],\n",
       "       [7, 9],\n",
       "       [6, 1],\n",
       "       [3, 9],\n",
       "       [6, 5],\n",
       "       [7, 1],\n",
       "       [3, 1],\n",
       "       [4, 4],\n",
       "       [7, 8],\n",
       "       [1, 3],\n",
       "       [7, 5],\n",
       "       [1, 6],\n",
       "       [3, 7],\n",
       "       [7, 1],\n",
       "       [1, 3],\n",
       "       [1, 8],\n",
       "       [4, 7],\n",
       "       [2, 1],\n",
       "       [7, 7],\n",
       "       [5, 5],\n",
       "       [9, 7],\n",
       "       [7, 7],\n",
       "       [3, 5],\n",
       "       [8, 6],\n",
       "       [3, 6],\n",
       "       [3, 4],\n",
       "       [2, 5],\n",
       "       [7, 4],\n",
       "       [1, 9],\n",
       "       [9, 7],\n",
       "       [7, 9],\n",
       "       [5, 2],\n",
       "       [9, 7],\n",
       "       [1, 6],\n",
       "       [3, 1],\n",
       "       [6, 9],\n",
       "       [9, 1],\n",
       "       [1, 3],\n",
       "       [3, 7],\n",
       "       [5, 9],\n",
       "       [3, 7],\n",
       "       [5, 2],\n",
       "       [4, 6],\n",
       "       [1, 1],\n",
       "       [5, 2],\n",
       "       [8, 5],\n",
       "       [5, 3],\n",
       "       [3, 5],\n",
       "       [3, 1],\n",
       "       [4, 1],\n",
       "       [6, 6],\n",
       "       [9, 2],\n",
       "       [8, 4],\n",
       "       [7, 1],\n",
       "       [7, 3],\n",
       "       [2, 9],\n",
       "       [9, 5],\n",
       "       [5, 7],\n",
       "       [4, 2],\n",
       "       [8, 1],\n",
       "       [6, 7],\n",
       "       [4, 8]])"
      ]
     },
     "execution_count": 93,
     "metadata": {},
     "output_type": "execute_result"
    }
   ],
   "source": [
    "points=np.random.randint(1,10,400).reshape((200,2),order='F')\n",
    "points"
   ]
  },
  {
   "cell_type": "code",
   "execution_count": null,
   "metadata": {},
   "outputs": [
    {
     "name": "stdout",
     "output_type": "stream",
     "text": [
      "[[[0 0]\n",
      "  [0 0]\n",
      "  [0 0]\n",
      "  ...\n",
      "  [0 0]\n",
      "  [0 0]\n",
      "  [0 0]]\n",
      "\n",
      " [[0 0]\n",
      "  [0 0]\n",
      "  [0 0]\n",
      "  ...\n",
      "  [0 0]\n",
      "  [0 0]\n",
      "  [0 0]]\n",
      "\n",
      " [[0 0]\n",
      "  [0 0]\n",
      "  [0 0]\n",
      "  ...\n",
      "  [0 0]\n",
      "  [0 0]\n",
      "  [0 0]]]\n"
     ]
    }
   ],
   "source": [
    "centroids=np.array([[10,11],[9,12],[3,6]])\n",
    "# points=np.array([[1,2],[3,4],[7,2],[10,3]])\n",
    "points=np.random.randint(1,10,400).reshape((200,2),order='F')\n",
    "# dist=np.sqrt(np.sum((centroids[0]-points)**2,axis=1))\n",
    "# dist\n",
    "\n",
    "centroids_=centroids[:,np.newaxis,:]\n",
    "# dist_=np.sqrt(np.sum((centroids_-points)**2,axis=2))\n",
    "dist_=(centroids_-points)\n",
    "# print(dist_)\n",
    "\n",
    "dist=[]\n",
    "\n",
    "for i in range(centroids.shape[0]):\n",
    "    dist_i=centroids[i]-points\n",
    "    dist.append(dist_i)\n",
    "# print(np.array(dist))\n",
    "\n",
    "compare=dist_-dist\n",
    "print(compare)\n"
   ]
  },
  {
   "cell_type": "code",
   "execution_count": null,
   "metadata": {},
   "outputs": [
    {
     "data": {
      "text/plain": [
       "[0, 1, 2]"
      ]
     },
     "execution_count": 59,
     "metadata": {},
     "output_type": "execute_result"
    }
   ],
   "source": [
    "c_p_dist_=np.sqrt(np.sum((centroids_-points)**2,axis=2))\n",
    "# print(c_p_dist_)\n",
    "min_index=np.argmin(c_p_dist_,axis=0)\n",
    "s=list(set(min_index))\n",
    "s"
   ]
  },
  {
   "cell_type": "code",
   "execution_count": null,
   "metadata": {},
   "outputs": [
    {
     "name": "stdout",
     "output_type": "stream",
     "text": [
      "[[[10.         11.        ]\n",
      "  [ 9.         12.        ]\n",
      "  [ 3.          6.        ]]\n",
      "\n",
      " [[ 8.33333333  7.83333333]\n",
      "  [ 6.          9.        ]\n",
      "  [ 4.51445087  4.76300578]]\n",
      "\n",
      " [[ 1.          1.        ]\n",
      "  [ 5.          2.        ]\n",
      "  [ 4.          8.        ]]]\n",
      "[12.  9.  2.]\n"
     ]
    }
   ],
   "source": [
    "cluster=[]\n",
    "new_centroids=[]\n",
    "for i in s:\n",
    "    x=points[min_index==i]\n",
    "    cluster.append(x)\n",
    "    new_centroids.append((np.sum(cluster[i],axis=0)/cluster[i].shape[0]))\n",
    "new_centroids=np.array(new_centroids)\n",
    "# print(new_centroids)\n",
    "l=[]\n",
    "l.append(centroids)\n",
    "l.append(new_centroids)\n",
    "# l.append(d)\n",
    "l=np.array(l)\n",
    "print(l)\n",
    "print(l[:,1][:,1])"
   ]
  },
  {
   "cell_type": "code",
   "execution_count": null,
   "metadata": {},
   "outputs": [
    {
     "data": {
      "image/png": "[encoded data removed]",
      "text/plain": [
       "<Figure size 640x480 with 1 Axes>"
      ]
     },
     "metadata": {},
     "output_type": "display_data"
    }
   ],
   "source": [
    "# print(new_centroids[:,0])\n",
    "for i in range(l.shape[1]):\n",
    "    plt.plot(l[:,i][:,0],l[:,i][:,1])\n",
    "# plt.plot(new_centroids[:,0],new_centroids[:,1])"
   ]
  },
  {
   "cell_type": "code",
   "execution_count": 7,
   "metadata": {},
   "outputs": [
    {
     "data": {
      "text/plain": [
       "array([[[10.        , 11.        ],\n",
       "        [ 9.        , 12.        ],\n",
       "        [ 3.        ,  6.        ]],\n",
       "\n",
       "       [[ 8.10344828,  7.89655172],\n",
       "        [ 6.        ,  9.        ],\n",
       "        [ 4.45294118,  4.44705882]],\n",
       "\n",
       "       [[ 8.24137931,  7.24137931],\n",
       "        [ 4.33333333,  8.36363636],\n",
       "        [ 4.46376812,  3.68115942]],\n",
       "\n",
       "       [[ 7.84444444,  6.93333333],\n",
       "        [ 3.        ,  7.6122449 ],\n",
       "        [ 4.69811321,  2.91509434]]])"
      ]
     },
     "execution_count": 7,
     "metadata": {},
     "output_type": "execute_result"
    },
    {
     "data": {
      "image/png": "[encoded data removed]",
      "text/plain": [
       "<Figure size 640x480 with 1 Axes>"
      ]
     },
     "metadata": {},
     "output_type": "display_data"
    }
   ],
   "source": [
    "centroids=np.array([[10,11],[9,12],[3,6]])\n",
    "points=np.random.randint(1,10,400).reshape((200,2),order='F')\n",
    "\n",
    "def find_cluster_centroids(centroids, points):\n",
    "    all_centroids=[]\n",
    "    all_centroids.append(centroids)\n",
    "    for i in range(3):\n",
    "        centroids_=centroids[:,np.newaxis,:]\n",
    "        c_to_p_dist_=np.sqrt(np.sum((centroids_-points)**2,axis=2))\n",
    "        min_index=np.argmin(c_to_p_dist_,axis=0)\n",
    "        s=list(set(min_index))\n",
    "\n",
    "        cluster=[]\n",
    "        new_centroids=[]\n",
    "\n",
    "        for i in s:\n",
    "            x=points[min_index==i]\n",
    "            cluster.append(x)\n",
    "            new_centroids.append((np.sum(cluster[i],axis=0)/cluster[i].shape[0]))\n",
    "        new_centroids=np.array(new_centroids)\n",
    "        centroids=new_centroids\n",
    "        all_centroids.append(new_centroids)\n",
    "    all_centroids=np.array(all_centroids)\n",
    "    for i in range(all_centroids.shape[1]):\n",
    "        plt.plot(all_centroids[:,i][:,0],all_centroids[:,i][:,1])\n",
    "\n",
    "    return all_centroids\n",
    "\n",
    "\n",
    "find_cluster_centroids(centroids,points)"
   ]
  }
 ],
 "metadata": {
  "kernelspec": {
   "display_name": "Python 3",
   "language": "python",
   "name": "python3"
  },
  "language_info": {
   "codemirror_mode": {
    "name": "ipython",
    "version": 3
   },
   "file_extension": ".py",
   "mimetype": "text/x-python",
   "name": "python",
   "nbconvert_exporter": "python",
   "pygments_lexer": "ipython3",
   "version": "3.10.5"
  }
 },
 "nbformat": 4,
 "nbformat_minor": 2
}
