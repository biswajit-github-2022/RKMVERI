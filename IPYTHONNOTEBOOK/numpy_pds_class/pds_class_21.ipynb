{
 "cells": [
  {
   "cell_type": "code",
   "execution_count": 1,
   "metadata": {},
   "outputs": [],
   "source": [
    "import numpy as np\n",
    "import matplotlib.pyplot as plt"
   ]
  },
  {
   "cell_type": "code",
   "execution_count": 2,
   "metadata": {},
   "outputs": [
    {
     "data": {
      "text/plain": [
       "array([[[ 0,  1,  2],\n",
       "        [ 3,  4,  5]],\n",
       "\n",
       "       [[ 6,  7,  8],\n",
       "        [ 9, 10, 11]],\n",
       "\n",
       "       [[12, 13, 14],\n",
       "        [15, 16, 17]],\n",
       "\n",
       "       [[18, 19, 20],\n",
       "        [21, 22, 23]]])"
      ]
     },
     "execution_count": 2,
     "metadata": {},
     "output_type": "execute_result"
    }
   ],
   "source": [
    "x=np.arange(24).reshape((4,2,3))\n",
    "x"
   ]
  },
  {
   "cell_type": "code",
   "execution_count": 3,
   "metadata": {},
   "outputs": [
    {
     "data": {
      "text/plain": [
       "array([[[ 0,  2,  4],\n",
       "        [ 6,  8, 10]],\n",
       "\n",
       "       [[ 6,  8, 10],\n",
       "        [12, 14, 16]],\n",
       "\n",
       "       [[12, 14, 16],\n",
       "        [18, 20, 22]],\n",
       "\n",
       "       [[18, 20, 22],\n",
       "        [24, 26, 28]]])"
      ]
     },
     "execution_count": 3,
     "metadata": {},
     "output_type": "execute_result"
    }
   ],
   "source": [
    "y=np.arange(6).reshape((2,3))#from rule 1\n",
    "x+y"
   ]
  },
  {
   "cell_type": "code",
   "execution_count": 4,
   "metadata": {},
   "outputs": [
    {
     "data": {
      "text/plain": [
       "array([[[[ 0,  1,  2,  3,  4],\n",
       "         [ 1,  2,  3,  4,  5],\n",
       "         [ 2,  3,  4,  5,  6]],\n",
       "\n",
       "        [[ 3,  4,  5,  6,  7],\n",
       "         [ 4,  5,  6,  7,  8],\n",
       "         [ 5,  6,  7,  8,  9]]],\n",
       "\n",
       "\n",
       "       [[[ 5,  6,  7,  8,  9],\n",
       "         [ 6,  7,  8,  9, 10],\n",
       "         [ 7,  8,  9, 10, 11]],\n",
       "\n",
       "        [[ 8,  9, 10, 11, 12],\n",
       "         [ 9, 10, 11, 12, 13],\n",
       "         [10, 11, 12, 13, 14]]],\n",
       "\n",
       "\n",
       "       [[[10, 11, 12, 13, 14],\n",
       "         [11, 12, 13, 14, 15],\n",
       "         [12, 13, 14, 15, 16]],\n",
       "\n",
       "        [[13, 14, 15, 16, 17],\n",
       "         [14, 15, 16, 17, 18],\n",
       "         [15, 16, 17, 18, 19]]],\n",
       "\n",
       "\n",
       "       [[[15, 16, 17, 18, 19],\n",
       "         [16, 17, 18, 19, 20],\n",
       "         [17, 18, 19, 20, 21]],\n",
       "\n",
       "        [[18, 19, 20, 21, 22],\n",
       "         [19, 20, 21, 22, 23],\n",
       "         [20, 21, 22, 23, 24]]]])"
      ]
     },
     "execution_count": 4,
     "metadata": {},
     "output_type": "execute_result"
    }
   ],
   "source": [
    "y=np.arange(20).reshape((4,5))\n",
    "x=np.arange(6).reshape((2,3))\n",
    "y=y[:,np.newaxis,np.newaxis,:]\n",
    "x=x[np.newaxis,:,:,np.newaxis]\n",
    "x+y"
   ]
  },
  {
   "cell_type": "code",
   "execution_count": 5,
   "metadata": {},
   "outputs": [
    {
     "ename": "ValueError",
     "evalue": "operands could not be broadcast together with shapes (1,2,3,1) (5,2,3) ",
     "output_type": "error",
     "traceback": [
      "\u001b[0;31m---------------------------------------------------------------------------\u001b[0m",
      "\u001b[0;31mValueError\u001b[0m                                Traceback (most recent call last)",
      "\u001b[0;32m/tmp/ipykernel_13125/2647904357.py\u001b[0m in \u001b[0;36m<module>\u001b[0;34m\u001b[0m\n\u001b[1;32m      1\u001b[0m \u001b[0my\u001b[0m\u001b[0;34m=\u001b[0m\u001b[0mnp\u001b[0m\u001b[0;34m.\u001b[0m\u001b[0marange\u001b[0m\u001b[0;34m(\u001b[0m\u001b[0;36m30\u001b[0m\u001b[0;34m)\u001b[0m\u001b[0;34m.\u001b[0m\u001b[0mreshape\u001b[0m\u001b[0;34m(\u001b[0m\u001b[0;34m(\u001b[0m\u001b[0;36m5\u001b[0m\u001b[0;34m,\u001b[0m\u001b[0;36m2\u001b[0m\u001b[0;34m,\u001b[0m\u001b[0;36m3\u001b[0m\u001b[0;34m)\u001b[0m\u001b[0;34m)\u001b[0m \u001b[0;31m#from rule3\u001b[0m\u001b[0;34m\u001b[0m\u001b[0;34m\u001b[0m\u001b[0m\n\u001b[0;32m----> 2\u001b[0;31m \u001b[0mx\u001b[0m\u001b[0;34m+\u001b[0m\u001b[0my\u001b[0m\u001b[0;34m\u001b[0m\u001b[0;34m\u001b[0m\u001b[0m\n\u001b[0m",
      "\u001b[0;31mValueError\u001b[0m: operands could not be broadcast together with shapes (1,2,3,1) (5,2,3) "
     ]
    }
   ],
   "source": [
    "y=np.arange(30).reshape((5,2,3)) #from rule3 \n",
    "x+y"
   ]
  },
  {
   "cell_type": "code",
   "execution_count": null,
   "metadata": {},
   "outputs": [
    {
     "data": {
      "text/plain": [
       "array([[[ 0,  1,  2],\n",
       "        [ 4,  5,  6]],\n",
       "\n",
       "       [[ 8,  9, 10],\n",
       "        [12, 13, 14]],\n",
       "\n",
       "       [[16, 17, 18],\n",
       "        [20, 21, 22]],\n",
       "\n",
       "       [[24, 25, 26],\n",
       "        [28, 29, 30]]])"
      ]
     },
     "execution_count": 13,
     "metadata": {},
     "output_type": "execute_result"
    }
   ],
   "source": [
    "y=np.arange(8).reshape((4,2,1))#from rule 2\n",
    "x+y"
   ]
  },
  {
   "cell_type": "code",
   "execution_count": null,
   "metadata": {},
   "outputs": [
    {
     "ename": "ValueError",
     "evalue": "cannot reshape array of size 10 into shape (4,2,1)",
     "output_type": "error",
     "traceback": [
      "\u001b[0;31m---------------------------------------------------------------------------\u001b[0m",
      "\u001b[0;31mValueError\u001b[0m                                Traceback (most recent call last)",
      "\u001b[1;32m/home/sysadm/Documents/working_directory/RKMVERI/IPYTHONNOTEBOOK/numpy_pds_class/pds_class_21.ipynb Cell 6\u001b[0m line \u001b[0;36m1\n\u001b[0;32m----> <a href='vscode-notebook-cell:/home/sysadm/Documents/working_directory/RKMVERI/IPYTHONNOTEBOOK/numpy_pds_class/pds_class_21.ipynb#W5sZmlsZQ%3D%3D?line=0'>1</a>\u001b[0m y\u001b[39m=\u001b[39mnp\u001b[39m.\u001b[39;49marange(\u001b[39m10\u001b[39;49m)\u001b[39m.\u001b[39;49mreshape((\u001b[39m4\u001b[39;49m,\u001b[39m2\u001b[39;49m,\u001b[39m1\u001b[39;49m))\u001b[39m#from rule 2\u001b[39;00m\n\u001b[1;32m      <a href='vscode-notebook-cell:/home/sysadm/Documents/working_directory/RKMVERI/IPYTHONNOTEBOOK/numpy_pds_class/pds_class_21.ipynb#W5sZmlsZQ%3D%3D?line=1'>2</a>\u001b[0m x\u001b[39m+\u001b[39my\n",
      "\u001b[0;31mValueError\u001b[0m: cannot reshape array of size 10 into shape (4,2,1)"
     ]
    }
   ],
   "source": [
    "y=np.arange(10).reshape((5,2,1))#from rule 3\n",
    "x+y"
   ]
  },
  {
   "cell_type": "code",
   "execution_count": null,
   "metadata": {},
   "outputs": [
    {
     "name": "stdout",
     "output_type": "stream",
     "text": [
      "[0 1 2]\n"
     ]
    },
    {
     "data": {
      "text/plain": [
       "array([[0, 1],\n",
       "       [3, 4],\n",
       "       [6, 7]])"
      ]
     },
     "execution_count": 33,
     "metadata": {},
     "output_type": "execute_result"
    }
   ],
   "source": [
    "x=np.arange(6).reshape((3,2))\n",
    "y=np.arange(3)\n",
    "print(y)\n",
    "y1=y[:,np.newaxis]\n",
    "x+y1"
   ]
  },
  {
   "cell_type": "code",
   "execution_count": null,
   "metadata": {},
   "outputs": [
    {
     "ename": "NameError",
     "evalue": "name 'np' is not defined",
     "output_type": "error",
     "traceback": [
      "\u001b[1;31m---------------------------------------------------------------------------\u001b[0m",
      "\u001b[1;31mNameError\u001b[0m                                 Traceback (most recent call last)",
      "\u001b[1;32mc:\\Users\\biswajit\\Downloads\\RKMVERI\\Desktop\\RKMVERI\\IPYTHONNOTEBOOK\\numpy_pds_class\\pds_class_21.ipynb Cell 8\u001b[0m line \u001b[0;36m1\n\u001b[1;32m----> <a href='vscode-notebook-cell:/c%3A/Users/biswajit/Downloads/RKMVERI/Desktop/RKMVERI/IPYTHONNOTEBOOK/numpy_pds_class/pds_class_21.ipynb#X10sZmlsZQ%3D%3D?line=0'>1</a>\u001b[0m points\u001b[39m=\u001b[39mnp\u001b[39m.\u001b[39mrandom\u001b[39m.\u001b[39mrandint(\u001b[39m1\u001b[39m,\u001b[39m10\u001b[39m,\u001b[39m400\u001b[39m)\u001b[39m.\u001b[39mreshape((\u001b[39m200\u001b[39m,\u001b[39m2\u001b[39m),order\u001b[39m=\u001b[39m\u001b[39m'\u001b[39m\u001b[39mF\u001b[39m\u001b[39m'\u001b[39m)\n\u001b[0;32m      <a href='vscode-notebook-cell:/c%3A/Users/biswajit/Downloads/RKMVERI/Desktop/RKMVERI/IPYTHONNOTEBOOK/numpy_pds_class/pds_class_21.ipynb#X10sZmlsZQ%3D%3D?line=1'>2</a>\u001b[0m \u001b[39m# points\u001b[39;00m\n",
      "\u001b[1;31mNameError\u001b[0m: name 'np' is not defined"
     ]
    }
   ],
   "source": [
    "points=np.random.randint(1,10,400).reshape((200,2),order='F')\n",
    "# points"
   ]
  },
  {
   "cell_type": "code",
   "execution_count": null,
   "metadata": {},
   "outputs": [
    {
     "name": "stdout",
     "output_type": "stream",
     "text": [
      "[[[0 0]\n",
      "  [0 0]\n",
      "  [0 0]\n",
      "  ...\n",
      "  [0 0]\n",
      "  [0 0]\n",
      "  [0 0]]\n",
      "\n",
      " [[0 0]\n",
      "  [0 0]\n",
      "  [0 0]\n",
      "  ...\n",
      "  [0 0]\n",
      "  [0 0]\n",
      "  [0 0]]\n",
      "\n",
      " [[0 0]\n",
      "  [0 0]\n",
      "  [0 0]\n",
      "  ...\n",
      "  [0 0]\n",
      "  [0 0]\n",
      "  [0 0]]]\n"
     ]
    }
   ],
   "source": [
    "centroids=np.array([[10,11],[9,12],[3,6]])\n",
    "# points=np.array([[1,2],[3,4],[7,2],[10,3]])\n",
    "points=np.random.randint(1,10,400).reshape((200,2),order='F')\n",
    "# dist=np.sqrt(np.sum((centroids[0]-points)**2,axis=1))\n",
    "# dist\n",
    "\n",
    "centroids_=centroids[:,np.newaxis,:]\n",
    "# dist_=np.sqrt(np.sum((centroids_-points)**2,axis=2))\n",
    "dist_=(centroids_-points)\n",
    "# print(dist_)\n",
    "\n",
    "dist=[]\n",
    "\n",
    "for i in range(centroids.shape[0]):\n",
    "    dist_i=centroids[i]-points\n",
    "    dist.append(dist_i)\n",
    "# print(np.array(dist))\n",
    "\n",
    "compare=dist_-dist\n",
    "print(compare)\n"
   ]
  },
  {
   "cell_type": "code",
   "execution_count": null,
   "metadata": {},
   "outputs": [
    {
     "data": {
      "text/plain": [
       "[0, 1, 2]"
      ]
     },
     "execution_count": 59,
     "metadata": {},
     "output_type": "execute_result"
    }
   ],
   "source": [
    "c_p_dist_=np.sqrt(np.sum((centroids_-points)**2,axis=2))\n",
    "# print(c_p_dist_)\n",
    "min_index=np.argmin(c_p_dist_,axis=0)\n",
    "s=list(set(min_index))\n",
    "s"
   ]
  },
  {
   "cell_type": "code",
   "execution_count": null,
   "metadata": {},
   "outputs": [
    {
     "name": "stdout",
     "output_type": "stream",
     "text": [
      "[[[10.         11.        ]\n",
      "  [ 9.         12.        ]\n",
      "  [ 3.          6.        ]]\n",
      "\n",
      " [[ 8.33333333  7.83333333]\n",
      "  [ 6.          9.        ]\n",
      "  [ 4.51445087  4.76300578]]\n",
      "\n",
      " [[ 1.          1.        ]\n",
      "  [ 5.          2.        ]\n",
      "  [ 4.          8.        ]]]\n",
      "[12.  9.  2.]\n"
     ]
    }
   ],
   "source": [
    "cluster=[]\n",
    "new_centroids=[]\n",
    "for i in s:\n",
    "    x=points[min_index==i]\n",
    "    cluster.append(x)\n",
    "    new_centroids.append((np.sum(cluster[i],axis=0)/cluster[i].shape[0]))\n",
    "new_centroids=np.array(new_centroids)\n",
    "# print(new_centroids)\n",
    "l=[]\n",
    "l.append(centroids)\n",
    "l.append(new_centroids)\n",
    "# l.append(d)\n",
    "l=np.array(l)\n",
    "print(l)\n",
    "print(l[:,1][:,1])"
   ]
  },
  {
   "cell_type": "code",
   "execution_count": null,
   "metadata": {},
   "outputs": [
    {
     "data": {
      "image/png": "[encoded data removed]",
      "text/plain": [
       "<Figure size 640x480 with 1 Axes>"
      ]
     },
     "metadata": {},
     "output_type": "display_data"
    }
   ],
   "source": [
    "# print(new_centroids[:,0])\n",
    "for i in range(l.shape[1]):\n",
    "    plt.plot(l[:,i][:,0],l[:,i][:,1])\n",
    "# plt.plot(new_centroids[:,0],new_centroids[:,1])"
   ]
  },
  {
   "cell_type": "code",
   "execution_count": null,
   "metadata": {},
   "outputs": [],
   "source": [
    "import numpy as np\n",
    "import matplotlib.pyplot as plt"
   ]
  },
  {
   "cell_type": "code",
   "execution_count": null,
   "metadata": {},
   "outputs": [
    {
     "data": {
      "text/plain": [
       "array([0.5 , 0.09, 0.81, 0.76, 0.03, 0.22, 0.14, 0.19, 0.19, 0.06, 0.75,\n",
       "       0.13, 0.06, 0.24, 0.62, 0.1 , 0.31, 0.3 , 0.82, 0.83, 0.14, 0.97,\n",
       "       0.86, 0.85, 0.07, 0.1 , 0.64, 0.48, 0.23, 0.51, 0.31, 0.63, 0.97,\n",
       "       0.7 , 0.49, 0.13, 0.32, 0.8 , 0.38, 0.83, 0.85, 0.18, 0.43, 0.25,\n",
       "       0.38, 0.26, 0.56, 0.3 , 0.05, 0.15, 0.67, 0.01, 0.77, 0.09, 0.7 ,\n",
       "       0.04, 0.76, 0.6 , 0.66, 0.9 , 0.07, 0.05, 0.84, 0.93, 0.31, 0.94,\n",
       "       0.45, 0.87, 0.41, 0.25, 0.35, 0.17, 0.34, 0.77, 0.14, 0.81, 0.68,\n",
       "       0.56, 0.33, 0.76, 0.09, 0.21, 0.85, 0.78, 0.29, 0.59, 0.04, 0.29,\n",
       "       0.04, 0.7 , 0.59, 0.45, 0.43, 0.17, 0.28, 0.71, 0.4 , 0.25, 0.41,\n",
       "       0.98, 0.57, 0.94, 0.63, 0.13, 0.37, 0.28, 0.39, 0.83, 0.66, 0.5 ,\n",
       "       0.08, 0.84, 0.36, 0.57, 0.15, 0.15, 1.  , 0.4 , 0.1 , 0.8 , 0.52,\n",
       "       0.39, 0.28, 0.67, 0.36, 0.13, 0.94, 0.13, 0.56, 0.6 , 0.6 , 0.77,\n",
       "       0.73, 0.92, 0.31, 0.42, 0.1 , 0.47, 0.17, 0.75, 0.5 , 0.81, 0.57,\n",
       "       0.31, 0.28, 0.29, 0.2 , 0.99, 0.67, 0.35, 0.51, 0.81, 0.44, 0.73,\n",
       "       0.23, 0.29, 0.14, 0.57, 0.67, 0.58, 0.11, 0.22, 0.33, 0.05, 0.36,\n",
       "       0.74, 0.89, 0.44, 0.46, 0.94, 0.29, 0.  , 0.79, 0.88, 0.93, 0.7 ,\n",
       "       0.54, 0.77, 0.93, 0.  , 0.73, 0.8 , 0.09, 0.75, 0.77, 0.15, 0.98,\n",
       "       0.82, 0.35, 0.35, 0.36, 0.98, 0.11, 0.24, 0.04, 0.16, 0.18, 0.27,\n",
       "       0.99, 0.27])"
      ]
     },
     "execution_count": 48,
     "metadata": {},
     "output_type": "execute_result"
    }
   ],
   "source": [
    "np.round(np.random.random(200),decimals=2)"
   ]
  },
  {
   "cell_type": "code",
   "execution_count": 6,
   "metadata": {},
   "outputs": [],
   "source": [
    "centroids=np.array([[10,11],[9,12],[3,6]])\n",
    "points=np.random.randint(1,10,3200).reshape((1600,2),order='F')"
   ]
  },
  {
   "cell_type": "code",
   "execution_count": 7,
   "metadata": {},
   "outputs": [
    {
     "data": {
      "text/plain": [
       "array([[[10.        , 11.        ],\n",
       "        [ 9.        , 12.        ],\n",
       "        [ 3.        ,  6.        ]],\n",
       "\n",
       "       [[ 8.37837838,  7.48108108],\n",
       "        [ 6.        ,  9.        ],\n",
       "        [ 4.38511095,  4.56836077]],\n",
       "\n",
       "       [[ 8.34859155,  6.26408451],\n",
       "        [ 4.21052632,  8.34035088],\n",
       "        [ 4.08632396,  3.6585839 ]],\n",
       "\n",
       "       [[ 8.11111111,  5.53140097],\n",
       "        [ 3.49874055,  7.97481108],\n",
       "        [ 3.84917617,  3.13307985]]])"
      ]
     },
     "execution_count": 7,
     "metadata": {},
     "output_type": "execute_result"
    },
    {
     "data": {
      "image/png": "[encoded data removed]",
      "text/plain": [
       "<Figure size 432x288 with 1 Axes>"
      ]
     },
     "metadata": {
      "needs_background": "light"
     },
     "output_type": "display_data"
    }
   ],
   "source": [
    "\n",
    "\n",
    "def find_cluster_centroids(centroids, points):\n",
    "    all_centroids=[]\n",
    "    all_centroids.append(centroids)\n",
    "    for i in range(3):\n",
    "        centroids_=centroids[:,np.newaxis,:]\n",
    "        c_to_p_dist_=np.sqrt(np.sum((centroids_-points)**2,axis=2))\n",
    "        min_index=np.argmin(c_to_p_dist_,axis=0)\n",
    "        s=list(set(min_index))\n",
    "\n",
    "        cluster=[]\n",
    "        new_centroids=[]\n",
    "\n",
    "        for i in s:\n",
    "            x=points[min_index==i]\n",
    "            cluster.append(x)\n",
    "            new_centroids.append((np.sum(cluster[i],axis=0)/cluster[i].shape[0]))\n",
    "        new_centroids=np.array(new_centroids)\n",
    "        centroids=new_centroids\n",
    "        all_centroids.append(new_centroids)\n",
    "    all_centroids=np.array(all_centroids)\n",
    "    for i in range(all_centroids.shape[1]):\n",
    "        plt.plot(all_centroids[:,i][:,0],all_centroids[:,i][:,1])\n",
    "\n",
    "    return all_centroids\n",
    "\n",
    "\n",
    "find_cluster_centroids(centroids,points)"
   ]
  }
 ],
 "metadata": {
  "kernelspec": {
   "display_name": "Python 3",
   "language": "python",
   "name": "python3"
  },
  "language_info": {
   "codemirror_mode": {
    "name": "ipython",
    "version": 3
   },
   "file_extension": ".py",
   "mimetype": "text/x-python",
   "name": "python",
   "nbconvert_exporter": "python",
   "pygments_lexer": "ipython3",
   "version": "3.10.12"
  }
 },
 "nbformat": 4,
 "nbformat_minor": 2
}
