{
 "cells": [
  {
   "cell_type": "code",
   "execution_count": 1,
   "metadata": {},
   "outputs": [],
   "source": [
    "import numpy as np"
   ]
  },
  {
   "cell_type": "code",
   "execution_count": 2,
   "metadata": {},
   "outputs": [
    {
     "data": {
      "text/plain": [
       "array([[6, 1, 4, 2, 2],\n",
       "       [6, 4, 2, 3, 4],\n",
       "       [8, 1, 9, 7, 3]])"
      ]
     },
     "execution_count": 2,
     "metadata": {},
     "output_type": "execute_result"
    }
   ],
   "source": [
    "a = np.random.randint(1,10,size=(3,5))\n",
    "a"
   ]
  },
  {
   "cell_type": "code",
   "execution_count": 3,
   "metadata": {},
   "outputs": [
    {
     "data": {
      "text/plain": [
       "array([[9],\n",
       "       [4],\n",
       "       [9]])"
      ]
     },
     "execution_count": 3,
     "metadata": {},
     "output_type": "execute_result"
    }
   ],
   "source": [
    "b = np.random.randint(1,10,size=(3,1))\n",
    "b"
   ]
  },
  {
   "cell_type": "code",
   "execution_count": 4,
   "metadata": {},
   "outputs": [
    {
     "data": {
      "text/plain": [
       "array([[15, 10, 13, 11, 11],\n",
       "       [10,  8,  6,  7,  8],\n",
       "       [17, 10, 18, 16, 12]])"
      ]
     },
     "execution_count": 4,
     "metadata": {},
     "output_type": "execute_result"
    }
   ],
   "source": [
    "np.add(a,b)"
   ]
  },
  {
   "cell_type": "code",
   "execution_count": 5,
   "metadata": {},
   "outputs": [
    {
     "data": {
      "text/plain": [
       "array([[9, 9, 9, 9, 9],\n",
       "       [4, 4, 4, 4, 4],\n",
       "       [9, 9, 9, 9, 9]])"
      ]
     },
     "execution_count": 5,
     "metadata": {},
     "output_type": "execute_result"
    }
   ],
   "source": [
    "c = np.concatenate((b,b,b,b,b),axis =1,)\n",
    "c"
   ]
  },
  {
   "cell_type": "code",
   "execution_count": 6,
   "metadata": {},
   "outputs": [
    {
     "data": {
      "text/plain": [
       "1"
      ]
     },
     "execution_count": 6,
     "metadata": {},
     "output_type": "execute_result"
    }
   ],
   "source": [
    "x=np.array([1,2,3])\n",
    "np.ndim(x)"
   ]
  },
  {
   "cell_type": "code",
   "execution_count": 7,
   "metadata": {},
   "outputs": [
    {
     "data": {
      "text/plain": [
       "array([[9, 9, 9, 9, 9],\n",
       "       [4, 4, 4, 4, 4],\n",
       "       [9, 9, 9, 9, 9]])"
      ]
     },
     "execution_count": 7,
     "metadata": {},
     "output_type": "execute_result"
    }
   ],
   "source": [
    "c"
   ]
  },
  {
   "cell_type": "code",
   "execution_count": 8,
   "metadata": {},
   "outputs": [
    {
     "name": "stdout",
     "output_type": "stream",
     "text": [
      "[[5 5 7 2 6]\n",
      " [5 3 7 4 4]\n",
      " [9 1 2 5 5]]\n",
      "----------------------------------------------------------------------------------------------------\n",
      "[[6 5 3 2 3]]\n",
      "----------------------------------------------------------------------------------------------------\n"
     ]
    },
    {
     "data": {
      "text/plain": [
       "array([[11, 10, 10,  4,  9],\n",
       "       [11,  8, 10,  6,  7],\n",
       "       [15,  6,  5,  7,  8]])"
      ]
     },
     "execution_count": 8,
     "metadata": {},
     "output_type": "execute_result"
    }
   ],
   "source": [
    "a = np.random.randint(1,10,size=(3,5))\n",
    "d = np.random.randint(1,10,size=(1,5))\n",
    "print(a)\n",
    "print(\"--\"*50)\n",
    "print(d)\n",
    "print(\"--\"*50)\n",
    "np.add(a,d)"
   ]
  },
  {
   "cell_type": "code",
   "execution_count": 9,
   "metadata": {},
   "outputs": [
    {
     "data": {
      "text/plain": [
       "array([[30, 25, 21,  4, 18],\n",
       "       [30, 15, 21,  8, 12],\n",
       "       [54,  5,  6, 10, 15]])"
      ]
     },
     "execution_count": 9,
     "metadata": {},
     "output_type": "execute_result"
    }
   ],
   "source": [
    "a*d"
   ]
  },
  {
   "cell_type": "code",
   "execution_count": 10,
   "metadata": {},
   "outputs": [
    {
     "data": {
      "text/plain": [
       "array([[30, 25, 21,  4, 18],\n",
       "       [30, 15, 21,  8, 12],\n",
       "       [54,  5,  6, 10, 15]])"
      ]
     },
     "execution_count": 10,
     "metadata": {},
     "output_type": "execute_result"
    }
   ],
   "source": [
    "np.multiply(a,d)"
   ]
  },
  {
   "cell_type": "code",
   "execution_count": 11,
   "metadata": {},
   "outputs": [
    {
     "data": {
      "text/plain": [
       "array([[35.23, 23.71, 70.46, 25.07, 30.6 ],\n",
       "       [16.82, 46.32, 96.27, 61.32, 87.8 ],\n",
       "       [81.59, 57.24, 19.26, 45.65, 26.73]])"
      ]
     },
     "execution_count": 11,
     "metadata": {},
     "output_type": "execute_result"
    }
   ],
   "source": [
    "a2 = np.random.random(size=(3,5))\n",
    "a2 *= 100\n",
    "E = np.round(a2 , 2)\n",
    "E"
   ]
  },
  {
   "cell_type": "code",
   "execution_count": null,
   "metadata": {},
   "outputs": [],
   "source": []
  },
  {
   "cell_type": "code",
   "execution_count": 12,
   "metadata": {},
   "outputs": [
    {
     "name": "stdout",
     "output_type": "stream",
     "text": [
      "[[89.478 93.843 89.617 46.671 66.923]\n",
      " [38.061 86.824 42.074 54.214 60.059]\n",
      " [40.247 94.583 23.558 70.039  5.485]]\n"
     ]
    }
   ],
   "source": [
    "print(np.round(100*(np.random.random(size=(3,5))) ,3))"
   ]
  },
  {
   "cell_type": "code",
   "execution_count": 13,
   "metadata": {},
   "outputs": [
    {
     "name": "stdout",
     "output_type": "stream",
     "text": [
      "[[0.75817959 0.11136094 0.06437368 0.2710038  0.76388169]\n",
      " [0.09201136 0.10962296 0.89237704 0.88319393 0.22419829]\n",
      " [0.11439295 0.28341731 0.70382667 0.22501116 0.43524611]]\n",
      "----------------------------------------------------------------------------------------------------\n",
      "[[0.63293158 0.12275313 0.20634471 0.72681812 0.29889309]\n",
      " [0.33195311 0.17916007 0.90039072 0.52932048 0.69300604]\n",
      " [0.96229029 0.98438606 0.07549422 0.5510091  0.60483826]]\n",
      "----------------------------------------------------------------------------------------------------\n",
      "[[1.391  0.2341 0.2708 0.998  1.0625]\n",
      " [0.424  0.2888 1.793  1.412  0.917 ]\n",
      " [1.077  1.268  0.7793 0.776  1.04  ]]\n",
      "----------------------------------------------------------------------------------------------------\n",
      "[[1 0 0 0 1]\n",
      " [0 0 1 1 0]\n",
      " [1 1 0 0 1]]\n"
     ]
    }
   ],
   "source": [
    "e = np.random.random(size=(3,5))\n",
    "f = np.random.random(size=(3,5))\n",
    "\n",
    "print(e)\n",
    "print(\"--\"*50)\n",
    "print(f)\n",
    "print(\"--\"*50)\n",
    "g = np.add(e,f,dtype = np.float16)\n",
    "print(g)\n",
    "print(\"--\"*50)\n",
    "print(np.array(g, dtype= np.int32))"
   ]
  },
  {
   "cell_type": "code",
   "execution_count": 14,
   "metadata": {},
   "outputs": [
    {
     "name": "stdout",
     "output_type": "stream",
     "text": [
      "[[1.391  0.2341 0.2708 0.998  1.0625]\n",
      " [0.424  0.2888 1.793  1.412  0.917 ]\n",
      " [1.077  1.268  0.7793 0.776  1.04  ]]\n"
     ]
    }
   ],
   "source": [
    "a = np.random.randint(1,10,size=(3,5))\n",
    "d = np.random.randint(1,10,size=(3,5))\n",
    "f = np.add(e,f,dtype = np.float16)\n",
    "print(f)"
   ]
  },
  {
   "cell_type": "code",
   "execution_count": 15,
   "metadata": {},
   "outputs": [
    {
     "data": {
      "text/plain": [
       "array([[[[ 0,  6, 12, 18],\n",
       "         [ 2,  8, 14, 20],\n",
       "         [ 4, 10, 16, 22]],\n",
       "\n",
       "        [[ 1,  7, 13, 19],\n",
       "         [ 3,  9, 15, 21],\n",
       "         [ 5, 11, 17, 23]]]])"
      ]
     },
     "execution_count": 15,
     "metadata": {},
     "output_type": "execute_result"
    }
   ],
   "source": [
    "a = np.arange(0,24,1)\n",
    "a.reshape(1,2,3,4, order = 'F')"
   ]
  },
  {
   "cell_type": "code",
   "execution_count": 16,
   "metadata": {},
   "outputs": [
    {
     "name": "stdout",
     "output_type": "stream",
     "text": [
      "[[3 6 8 3 7]\n",
      " [2 2 4 6 7]\n",
      " [3 9 9 1 9]]\n"
     ]
    },
    {
     "data": {
      "text/plain": [
       "79"
      ]
     },
     "execution_count": 16,
     "metadata": {},
     "output_type": "execute_result"
    }
   ],
   "source": [
    "a = np.random.randint(1,10,size=(3,5))\n",
    "print(a)\n",
    "np.sum(a)"
   ]
  },
  {
   "cell_type": "code",
   "execution_count": 17,
   "metadata": {},
   "outputs": [
    {
     "data": {
      "text/plain": [
       "array([ 8, 17, 21, 10, 23])"
      ]
     },
     "execution_count": 17,
     "metadata": {},
     "output_type": "execute_result"
    }
   ],
   "source": [
    "np.sum(a , axis =  0)\n",
    "\n"
   ]
  },
  {
   "cell_type": "code",
   "execution_count": 18,
   "metadata": {},
   "outputs": [
    {
     "data": {
      "text/plain": [
       "array([27, 21, 31])"
      ]
     },
     "execution_count": 18,
     "metadata": {},
     "output_type": "execute_result"
    }
   ],
   "source": [
    "np.sum(a , axis =  1)"
   ]
  },
  {
   "cell_type": "code",
   "execution_count": 19,
   "metadata": {},
   "outputs": [
    {
     "data": {
      "text/plain": [
       "array([[ 0,  6, 12, 18],\n",
       "       [ 1,  7, 13, 19],\n",
       "       [ 2,  8, 14, 20],\n",
       "       [ 3,  9, 15, 21],\n",
       "       [ 4, 10, 16, 22],\n",
       "       [ 5, 11, 17, 23]])"
      ]
     },
     "execution_count": 19,
     "metadata": {},
     "output_type": "execute_result"
    }
   ],
   "source": [
    "a = np.arange(0,24,1)\n",
    "c = a.reshape(6,4, order = 'F')\n",
    "c"
   ]
  },
  {
   "cell_type": "code",
   "execution_count": 20,
   "metadata": {},
   "outputs": [
    {
     "data": {
      "text/plain": [
       "array([ 15,  51,  87, 123])"
      ]
     },
     "execution_count": 20,
     "metadata": {},
     "output_type": "execute_result"
    }
   ],
   "source": [
    "np.sum(c, axis = 0)"
   ]
  },
  {
   "cell_type": "code",
   "execution_count": 21,
   "metadata": {},
   "outputs": [
    {
     "ename": "AxisError",
     "evalue": "axis 2 is out of bounds for array of dimension 2",
     "output_type": "error",
     "traceback": [
      "\u001b[1;31m---------------------------------------------------------------------------\u001b[0m",
      "\u001b[1;31mAxisError\u001b[0m                                 Traceback (most recent call last)",
      "\u001b[1;32mc:\\Users\\biswajit\\Downloads\\RKMVERI\\Desktop\\RKMVERI\\IPYTHONNOTEBOOK\\numpy_pds_class\\pds_class_17.ipynb Cell 22\u001b[0m line \u001b[0;36m1\n\u001b[1;32m----> <a href='vscode-notebook-cell:/c%3A/Users/biswajit/Downloads/RKMVERI/Desktop/RKMVERI/IPYTHONNOTEBOOK/numpy_pds_class/pds_class_17.ipynb#X30sZmlsZQ%3D%3D?line=0'>1</a>\u001b[0m np\u001b[39m.\u001b[39;49msum(c, axis \u001b[39m=\u001b[39;49m \u001b[39m2\u001b[39;49m)\n",
      "File \u001b[1;32m<__array_function__ internals>:180\u001b[0m, in \u001b[0;36msum\u001b[1;34m(*args, **kwargs)\u001b[0m\n",
      "File \u001b[1;32md:\\Program files\\PYTHON\\lib\\site-packages\\numpy\\core\\fromnumeric.py:2298\u001b[0m, in \u001b[0;36msum\u001b[1;34m(a, axis, dtype, out, keepdims, initial, where)\u001b[0m\n\u001b[0;32m   2295\u001b[0m         \u001b[39mreturn\u001b[39;00m out\n\u001b[0;32m   2296\u001b[0m     \u001b[39mreturn\u001b[39;00m res\n\u001b[1;32m-> 2298\u001b[0m \u001b[39mreturn\u001b[39;00m _wrapreduction(a, np\u001b[39m.\u001b[39;49madd, \u001b[39m'\u001b[39;49m\u001b[39msum\u001b[39;49m\u001b[39m'\u001b[39;49m, axis, dtype, out, keepdims\u001b[39m=\u001b[39;49mkeepdims,\n\u001b[0;32m   2299\u001b[0m                       initial\u001b[39m=\u001b[39;49minitial, where\u001b[39m=\u001b[39;49mwhere)\n",
      "File \u001b[1;32md:\\Program files\\PYTHON\\lib\\site-packages\\numpy\\core\\fromnumeric.py:86\u001b[0m, in \u001b[0;36m_wrapreduction\u001b[1;34m(obj, ufunc, method, axis, dtype, out, **kwargs)\u001b[0m\n\u001b[0;32m     83\u001b[0m         \u001b[39melse\u001b[39;00m:\n\u001b[0;32m     84\u001b[0m             \u001b[39mreturn\u001b[39;00m reduction(axis\u001b[39m=\u001b[39maxis, out\u001b[39m=\u001b[39mout, \u001b[39m*\u001b[39m\u001b[39m*\u001b[39mpasskwargs)\n\u001b[1;32m---> 86\u001b[0m \u001b[39mreturn\u001b[39;00m ufunc\u001b[39m.\u001b[39mreduce(obj, axis, dtype, out, \u001b[39m*\u001b[39m\u001b[39m*\u001b[39mpasskwargs)\n",
      "\u001b[1;31mAxisError\u001b[0m: axis 2 is out of bounds for array of dimension 2"
     ]
    }
   ],
   "source": [
    "np.sum(c, axis = 2)"
   ]
  },
  {
   "cell_type": "code",
   "execution_count": null,
   "metadata": {},
   "outputs": [
    {
     "data": {
      "text/plain": [
       "array([[[36, 44, 52],\n",
       "        [40, 48, 56]]])"
      ]
     },
     "execution_count": 22,
     "metadata": {},
     "output_type": "execute_result"
    }
   ],
   "source": [
    "np.sum(c, axis = 3)"
   ]
  },
  {
   "cell_type": "code",
   "execution_count": null,
   "metadata": {},
   "outputs": [
    {
     "name": "stdout",
     "output_type": "stream",
     "text": [
      "[[5 6 4 7 9]\n",
      " [5 6 9 4 7]\n",
      " [9 8 3 9 1]]\n",
      "----------------------------------------------------------------------------------------------------\n",
      "[[5 6 4 7 9]\n",
      " [5 6 9 4 7]\n",
      " [9 8 3 9 0]]\n",
      "----------------------------------------------------------------------------------------------------\n"
     ]
    },
    {
     "data": {
      "text/plain": [
       "array([[5, 6],\n",
       "       [5, 6]])"
      ]
     },
     "execution_count": 35,
     "metadata": {},
     "output_type": "execute_result"
    }
   ],
   "source": [
    "\n",
    "a = np.random.randint(1,10,size=(3,5))\n",
    "print(a)\n",
    "print(\"--\"*50)\n",
    "a[2,4]=0\n",
    "print(a)\n",
    "print(\"--\"*50)\n",
    "a[:2,:2]"
   ]
  },
  {
   "cell_type": "code",
   "execution_count": null,
   "metadata": {},
   "outputs": [
    {
     "data": {
      "text/plain": [
       "array([5, 5, 9])"
      ]
     },
     "execution_count": 36,
     "metadata": {},
     "output_type": "execute_result"
    }
   ],
   "source": [
    "a[:,0]"
   ]
  },
  {
   "cell_type": "code",
   "execution_count": null,
   "metadata": {},
   "outputs": [
    {
     "data": {
      "text/plain": [
       "array([[False, False, False,  True, False],\n",
       "       [False, False, False, False,  True],\n",
       "       [False, False, False, False,  True]])"
      ]
     },
     "execution_count": 37,
     "metadata": {},
     "output_type": "execute_result"
    }
   ],
   "source": [
    "a%7 == 0"
   ]
  },
  {
   "cell_type": "code",
   "execution_count": null,
   "metadata": {},
   "outputs": [],
   "source": [
    "a[(a%7 == 0) | (a%3 == 0)] = 1000"
   ]
  },
  {
   "cell_type": "code",
   "execution_count": null,
   "metadata": {},
   "outputs": [
    {
     "data": {
      "text/plain": [
       "array([[   5, 1000,    4, 1000, 1000],\n",
       "       [   5, 1000, 1000,    4, 1000],\n",
       "       [1000,    8, 1000, 1000, 1000]])"
      ]
     },
     "execution_count": 45,
     "metadata": {},
     "output_type": "execute_result"
    }
   ],
   "source": [
    "a"
   ]
  },
  {
   "cell_type": "code",
   "execution_count": null,
   "metadata": {},
   "outputs": [
    {
     "data": {
      "text/plain": [
       "array([[False,  True],\n",
       "       [ True, False]])"
      ]
     },
     "execution_count": 47,
     "metadata": {},
     "output_type": "execute_result"
    }
   ],
   "source": [
    "p = np.array([[4,5],[5,7]])\n",
    "q = np.array([[1,5],[5,5]])\n",
    "\n",
    "p == q"
   ]
  },
  {
   "cell_type": "code",
   "execution_count": null,
   "metadata": {},
   "outputs": [
    {
     "data": {
      "text/plain": [
       "array([[12.88,  6.23],\n",
       "       [ 2.68,  0.9 ],\n",
       "       [17.02,  6.2 ],\n",
       "       [13.21,  1.05],\n",
       "       [11.18,  4.49],\n",
       "       [ 7.53,  5.1 ],\n",
       "       [ 2.37,  3.76],\n",
       "       [18.65,  1.27],\n",
       "       [ 1.69,  0.7 ],\n",
       "       [18.9 ,  8.25],\n",
       "       [11.33,  7.63],\n",
       "       [15.4 ,  1.3 ],\n",
       "       [ 5.11,  2.43],\n",
       "       [ 9.41,  1.35],\n",
       "       [ 8.37,  7.64],\n",
       "       [16.55,  5.66],\n",
       "       [17.03,  8.84],\n",
       "       [19.68,  3.69],\n",
       "       [ 3.68,  3.92],\n",
       "       [ 8.78,  8.46],\n",
       "       [ 6.33,  1.29],\n",
       "       [16.4 ,  9.1 ],\n",
       "       [ 1.76,  2.42],\n",
       "       [ 2.85,  0.87],\n",
       "       [12.53,  9.11],\n",
       "       [12.85,  9.03],\n",
       "       [12.18,  5.2 ],\n",
       "       [11.73,  0.15],\n",
       "       [19.91,  3.08],\n",
       "       [ 1.19,  3.64],\n",
       "       [ 0.77,  4.06],\n",
       "       [12.41,  4.27],\n",
       "       [ 5.68,  7.7 ],\n",
       "       [ 2.6 ,  5.03],\n",
       "       [14.8 ,  0.24],\n",
       "       [ 2.16,  1.46],\n",
       "       [ 4.89,  7.22],\n",
       "       [13.2 ,  1.33],\n",
       "       [ 2.96,  9.15],\n",
       "       [ 7.82,  8.87],\n",
       "       [19.28,  5.29],\n",
       "       [ 6.69,  7.87],\n",
       "       [ 0.41,  2.05],\n",
       "       [19.1 ,  6.9 ],\n",
       "       [ 6.65,  5.26],\n",
       "       [ 1.87,  2.79],\n",
       "       [15.2 ,  7.34],\n",
       "       [ 0.14,  0.72],\n",
       "       [11.22,  6.39],\n",
       "       [12.11,  0.85],\n",
       "       [16.09,  6.32],\n",
       "       [17.31,  6.36],\n",
       "       [17.76,  6.75],\n",
       "       [16.78,  3.14],\n",
       "       [14.23,  5.71],\n",
       "       [ 8.62,  9.65],\n",
       "       [ 1.85,  9.44],\n",
       "       [ 5.37,  2.78],\n",
       "       [ 9.56,  9.93],\n",
       "       [18.57,  6.92],\n",
       "       [ 5.77,  3.55],\n",
       "       [19.66,  2.92],\n",
       "       [ 7.19,  8.07],\n",
       "       [19.96,  2.6 ],\n",
       "       [ 0.88,  6.78],\n",
       "       [ 8.76,  7.81],\n",
       "       [ 3.49,  4.37],\n",
       "       [17.8 ,  3.08],\n",
       "       [13.33,  7.73],\n",
       "       [19.67,  4.09],\n",
       "       [ 6.75,  2.99],\n",
       "       [14.27,  2.56],\n",
       "       [13.04,  8.68],\n",
       "       [19.72,  9.28],\n",
       "       [16.44,  8.91],\n",
       "       [ 4.08,  5.32],\n",
       "       [12.53,  6.55],\n",
       "       [ 7.39,  1.67],\n",
       "       [17.41,  8.61],\n",
       "       [10.63,  2.6 ],\n",
       "       [14.01,  7.63],\n",
       "       [18.81,  1.21],\n",
       "       [ 1.36,  8.69],\n",
       "       [19.4 ,  0.09],\n",
       "       [ 4.89,  8.15],\n",
       "       [15.23,  1.97],\n",
       "       [11.08,  9.29],\n",
       "       [18.11,  3.12],\n",
       "       [ 1.76,  6.  ],\n",
       "       [ 4.08,  3.48],\n",
       "       [ 9.86,  4.91],\n",
       "       [ 6.94,  0.66],\n",
       "       [15.8 ,  8.08],\n",
       "       [10.13,  3.11],\n",
       "       [19.65,  4.64],\n",
       "       [14.03,  6.34],\n",
       "       [17.41,  2.39],\n",
       "       [12.14,  5.06],\n",
       "       [14.54,  6.83],\n",
       "       [ 3.02,  7.97]])"
      ]
     },
     "execution_count": 50,
     "metadata": {},
     "output_type": "execute_result"
    }
   ],
   "source": [
    "e = np.random.random(size=(100,2))\n",
    "e[:,0] *= 20\n",
    "e[:,1] *= 10\n",
    "e = np.round(e,2)\n",
    "e\n"
   ]
  },
  {
   "cell_type": "code",
   "execution_count": 52,
   "metadata": {},
   "outputs": [
    {
     "name": "stdout",
     "output_type": "stream",
     "text": [
      "[[16 19 11 16 11 17 15 19]\n",
      " [15 14 18 17 14 14 14 13]\n",
      " [17 15 14 14 16 13 19 12]\n",
      " [19 11 10 10 16 19 10 13]\n",
      " [15 13 17 11 11 18 18 16]]\n",
      "[[16 19 11 16 11 17 15 19]\n",
      " [15 14 18 17 14 14 14 13]\n",
      " [17 15 14 14 16 13 19 12]\n",
      " [19 11 10 10 16 19 10 13]\n",
      " [15 13 17 11 11 18 18 16]]\n",
      "[[ 16  19  11  16  11  17  15  19]\n",
      " [ 15  14 100 100 100  14  14  13]\n",
      " [ 17  15 100 100 100  13  19  12]\n",
      " [ 19  11  10  10  16  19  10  13]\n",
      " [ 15  13  17  11  11  18  18  16]]\n",
      "[[inf inf inf inf inf inf inf inf]\n",
      " [inf inf inf inf inf inf inf inf]\n",
      " [inf inf inf inf inf inf inf inf]\n",
      " [inf inf inf inf inf inf inf inf]\n",
      " [inf inf inf inf inf inf inf inf]]\n"
     ]
    },
    {
     "name": "stderr",
     "output_type": "stream",
     "text": [
      "C:\\Users\\biswajit\\AppData\\Local\\Temp\\ipykernel_7384\\1424854709.py:12: RuntimeWarning: divide by zero encountered in floor_divide\n",
      "  print(b//c)\n"
     ]
    }
   ],
   "source": [
    "# np.linspace(1,20,5)\n",
    "a=np.random.randint(10,20,40).reshape((5,8))\n",
    "c=np.zeros((5,8))\n",
    "print(a)\n",
    "# np.argmin(a).dtype\n",
    "# a[1:3,2:5]=100\n",
    "b=a.copy()\n",
    "# a=a[1:3,2:5]\n",
    "b[1:3,2:5]=100\n",
    "print(a)\n",
    "print(b)\n",
    "print(b//c)"
   ]
  },
  {
   "cell_type": "code",
   "execution_count": null,
   "metadata": {},
   "outputs": [],
   "source": [
    "from matplotlib import pyplot as plt\n",
    "%matplotlib inline"
   ]
  },
  {
   "cell_type": "code",
   "execution_count": null,
   "metadata": {},
   "outputs": [
    {
     "name": "stdout",
     "output_type": "stream",
     "text": [
      "Requirement already satisfied: matplotlib in d:\\program files\\python\\lib\\site-packages (3.5.2)\n",
      "Requirement already satisfied: cycler>=0.10 in d:\\program files\\python\\lib\\site-packages (from matplotlib) (0.11.0)\n",
      "Requirement already satisfied: fonttools>=4.22.0 in d:\\program files\\python\\lib\\site-packages (from matplotlib) (4.34.2)\n",
      "Requirement already satisfied: kiwisolver>=1.0.1 in d:\\program files\\python\\lib\\site-packages (from matplotlib) (1.4.3)\n",
      "Requirement already satisfied: numpy>=1.17 in d:\\program files\\python\\lib\\site-packages (from matplotlib) (1.23.0)\n",
      "Requirement already satisfied: packaging>=20.0 in d:\\program files\\python\\lib\\site-packages (from matplotlib) (21.3)\n",
      "Requirement already satisfied: pillow>=6.2.0 in d:\\program files\\python\\lib\\site-packages (from matplotlib) (9.2.0)\n",
      "Requirement already satisfied: pyparsing>=2.2.1 in d:\\program files\\python\\lib\\site-packages (from matplotlib) (3.0.9)\n",
      "Requirement already satisfied: python-dateutil>=2.7 in d:\\program files\\python\\lib\\site-packages (from matplotlib) (2.8.2)\n",
      "Requirement already satisfied: six>=1.5 in d:\\program files\\python\\lib\\site-packages (from python-dateutil>=2.7->matplotlib) (1.16.0)\n",
      "Note: you may need to restart the kernel to use updated packages.\n"
     ]
    },
    {
     "name": "stderr",
     "output_type": "stream",
     "text": [
      "\n",
      "[notice] A new release of pip is available: 23.1 -> 23.3.1\n",
      "[notice] To update, run: python.exe -m pip install --upgrade pip\n"
     ]
    }
   ],
   "source": [
    "pip install matplotlib"
   ]
  },
  {
   "cell_type": "code",
   "execution_count": null,
   "metadata": {},
   "outputs": [
    {
     "data": {
      "text/plain": [
       "<matplotlib.collections.PathCollection at 0x1b2c2337970>"
      ]
     },
     "execution_count": 71,
     "metadata": {},
     "output_type": "execute_result"
    },
    {
     "data": {
      "image/png": "[encoded data removed]",
      "text/plain": [
       "<Figure size 640x480 with 1 Axes>"
      ]
     },
     "metadata": {},
     "output_type": "display_data"
    }
   ],
   "source": [
    "plt.scatter(e[:,0],e[:,1], color ='red' , marker = '+')"
   ]
  },
  {
   "cell_type": "code",
   "execution_count": null,
   "metadata": {},
   "outputs": [],
   "source": []
  }
 ],
 "metadata": {
  "kernelspec": {
   "display_name": "Python 3",
   "language": "python",
   "name": "python3"
  },
  "language_info": {
   "codemirror_mode": {
    "name": "ipython",
    "version": 3
   },
   "file_extension": ".py",
   "mimetype": "text/x-python",
   "name": "python",
   "nbconvert_exporter": "python",
   "pygments_lexer": "ipython3",
   "version": "3.10.12"
  }
 },
 "nbformat": 4,
 "nbformat_minor": 2
}
