{
 "cells": [
  {
   "cell_type": "code",
   "execution_count": 2,
   "metadata": {},
   "outputs": [],
   "source": [
    "import numpy as np"
   ]
  },
  {
   "cell_type": "code",
   "execution_count": 3,
   "metadata": {},
   "outputs": [
    {
     "data": {
      "text/plain": [
       "array([[2, 5, 9, 3, 7],\n",
       "       [8, 6, 2, 8, 9],\n",
       "       [3, 3, 2, 4, 7]])"
      ]
     },
     "execution_count": 3,
     "metadata": {},
     "output_type": "execute_result"
    }
   ],
   "source": [
    "a = np.random.randint(1,10,size=(3,5))\n",
    "a"
   ]
  },
  {
   "cell_type": "code",
   "execution_count": 4,
   "metadata": {},
   "outputs": [
    {
     "data": {
      "text/plain": [
       "array([[7],\n",
       "       [1],\n",
       "       [6]])"
      ]
     },
     "execution_count": 4,
     "metadata": {},
     "output_type": "execute_result"
    }
   ],
   "source": [
    "b = np.random.randint(1,10,size=(3,1))\n",
    "b"
   ]
  },
  {
   "cell_type": "code",
   "execution_count": 5,
   "metadata": {},
   "outputs": [
    {
     "data": {
      "text/plain": [
       "array([[ 9, 12, 16, 10, 14],\n",
       "       [ 9,  7,  3,  9, 10],\n",
       "       [ 9,  9,  8, 10, 13]])"
      ]
     },
     "execution_count": 5,
     "metadata": {},
     "output_type": "execute_result"
    }
   ],
   "source": [
    "np.add(a,b)"
   ]
  },
  {
   "cell_type": "code",
   "execution_count": 6,
   "metadata": {},
   "outputs": [],
   "source": [
    "c = np.concatenate((b,b,b,b,b),axis =1,)"
   ]
  },
  {
   "cell_type": "code",
   "execution_count": 7,
   "metadata": {},
   "outputs": [
    {
     "data": {
      "text/plain": [
       "array([[7, 7, 7, 7, 7],\n",
       "       [1, 1, 1, 1, 1],\n",
       "       [6, 6, 6, 6, 6]])"
      ]
     },
     "execution_count": 7,
     "metadata": {},
     "output_type": "execute_result"
    }
   ],
   "source": [
    "c"
   ]
  },
  {
   "cell_type": "code",
   "execution_count": 8,
   "metadata": {},
   "outputs": [
    {
     "name": "stdout",
     "output_type": "stream",
     "text": [
      "[[7 2 5 9 1]\n",
      " [7 9 1 7 8]\n",
      " [3 7 4 1 3]]\n",
      "----------------------------------------------------------------------------------------------------\n",
      "[[8 2 6 5 2]]\n",
      "----------------------------------------------------------------------------------------------------\n"
     ]
    },
    {
     "data": {
      "text/plain": [
       "array([[15,  4, 11, 14,  3],\n",
       "       [15, 11,  7, 12, 10],\n",
       "       [11,  9, 10,  6,  5]])"
      ]
     },
     "execution_count": 8,
     "metadata": {},
     "output_type": "execute_result"
    }
   ],
   "source": [
    "a = np.random.randint(1,10,size=(3,5))\n",
    "d = np.random.randint(1,10,size=(1,5))\n",
    "print(a)\n",
    "print(\"--\"*50)\n",
    "print(d)\n",
    "print(\"--\"*50)\n",
    "np.add(a,d)"
   ]
  },
  {
   "cell_type": "code",
   "execution_count": 9,
   "metadata": {},
   "outputs": [
    {
     "data": {
      "text/plain": [
       "array([[56,  4, 30, 45,  2],\n",
       "       [56, 18,  6, 35, 16],\n",
       "       [24, 14, 24,  5,  6]])"
      ]
     },
     "execution_count": 9,
     "metadata": {},
     "output_type": "execute_result"
    }
   ],
   "source": [
    "a*d"
   ]
  },
  {
   "cell_type": "code",
   "execution_count": 10,
   "metadata": {},
   "outputs": [
    {
     "data": {
      "text/plain": [
       "array([[56,  4, 30, 45,  2],\n",
       "       [56, 18,  6, 35, 16],\n",
       "       [24, 14, 24,  5,  6]])"
      ]
     },
     "execution_count": 10,
     "metadata": {},
     "output_type": "execute_result"
    }
   ],
   "source": [
    "np.multiply(a,d)"
   ]
  },
  {
   "cell_type": "code",
   "execution_count": 11,
   "metadata": {},
   "outputs": [
    {
     "data": {
      "text/plain": [
       "array([[72.89, 79.68, 26.4 , 15.32, 20.05],\n",
       "       [93.77, 92.45,  8.89, 67.41,  8.13],\n",
       "       [10.12, 44.42,  5.05, 71.33, 23.62]])"
      ]
     },
     "execution_count": 11,
     "metadata": {},
     "output_type": "execute_result"
    }
   ],
   "source": [
    "a2 = np.random.random(size=(3,5))\n",
    "a2 *= 100\n",
    "E = np.round(a2 , 2)\n",
    "E"
   ]
  },
  {
   "cell_type": "code",
   "execution_count": null,
   "metadata": {},
   "outputs": [],
   "source": []
  },
  {
   "cell_type": "code",
   "execution_count": 12,
   "metadata": {},
   "outputs": [
    {
     "name": "stdout",
     "output_type": "stream",
     "text": [
      "[[43.588 10.236 64.631 46.209 55.634]\n",
      " [73.997 81.28  66.493 54.456 49.501]\n",
      " [65.154 31.867 48.097 80.784 51.663]]\n"
     ]
    }
   ],
   "source": [
    "print(np.round(100*(np.random.random(size=(3,5))) ,3))"
   ]
  },
  {
   "cell_type": "code",
   "execution_count": 13,
   "metadata": {},
   "outputs": [
    {
     "name": "stdout",
     "output_type": "stream",
     "text": [
      "[[0.8153186  0.26054903 0.49322494 0.37362046 0.91390475]\n",
      " [0.80833187 0.5290539  0.73010984 0.63534516 0.75421222]\n",
      " [0.4593819  0.35153127 0.58270511 0.22071422 0.92864203]]\n",
      "----------------------------------------------------------------------------------------------------\n",
      "[[0.59504512 0.42540313 0.30353051 0.10687786 0.15792422]\n",
      " [0.80010468 0.75744505 0.29103975 0.13595221 0.62000921]\n",
      " [0.83436187 0.58475841 0.78839848 0.6306414  0.54940514]]\n",
      "----------------------------------------------------------------------------------------------------\n",
      "[[1.41   0.6855 0.797  0.4805 1.072 ]\n",
      " [1.608  1.287  1.021  0.7715 1.375 ]\n",
      " [1.294  0.9365 1.371  0.8516 1.479 ]]\n",
      "----------------------------------------------------------------------------------------------------\n",
      "[[1 0 0 0 1]\n",
      " [1 1 1 0 1]\n",
      " [1 0 1 0 1]]\n"
     ]
    }
   ],
   "source": [
    "e = np.random.random(size=(3,5))\n",
    "f = np.random.random(size=(3,5))\n",
    "\n",
    "print(e)\n",
    "print(\"--\"*50)\n",
    "print(f)\n",
    "print(\"--\"*50)\n",
    "g = np.add(e,f,dtype = np.float16)\n",
    "print(g)\n",
    "print(\"--\"*50)\n",
    "print(np.array(g, dtype= np.int32))"
   ]
  },
  {
   "cell_type": "code",
   "execution_count": 14,
   "metadata": {},
   "outputs": [
    {
     "name": "stdout",
     "output_type": "stream",
     "text": [
      "[[1.41   0.6855 0.797  0.4805 1.072 ]\n",
      " [1.608  1.287  1.021  0.7715 1.375 ]\n",
      " [1.294  0.9365 1.371  0.8516 1.479 ]]\n"
     ]
    }
   ],
   "source": [
    "a = np.random.randint(1,10,size=(3,5))\n",
    "d = np.random.randint(1,10,size=(3,5))\n",
    "f = np.add(e,f,dtype = np.float16)\n",
    "print(f)"
   ]
  },
  {
   "cell_type": "code",
   "execution_count": 15,
   "metadata": {},
   "outputs": [
    {
     "data": {
      "text/plain": [
       "array([[[[ 0,  6, 12, 18],\n",
       "         [ 2,  8, 14, 20],\n",
       "         [ 4, 10, 16, 22]],\n",
       "\n",
       "        [[ 1,  7, 13, 19],\n",
       "         [ 3,  9, 15, 21],\n",
       "         [ 5, 11, 17, 23]]]])"
      ]
     },
     "execution_count": 15,
     "metadata": {},
     "output_type": "execute_result"
    }
   ],
   "source": [
    "a = np.arange(0,24,1)\n",
    "a.reshape(1,2,3,4, order = 'F')"
   ]
  },
  {
   "cell_type": "code",
   "execution_count": 16,
   "metadata": {},
   "outputs": [
    {
     "name": "stdout",
     "output_type": "stream",
     "text": [
      "[[2 8 3 8 7]\n",
      " [2 6 6 4 5]\n",
      " [9 6 9 4 2]]\n"
     ]
    },
    {
     "data": {
      "text/plain": [
       "81"
      ]
     },
     "execution_count": 16,
     "metadata": {},
     "output_type": "execute_result"
    }
   ],
   "source": [
    "a = np.random.randint(1,10,size=(3,5))\n",
    "print(a)\n",
    "np.sum(a)"
   ]
  },
  {
   "cell_type": "code",
   "execution_count": 17,
   "metadata": {},
   "outputs": [
    {
     "data": {
      "text/plain": [
       "array([13, 20, 18, 16, 14])"
      ]
     },
     "execution_count": 17,
     "metadata": {},
     "output_type": "execute_result"
    }
   ],
   "source": [
    "\n",
    "np.sum(a , axis =  0)\n",
    "\n"
   ]
  },
  {
   "cell_type": "code",
   "execution_count": 18,
   "metadata": {},
   "outputs": [
    {
     "data": {
      "text/plain": [
       "array([28, 23, 30])"
      ]
     },
     "execution_count": 18,
     "metadata": {},
     "output_type": "execute_result"
    }
   ],
   "source": [
    "np.sum(a , axis =  1)"
   ]
  },
  {
   "cell_type": "code",
   "execution_count": 19,
   "metadata": {},
   "outputs": [
    {
     "data": {
      "text/plain": [
       "array([[[[ 0,  6, 12, 18],\n",
       "         [ 2,  8, 14, 20],\n",
       "         [ 4, 10, 16, 22]],\n",
       "\n",
       "        [[ 1,  7, 13, 19],\n",
       "         [ 3,  9, 15, 21],\n",
       "         [ 5, 11, 17, 23]]]])"
      ]
     },
     "execution_count": 19,
     "metadata": {},
     "output_type": "execute_result"
    }
   ],
   "source": [
    "a = np.arange(0,24,1)\n",
    "c = a.reshape(1,2,3,4, order = 'F')\n",
    "c"
   ]
  },
  {
   "cell_type": "code",
   "execution_count": 20,
   "metadata": {},
   "outputs": [
    {
     "data": {
      "text/plain": [
       "array([[[ 0,  6, 12, 18],\n",
       "        [ 2,  8, 14, 20],\n",
       "        [ 4, 10, 16, 22]],\n",
       "\n",
       "       [[ 1,  7, 13, 19],\n",
       "        [ 3,  9, 15, 21],\n",
       "        [ 5, 11, 17, 23]]])"
      ]
     },
     "execution_count": 20,
     "metadata": {},
     "output_type": "execute_result"
    }
   ],
   "source": [
    "np.sum(c, axis = 0)"
   ]
  },
  {
   "cell_type": "code",
   "execution_count": 21,
   "metadata": {},
   "outputs": [
    {
     "data": {
      "text/plain": [
       "array([[[ 6, 24, 42, 60],\n",
       "        [ 9, 27, 45, 63]]])"
      ]
     },
     "execution_count": 21,
     "metadata": {},
     "output_type": "execute_result"
    }
   ],
   "source": [
    "np.sum(c, axis = 2)"
   ]
  },
  {
   "cell_type": "code",
   "execution_count": 22,
   "metadata": {},
   "outputs": [
    {
     "data": {
      "text/plain": [
       "array([[[36, 44, 52],\n",
       "        [40, 48, 56]]])"
      ]
     },
     "execution_count": 22,
     "metadata": {},
     "output_type": "execute_result"
    }
   ],
   "source": [
    "np.sum(c, axis = 3)"
   ]
  },
  {
   "cell_type": "code",
   "execution_count": 23,
   "metadata": {},
   "outputs": [
    {
     "name": "stdout",
     "output_type": "stream",
     "text": [
      "[[5 3 9 4 9]\n",
      " [6 3 4 3 3]\n",
      " [5 9 1 7 8]]\n",
      "----------------------------------------------------------------------------------------------------\n",
      "[[5 3 9 4 9]\n",
      " [6 3 4 3 3]\n",
      " [5 9 1 7 0]]\n",
      "----------------------------------------------------------------------------------------------------\n"
     ]
    },
    {
     "data": {
      "text/plain": [
       "array([[5, 3],\n",
       "       [6, 3]])"
      ]
     },
     "execution_count": 23,
     "metadata": {},
     "output_type": "execute_result"
    }
   ],
   "source": [
    "\n",
    "a = np.random.randint(1,10,size=(3,5))\n",
    "print(a)\n",
    "print(\"--\"*50)\n",
    "a[2,4]=0\n",
    "print(a)\n",
    "print(\"--\"*50)\n",
    "a[:2,:2]"
   ]
  },
  {
   "cell_type": "code",
   "execution_count": 24,
   "metadata": {},
   "outputs": [
    {
     "data": {
      "text/plain": [
       "array([5, 6, 5])"
      ]
     },
     "execution_count": 24,
     "metadata": {},
     "output_type": "execute_result"
    }
   ],
   "source": [
    "a[:,0]"
   ]
  },
  {
   "cell_type": "code",
   "execution_count": 25,
   "metadata": {},
   "outputs": [
    {
     "data": {
      "text/plain": [
       "array([[False, False, False, False, False],\n",
       "       [False, False, False, False, False],\n",
       "       [False, False, False,  True,  True]])"
      ]
     },
     "execution_count": 25,
     "metadata": {},
     "output_type": "execute_result"
    }
   ],
   "source": [
    "a%7 == 0"
   ]
  },
  {
   "cell_type": "code",
   "execution_count": 26,
   "metadata": {},
   "outputs": [],
   "source": [
    "a[(a%7 == 0) | (a%3 == 0)] = 1000"
   ]
  },
  {
   "cell_type": "code",
   "execution_count": 27,
   "metadata": {},
   "outputs": [
    {
     "data": {
      "text/plain": [
       "array([[   5, 1000, 1000,    4, 1000],\n",
       "       [1000, 1000,    4, 1000, 1000],\n",
       "       [   5, 1000,    1, 1000, 1000]])"
      ]
     },
     "execution_count": 27,
     "metadata": {},
     "output_type": "execute_result"
    }
   ],
   "source": [
    "a"
   ]
  },
  {
   "cell_type": "code",
   "execution_count": 28,
   "metadata": {},
   "outputs": [
    {
     "data": {
      "text/plain": [
       "array([[False,  True],\n",
       "       [ True, False]])"
      ]
     },
     "execution_count": 28,
     "metadata": {},
     "output_type": "execute_result"
    }
   ],
   "source": [
    "p = np.array([[4,5],[5,7]])\n",
    "q = np.array([[1,5],[5,5]])\n",
    "\n",
    "p == q"
   ]
  },
  {
   "cell_type": "code",
   "execution_count": 29,
   "metadata": {},
   "outputs": [
    {
     "data": {
      "text/plain": [
       "array([[ 9.85,  0.18],\n",
       "       [ 5.63,  5.53],\n",
       "       [19.49,  0.98],\n",
       "       [ 3.71,  4.1 ],\n",
       "       [ 4.9 ,  5.24],\n",
       "       [ 6.23,  3.97],\n",
       "       [ 0.36,  4.27],\n",
       "       [ 5.15,  3.43],\n",
       "       [ 5.6 ,  4.35],\n",
       "       [ 4.  ,  8.32],\n",
       "       [ 4.34,  1.29],\n",
       "       [ 4.6 ,  1.03],\n",
       "       [10.52,  3.58],\n",
       "       [13.53,  7.52],\n",
       "       [17.41,  2.42],\n",
       "       [ 9.12,  2.38],\n",
       "       [15.39,  2.75],\n",
       "       [ 3.01,  5.57],\n",
       "       [ 6.52,  8.74],\n",
       "       [ 9.28,  7.9 ],\n",
       "       [ 0.82,  4.88],\n",
       "       [ 4.67,  7.96],\n",
       "       [ 2.23,  7.57],\n",
       "       [ 1.21,  5.91],\n",
       "       [ 0.5 ,  6.62],\n",
       "       [ 7.55,  0.52],\n",
       "       [14.17,  1.63],\n",
       "       [10.87,  2.16],\n",
       "       [18.41,  0.72],\n",
       "       [17.34,  9.37],\n",
       "       [ 0.67,  5.9 ],\n",
       "       [17.01,  8.31],\n",
       "       [ 3.9 ,  8.01],\n",
       "       [ 5.2 ,  6.31],\n",
       "       [ 4.66,  8.36],\n",
       "       [ 0.74,  3.89],\n",
       "       [14.16,  3.54],\n",
       "       [13.83,  3.86],\n",
       "       [ 2.02,  4.65],\n",
       "       [13.13,  3.72],\n",
       "       [ 1.79,  7.48],\n",
       "       [ 8.94,  9.09],\n",
       "       [ 6.2 ,  6.16],\n",
       "       [ 6.04,  9.5 ],\n",
       "       [ 9.12,  2.37],\n",
       "       [ 6.95,  2.95],\n",
       "       [ 7.65,  0.32],\n",
       "       [17.15,  1.2 ],\n",
       "       [16.54,  9.87],\n",
       "       [ 4.62,  1.94],\n",
       "       [ 8.64,  5.81],\n",
       "       [ 2.68,  3.39],\n",
       "       [16.19,  4.43],\n",
       "       [ 2.76,  0.83],\n",
       "       [ 3.06,  4.9 ],\n",
       "       [14.34,  0.8 ],\n",
       "       [ 2.63,  9.  ],\n",
       "       [ 1.39,  6.66],\n",
       "       [11.98,  3.31],\n",
       "       [ 3.98,  2.27],\n",
       "       [ 5.69,  3.47],\n",
       "       [19.7 ,  5.87],\n",
       "       [ 8.55,  2.49],\n",
       "       [17.03,  5.01],\n",
       "       [ 8.85,  0.17],\n",
       "       [ 1.42,  5.56],\n",
       "       [ 7.24,  6.6 ],\n",
       "       [ 3.6 ,  3.28],\n",
       "       [10.45,  8.59],\n",
       "       [14.7 ,  8.95],\n",
       "       [ 8.05,  9.8 ],\n",
       "       [19.38,  2.95],\n",
       "       [ 3.12,  1.31],\n",
       "       [12.18,  1.78],\n",
       "       [ 9.76,  9.24],\n",
       "       [ 0.8 ,  5.69],\n",
       "       [ 3.29,  2.46],\n",
       "       [19.15,  0.27],\n",
       "       [14.07,  8.78],\n",
       "       [ 3.1 ,  8.42],\n",
       "       [10.83,  7.14],\n",
       "       [ 3.2 ,  4.87],\n",
       "       [17.65,  2.1 ],\n",
       "       [16.99,  4.65],\n",
       "       [10.21,  4.24],\n",
       "       [ 1.11,  4.16],\n",
       "       [ 2.83,  5.33],\n",
       "       [ 1.53,  5.44],\n",
       "       [10.46,  5.44],\n",
       "       [ 2.84,  8.61],\n",
       "       [17.32,  5.08],\n",
       "       [19.2 ,  4.53],\n",
       "       [10.6 ,  0.21],\n",
       "       [ 1.77,  6.85],\n",
       "       [ 5.2 ,  6.35],\n",
       "       [ 5.  ,  3.24],\n",
       "       [ 5.5 ,  1.46],\n",
       "       [ 3.49,  5.63],\n",
       "       [10.26,  8.84],\n",
       "       [ 9.84,  6.78]])"
      ]
     },
     "execution_count": 29,
     "metadata": {},
     "output_type": "execute_result"
    }
   ],
   "source": [
    "e = np.random.random(size=(100,2))\n",
    "e[:,0] *= 20\n",
    "e[:,1] *= 10\n",
    "e = np.round(e,2)\n",
    "e\n"
   ]
  },
  {
   "cell_type": "code",
   "execution_count": 30,
   "metadata": {},
   "outputs": [],
   "source": [
    "from matplotlib import pyplot as plt\n",
    "%matplotlib inline"
   ]
  },
  {
   "cell_type": "code",
   "execution_count": 31,
   "metadata": {},
   "outputs": [
    {
     "name": "stdout",
     "output_type": "stream",
     "text": [
      "Defaulting to user installation because normal site-packages is not writeable\n",
      "Requirement already satisfied: matplotlib in /home/sysadm/.local/lib/python3.10/site-packages (3.8.1)\n",
      "Requirement already satisfied: cycler>=0.10 in /home/sysadm/.local/lib/python3.10/site-packages (from matplotlib) (0.12.1)\n",
      "Requirement already satisfied: pyparsing>=2.3.1 in /usr/lib/python3/dist-packages (from matplotlib) (2.4.7)\n",
      "Requirement already satisfied: fonttools>=4.22.0 in /home/sysadm/.local/lib/python3.10/site-packages (from matplotlib) (4.43.1)\n",
      "Requirement already satisfied: numpy<2,>=1.21 in /home/sysadm/.local/lib/python3.10/site-packages (from matplotlib) (1.26.1)\n",
      "Requirement already satisfied: kiwisolver>=1.3.1 in /home/sysadm/.local/lib/python3.10/site-packages (from matplotlib) (1.4.5)\n",
      "Requirement already satisfied: pillow>=8 in /usr/lib/python3/dist-packages (from matplotlib) (9.0.1)\n",
      "Requirement already satisfied: contourpy>=1.0.1 in /home/sysadm/.local/lib/python3.10/site-packages (from matplotlib) (1.1.1)\n",
      "Requirement already satisfied: packaging>=20.0 in /home/sysadm/.local/lib/python3.10/site-packages (from matplotlib) (23.1)\n",
      "Requirement already satisfied: python-dateutil>=2.7 in /home/sysadm/.local/lib/python3.10/site-packages (from matplotlib) (2.8.2)\n",
      "Requirement already satisfied: six>=1.5 in /home/sysadm/.local/lib/python3.10/site-packages (from python-dateutil>=2.7->matplotlib) (1.16.0)\n",
      "Note: you may need to restart the kernel to use updated packages.\n"
     ]
    }
   ],
   "source": [
    "pip install matplotlib"
   ]
  },
  {
   "cell_type": "code",
   "execution_count": 32,
   "metadata": {},
   "outputs": [
    {
     "data": {
      "text/plain": [
       "<matplotlib.collections.PathCollection at 0x7fa53189fc70>"
      ]
     },
     "execution_count": 32,
     "metadata": {},
     "output_type": "execute_result"
    },
    {
     "data": {
      "image/png": "[encoded data removed]",
      "text/plain": [
       "<Figure size 640x480 with 1 Axes>"
      ]
     },
     "metadata": {},
     "output_type": "display_data"
    }
   ],
   "source": [
    "plt.scatter(e[:,0],e[:,1], color ='red' , marker = 'x')"
   ]
  },
  {
   "cell_type": "code",
   "execution_count": null,
   "metadata": {},
   "outputs": [],
   "source": []
  }
 ],
 "metadata": {
  "kernelspec": {
   "display_name": "Python 3",
   "language": "python",
   "name": "python3"
  },
  "language_info": {
   "codemirror_mode": {
    "name": "ipython",
    "version": 3
   },
   "file_extension": ".py",
   "mimetype": "text/x-python",
   "name": "python",
   "nbconvert_exporter": "python",
   "pygments_lexer": "ipython3",
   "version": "3.10.12"
  }
 },
 "nbformat": 4,
 "nbformat_minor": 2
}
