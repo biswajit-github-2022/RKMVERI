{
 "cells": [
  {
   "cell_type": "code",
   "execution_count": 2,
   "metadata": {},
   "outputs": [],
   "source": [
    "import numpy as np"
   ]
  },
  {
   "cell_type": "code",
   "execution_count": 3,
   "metadata": {},
   "outputs": [
    {
     "data": {
      "text/plain": [
       "array([[4, 5, 7, 4, 6],\n",
       "       [9, 6, 2, 2, 9],\n",
       "       [9, 7, 7, 1, 5]])"
      ]
     },
     "execution_count": 3,
     "metadata": {},
     "output_type": "execute_result"
    }
   ],
   "source": [
    "a = np.random.randint(1,10,size=(3,5))\n",
    "a"
   ]
  },
  {
   "cell_type": "code",
   "execution_count": 4,
   "metadata": {},
   "outputs": [
    {
     "data": {
      "text/plain": [
       "array([[1],\n",
       "       [9],\n",
       "       [1]])"
      ]
     },
     "execution_count": 4,
     "metadata": {},
     "output_type": "execute_result"
    }
   ],
   "source": [
    "b = np.random.randint(1,10,size=(3,1))\n",
    "b"
   ]
  },
  {
   "cell_type": "code",
   "execution_count": 5,
   "metadata": {},
   "outputs": [
    {
     "data": {
      "text/plain": [
       "array([[ 5,  6,  8,  5,  7],\n",
       "       [18, 15, 11, 11, 18],\n",
       "       [10,  8,  8,  2,  6]])"
      ]
     },
     "execution_count": 5,
     "metadata": {},
     "output_type": "execute_result"
    }
   ],
   "source": [
    "np.add(a,b)"
   ]
  },
  {
   "cell_type": "code",
   "execution_count": 6,
   "metadata": {},
   "outputs": [],
   "source": [
    "c = np.concatenate((b,b,b,b,b),axis =1,)"
   ]
  },
  {
   "cell_type": "code",
   "execution_count": 7,
   "metadata": {},
   "outputs": [
    {
     "data": {
      "text/plain": [
       "array([[1, 1, 1, 1, 1],\n",
       "       [9, 9, 9, 9, 9],\n",
       "       [1, 1, 1, 1, 1]])"
      ]
     },
     "execution_count": 7,
     "metadata": {},
     "output_type": "execute_result"
    }
   ],
   "source": [
    "c"
   ]
  },
  {
   "cell_type": "code",
   "execution_count": 8,
   "metadata": {},
   "outputs": [
    {
     "name": "stdout",
     "output_type": "stream",
     "text": [
      "[[8 3 7 4 6]\n",
      " [8 6 1 4 6]\n",
      " [7 8 6 4 2]]\n",
      "----------------------------------------------------------------------------------------------------\n",
      "[[1 4 2 5 8]]\n",
      "----------------------------------------------------------------------------------------------------\n"
     ]
    },
    {
     "data": {
      "text/plain": [
       "array([[ 9,  7,  9,  9, 14],\n",
       "       [ 9, 10,  3,  9, 14],\n",
       "       [ 8, 12,  8,  9, 10]])"
      ]
     },
     "execution_count": 8,
     "metadata": {},
     "output_type": "execute_result"
    }
   ],
   "source": [
    "a = np.random.randint(1,10,size=(3,5))\n",
    "d = np.random.randint(1,10,size=(1,5))\n",
    "print(a)\n",
    "print(\"--\"*50)\n",
    "print(d)\n",
    "print(\"--\"*50)\n",
    "np.add(a,d)"
   ]
  },
  {
   "cell_type": "code",
   "execution_count": 9,
   "metadata": {},
   "outputs": [
    {
     "data": {
      "text/plain": [
       "array([[ 8, 12, 14, 20, 48],\n",
       "       [ 8, 24,  2, 20, 48],\n",
       "       [ 7, 32, 12, 20, 16]])"
      ]
     },
     "execution_count": 9,
     "metadata": {},
     "output_type": "execute_result"
    }
   ],
   "source": [
    "a*d"
   ]
  },
  {
   "cell_type": "code",
   "execution_count": 10,
   "metadata": {},
   "outputs": [
    {
     "data": {
      "text/plain": [
       "array([[ 8, 12, 14, 20, 48],\n",
       "       [ 8, 24,  2, 20, 48],\n",
       "       [ 7, 32, 12, 20, 16]])"
      ]
     },
     "execution_count": 10,
     "metadata": {},
     "output_type": "execute_result"
    }
   ],
   "source": [
    "np.multiply(a,d)"
   ]
  },
  {
   "cell_type": "code",
   "execution_count": 11,
   "metadata": {},
   "outputs": [
    {
     "data": {
      "text/plain": [
       "array([[75.55, 20.25, 25.67, 66.68, 25.26],\n",
       "       [29.8 , 43.24, 96.49, 83.59,  3.12],\n",
       "       [84.31, 67.53, 61.34, 69.06, 86.77]])"
      ]
     },
     "execution_count": 11,
     "metadata": {},
     "output_type": "execute_result"
    }
   ],
   "source": [
    "a2 = np.random.random(size=(3,5))\n",
    "a2 *= 100\n",
    "E = np.round(a2 , 2)\n",
    "E"
   ]
  },
  {
   "cell_type": "code",
   "execution_count": null,
   "metadata": {},
   "outputs": [],
   "source": []
  },
  {
   "cell_type": "code",
   "execution_count": 12,
   "metadata": {},
   "outputs": [
    {
     "name": "stdout",
     "output_type": "stream",
     "text": [
      "[[94.65  68.381 55.992 88.987 55.037]\n",
      " [36.726  8.404 44.52  55.935 12.317]\n",
      " [86.988 85.714  2.791 48.227 33.661]]\n"
     ]
    }
   ],
   "source": [
    "print(np.round(100*(np.random.random(size=(3,5))) ,3))"
   ]
  },
  {
   "cell_type": "code",
   "execution_count": 13,
   "metadata": {},
   "outputs": [
    {
     "name": "stdout",
     "output_type": "stream",
     "text": [
      "[[0.43909664 0.92398073 0.3227461  0.86101297 0.95955843]\n",
      " [0.83624192 0.85941963 0.76875286 0.82478783 0.89011785]\n",
      " [0.69403307 0.52882958 0.289379   0.2799737  0.02828285]]\n",
      "----------------------------------------------------------------------------------------------------\n",
      "[[0.70089035 0.35244983 0.4784797  0.82860524 0.35043308]\n",
      " [0.53643209 0.33934223 0.4524911  0.31401413 0.68188591]\n",
      " [0.95269995 0.54396126 0.30339341 0.36916818 0.73520098]]\n",
      "----------------------------------------------------------------------------------------------------\n",
      "[[1.14   1.276  0.8013 1.689  1.31  ]\n",
      " [1.373  1.199  1.221  1.139  1.572 ]\n",
      " [1.646  1.072  0.593  0.6494 0.7637]]\n",
      "----------------------------------------------------------------------------------------------------\n",
      "[[1 1 0 1 1]\n",
      " [1 1 1 1 1]\n",
      " [1 1 0 0 0]]\n"
     ]
    }
   ],
   "source": [
    "e = np.random.random(size=(3,5))\n",
    "f = np.random.random(size=(3,5))\n",
    "\n",
    "print(e)\n",
    "print(\"--\"*50)\n",
    "print(f)\n",
    "print(\"--\"*50)\n",
    "g = np.add(e,f,dtype = np.float16)\n",
    "print(g)\n",
    "print(\"--\"*50)\n",
    "print(np.array(g, dtype= np.int32))"
   ]
  },
  {
   "cell_type": "code",
   "execution_count": 15,
   "metadata": {},
   "outputs": [
    {
     "name": "stdout",
     "output_type": "stream",
     "text": [
      "[[1.14   1.276  0.8013 1.689  1.31  ]\n",
      " [1.373  1.199  1.221  1.139  1.572 ]\n",
      " [1.646  1.072  0.593  0.6494 0.7637]]\n"
     ]
    }
   ],
   "source": [
    "a = np.random.randint(1,10,size=(3,5))\n",
    "d = np.random.randint(1,10,size=(3,5))\n",
    "f = np.add(e,f,dtype = np.float16)\n",
    "print(f)"
   ]
  },
  {
   "cell_type": "code",
   "execution_count": 26,
   "metadata": {},
   "outputs": [
    {
     "data": {
      "text/plain": [
       "array([[[[ 0,  8, 16],\n",
       "         [ 2, 10, 18],\n",
       "         [ 4, 12, 20],\n",
       "         [ 6, 14, 22]],\n",
       "\n",
       "        [[ 1,  9, 17],\n",
       "         [ 3, 11, 19],\n",
       "         [ 5, 13, 21],\n",
       "         [ 7, 15, 23]]]])"
      ]
     },
     "execution_count": 26,
     "metadata": {},
     "output_type": "execute_result"
    }
   ],
   "source": [
    "a = np.arange(0,24,1)\n",
    "a.reshape(1,2,3,4, order = 'F')"
   ]
  },
  {
   "cell_type": "code",
   "execution_count": null,
   "metadata": {},
   "outputs": [
    {
     "name": "stdout",
     "output_type": "stream",
     "text": [
      "[[2 8 3 8 7]\n",
      " [2 6 6 4 5]\n",
      " [9 6 9 4 2]]\n"
     ]
    },
    {
     "data": {
      "text/plain": [
       "81"
      ]
     },
     "execution_count": 16,
     "metadata": {},
     "output_type": "execute_result"
    }
   ],
   "source": [
    "a = np.random.randint(1,10,size=(3,5))\n",
    "print(a)\n",
    "np.sum(a)"
   ]
  },
  {
   "cell_type": "code",
   "execution_count": null,
   "metadata": {},
   "outputs": [
    {
     "data": {
      "text/plain": [
       "array([13, 20, 18, 16, 14])"
      ]
     },
     "execution_count": 17,
     "metadata": {},
     "output_type": "execute_result"
    }
   ],
   "source": [
    "np.sum(a , axis =  0)\n",
    "\n"
   ]
  },
  {
   "cell_type": "code",
   "execution_count": null,
   "metadata": {},
   "outputs": [
    {
     "data": {
      "text/plain": [
       "array([28, 23, 30])"
      ]
     },
     "execution_count": 18,
     "metadata": {},
     "output_type": "execute_result"
    }
   ],
   "source": [
    "np.sum(a , axis =  1)"
   ]
  },
  {
   "cell_type": "code",
   "execution_count": null,
   "metadata": {},
   "outputs": [
    {
     "data": {
      "text/plain": [
       "array([[[[ 0,  6, 12, 18],\n",
       "         [ 2,  8, 14, 20],\n",
       "         [ 4, 10, 16, 22]],\n",
       "\n",
       "        [[ 1,  7, 13, 19],\n",
       "         [ 3,  9, 15, 21],\n",
       "         [ 5, 11, 17, 23]]]])"
      ]
     },
     "execution_count": 19,
     "metadata": {},
     "output_type": "execute_result"
    }
   ],
   "source": [
    "a = np.arange(0,24,1)\n",
    "c = a.reshape(1,2,3,4, order = 'F')\n",
    "c"
   ]
  },
  {
   "cell_type": "code",
   "execution_count": null,
   "metadata": {},
   "outputs": [
    {
     "data": {
      "text/plain": [
       "array([[[ 0,  6, 12, 18],\n",
       "        [ 2,  8, 14, 20],\n",
       "        [ 4, 10, 16, 22]],\n",
       "\n",
       "       [[ 1,  7, 13, 19],\n",
       "        [ 3,  9, 15, 21],\n",
       "        [ 5, 11, 17, 23]]])"
      ]
     },
     "execution_count": 20,
     "metadata": {},
     "output_type": "execute_result"
    }
   ],
   "source": [
    "np.sum(c, axis = 0)"
   ]
  },
  {
   "cell_type": "code",
   "execution_count": null,
   "metadata": {},
   "outputs": [
    {
     "data": {
      "text/plain": [
       "array([[[ 6, 24, 42, 60],\n",
       "        [ 9, 27, 45, 63]]])"
      ]
     },
     "execution_count": 21,
     "metadata": {},
     "output_type": "execute_result"
    }
   ],
   "source": [
    "np.sum(c, axis = 2)"
   ]
  },
  {
   "cell_type": "code",
   "execution_count": null,
   "metadata": {},
   "outputs": [
    {
     "data": {
      "text/plain": [
       "array([[[36, 44, 52],\n",
       "        [40, 48, 56]]])"
      ]
     },
     "execution_count": 22,
     "metadata": {},
     "output_type": "execute_result"
    }
   ],
   "source": [
    "np.sum(c, axis = 3)"
   ]
  },
  {
   "cell_type": "code",
   "execution_count": 35,
   "metadata": {},
   "outputs": [
    {
     "name": "stdout",
     "output_type": "stream",
     "text": [
      "[[5 6 4 7 9]\n",
      " [5 6 9 4 7]\n",
      " [9 8 3 9 1]]\n",
      "----------------------------------------------------------------------------------------------------\n",
      "[[5 6 4 7 9]\n",
      " [5 6 9 4 7]\n",
      " [9 8 3 9 0]]\n",
      "----------------------------------------------------------------------------------------------------\n"
     ]
    },
    {
     "data": {
      "text/plain": [
       "array([[5, 6],\n",
       "       [5, 6]])"
      ]
     },
     "execution_count": 35,
     "metadata": {},
     "output_type": "execute_result"
    }
   ],
   "source": [
    "\n",
    "a = np.random.randint(1,10,size=(3,5))\n",
    "print(a)\n",
    "print(\"--\"*50)\n",
    "a[2,4]=0\n",
    "print(a)\n",
    "print(\"--\"*50)\n",
    "a[:2,:2]"
   ]
  },
  {
   "cell_type": "code",
   "execution_count": 36,
   "metadata": {},
   "outputs": [
    {
     "data": {
      "text/plain": [
       "array([5, 5, 9])"
      ]
     },
     "execution_count": 36,
     "metadata": {},
     "output_type": "execute_result"
    }
   ],
   "source": [
    "a[:,0]"
   ]
  },
  {
   "cell_type": "code",
   "execution_count": 37,
   "metadata": {},
   "outputs": [
    {
     "data": {
      "text/plain": [
       "array([[False, False, False,  True, False],\n",
       "       [False, False, False, False,  True],\n",
       "       [False, False, False, False,  True]])"
      ]
     },
     "execution_count": 37,
     "metadata": {},
     "output_type": "execute_result"
    }
   ],
   "source": [
    "a%7 == 0"
   ]
  },
  {
   "cell_type": "code",
   "execution_count": 44,
   "metadata": {},
   "outputs": [],
   "source": [
    "a[(a%7 == 0) | (a%3 == 0)] = 1000"
   ]
  },
  {
   "cell_type": "code",
   "execution_count": 45,
   "metadata": {},
   "outputs": [
    {
     "data": {
      "text/plain": [
       "array([[   5, 1000,    4, 1000, 1000],\n",
       "       [   5, 1000, 1000,    4, 1000],\n",
       "       [1000,    8, 1000, 1000, 1000]])"
      ]
     },
     "execution_count": 45,
     "metadata": {},
     "output_type": "execute_result"
    }
   ],
   "source": [
    "a"
   ]
  },
  {
   "cell_type": "code",
   "execution_count": 47,
   "metadata": {},
   "outputs": [
    {
     "data": {
      "text/plain": [
       "array([[False,  True],\n",
       "       [ True, False]])"
      ]
     },
     "execution_count": 47,
     "metadata": {},
     "output_type": "execute_result"
    }
   ],
   "source": [
    "p = np.array([[4,5],[5,7]])\n",
    "q = np.array([[1,5],[5,5]])\n",
    "\n",
    "p == q"
   ]
  },
  {
   "cell_type": "code",
   "execution_count": 50,
   "metadata": {},
   "outputs": [
    {
     "data": {
      "text/plain": [
       "array([[12.88,  6.23],\n",
       "       [ 2.68,  0.9 ],\n",
       "       [17.02,  6.2 ],\n",
       "       [13.21,  1.05],\n",
       "       [11.18,  4.49],\n",
       "       [ 7.53,  5.1 ],\n",
       "       [ 2.37,  3.76],\n",
       "       [18.65,  1.27],\n",
       "       [ 1.69,  0.7 ],\n",
       "       [18.9 ,  8.25],\n",
       "       [11.33,  7.63],\n",
       "       [15.4 ,  1.3 ],\n",
       "       [ 5.11,  2.43],\n",
       "       [ 9.41,  1.35],\n",
       "       [ 8.37,  7.64],\n",
       "       [16.55,  5.66],\n",
       "       [17.03,  8.84],\n",
       "       [19.68,  3.69],\n",
       "       [ 3.68,  3.92],\n",
       "       [ 8.78,  8.46],\n",
       "       [ 6.33,  1.29],\n",
       "       [16.4 ,  9.1 ],\n",
       "       [ 1.76,  2.42],\n",
       "       [ 2.85,  0.87],\n",
       "       [12.53,  9.11],\n",
       "       [12.85,  9.03],\n",
       "       [12.18,  5.2 ],\n",
       "       [11.73,  0.15],\n",
       "       [19.91,  3.08],\n",
       "       [ 1.19,  3.64],\n",
       "       [ 0.77,  4.06],\n",
       "       [12.41,  4.27],\n",
       "       [ 5.68,  7.7 ],\n",
       "       [ 2.6 ,  5.03],\n",
       "       [14.8 ,  0.24],\n",
       "       [ 2.16,  1.46],\n",
       "       [ 4.89,  7.22],\n",
       "       [13.2 ,  1.33],\n",
       "       [ 2.96,  9.15],\n",
       "       [ 7.82,  8.87],\n",
       "       [19.28,  5.29],\n",
       "       [ 6.69,  7.87],\n",
       "       [ 0.41,  2.05],\n",
       "       [19.1 ,  6.9 ],\n",
       "       [ 6.65,  5.26],\n",
       "       [ 1.87,  2.79],\n",
       "       [15.2 ,  7.34],\n",
       "       [ 0.14,  0.72],\n",
       "       [11.22,  6.39],\n",
       "       [12.11,  0.85],\n",
       "       [16.09,  6.32],\n",
       "       [17.31,  6.36],\n",
       "       [17.76,  6.75],\n",
       "       [16.78,  3.14],\n",
       "       [14.23,  5.71],\n",
       "       [ 8.62,  9.65],\n",
       "       [ 1.85,  9.44],\n",
       "       [ 5.37,  2.78],\n",
       "       [ 9.56,  9.93],\n",
       "       [18.57,  6.92],\n",
       "       [ 5.77,  3.55],\n",
       "       [19.66,  2.92],\n",
       "       [ 7.19,  8.07],\n",
       "       [19.96,  2.6 ],\n",
       "       [ 0.88,  6.78],\n",
       "       [ 8.76,  7.81],\n",
       "       [ 3.49,  4.37],\n",
       "       [17.8 ,  3.08],\n",
       "       [13.33,  7.73],\n",
       "       [19.67,  4.09],\n",
       "       [ 6.75,  2.99],\n",
       "       [14.27,  2.56],\n",
       "       [13.04,  8.68],\n",
       "       [19.72,  9.28],\n",
       "       [16.44,  8.91],\n",
       "       [ 4.08,  5.32],\n",
       "       [12.53,  6.55],\n",
       "       [ 7.39,  1.67],\n",
       "       [17.41,  8.61],\n",
       "       [10.63,  2.6 ],\n",
       "       [14.01,  7.63],\n",
       "       [18.81,  1.21],\n",
       "       [ 1.36,  8.69],\n",
       "       [19.4 ,  0.09],\n",
       "       [ 4.89,  8.15],\n",
       "       [15.23,  1.97],\n",
       "       [11.08,  9.29],\n",
       "       [18.11,  3.12],\n",
       "       [ 1.76,  6.  ],\n",
       "       [ 4.08,  3.48],\n",
       "       [ 9.86,  4.91],\n",
       "       [ 6.94,  0.66],\n",
       "       [15.8 ,  8.08],\n",
       "       [10.13,  3.11],\n",
       "       [19.65,  4.64],\n",
       "       [14.03,  6.34],\n",
       "       [17.41,  2.39],\n",
       "       [12.14,  5.06],\n",
       "       [14.54,  6.83],\n",
       "       [ 3.02,  7.97]])"
      ]
     },
     "execution_count": 50,
     "metadata": {},
     "output_type": "execute_result"
    }
   ],
   "source": [
    "e = np.random.random(size=(100,2))\n",
    "e[:,0] *= 20\n",
    "e[:,1] *= 10\n",
    "e = np.round(e,2)\n",
    "e\n"
   ]
  },
  {
   "cell_type": "code",
   "execution_count": 62,
   "metadata": {},
   "outputs": [],
   "source": [
    "from matplotlib import pyplot as plt\n",
    "%matplotlib inline"
   ]
  },
  {
   "cell_type": "code",
   "execution_count": 61,
   "metadata": {},
   "outputs": [
    {
     "name": "stdout",
     "output_type": "stream",
     "text": [
      "Requirement already satisfied: matplotlib in d:\\program files\\python\\lib\\site-packages (3.5.2)\n",
      "Requirement already satisfied: cycler>=0.10 in d:\\program files\\python\\lib\\site-packages (from matplotlib) (0.11.0)\n",
      "Requirement already satisfied: fonttools>=4.22.0 in d:\\program files\\python\\lib\\site-packages (from matplotlib) (4.34.2)\n",
      "Requirement already satisfied: kiwisolver>=1.0.1 in d:\\program files\\python\\lib\\site-packages (from matplotlib) (1.4.3)\n",
      "Requirement already satisfied: numpy>=1.17 in d:\\program files\\python\\lib\\site-packages (from matplotlib) (1.23.0)\n",
      "Requirement already satisfied: packaging>=20.0 in d:\\program files\\python\\lib\\site-packages (from matplotlib) (21.3)\n",
      "Requirement already satisfied: pillow>=6.2.0 in d:\\program files\\python\\lib\\site-packages (from matplotlib) (9.2.0)\n",
      "Requirement already satisfied: pyparsing>=2.2.1 in d:\\program files\\python\\lib\\site-packages (from matplotlib) (3.0.9)\n",
      "Requirement already satisfied: python-dateutil>=2.7 in d:\\program files\\python\\lib\\site-packages (from matplotlib) (2.8.2)\n",
      "Requirement already satisfied: six>=1.5 in d:\\program files\\python\\lib\\site-packages (from python-dateutil>=2.7->matplotlib) (1.16.0)\n",
      "Note: you may need to restart the kernel to use updated packages.\n"
     ]
    },
    {
     "name": "stderr",
     "output_type": "stream",
     "text": [
      "\n",
      "[notice] A new release of pip is available: 23.1 -> 23.3.1\n",
      "[notice] To update, run: python.exe -m pip install --upgrade pip\n"
     ]
    }
   ],
   "source": [
    "pip install matplotlib"
   ]
  },
  {
   "cell_type": "code",
   "execution_count": 71,
   "metadata": {},
   "outputs": [
    {
     "data": {
      "text/plain": [
       "<matplotlib.collections.PathCollection at 0x1b2c2337970>"
      ]
     },
     "execution_count": 71,
     "metadata": {},
     "output_type": "execute_result"
    },
    {
     "data": {
      "image/png": "[encoded data removed]",
      "text/plain": [
       "<Figure size 640x480 with 1 Axes>"
      ]
     },
     "metadata": {},
     "output_type": "display_data"
    }
   ],
   "source": [
    "plt.scatter(e[:,0],e[:,1], color ='red' , marker = '+')"
   ]
  },
  {
   "cell_type": "code",
   "execution_count": null,
   "metadata": {},
   "outputs": [],
   "source": []
  }
 ],
 "metadata": {
  "kernelspec": {
   "display_name": "Python 3",
   "language": "python",
   "name": "python3"
  },
  "language_info": {
   "codemirror_mode": {
    "name": "ipython",
    "version": 3
   },
   "file_extension": ".py",
   "mimetype": "text/x-python",
   "name": "python",
   "nbconvert_exporter": "python",
   "pygments_lexer": "ipython3",
   "version": "3.10.12"
  }
 },
 "nbformat": 4,
 "nbformat_minor": 2
}
