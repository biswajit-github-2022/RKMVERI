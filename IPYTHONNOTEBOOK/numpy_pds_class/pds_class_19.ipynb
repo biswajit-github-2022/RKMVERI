{
 "cells": [
  {
   "cell_type": "code",
   "execution_count": 2,
   "metadata": {},
   "outputs": [],
   "source": [
    "import numpy as np\n",
    "x=np.random.randint(0,20,size=(100,1))\n",
    "y=np.random.randint(0,10,size=(100,1))\n",
    "# A=np.concatenate((x,y),axis=1)\n",
    "A=np.block([x,y])\n",
    "# print(A)\n"
   ]
  },
  {
   "cell_type": "code",
   "execution_count": 3,
   "metadata": {},
   "outputs": [],
   "source": [
    "# print(A)"
   ]
  },
  {
   "cell_type": "code",
   "execution_count": 4,
   "metadata": {},
   "outputs": [
    {
     "name": "stdout",
     "output_type": "stream",
     "text": [
      "Which point is closer to which centroid:\n",
      " [0 1 2 2 2 2 0 0 2 1 2 0 0 2 1 2 2 0 1 0 2 2 2 2 0 1 2 0 1 0 1 0 1 2 0 2 0\n",
      " 2 2 2 2 2 1 0 2 1 2 0 2 1 2 2 2 2 2 2 2 2 2 1 0 1 2 0 2 2 1 0 2 2 1 2 0 2\n",
      " 2 2 2 2 1 1 0 2 2 1 2 0 2 2 1 0 2 1 2 1 1 1 0 2 2 1]\n"
     ]
    },
    {
     "data": {
      "text/plain": [
       "<matplotlib.collections.PathCollection at 0x7fd2c98b6dd0>"
      ]
     },
     "execution_count": 4,
     "metadata": {},
     "output_type": "execute_result"
    },
    {
     "data": {
      "image/png": "[encoded data removed]",
      "text/plain": [
       "<Figure size 640x480 with 1 Axes>"
      ]
     },
     "metadata": {},
     "output_type": "display_data"
    }
   ],
   "source": [
    "#######clustering of points using centroids\n",
    "\n",
    "import matplotlib.pyplot as plt\n",
    "\n",
    "# ran_points=np.array([A[0],A[1],A[2],A[3],A[4]])\n",
    "ran_points=np.random.randint(0,20,size=(100,2))\n",
    "# print(\"Random points are:\\n\",ran_points)\n",
    "centroids=np.array([[3,4],[7,8],[8,10]])\n",
    "# print(\"Centroid points are:\\n\",centroids)\n",
    "s=np.empty(shape=(centroids.shape[0],ran_points.shape[0]),dtype=int)\n",
    "\n",
    "for i in range(centroids.shape[0]):\n",
    "    distance1=(centroids[i]-ran_points)**2\n",
    "    s[i]=np.sqrt(distance1[:,0]+distance1[:,1])\n",
    "    \n",
    "# print(\"Distance matrix is :\\n\",s)\n",
    "\n",
    "f=[]\n",
    "for i in range(s.shape[1]):\n",
    "    f.append(np.argmin(s[:,i]))\n",
    "ac=np.array(f)\n",
    "print(\"Which point is closer to which centroid:\\n\",ac)\n",
    "# print(\"\\nClustering:\\n\")\n",
    "# for i in range(centroids.shape[0]):\n",
    "#     print(f\"Points close to {centroids[i]} are \\n:{ran_points[ac==i]}\")\n",
    "    # pri/nt(f\"Points close to {centroids[0]} are \\n:{ran_points[ac==0]}\")\n",
    "\n",
    "plt.scatter(ran_points[ac==0][:,0],ran_points[ac==0][:,1],color=\"blue\",s=5)\n",
    "plt.scatter(ran_points[ac==1][:,0],ran_points[ac==1][:,1],color=\"red\",s=5)\n",
    "plt.scatter(ran_points[ac==2][:,0],ran_points[ac==2][:,1],color=\"green\",s=5)\n",
    "plt.scatter(centroids[:,0],centroids[:,1],color=\"black\")"
   ]
  },
  {
   "cell_type": "code",
   "execution_count": 5,
   "metadata": {},
   "outputs": [
    {
     "data": {
      "text/plain": [
       "3"
      ]
     },
     "execution_count": 5,
     "metadata": {},
     "output_type": "execute_result"
    }
   ],
   "source": [
    "#argmin\n",
    "l=[12,30,56,5]\n",
    "np.argmin(l)"
   ]
  },
  {
   "cell_type": "markdown",
   "metadata": {},
   "source": [
    "# Class 17"
   ]
  },
  {
   "cell_type": "code",
   "execution_count": 6,
   "metadata": {},
   "outputs": [],
   "source": [
    "import numpy as np"
   ]
  },
  {
   "cell_type": "code",
   "execution_count": 7,
   "metadata": {},
   "outputs": [
    {
     "data": {
      "text/plain": [
       "array([[11,  5, 11,  9, 11],\n",
       "       [13,  7,  7,  6,  6],\n",
       "       [15, 16, 17, 12, 11]])"
      ]
     },
     "execution_count": 7,
     "metadata": {},
     "output_type": "execute_result"
    }
   ],
   "source": [
    "a=np.random.randint(1,10,(3,5))\n",
    "a\n",
    "b=np.random.randint(1,10,(3,1))\n",
    "b\n",
    "# a+b\n",
    "np.add(a,b)"
   ]
  },
  {
   "cell_type": "code",
   "execution_count": 8,
   "metadata": {},
   "outputs": [
    {
     "data": {
      "text/plain": [
       "array([[11,  5, 11,  9, 11],\n",
       "       [13,  7,  7,  6,  6],\n",
       "       [15, 16, 17, 12, 11]])"
      ]
     },
     "execution_count": 8,
     "metadata": {},
     "output_type": "execute_result"
    }
   ],
   "source": [
    "c=np.concatenate((b,b,b,b,b),axis=1)\n",
    "c\n",
    "a+c"
   ]
  },
  {
   "cell_type": "code",
   "execution_count": 9,
   "metadata": {},
   "outputs": [
    {
     "name": "stdout",
     "output_type": "stream",
     "text": [
      "[[1 7 4 9 6]\n",
      " [6 9 2 8 2]\n",
      " [9 3 1 9 7]]\n",
      "\n",
      "[[6 4 3 5 4]]\n",
      "[[ 7 11  7 14 10]\n",
      " [12 13  5 13  6]\n",
      " [15  7  4 14 11]]\n",
      "\n",
      "[[6 4 3 5 4]\n",
      " [6 4 3 5 4]\n",
      " [6 4 3 5 4]]\n"
     ]
    },
    {
     "data": {
      "text/plain": [
       "array([[ 7, 11,  7, 14, 10],\n",
       "       [12, 13,  5, 13,  6],\n",
       "       [15,  7,  4, 14, 11]])"
      ]
     },
     "execution_count": 9,
     "metadata": {},
     "output_type": "execute_result"
    }
   ],
   "source": [
    "a=np.random.randint(1,10,(3,5))\n",
    "b=np.random.randint(1,10,(1,5))\n",
    "print(a)\n",
    "print()\n",
    "print(b)\n",
    "print(a+b)\n",
    "c=np.concatenate((b,b,b),axis=0)\n",
    "print()\n",
    "print(c)\n",
    "a+c\n",
    "\n"
   ]
  },
  {
   "cell_type": "code",
   "execution_count": 10,
   "metadata": {},
   "outputs": [
    {
     "name": "stdout",
     "output_type": "stream",
     "text": [
      "[[ 6 28 12 45 24]\n",
      " [36 36  6 40  8]\n",
      " [54 12  3 45 28]]\n",
      "[[ 6 28 12 45 24]\n",
      " [36 36  6 40  8]\n",
      " [54 12  3 45 28]]\n",
      "[[ 6 28 12 45 24]\n",
      " [36 36  6 40  8]\n",
      " [54 12  3 45 28]]\n"
     ]
    }
   ],
   "source": [
    "print(a*c)\n",
    "print(a*b)\n",
    "print(np.multiply(a,b))"
   ]
  },
  {
   "cell_type": "code",
   "execution_count": 11,
   "metadata": {},
   "outputs": [
    {
     "name": "stdout",
     "output_type": "stream",
     "text": [
      "[[63.87 92.5  11.6  52.67  3.9 ]\n",
      " [ 9.55 55.89 40.65  0.84 77.71]\n",
      " [88.25 12.42 54.84 13.24 82.36]]\n",
      "[[31.85 91.2  64.27 63.56 62.4 ]\n",
      " [55.23 79.57  2.94 26.93 48.82]\n",
      " [33.93 24.49 83.84 66.   75.1 ]]\n"
     ]
    }
   ],
   "source": [
    "a= np.round((np.random.random((3,5)))*100,2)\n",
    "b= np.round((np.random.random((3,5)))*100,2)\n",
    "print(a)\n",
    "print(b)\n"
   ]
  },
  {
   "cell_type": "code",
   "execution_count": 12,
   "metadata": {},
   "outputs": [
    {
     "name": "stdout",
     "output_type": "stream",
     "text": [
      "[[63.87 92.5  11.6  52.67  3.9 ]\n",
      " [ 9.55 55.89 40.65  0.84 77.71]\n",
      " [88.25 12.42 54.84 13.24 82.36]]\n",
      "[[31.85 91.2  64.27 63.56 62.4 ]\n",
      " [55.23 79.57  2.94 26.93 48.82]\n",
      " [33.93 24.49 83.84 66.   75.1 ]]\n",
      "[[ 95.75 183.8   75.9  116.25  66.3 ]\n",
      " [ 64.75 135.5   43.6   27.78 126.5 ]\n",
      " [122.2   36.9  138.6   79.25 157.5 ]]\n",
      "[[ 95 183  75 116  66]\n",
      " [ 64 135  43  27 126]\n",
      " [122  36 138  79 157]]\n"
     ]
    }
   ],
   "source": [
    "print(a)\n",
    "print(b)\n",
    "c=np.add(a,b,dtype=np.float16)\n",
    "print(c)\n",
    "print(np.array(c,dtype=np.int32))"
   ]
  },
  {
   "cell_type": "code",
   "execution_count": 13,
   "metadata": {},
   "outputs": [
    {
     "data": {
      "text/plain": [
       "array([[[[ 0,  1,  2,  3]],\n",
       "\n",
       "        [[ 4,  5,  6,  7]],\n",
       "\n",
       "        [[ 8,  9, 10, 11]],\n",
       "\n",
       "        [[12, 13, 14, 15]],\n",
       "\n",
       "        [[16, 17, 18, 19]]]])"
      ]
     },
     "execution_count": 13,
     "metadata": {},
     "output_type": "execute_result"
    }
   ],
   "source": [
    "a=np.arange(0,20,1).reshape(1,5,1,4,order='A')\n",
    "a"
   ]
  },
  {
   "cell_type": "code",
   "execution_count": 21,
   "metadata": {},
   "outputs": [
    {
     "name": "stdout",
     "output_type": "stream",
     "text": [
      "[[1]\n",
      " [2]]\n",
      "(2, 1)\n",
      "2\n"
     ]
    }
   ],
   "source": [
    "a=np.array([[1],[2]])\n",
    "print(a)\n",
    "print(np.shape(a))\n",
    "print(np.ndim(a))"
   ]
  },
  {
   "cell_type": "code",
   "execution_count": 15,
   "metadata": {},
   "outputs": [
    {
     "name": "stdout",
     "output_type": "stream",
     "text": [
      "[[5 2 3 9]\n",
      " [2 8 3 1]\n",
      " [7 7 7 4]]\n",
      "[19 14 25]\n",
      "[14 17 13 14]\n"
     ]
    }
   ],
   "source": [
    "a=np.random.randint(1,10,(3,4))\n",
    "print(a)\n",
    "np.sum(a)\n",
    "print(np.sum(a,axis=1))\n",
    "print(np.sum(a,axis=0))\n",
    "# print(np.sum(a,axis=2))\n",
    "# print(np.sum(a,axis=3))"
   ]
  },
  {
   "cell_type": "code",
   "execution_count": 16,
   "metadata": {},
   "outputs": [
    {
     "name": "stdout",
     "output_type": "stream",
     "text": [
      "[[[[ 0  1  2  3]]\n",
      "\n",
      "  [[ 4  5  6  7]]\n",
      "\n",
      "  [[ 8  9 10 11]]\n",
      "\n",
      "  [[12 13 14 15]]\n",
      "\n",
      "  [[16 17 18 19]]]]\n",
      "[[[ 0  1  2  3]\n",
      "  [ 4  5  6  7]\n",
      "  [ 8  9 10 11]\n",
      "  [12 13 14 15]\n",
      "  [16 17 18 19]]]\n",
      "[[[ 6]\n",
      "  [22]\n",
      "  [38]\n",
      "  [54]\n",
      "  [70]]]\n"
     ]
    }
   ],
   "source": [
    "a=np.arange(0,20,1).reshape(1,5,1,4,order='A')\n",
    "print(a)\n",
    "print(np.sum(a,axis=2))\n",
    "print(np.sum(a,axis=3))"
   ]
  },
  {
   "cell_type": "code",
   "execution_count": 17,
   "metadata": {},
   "outputs": [
    {
     "name": "stdout",
     "output_type": "stream",
     "text": [
      "[[7 4 8 5 7]\n",
      " [3 7 8 5 4]\n",
      " [8 8 3 6 5]]\n",
      "\n",
      " get row [3 7 8 5 4]\n",
      "\n",
      " get column\n",
      " [[7]\n",
      " [3]\n",
      " [8]]\n",
      "\n",
      " get column\n",
      " [7 3 8]\n"
     ]
    }
   ],
   "source": [
    "np.random.seed(42)\n",
    "a=np.random.randint(1,10,(3,5))\n",
    "print(a)\n",
    "print(\"\\n get row\",a[1])\n",
    "print(\"\\n get column\\n\",a[:a.shape[0],:1])\n",
    "print(\"\\n get column\\n\",a[:,0])\n"
   ]
  },
  {
   "cell_type": "code",
   "execution_count": 18,
   "metadata": {},
   "outputs": [
    {
     "name": "stdout",
     "output_type": "stream",
     "text": [
      "[7 4 8 7 7 8 4 8 8 6]\n"
     ]
    }
   ],
   "source": [
    "print(a[(a%2==0) | (a%7==0)])"
   ]
  },
  {
   "cell_type": "code",
   "execution_count": 19,
   "metadata": {},
   "outputs": [
    {
     "data": {
      "text/plain": [
       "array([[49, 49, 49,  5, 49],\n",
       "       [ 3, 49, 49,  5, 49],\n",
       "       [49, 49,  3, 49,  5]])"
      ]
     },
     "execution_count": 19,
     "metadata": {},
     "output_type": "execute_result"
    }
   ],
   "source": [
    "a[(a%7==0) | (a%2==0)]=7**2\n",
    "a"
   ]
  },
  {
   "cell_type": "code",
   "execution_count": 20,
   "metadata": {},
   "outputs": [
    {
     "data": {
      "text/plain": [
       "array([[9, 8],\n",
       "       [2, 1],\n",
       "       [1, 3],\n",
       "       [5, 4],\n",
       "       [2, 6],\n",
       "       [1, 2],\n",
       "       [3, 4],\n",
       "       [7, 1],\n",
       "       [5, 5],\n",
       "       [0, 6],\n",
       "       [1, 0],\n",
       "       [9, 9],\n",
       "       [8, 3],\n",
       "       [0, 6],\n",
       "       [4, 1],\n",
       "       [4, 0],\n",
       "       [9, 2],\n",
       "       [6, 3],\n",
       "       [5, 5],\n",
       "       [1, 9],\n",
       "       [7, 9],\n",
       "       [8, 5],\n",
       "       [9, 0],\n",
       "       [1, 0],\n",
       "       [3, 3],\n",
       "       [2, 8],\n",
       "       [3, 2],\n",
       "       [5, 1],\n",
       "       [8, 0],\n",
       "       [9, 7],\n",
       "       [1, 0],\n",
       "       [8, 7],\n",
       "       [7, 7],\n",
       "       [0, 3],\n",
       "       [1, 8],\n",
       "       [6, 3],\n",
       "       [0, 3],\n",
       "       [3, 7],\n",
       "       [6, 8],\n",
       "       [4, 1],\n",
       "       [7, 7],\n",
       "       [5, 7],\n",
       "       [4, 5],\n",
       "       [4, 0],\n",
       "       [1, 0],\n",
       "       [6, 3],\n",
       "       [5, 9],\n",
       "       [2, 4],\n",
       "       [7, 2],\n",
       "       [0, 2],\n",
       "       [1, 9],\n",
       "       [8, 6],\n",
       "       [8, 8],\n",
       "       [1, 8],\n",
       "       [5, 8],\n",
       "       [8, 3],\n",
       "       [1, 2],\n",
       "       [4, 8],\n",
       "       [8, 0],\n",
       "       [5, 4],\n",
       "       [2, 1],\n",
       "       [3, 9],\n",
       "       [3, 5],\n",
       "       [7, 3],\n",
       "       [9, 9],\n",
       "       [2, 4],\n",
       "       [3, 2],\n",
       "       [0, 6],\n",
       "       [5, 0],\n",
       "       [2, 9],\n",
       "       [2, 1],\n",
       "       [4, 9],\n",
       "       [2, 6],\n",
       "       [7, 2],\n",
       "       [7, 3],\n",
       "       [6, 6],\n",
       "       [5, 0],\n",
       "       [8, 3],\n",
       "       [1, 0],\n",
       "       [5, 6],\n",
       "       [0, 5],\n",
       "       [2, 6],\n",
       "       [1, 6],\n",
       "       [3, 9],\n",
       "       [1, 3],\n",
       "       [1, 9],\n",
       "       [8, 2],\n",
       "       [6, 8],\n",
       "       [5, 5],\n",
       "       [2, 0],\n",
       "       [8, 9],\n",
       "       [6, 3],\n",
       "       [3, 7],\n",
       "       [8, 8],\n",
       "       [7, 6],\n",
       "       [0, 1],\n",
       "       [8, 6],\n",
       "       [0, 1],\n",
       "       [6, 0],\n",
       "       [1, 5]], dtype=int32)"
      ]
     },
     "execution_count": 20,
     "metadata": {},
     "output_type": "execute_result"
    }
   ],
   "source": [
    "# print(a)\n",
    "# a[:,0]*=10\n",
    "# a[:,1]*=10\n",
    "a=np.array(np.random.random((100,2))*10,dtype=np.int32)\n",
    "a\n"
   ]
  }
 ],
 "metadata": {
  "kernelspec": {
   "display_name": "Python 3",
   "language": "python",
   "name": "python3"
  },
  "language_info": {
   "codemirror_mode": {
    "name": "ipython",
    "version": 3
   },
   "file_extension": ".py",
   "mimetype": "text/x-python",
   "name": "python",
   "nbconvert_exporter": "python",
   "pygments_lexer": "ipython3",
   "version": "3.10.12"
  }
 },
 "nbformat": 4,
 "nbformat_minor": 2
}
