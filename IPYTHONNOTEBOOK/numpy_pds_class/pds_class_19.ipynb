{
 "cells": [
  {
   "cell_type": "code",
   "execution_count": 92,
   "metadata": {},
   "outputs": [],
   "source": [
    "import numpy as np\n",
    "x=np.random.randint(0,20,size=(100,1))\n",
    "y=np.random.randint(0,10,size=(100,1))\n",
    "# A=np.concatenate((x,y),axis=1)\n",
    "A=np.block([x,y])\n",
    "# print(A)\n",
    "B=A[0]\n",
    "C=B-A\n",
    "\n",
    "D=C**2\n",
    "\n",
    "x=np.round(np.sqrt(D[:,0]+D[:,1]),3)\n",
    "# print(x.reshape(100,1))"
   ]
  },
  {
   "cell_type": "code",
   "execution_count": 93,
   "metadata": {},
   "outputs": [
    {
     "name": "stdout",
     "output_type": "stream",
     "text": [
      "[[18  1]\n",
      " [ 2  1]\n",
      " [15  8]\n",
      " [ 6  7]\n",
      " [ 0  3]\n",
      " [14  1]\n",
      " [ 1  2]\n",
      " [ 3  9]\n",
      " [ 3  4]\n",
      " [14  8]\n",
      " [ 4  2]\n",
      " [17  5]\n",
      " [ 1  0]\n",
      " [11  3]\n",
      " [ 8  3]\n",
      " [15  9]\n",
      " [ 3  6]\n",
      " [ 4  4]\n",
      " [17  3]\n",
      " [17  5]\n",
      " [14  2]\n",
      " [17  0]\n",
      " [10  9]\n",
      " [ 6  4]\n",
      " [ 9  5]\n",
      " [ 5  4]\n",
      " [ 0  9]\n",
      " [12  7]\n",
      " [19  0]\n",
      " [14  7]\n",
      " [13  9]\n",
      " [ 7  8]\n",
      " [10  2]\n",
      " [ 3  5]\n",
      " [11  2]\n",
      " [ 4  0]\n",
      " [ 3  2]\n",
      " [ 4  2]\n",
      " [ 1  4]\n",
      " [16  5]\n",
      " [13  8]\n",
      " [ 2  1]\n",
      " [10  4]\n",
      " [ 6  4]\n",
      " [19  3]\n",
      " [ 4  8]\n",
      " [18  5]\n",
      " [ 7  7]\n",
      " [16  8]\n",
      " [ 4  0]\n",
      " [ 6  1]\n",
      " [ 1  0]\n",
      " [ 2  2]\n",
      " [17  2]\n",
      " [10  5]\n",
      " [ 3  8]\n",
      " [17  4]\n",
      " [15  3]\n",
      " [18  0]\n",
      " [11  1]\n",
      " [11  4]\n",
      " [ 1  9]\n",
      " [ 8  6]\n",
      " [ 3  7]\n",
      " [ 7  5]\n",
      " [ 8  6]\n",
      " [11  2]\n",
      " [ 6  4]\n",
      " [17  6]\n",
      " [ 8  7]\n",
      " [19  4]\n",
      " [16  2]\n",
      " [ 9  2]\n",
      " [ 1  2]\n",
      " [14  1]\n",
      " [ 4  2]\n",
      " [18  9]\n",
      " [18  2]\n",
      " [ 5  7]\n",
      " [18  1]\n",
      " [15  4]\n",
      " [ 7  6]\n",
      " [ 0  2]\n",
      " [ 0  1]\n",
      " [ 4  7]\n",
      " [ 1  3]\n",
      " [ 3  8]\n",
      " [ 1  2]\n",
      " [12  9]\n",
      " [18  8]\n",
      " [ 8  0]\n",
      " [ 0  9]\n",
      " [11  4]\n",
      " [ 8  8]\n",
      " [14  6]\n",
      " [ 8  7]\n",
      " [16  5]\n",
      " [ 3  1]\n",
      " [15  3]\n",
      " [ 0  2]]\n"
     ]
    }
   ],
   "source": [
    "print(A)"
   ]
  },
  {
   "cell_type": "code",
   "execution_count": 94,
   "metadata": {},
   "outputs": [
    {
     "name": "stdout",
     "output_type": "stream",
     "text": [
      "[[18  1]\n",
      " [ 2  1]\n",
      " [15  8]\n",
      " [ 6  7]\n",
      " [ 0  3]]\n",
      "[3 4]\n",
      "[[225   9]\n",
      " [  1   9]\n",
      " [144  16]\n",
      " [  9   9]\n",
      " [  9   1]]\n",
      "[[121  49]\n",
      " [ 25  49]\n",
      " [ 64   0]\n",
      " [  1   1]\n",
      " [ 49  25]]\n"
     ]
    },
    {
     "data": {
      "text/plain": [
       "array([[234,  10, 160,  18,  10],\n",
       "       [170,  74,  64,   2,  74]])"
      ]
     },
     "execution_count": 94,
     "metadata": {},
     "output_type": "execute_result"
    }
   ],
   "source": [
    "ran_points=np.array([A[0],A[1],A[2],A[3],A[4]])\n",
    "print(ran_points)\n",
    "centroids=np.array([[3,4],[7,8]])\n",
    "print(centroids[0])\n",
    "\n",
    "distance1=(centroids[0]-ran_points)**2\n",
    "print(distance1)\n",
    "distance2=(centroids[1]-ran_points)**2\n",
    "print(distance2)\n",
    "s=np.empty(shape=(2,5),dtype=int)\n",
    "# print(s[0][0])\n",
    "\n",
    "\n",
    "\n",
    "for i in range(distance1.shape[0]):\n",
    "    s[0][i]=distance1[i][0]+distance1[i][1]\n",
    "for i in range(distance2.shape[0]):\n",
    "    s[1][i]=distance2[i][0]+distance2[i][1]\n",
    "    \n",
    "s\n"
   ]
  },
  {
   "cell_type": "code",
   "execution_count": 100,
   "metadata": {},
   "outputs": [
    {
     "data": {
      "text/plain": [
       "array([1, 0, 1, 1, 0])"
      ]
     },
     "execution_count": 100,
     "metadata": {},
     "output_type": "execute_result"
    }
   ],
   "source": [
    "f=[]\n",
    "for i in range(s.shape[1]):\n",
    "    f.append(np.argmin(s[:,i]))\n",
    "ac=np.array(f)\n",
    "ac"
   ]
  },
  {
   "cell_type": "code",
   "execution_count": 102,
   "metadata": {},
   "outputs": [
    {
     "data": {
      "text/plain": [
       "3"
      ]
     },
     "execution_count": 102,
     "metadata": {},
     "output_type": "execute_result"
    }
   ],
   "source": [
    "#argmin\n",
    "l=[12,30,56,5]\n",
    "np.argmin(l)"
   ]
  }
 ],
 "metadata": {
  "kernelspec": {
   "display_name": "Python 3",
   "language": "python",
   "name": "python3"
  },
  "language_info": {
   "codemirror_mode": {
    "name": "ipython",
    "version": 3
   },
   "file_extension": ".py",
   "mimetype": "text/x-python",
   "name": "python",
   "nbconvert_exporter": "python",
   "pygments_lexer": "ipython3",
   "version": "3.10.12"
  }
 },
 "nbformat": 4,
 "nbformat_minor": 2
}
