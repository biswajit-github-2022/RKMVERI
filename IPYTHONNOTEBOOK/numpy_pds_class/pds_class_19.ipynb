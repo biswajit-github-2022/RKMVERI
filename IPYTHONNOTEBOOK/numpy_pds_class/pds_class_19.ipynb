{
 "cells": [
  {
   "cell_type": "code",
   "execution_count": 481,
   "metadata": {},
   "outputs": [],
   "source": [
    "import numpy as np\n",
    "x=np.random.randint(0,20,size=(100,1))\n",
    "y=np.random.randint(0,10,size=(100,1))\n",
    "# A=np.concatenate((x,y),axis=1)\n",
    "A=np.block([x,y])\n",
    "# print(A)\n"
   ]
  },
  {
   "cell_type": "code",
   "execution_count": 482,
   "metadata": {},
   "outputs": [],
   "source": [
    "# print(A)"
   ]
  },
  {
   "cell_type": "code",
   "execution_count": 483,
   "metadata": {},
   "outputs": [
    {
     "name": "stdout",
     "output_type": "stream",
     "text": [
      "Which point is closer to which centroid:\n",
      " [2 2 2 1 2 2 2 0 2 2 0 2 0 0 0 1 1 0 2 2 2 1 2 0 1 1 1 2 2 2 1 2 2 2 1 2 2\n",
      " 1 0 2 0 1 1 2 2 2 2 0 2 2 2 2 1 2 0 0 1 1 2 2 0 2 2 0 2 1 0 1 1 2 0 2 1 2\n",
      " 1 0 2 2 2 0 2 2 2 2 2 2 0 1 1 2 1 2 1 2 2 1 0 1 1 2]\n"
     ]
    },
    {
     "data": {
      "text/plain": [
       "<matplotlib.collections.PathCollection at 0x29d1884bfd0>"
      ]
     },
     "execution_count": 483,
     "metadata": {},
     "output_type": "execute_result"
    },
    {
     "data": {
      "image/png": "[encoded data removed]",
      "text/plain": [
       "<Figure size 640x480 with 1 Axes>"
      ]
     },
     "metadata": {},
     "output_type": "display_data"
    }
   ],
   "source": [
    "#######clustering of points using centroids\n",
    "\n",
    "import matplotlib.pyplot as plt\n",
    "\n",
    "# ran_points=np.array([A[0],A[1],A[2],A[3],A[4]])\n",
    "ran_points=np.random.randint(0,20,size=(100,2))\n",
    "# print(\"Random points are:\\n\",ran_points)\n",
    "centroids=np.array([[3,4],[7,8],[8,10]])\n",
    "# print(\"Centroid points are:\\n\",centroids)\n",
    "s=np.empty(shape=(centroids.shape[0],ran_points.shape[0]),dtype=int)\n",
    "\n",
    "for i in range(centroids.shape[0]):\n",
    "    distance1=(centroids[i]-ran_points)**2\n",
    "    s[i]=np.sqrt(distance1[:,0]+distance1[:,1])\n",
    "    \n",
    "# print(\"Distance matrix is :\\n\",s)\n",
    "\n",
    "f=[]\n",
    "for i in range(s.shape[1]):\n",
    "    f.append(np.argmin(s[:,i]))\n",
    "ac=np.array(f)\n",
    "print(\"Which point is closer to which centroid:\\n\",ac)\n",
    "# print(\"\\nClustering:\\n\")\n",
    "# for i in range(centroids.shape[0]):\n",
    "#     print(f\"Points close to {centroids[i]} are \\n:{ran_points[ac==i]}\")\n",
    "    # pri/nt(f\"Points close to {centroids[0]} are \\n:{ran_points[ac==0]}\")\n",
    "\n",
    "plt.scatter(ran_points[ac==0][:,0],ran_points[ac==0][:,1],color=\"blue\")\n",
    "plt.scatter(ran_points[ac==1][:,0],ran_points[ac==1][:,1],color=\"red\")\n",
    "plt.scatter(ran_points[ac==2][:,0],ran_points[ac==2][:,1],color=\"green\")\n",
    "plt.scatter(centroids[:,0],centroids[:,1],color=\"black\")"
   ]
  },
  {
   "cell_type": "code",
   "execution_count": 484,
   "metadata": {},
   "outputs": [
    {
     "data": {
      "text/plain": [
       "3"
      ]
     },
     "execution_count": 484,
     "metadata": {},
     "output_type": "execute_result"
    }
   ],
   "source": [
    "#argmin\n",
    "l=[12,30,56,5]\n",
    "np.argmin(l)"
   ]
  },
  {
   "cell_type": "markdown",
   "metadata": {},
   "source": [
    "# Class 17"
   ]
  },
  {
   "cell_type": "code",
   "execution_count": 485,
   "metadata": {},
   "outputs": [],
   "source": [
    "import numpy as np"
   ]
  },
  {
   "cell_type": "code",
   "execution_count": 486,
   "metadata": {},
   "outputs": [
    {
     "data": {
      "text/plain": [
       "array([[13,  9, 15,  8, 16],\n",
       "       [10,  3, 11,  4,  5],\n",
       "       [ 7, 13,  7,  7,  6]])"
      ]
     },
     "execution_count": 486,
     "metadata": {},
     "output_type": "execute_result"
    }
   ],
   "source": [
    "a=np.random.randint(1,10,(3,5))\n",
    "a\n",
    "b=np.random.randint(1,10,(3,1))\n",
    "b\n",
    "# a+b\n",
    "np.add(a,b)"
   ]
  },
  {
   "cell_type": "code",
   "execution_count": 487,
   "metadata": {},
   "outputs": [
    {
     "data": {
      "text/plain": [
       "array([[13,  9, 15,  8, 16],\n",
       "       [10,  3, 11,  4,  5],\n",
       "       [ 7, 13,  7,  7,  6]])"
      ]
     },
     "execution_count": 487,
     "metadata": {},
     "output_type": "execute_result"
    }
   ],
   "source": [
    "c=np.concatenate((b,b,b,b,b),axis=1)\n",
    "c\n",
    "a+c"
   ]
  },
  {
   "cell_type": "code",
   "execution_count": 488,
   "metadata": {},
   "outputs": [
    {
     "name": "stdout",
     "output_type": "stream",
     "text": [
      "[[5 3 3 3 6]\n",
      " [4 3 2 3 4]\n",
      " [6 4 8 3 3]]\n",
      "\n",
      "[[3 8 4 1 2]]\n",
      "[[ 8 11  7  4  8]\n",
      " [ 7 11  6  4  6]\n",
      " [ 9 12 12  4  5]]\n",
      "\n",
      "[[3 8 4 1 2]\n",
      " [3 8 4 1 2]\n",
      " [3 8 4 1 2]]\n"
     ]
    },
    {
     "data": {
      "text/plain": [
       "array([[ 8, 11,  7,  4,  8],\n",
       "       [ 7, 11,  6,  4,  6],\n",
       "       [ 9, 12, 12,  4,  5]])"
      ]
     },
     "execution_count": 488,
     "metadata": {},
     "output_type": "execute_result"
    }
   ],
   "source": [
    "a=np.random.randint(1,10,(3,5))\n",
    "b=np.random.randint(1,10,(1,5))\n",
    "print(a)\n",
    "print()\n",
    "print(b)\n",
    "print(a+b)\n",
    "c=np.concatenate((b,b,b),axis=0)\n",
    "print()\n",
    "print(c)\n",
    "a+c\n",
    "\n"
   ]
  },
  {
   "cell_type": "code",
   "execution_count": 489,
   "metadata": {},
   "outputs": [
    {
     "name": "stdout",
     "output_type": "stream",
     "text": [
      "[[15 24 12  3 12]\n",
      " [12 24  8  3  8]\n",
      " [18 32 32  3  6]]\n",
      "[[15 24 12  3 12]\n",
      " [12 24  8  3  8]\n",
      " [18 32 32  3  6]]\n",
      "[[15 24 12  3 12]\n",
      " [12 24  8  3  8]\n",
      " [18 32 32  3  6]]\n"
     ]
    }
   ],
   "source": [
    "print(a*c)\n",
    "print(a*b)\n",
    "print(np.multiply(a,b))"
   ]
  },
  {
   "cell_type": "code",
   "execution_count": 490,
   "metadata": {},
   "outputs": [
    {
     "name": "stdout",
     "output_type": "stream",
     "text": [
      "[[73.16 25.69 17.52 69.07 84.28]\n",
      " [48.15 53.14 30.27 49.46 13.2 ]\n",
      " [95.58 80.04 66.8  53.82 79.22]]\n",
      "[[49.48 30.   16.04 64.76 92.94]\n",
      " [15.36 18.   43.36 80.69 29.39]\n",
      " [25.39 62.   53.56  6.02  8.15]]\n"
     ]
    }
   ],
   "source": [
    "a= np.round((np.random.random((3,5)))*100,2)\n",
    "b= np.round((np.random.random((3,5)))*100,2)\n",
    "print(a)\n",
    "print(b)\n"
   ]
  },
  {
   "cell_type": "code",
   "execution_count": 491,
   "metadata": {},
   "outputs": [
    {
     "name": "stdout",
     "output_type": "stream",
     "text": [
      "[[73.16 25.69 17.52 69.07 84.28]\n",
      " [48.15 53.14 30.27 49.46 13.2 ]\n",
      " [95.58 80.04 66.8  53.82 79.22]]\n",
      "[[49.48 30.   16.04 64.76 92.94]\n",
      " [15.36 18.   43.36 80.69 29.39]\n",
      " [25.39 62.   53.56  6.02  8.15]]\n",
      "[[122.6   55.7   33.56 133.8  177.2 ]\n",
      " [ 63.5   71.1   73.6  130.1   42.6 ]\n",
      " [120.94 142.   120.4   59.84  87.4 ]]\n",
      "[[122  55  33 133 177]\n",
      " [ 63  71  73 130  42]\n",
      " [120 142 120  59  87]]\n"
     ]
    }
   ],
   "source": [
    "print(a)\n",
    "print(b)\n",
    "c=np.add(a,b,dtype=np.float16)\n",
    "print(c)\n",
    "print(np.array(c,dtype=np.int32))"
   ]
  },
  {
   "cell_type": "code",
   "execution_count": 492,
   "metadata": {},
   "outputs": [
    {
     "data": {
      "text/plain": [
       "array([[[[ 0,  1,  2,  3]],\n",
       "\n",
       "        [[ 4,  5,  6,  7]],\n",
       "\n",
       "        [[ 8,  9, 10, 11]],\n",
       "\n",
       "        [[12, 13, 14, 15]],\n",
       "\n",
       "        [[16, 17, 18, 19]]]])"
      ]
     },
     "execution_count": 492,
     "metadata": {},
     "output_type": "execute_result"
    }
   ],
   "source": [
    "a=np.arange(0,20,1).reshape(1,5,1,4,order='A')\n",
    "a"
   ]
  },
  {
   "cell_type": "code",
   "execution_count": 493,
   "metadata": {},
   "outputs": [
    {
     "name": "stdout",
     "output_type": "stream",
     "text": [
      "[[[1 2]]\n",
      "\n",
      " [[1 2]]]\n",
      "(2, 1, 2)\n",
      "3\n"
     ]
    }
   ],
   "source": [
    "a=np.array([[[1,2]],[[1,2]]])\n",
    "print(a)\n",
    "print(np.shape(a))\n",
    "print(np.ndim(a))"
   ]
  },
  {
   "cell_type": "code",
   "execution_count": 494,
   "metadata": {},
   "outputs": [
    {
     "name": "stdout",
     "output_type": "stream",
     "text": [
      "[[2 2 4 1]\n",
      " [2 3 7 1]\n",
      " [6 3 3 4]]\n",
      "[ 9 13 16]\n",
      "[10  8 14  6]\n"
     ]
    }
   ],
   "source": [
    "a=np.random.randint(1,10,(3,4))\n",
    "print(a)\n",
    "np.sum(a)\n",
    "print(np.sum(a,axis=1))\n",
    "print(np.sum(a,axis=0))\n",
    "# print(np.sum(a,axis=2))\n",
    "# print(np.sum(a,axis=3))"
   ]
  },
  {
   "cell_type": "code",
   "execution_count": 495,
   "metadata": {},
   "outputs": [
    {
     "name": "stdout",
     "output_type": "stream",
     "text": [
      "[[[[ 0  1  2  3]]\n",
      "\n",
      "  [[ 4  5  6  7]]\n",
      "\n",
      "  [[ 8  9 10 11]]\n",
      "\n",
      "  [[12 13 14 15]]\n",
      "\n",
      "  [[16 17 18 19]]]]\n",
      "[[[ 0  1  2  3]\n",
      "  [ 4  5  6  7]\n",
      "  [ 8  9 10 11]\n",
      "  [12 13 14 15]\n",
      "  [16 17 18 19]]]\n",
      "[[[ 6]\n",
      "  [22]\n",
      "  [38]\n",
      "  [54]\n",
      "  [70]]]\n"
     ]
    }
   ],
   "source": [
    "a=np.arange(0,20,1).reshape(1,5,1,4,order='A')\n",
    "print(a)\n",
    "print(np.sum(a,axis=2))\n",
    "print(np.sum(a,axis=3))"
   ]
  },
  {
   "cell_type": "code",
   "execution_count": 496,
   "metadata": {},
   "outputs": [
    {
     "name": "stdout",
     "output_type": "stream",
     "text": [
      "[[7 4 8 5 7]\n",
      " [3 7 8 5 4]\n",
      " [8 8 3 6 5]]\n",
      "\n",
      " get row [3 7 8 5 4]\n",
      "\n",
      " get column\n",
      " [[7]\n",
      " [3]\n",
      " [8]]\n",
      "\n",
      " get column\n",
      " [7 3 8]\n"
     ]
    }
   ],
   "source": [
    "np.random.seed(42)\n",
    "a=np.random.randint(1,10,(3,5))\n",
    "print(a)\n",
    "print(\"\\n get row\",a[1])\n",
    "print(\"\\n get column\\n\",a[:a.shape[0],:1])\n",
    "print(\"\\n get column\\n\",a[:,0])\n"
   ]
  },
  {
   "cell_type": "code",
   "execution_count": 497,
   "metadata": {},
   "outputs": [
    {
     "name": "stdout",
     "output_type": "stream",
     "text": [
      "[7 4 8 7 7 8 4 8 8 6]\n"
     ]
    }
   ],
   "source": [
    "print(a[(a%2==0) | (a%7==0)])"
   ]
  },
  {
   "cell_type": "code",
   "execution_count": 498,
   "metadata": {},
   "outputs": [
    {
     "data": {
      "text/plain": [
       "array([[49, 49, 49,  5, 49],\n",
       "       [ 3, 49, 49,  5, 49],\n",
       "       [49, 49,  3, 49,  5]])"
      ]
     },
     "execution_count": 498,
     "metadata": {},
     "output_type": "execute_result"
    }
   ],
   "source": [
    "a[(a%7==0) | (a%2==0)]=7**2\n",
    "a"
   ]
  },
  {
   "cell_type": "code",
   "execution_count": 499,
   "metadata": {},
   "outputs": [
    {
     "data": {
      "text/plain": [
       "array([[9, 8],\n",
       "       [2, 1],\n",
       "       [1, 3],\n",
       "       [5, 4],\n",
       "       [2, 6],\n",
       "       [1, 2],\n",
       "       [3, 4],\n",
       "       [7, 1],\n",
       "       [5, 5],\n",
       "       [0, 6],\n",
       "       [1, 0],\n",
       "       [9, 9],\n",
       "       [8, 3],\n",
       "       [0, 6],\n",
       "       [4, 1],\n",
       "       [4, 0],\n",
       "       [9, 2],\n",
       "       [6, 3],\n",
       "       [5, 5],\n",
       "       [1, 9],\n",
       "       [7, 9],\n",
       "       [8, 5],\n",
       "       [9, 0],\n",
       "       [1, 0],\n",
       "       [3, 3],\n",
       "       [2, 8],\n",
       "       [3, 2],\n",
       "       [5, 1],\n",
       "       [8, 0],\n",
       "       [9, 7],\n",
       "       [1, 0],\n",
       "       [8, 7],\n",
       "       [7, 7],\n",
       "       [0, 3],\n",
       "       [1, 8],\n",
       "       [6, 3],\n",
       "       [0, 3],\n",
       "       [3, 7],\n",
       "       [6, 8],\n",
       "       [4, 1],\n",
       "       [7, 7],\n",
       "       [5, 7],\n",
       "       [4, 5],\n",
       "       [4, 0],\n",
       "       [1, 0],\n",
       "       [6, 3],\n",
       "       [5, 9],\n",
       "       [2, 4],\n",
       "       [7, 2],\n",
       "       [0, 2],\n",
       "       [1, 9],\n",
       "       [8, 6],\n",
       "       [8, 8],\n",
       "       [1, 8],\n",
       "       [5, 8],\n",
       "       [8, 3],\n",
       "       [1, 2],\n",
       "       [4, 8],\n",
       "       [8, 0],\n",
       "       [5, 4],\n",
       "       [2, 1],\n",
       "       [3, 9],\n",
       "       [3, 5],\n",
       "       [7, 3],\n",
       "       [9, 9],\n",
       "       [2, 4],\n",
       "       [3, 2],\n",
       "       [0, 6],\n",
       "       [5, 0],\n",
       "       [2, 9],\n",
       "       [2, 1],\n",
       "       [4, 9],\n",
       "       [2, 6],\n",
       "       [7, 2],\n",
       "       [7, 3],\n",
       "       [6, 6],\n",
       "       [5, 0],\n",
       "       [8, 3],\n",
       "       [1, 0],\n",
       "       [5, 6],\n",
       "       [0, 5],\n",
       "       [2, 6],\n",
       "       [1, 6],\n",
       "       [3, 9],\n",
       "       [1, 3],\n",
       "       [1, 9],\n",
       "       [8, 2],\n",
       "       [6, 8],\n",
       "       [5, 5],\n",
       "       [2, 0],\n",
       "       [8, 9],\n",
       "       [6, 3],\n",
       "       [3, 7],\n",
       "       [8, 8],\n",
       "       [7, 6],\n",
       "       [0, 1],\n",
       "       [8, 6],\n",
       "       [0, 1],\n",
       "       [6, 0],\n",
       "       [1, 5]])"
      ]
     },
     "execution_count": 499,
     "metadata": {},
     "output_type": "execute_result"
    }
   ],
   "source": [
    "# print(a)\n",
    "# a[:,0]*=10\n",
    "# a[:,1]*=10\n",
    "a=np.array(np.random.random((100,2))*10,dtype=np.int32)\n",
    "a\n"
   ]
  }
 ],
 "metadata": {
  "kernelspec": {
   "display_name": "Python 3",
   "language": "python",
   "name": "python3"
  },
  "language_info": {
   "codemirror_mode": {
    "name": "ipython",
    "version": 3
   },
   "file_extension": ".py",
   "mimetype": "text/x-python",
   "name": "python",
   "nbconvert_exporter": "python",
   "pygments_lexer": "ipython3",
   "version": "3.10.5"
  }
 },
 "nbformat": 4,
 "nbformat_minor": 2
}
