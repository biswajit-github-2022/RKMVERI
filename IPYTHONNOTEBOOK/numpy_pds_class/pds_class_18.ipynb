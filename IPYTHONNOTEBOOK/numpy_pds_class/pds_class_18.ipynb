{
 "cells": [
  {
   "cell_type": "code",
   "execution_count": 32,
   "metadata": {},
   "outputs": [],
   "source": [
    "# create 4 numpy array of size 4*3 and one  narr 2*3...arr1...arr2...so on\n",
    "# define a func f1() and  that func receive 2 numpy arrays as param , and check that these 2 arrays of compatible dimensionif yes then sum else raiise exp.\n",
    "# \n",
    "import numpy as np\n",
    "\n",
    "a=np.random.randint(-10,10,size =(4,3))\n",
    "b=np.random.randint(-10,10,size =(4,3))\n",
    "c=np.random.randint(-10,10,size =(4,3))\n",
    "d=np.random.randint(-10,10,size =(4,3))\n",
    "e=np.random.randint(-10,10,size =(2,3))\n"
   ]
  },
  {
   "cell_type": "code",
   "execution_count": 33,
   "metadata": {},
   "outputs": [
    {
     "ename": "Exception",
     "evalue": "Dimension of arrays are not compatible to add",
     "output_type": "error",
     "traceback": [
      "\u001b[0;31m---------------------------------------------------------------------------\u001b[0m",
      "\u001b[0;31mException\u001b[0m                                 Traceback (most recent call last)",
      "\u001b[1;32m/home/sysadm/Documents/working_directory/RKMVERI/IPYTHONNOTEBOOK/numpy_pds_class/pds_class_18.ipynb Cell 2\u001b[0m line \u001b[0;36m7\n\u001b[1;32m      <a href='vscode-notebook-cell:/home/sysadm/Documents/working_directory/RKMVERI/IPYTHONNOTEBOOK/numpy_pds_class/pds_class_18.ipynb#W1sZmlsZQ%3D%3D?line=3'>4</a>\u001b[0m     \u001b[39melse\u001b[39;00m:\n\u001b[1;32m      <a href='vscode-notebook-cell:/home/sysadm/Documents/working_directory/RKMVERI/IPYTHONNOTEBOOK/numpy_pds_class/pds_class_18.ipynb#W1sZmlsZQ%3D%3D?line=4'>5</a>\u001b[0m         \u001b[39mraise\u001b[39;00m \u001b[39mException\u001b[39;00m (\u001b[39m\"\u001b[39m\u001b[39mDimension of arrays are not compatible to add\u001b[39m\u001b[39m\"\u001b[39m)\n\u001b[0;32m----> <a href='vscode-notebook-cell:/home/sysadm/Documents/working_directory/RKMVERI/IPYTHONNOTEBOOK/numpy_pds_class/pds_class_18.ipynb#W1sZmlsZQ%3D%3D?line=6'>7</a>\u001b[0m f1(a,e)\n",
      "\u001b[1;32m/home/sysadm/Documents/working_directory/RKMVERI/IPYTHONNOTEBOOK/numpy_pds_class/pds_class_18.ipynb Cell 2\u001b[0m line \u001b[0;36m5\n\u001b[1;32m      <a href='vscode-notebook-cell:/home/sysadm/Documents/working_directory/RKMVERI/IPYTHONNOTEBOOK/numpy_pds_class/pds_class_18.ipynb#W1sZmlsZQ%3D%3D?line=2'>3</a>\u001b[0m     \u001b[39mreturn\u001b[39;00m i\u001b[39m+\u001b[39mj\n\u001b[1;32m      <a href='vscode-notebook-cell:/home/sysadm/Documents/working_directory/RKMVERI/IPYTHONNOTEBOOK/numpy_pds_class/pds_class_18.ipynb#W1sZmlsZQ%3D%3D?line=3'>4</a>\u001b[0m \u001b[39melse\u001b[39;00m:\n\u001b[0;32m----> <a href='vscode-notebook-cell:/home/sysadm/Documents/working_directory/RKMVERI/IPYTHONNOTEBOOK/numpy_pds_class/pds_class_18.ipynb#W1sZmlsZQ%3D%3D?line=4'>5</a>\u001b[0m     \u001b[39mraise\u001b[39;00m \u001b[39mException\u001b[39;00m (\u001b[39m\"\u001b[39m\u001b[39mDimension of arrays are not compatible to add\u001b[39m\u001b[39m\"\u001b[39m)\n",
      "\u001b[0;31mException\u001b[0m: Dimension of arrays are not compatible to add"
     ]
    }
   ],
   "source": [
    "def f1(i,j):\n",
    "    if np.shape(i)==np.shape(j):\n",
    "        return i+j\n",
    "    else:\n",
    "        raise Exception (\"Dimension of arrays are not compatible to add\")\n",
    "\n",
    "f1(a,e)\n"
   ]
  },
  {
   "cell_type": "code",
   "execution_count": 62,
   "metadata": {},
   "outputs": [
    {
     "data": {
      "text/plain": [
       "[array([[ -10,  -50,   60],\n",
       "        [ -50,  -30,   60],\n",
       "        [ -20,   40,  -60],\n",
       "        [   0,  -80, -100]]),\n",
       " array([[ 70, -40, -70],\n",
       "        [ 90, -40,  80],\n",
       "        [ 20, -40,  10],\n",
       "        [-80,  30, -70]]),\n",
       " array([[ 50,  60,  50],\n",
       "        [-90, -40,  40]])]"
      ]
     },
     "execution_count": 62,
     "metadata": {},
     "output_type": "execute_result"
    }
   ],
   "source": [
    "def f2(*args):\n",
    "    scalar=10\n",
    "    args=list(args)\n",
    "    # for i in range(len(args)):\n",
    "    #     args[i]=np.multiply(scalar,args[i])\n",
    "    x=[np.multiply(scalar,args[i]) for i in range(len(args))]\n",
    "    return x\n",
    "f2(a,b,e)"
   ]
  },
  {
   "cell_type": "code",
   "execution_count": null,
   "metadata": {},
   "outputs": [],
   "source": [
    "# make ring in scatter plot of class 17"
   ]
  }
 ],
 "metadata": {
  "kernelspec": {
   "display_name": "Python 3",
   "language": "python",
   "name": "python3"
  },
  "language_info": {
   "codemirror_mode": {
    "name": "ipython",
    "version": 3
   },
   "file_extension": ".py",
   "mimetype": "text/x-python",
   "name": "python",
   "nbconvert_exporter": "python",
   "pygments_lexer": "ipython3",
   "version": "3.10.12"
  }
 },
 "nbformat": 4,
 "nbformat_minor": 2
}
