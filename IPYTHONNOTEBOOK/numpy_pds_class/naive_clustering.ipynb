{
 "cells": [
  {
   "cell_type": "code",
   "execution_count": 5,
   "metadata": {},
   "outputs": [],
   "source": [
    "import numpy as np\n",
    "import matplotlib.pyplot as plt"
   ]
  },
  {
   "cell_type": "code",
   "execution_count": 8,
   "metadata": {},
   "outputs": [],
   "source": [
    "# centroids=np.array([[10,11],[9,12],[3,6]])\n",
    "# points=np.random.randint(1,10,3200).reshape((1600,2),order='F')\n",
    "points=np.round(np.random.random(300).reshape((150,2),order='F'),decimals=4)*100\n",
    "# points"
   ]
  },
  {
   "cell_type": "code",
   "execution_count": 6,
   "metadata": {},
   "outputs": [
    {
     "name": "stdout",
     "output_type": "stream",
     "text": [
      "(3, 150)\n",
      "[2 1 2 2 2 2 2 2 2 2 2 2 2 0 2 2 2 2 2 2 2 2 0 2 2 2 2 2 2 2 2 2 2 2 2 2 2\n",
      " 2 2 2 2 2 2 2 2 2 2 2 2 2 2 2 2 2 2 2 2 2 2 2 2 2 2 2 2 2 2 2 2 2 2 2 2 2\n",
      " 2 2 2 2 2 2 2 2 2 2 2 2 1 2 2 2 1 2 2 2 2 2 2 2 2 2 2 2 2 2 2 2 1 1 2 2 2\n",
      " 2 2 2 2 2 2 2 2 2 1 2 2 0 2 2 2 1 2 2 2 1 2 2 2 2 2 1 2 2 2 2 2 2 2 2 2 2\n",
      " 2 1]\n",
      "[0, 1, 2]\n",
      "(3, 150)\n",
      "[2 1 2 2 2 2 2 2 2 2 1 0 2 0 1 2 1 2 2 2 2 1 0 2 2 2 2 2 2 0 2 2 1 2 2 2 2\n",
      " 2 2 0 2 2 2 2 2 2 0 2 2 1 2 0 2 2 2 1 2 2 0 2 2 2 2 2 2 0 2 2 2 2 2 2 2 2\n",
      " 1 2 1 2 2 2 2 2 0 1 2 2 0 0 2 1 1 2 1 0 2 2 2 2 2 2 2 2 0 2 2 0 1 0 2 0 2\n",
      " 1 2 2 1 2 2 2 2 1 1 2 2 0 2 2 2 1 2 2 2 0 2 2 2 2 2 1 2 2 2 2 2 2 2 2 0 2\n",
      " 2 1]\n",
      "[0, 1, 2]\n",
      "(3, 150)\n",
      "[2 1 2 0 2 2 0 2 2 2 1 0 1 0 1 1 1 2 2 1 2 1 0 2 2 2 2 2 2 0 2 2 1 2 2 2 2\n",
      " 2 1 0 2 2 1 1 0 2 0 2 2 1 1 0 2 2 2 1 2 0 0 2 0 0 2 2 2 0 0 1 2 1 2 2 2 0\n",
      " 0 2 1 1 2 2 2 2 0 1 0 2 0 0 2 1 1 2 0 0 2 2 2 2 2 2 0 2 0 2 2 0 1 0 2 0 1\n",
      " 1 2 2 1 2 2 1 2 1 1 2 2 0 2 2 2 0 2 2 1 0 2 2 0 2 2 1 2 2 1 2 2 1 2 2 0 2\n",
      " 2 1]\n",
      "[0, 1, 2]\n",
      "(4, 3, 2)\n"
     ]
    },
    {
     "data": {
      "text/plain": [
       "array([[[ 9.        ,  9.        ],\n",
       "        [ 9.        , 10.        ],\n",
       "        [10.        , 10.        ]],\n",
       "\n",
       "       [[ 8.03      ,  5.51      ],\n",
       "        [ 4.845     , 50.143     ],\n",
       "        [56.87656934, 52.88788321]],\n",
       "\n",
       "       [[21.603     , 13.376     ],\n",
       "        [14.59590909, 65.89590909],\n",
       "        [65.84685185, 55.98490741]],\n",
       "\n",
       "       [[30.49588235, 17.63411765],\n",
       "        [22.83617647, 70.98352941],\n",
       "        [73.79682927, 57.93414634]]])"
      ]
     },
     "execution_count": 6,
     "metadata": {},
     "output_type": "execute_result"
    },
    {
     "data": {
      "image/png": "[encoded data removed]",
      "text/plain": [
       "<Figure size 432x288 with 1 Axes>"
      ]
     },
     "metadata": {
      "needs_background": "light"
     },
     "output_type": "display_data"
    }
   ],
   "source": [
    "centroids=np.array([[9,9], [9,10],[10,10]])\n",
    "points=np.round(np.random.random(300).reshape((150,2),order='F'),decimals=4)*100\n",
    "# points=np.random.randint(1,10,3200).reshape((1600,2),order='F')\n",
    "\n",
    "def find_cluster_centroids(centroids, points):\n",
    "    all_centroids=[]\n",
    "    all_centroids.append(centroids)\n",
    "    for i in range(3):\n",
    "        centroids_=centroids[:,np.newaxis,:]\n",
    "        c_to_p_dist_=np.sqrt(np.sum((centroids_-points)**2,axis=2))\n",
    "        print(c_to_p_dist_.shape)\n",
    "        min_index=np.argmin(c_to_p_dist_,axis=0)\n",
    "        print(min_index)\n",
    "        s=list(set(min_index))\n",
    "        print(s)\n",
    "        cluster=[]\n",
    "        new_centroids=[]\n",
    "\n",
    "        for i in s:\n",
    "            x=points[min_index==i]\n",
    "            cluster.append(x)\n",
    "            new_centroids.append((np.sum(cluster[i],axis=0)/cluster[i].shape[0]))\n",
    "        new_centroids=np.array(new_centroids)\n",
    "        centroids=new_centroids\n",
    "        all_centroids.append(new_centroids)\n",
    "    all_centroids=np.array(all_centroids)\n",
    "    print(all_centroids.shape)\n",
    "    for i in range(all_centroids.shape[1]):\n",
    "        plt.plot(all_centroids[:,i][:,0],all_centroids[:,i][:,1])\n",
    "\n",
    "    return all_centroids\n",
    "\n",
    "\n",
    "find_cluster_centroids(centroids,points)"
   ]
  }
 ],
 "metadata": {
  "kernelspec": {
   "display_name": "Python 3",
   "language": "python",
   "name": "python3"
  },
  "language_info": {
   "codemirror_mode": {
    "name": "ipython",
    "version": 3
   },
   "file_extension": ".py",
   "mimetype": "text/x-python",
   "name": "python",
   "nbconvert_exporter": "python",
   "pygments_lexer": "ipython3",
   "version": "3.10.12"
  }
 },
 "nbformat": 4,
 "nbformat_minor": 2
}
