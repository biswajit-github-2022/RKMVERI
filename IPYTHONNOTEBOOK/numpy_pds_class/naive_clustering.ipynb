{
 "cells": [
  {
   "cell_type": "code",
   "execution_count": 1,
   "metadata": {},
   "outputs": [],
   "source": [
    "import numpy as np\n",
    "import matplotlib.pyplot as plt"
   ]
  },
  {
   "cell_type": "code",
   "execution_count": 124,
   "metadata": {},
   "outputs": [],
   "source": [
    "# centroids=np.array([[10,11],[9,12],[3,6]])\n",
    "# points=np.random.randint(1,10,3200).reshape((1600,2),order='F')\n",
    "points=np.round(np.random.random(300).reshape((150,2),order='F'),decimals=4)*100\n",
    "# points"
   ]
  },
  {
   "cell_type": "code",
   "execution_count": 158,
   "metadata": {},
   "outputs": [
    {
     "name": "stdout",
     "output_type": "stream",
     "text": [
      "(4,)\n"
     ]
    },
    {
     "name": "stderr",
     "output_type": "stream",
     "text": [
      "C:\\Users\\biswajit\\AppData\\Local\\Temp\\ipykernel_17536\\971280223.py:26: VisibleDeprecationWarning: Creating an ndarray from ragged nested sequences (which is a list-or-tuple of lists-or-tuples-or ndarrays with different lengths or shapes) is deprecated. If you meant to do this, you must specify 'dtype=object' when creating the ndarray.\n",
      "  all_centroids=np.array(all_centroids)\n"
     ]
    },
    {
     "ename": "IndexError",
     "evalue": "tuple index out of range",
     "output_type": "error",
     "traceback": [
      "\u001b[1;31m---------------------------------------------------------------------------\u001b[0m",
      "\u001b[1;31mIndexError\u001b[0m                                Traceback (most recent call last)",
      "\u001b[1;32mc:\\Users\\biswajit\\Downloads\\RKMVERI\\Desktop\\RKMVERI\\IPYTHONNOTEBOOK\\numpy_pds_class\\naive_clustering.ipynb Cell 3\u001b[0m line \u001b[0;36m3\n\u001b[0;32m     <a href='vscode-notebook-cell:/c%3A/Users/biswajit/Downloads/RKMVERI/Desktop/RKMVERI/IPYTHONNOTEBOOK/numpy_pds_class/naive_clustering.ipynb#W2sZmlsZQ%3D%3D?line=28'>29</a>\u001b[0m         plt\u001b[39m.\u001b[39mplot(all_centroids[:,i][:,\u001b[39m0\u001b[39m],all_centroids[:,i][:,\u001b[39m1\u001b[39m])\n\u001b[0;32m     <a href='vscode-notebook-cell:/c%3A/Users/biswajit/Downloads/RKMVERI/Desktop/RKMVERI/IPYTHONNOTEBOOK/numpy_pds_class/naive_clustering.ipynb#W2sZmlsZQ%3D%3D?line=30'>31</a>\u001b[0m     \u001b[39mreturn\u001b[39;00m all_centroids\n\u001b[1;32m---> <a href='vscode-notebook-cell:/c%3A/Users/biswajit/Downloads/RKMVERI/Desktop/RKMVERI/IPYTHONNOTEBOOK/numpy_pds_class/naive_clustering.ipynb#W2sZmlsZQ%3D%3D?line=33'>34</a>\u001b[0m find_cluster_centroids(centroids,points)\n",
      "\u001b[1;32mc:\\Users\\biswajit\\Downloads\\RKMVERI\\Desktop\\RKMVERI\\IPYTHONNOTEBOOK\\numpy_pds_class\\naive_clustering.ipynb Cell 3\u001b[0m line \u001b[0;36m2\n\u001b[0;32m     <a href='vscode-notebook-cell:/c%3A/Users/biswajit/Downloads/RKMVERI/Desktop/RKMVERI/IPYTHONNOTEBOOK/numpy_pds_class/naive_clustering.ipynb#W2sZmlsZQ%3D%3D?line=25'>26</a>\u001b[0m all_centroids\u001b[39m=\u001b[39mnp\u001b[39m.\u001b[39marray(all_centroids)\n\u001b[0;32m     <a href='vscode-notebook-cell:/c%3A/Users/biswajit/Downloads/RKMVERI/Desktop/RKMVERI/IPYTHONNOTEBOOK/numpy_pds_class/naive_clustering.ipynb#W2sZmlsZQ%3D%3D?line=26'>27</a>\u001b[0m \u001b[39mprint\u001b[39m(all_centroids\u001b[39m.\u001b[39mshape)\n\u001b[1;32m---> <a href='vscode-notebook-cell:/c%3A/Users/biswajit/Downloads/RKMVERI/Desktop/RKMVERI/IPYTHONNOTEBOOK/numpy_pds_class/naive_clustering.ipynb#W2sZmlsZQ%3D%3D?line=27'>28</a>\u001b[0m \u001b[39mfor\u001b[39;00m i \u001b[39min\u001b[39;00m \u001b[39mrange\u001b[39m(all_centroids\u001b[39m.\u001b[39;49mshape[\u001b[39m1\u001b[39;49m]):\n\u001b[0;32m     <a href='vscode-notebook-cell:/c%3A/Users/biswajit/Downloads/RKMVERI/Desktop/RKMVERI/IPYTHONNOTEBOOK/numpy_pds_class/naive_clustering.ipynb#W2sZmlsZQ%3D%3D?line=28'>29</a>\u001b[0m     plt\u001b[39m.\u001b[39mplot(all_centroids[:,i][:,\u001b[39m0\u001b[39m],all_centroids[:,i][:,\u001b[39m1\u001b[39m])\n\u001b[0;32m     <a href='vscode-notebook-cell:/c%3A/Users/biswajit/Downloads/RKMVERI/Desktop/RKMVERI/IPYTHONNOTEBOOK/numpy_pds_class/naive_clustering.ipynb#W2sZmlsZQ%3D%3D?line=30'>31</a>\u001b[0m \u001b[39mreturn\u001b[39;00m all_centroids\n",
      "\u001b[1;31mIndexError\u001b[0m: tuple index out of range"
     ]
    }
   ],
   "source": [
    "centroids=np.array([[10,11],[9,12],[3,6]])\n",
    "points=np.round(np.random.random(300).reshape((150,2),order='F'),decimals=4)*100\n",
    "# points=np.random.randint(1,10,3200).reshape((1600,2),order='F')\n",
    "\n",
    "def find_cluster_centroids(centroids, points):\n",
    "    all_centroids=[]\n",
    "    all_centroids.append(centroids)\n",
    "    for i in range(3):\n",
    "        centroids_=centroids[:,np.newaxis,:]\n",
    "        c_to_p_dist_=np.sqrt(np.sum((centroids_-points)**2,axis=2))\n",
    "        # print(c_to_p_dist_)\n",
    "        min_index=np.argmin(c_to_p_dist_,axis=0)\n",
    "        # print(min_index)\n",
    "        s=list(set(min_index))\n",
    "        # print(s)\n",
    "        cluster=[]\n",
    "        new_centroids=[]\n",
    "\n",
    "        for i in s:\n",
    "            x=points[min_index==i]\n",
    "            cluster.append(x)\n",
    "            new_centroids.append((np.sum(cluster[i],axis=0)/cluster[i].shape[0]))\n",
    "        new_centroids=np.array(new_centroids)\n",
    "        centroids=new_centroids\n",
    "        all_centroids.append(new_centroids)\n",
    "    all_centroids=np.array(all_centroids)\n",
    "    print(all_centroids.shape)\n",
    "    for i in range(all_centroids.shape[1]):\n",
    "        plt.plot(all_centroids[:,i][:,0],all_centroids[:,i][:,1])\n",
    "\n",
    "    return all_centroids\n",
    "\n",
    "\n",
    "find_cluster_centroids(centroids,points)"
   ]
  }
 ],
 "metadata": {
  "kernelspec": {
   "display_name": "Python 3",
   "language": "python",
   "name": "python3"
  },
  "language_info": {
   "codemirror_mode": {
    "name": "ipython",
    "version": 3
   },
   "file_extension": ".py",
   "mimetype": "text/x-python",
   "name": "python",
   "nbconvert_exporter": "python",
   "pygments_lexer": "ipython3",
   "version": "3.10.5"
  }
 },
 "nbformat": 4,
 "nbformat_minor": 2
}
