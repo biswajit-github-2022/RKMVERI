{
 "cells": [
  {
   "cell_type": "code",
   "execution_count": null,
   "metadata": {},
   "outputs": [],
   "source": [
    "# ori:range\n",
    "# mod: range+count"
   ]
  },
  {
   "cell_type": "code",
   "execution_count": 10,
   "metadata": {},
   "outputs": [
    {
     "name": "stdout",
     "output_type": "stream",
     "text": [
      "(6, 5)\n"
     ]
    }
   ],
   "source": [
    "def f1(l):\n",
    "    return max(l)-min(l)\n",
    "\n",
    "def deco_f(f):\n",
    "    def in_F(*args,**kwargs):\n",
    "        c=0\n",
    "        for i in args[0]:\n",
    "            c+=1\n",
    "        return c,f(args[0])\n",
    "    return in_F\n",
    "\n",
    "f1=deco_f(f1)\n",
    "if __name__ == '__main__':\n",
    "    l_1=[1,2,3,4,5,6]\n",
    "    print(f1(l_1))"
   ]
  },
  {
   "cell_type": "code",
   "execution_count": 17,
   "metadata": {},
   "outputs": [
    {
     "ename": "TypeError",
     "evalue": "'NoneType' object is not callable",
     "output_type": "error",
     "traceback": [
      "\u001b[0;31m---------------------------------------------------------------------------\u001b[0m",
      "\u001b[0;31mTypeError\u001b[0m                                 Traceback (most recent call last)",
      "\u001b[1;32m/home/sysadm/Documents/working_directory/RKMVERI/IPYTHONNOTEBOOK/pds_class_11.ipynb Cell 3\u001b[0m line \u001b[0;36m2\n\u001b[1;32m     <a href='vscode-notebook-cell:/home/sysadm/Documents/working_directory/RKMVERI/IPYTHONNOTEBOOK/pds_class_11.ipynb#W2sZmlsZQ%3D%3D?line=20'>21</a>\u001b[0m \u001b[39mif\u001b[39;00m \u001b[39m__name__\u001b[39m \u001b[39m==\u001b[39m \u001b[39m'\u001b[39m\u001b[39m__main__\u001b[39m\u001b[39m'\u001b[39m:\n\u001b[1;32m     <a href='vscode-notebook-cell:/home/sysadm/Documents/working_directory/RKMVERI/IPYTHONNOTEBOOK/pds_class_11.ipynb#W2sZmlsZQ%3D%3D?line=21'>22</a>\u001b[0m     l_2\u001b[39m=\u001b[39m[\u001b[39m0\u001b[39m,\u001b[39m2\u001b[39m,\u001b[39m34\u001b[39m,\u001b[39m5\u001b[39m,\u001b[39m6\u001b[39m,\u001b[39m43\u001b[39m,\u001b[39m5\u001b[39m,\u001b[39m54\u001b[39m,\u001b[39m2\u001b[39m]\n\u001b[0;32m---> <a href='vscode-notebook-cell:/home/sysadm/Documents/working_directory/RKMVERI/IPYTHONNOTEBOOK/pds_class_11.ipynb#W2sZmlsZQ%3D%3D?line=22'>23</a>\u001b[0m     bubbleSort(l_2)\n",
      "\u001b[0;31mTypeError\u001b[0m: 'NoneType' object is not callable"
     ]
    }
   ],
   "source": [
    "import time\n",
    "def bubbleSort(arr):\n",
    "    n = len(arr)\n",
    "    swapped = False\n",
    "    for i in range(n-1):\n",
    "        for j in range(0, n-i-1):\n",
    "            if arr[j] > arr[j + 1]:\n",
    "                swapped = True\n",
    "                arr[j], arr[j + 1] = arr[j + 1], arr[j]\n",
    "        if not swapped:\n",
    "            return\n",
    "def deco_f_1(f):\n",
    "    def in_F(*args,**kwargs):\n",
    "        t1=time.time()\n",
    "        f(args[0])\n",
    "        t2=time.time()\n",
    "        return f'time to exc: {t2-t1} ' \n",
    "\n",
    "bubbleSort=deco_f_1(bubbleSort)\n",
    "\n",
    "if __name__ == '__main__':\n",
    "    l_2=[0,2,34,5,6,43,5,54,2]\n",
    "    bubbleSort(l_2)"
   ]
  },
  {
   "cell_type": "code",
   "execution_count": null,
   "metadata": {},
   "outputs": [],
   "source": [
    "#double underscore"
   ]
  },
  {
   "cell_type": "code",
   "execution_count": 29,
   "metadata": {},
   "outputs": [
    {
     "data": {
      "text/plain": [
       "'a string'"
      ]
     },
     "execution_count": 29,
     "metadata": {},
     "output_type": "execute_result"
    }
   ],
   "source": [
    "x='abv'\n",
    "'a string' if isinstance(x,str) else 'not string'"
   ]
  },
  {
   "cell_type": "code",
   "execution_count": null,
   "metadata": {},
   "outputs": [],
   "source": [
    "# from p1 import f1,f2 \n",
    "# # in p2 File\n",
    "# import p1 is better"
   ]
  }
 ],
 "metadata": {
  "kernelspec": {
   "display_name": "Python 3",
   "language": "python",
   "name": "python3"
  },
  "language_info": {
   "codemirror_mode": {
    "name": "ipython",
    "version": 3
   },
   "file_extension": ".py",
   "mimetype": "text/x-python",
   "name": "python",
   "nbconvert_exporter": "python",
   "pygments_lexer": "ipython3",
   "version": "3.10.12"
  },
  "orig_nbformat": 4
 },
 "nbformat": 4,
 "nbformat_minor": 2
}
