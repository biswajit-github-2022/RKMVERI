{
 "cells": [
  {
   "cell_type": "code",
   "execution_count": 1,
   "id": "7318da17",
   "metadata": {},
   "outputs": [],
   "source": [
    "\"\"\"\n",
    "-----------------------------------------------------------------------------\n",
    "Assignment-1: Matrix computation exercise using python and numpy\n",
    "-----------------------------------------------------------------------------\n",
    "AUTHOR: Soumitra Samanta (soumitra.samanta@gm.rkmvu.ac.in)\n",
    "-----------------------------------------------------------------------------\n",
    "Package required:\n",
    "Numpy: https://numpy.org/\n",
    "Matplotlib: https://matplotlib.org\n",
    "-----------------------------------------------------------------------------\n",
    "\"\"\"\n",
    "\n",
    "import numpy as np\n",
    "from numpy.random import RandomState\n",
    "\n",
    "from typing import Tuple\n",
    "\n",
    "np.random.seed(42)# To reproduce the random numbers\n"
   ]
  },
  {
   "cell_type": "markdown",
   "id": "f981d248",
   "metadata": {},
   "source": [
    "# Generate a random vector $x \\in \\mathbf{R}^{n}$ contains intergers between $[-l, l]$.\n",
    "[3 points]"
   ]
  },
  {
   "cell_type": "code",
   "execution_count": 2,
   "id": "7abfce98",
   "metadata": {},
   "outputs": [
    {
     "name": "stdout",
     "output_type": "stream",
     "text": [
      "A random vector of size 10: \n",
      "----------------------------------------------------------------------\n",
      "x: []\n",
      "----------------------------------------------------------------------\n"
     ]
    }
   ],
   "source": [
    "n = 10\n",
    "l = 9\n",
    "x = []\n",
    "############################################################################\n",
    "#                             Your code will be here                       #\n",
    "#--------------------------------------------------------------------------#\n",
    "\n",
    "#--------------------------------------------------------------------------#\n",
    "#                             End of your code                             #\n",
    "############################################################################\n",
    "\n",
    "print('A random vector of size {}: ' .format(n))\n",
    "print('-'*70)\n",
    "print('x: {}' .format(x))\n",
    "print('-'*70)"
   ]
  },
  {
   "cell_type": "markdown",
   "id": "2a0c1c9c",
   "metadata": {},
   "source": [
    "# Write a function to calculate the 'dot' product between two vectors. Generate two random vectors $x, y \\in \\mathbf{R}^{n}$ contains intergers between $[-l, l]$ and find the dot product between $x$ and $y$ (your function should handle different order vectors). Check your result with the [numpy.dot](https://numpy.org/doc/stable/reference/generated/numpy.dot.html).\n",
    "[5 points]\n",
    "\n",
    "\n"
   ]
  },
  {
   "cell_type": "code",
   "execution_count": 3,
   "id": "29a4584f",
   "metadata": {},
   "outputs": [
    {
     "name": "stdout",
     "output_type": "stream",
     "text": [
      "Two random vectors of size 10 are:\n",
      "----------------------------------------------------------------------\n",
      "x: []\n",
      "and \n",
      "y: []\n",
      "----------------------------------------------------------------------\n",
      "The dot product between x and y is: []\n",
      "----------------------------------------------------------------------\n"
     ]
    }
   ],
   "source": [
    "n = 10\n",
    "l = 9\n",
    "x = []\n",
    "y = []\n",
    "\n",
    "def vector_dot_product(\n",
    "    x: np.array,\n",
    "    y: np.array,\n",
    ")->float:\n",
    "    \"\"\"\n",
    "    Dot product between two vectors\n",
    "    \n",
    "    Inputs:\n",
    "        - x: 1st vector\n",
    "        - y: 2nd vector\n",
    "       \n",
    "    Output:\n",
    "        - val: Dot product between x and y\n",
    "    \n",
    "    \"\"\"\n",
    "    \n",
    "    val = []\n",
    "    ############################################################################\n",
    "    #                             Your code will be here                       #\n",
    "    #--------------------------------------------------------------------------#\n",
    "    \n",
    "    #--------------------------------------------------------------------------#\n",
    "    #                             End of your code                             #\n",
    "    ############################################################################\n",
    "    \n",
    "    return val\n",
    "\n",
    "# np.random.seed(42)# for reproduce the random numbers\n",
    "x = []\n",
    "y = []\n",
    "\n",
    "print('Two random vectors of size {} are:' .format(n))\n",
    "print('-'*70)\n",
    "print('x: {}\\nand \\ny: {}' .format(x, y))\n",
    "print('-'*70)\n",
    "\n",
    "val = vector_dot_product(x, y)\n",
    "print('The dot product between x and y is: {}' .format(val))\n",
    "print('-'*70)"
   ]
  },
  {
   "cell_type": "markdown",
   "id": "8c35a511",
   "metadata": {},
   "source": [
    "# Generate a random matrix $A$ of size $m \\times n$ contains intergers between $[-l, l]$.\n",
    "[2 points]"
   ]
  },
  {
   "cell_type": "code",
   "execution_count": 4,
   "id": "e8568a9c",
   "metadata": {},
   "outputs": [
    {
     "name": "stdout",
     "output_type": "stream",
     "text": [
      "A random matrix of size 3x5 A:\n",
      "[]: \n",
      "----------------------------------------------------------------------\n"
     ]
    }
   ],
   "source": [
    "m = 3\n",
    "n = 5\n",
    "l = 9\n",
    "A = []\n",
    "############################################################################\n",
    "#                             Your code will be here                       #\n",
    "#--------------------------------------------------------------------------#\n",
    "\n",
    "#--------------------------------------------------------------------------#\n",
    "#                             End of your code                             #\n",
    "############################################################################\n",
    "\n",
    "print('A random matrix of size {}x{} A:\\n{}: ' .format(m, n, A))\n",
    "print('-'*70)\n",
    "\n"
   ]
  },
  {
   "cell_type": "markdown",
   "id": "8d2d1ca3",
   "metadata": {},
   "source": [
    "# Write a function to calculate the product of two matrices. Generate two random matrices $x \\in \\mathbf{R}^{m \\times n}$ and $y \\in \\mathbf{R}^{n \\times m}$ contains intergers between $[-l, l]$ and find the product of of $x$ and $y$ (your function should handle different order matrices). Check your result with the [numpy.matmul](https://numpy.org/doc/stable/reference/generated/numpy.matmul.html) or [numpy.dot](https://numpy.org/doc/stable/reference/generated/numpy.dot.html).\n",
    "\n",
    "[10 points]\n",
    "\n",
    "\n"
   ]
  },
  {
   "cell_type": "code",
   "execution_count": 5,
   "id": "bd7602d8",
   "metadata": {},
   "outputs": [
    {
     "name": "stdout",
     "output_type": "stream",
     "text": [
      "Two random matrices are:\n",
      "A: \n",
      "[]\n",
      "and\n",
      "B: \n",
      "[]\n",
      "----------------------------------------------------------------------\n",
      "The multiplication of A and B using my function is: \n",
      "[]\n",
      "----------------------------------------------------------------------\n",
      "The multiplication of A and B using numpy.matmul is: \n",
      "0.0\n",
      "----------------------------------------------------------------------\n",
      "The multiplication of A and B using numpy.dot is: \n",
      "False\n",
      "----------------------------------------------------------------------\n"
     ]
    }
   ],
   "source": [
    "m = 3\n",
    "n = 5\n",
    "l = 9\n",
    "x = []\n",
    "y = []\n",
    "\n",
    "def matrix_multiplication(\n",
    "    x: np.array,\n",
    "    y: np.array,\n",
    ")->np.array:\n",
    "    \"\"\"\n",
    "    Dot product between two vectors\n",
    "    \n",
    "    Inputs:\n",
    "        - x: 1st matrix\n",
    "        - y: 2nd matrix\n",
    "       \n",
    "    Output:\n",
    "        - val: multiplication x and y\n",
    "    \n",
    "    \"\"\"\n",
    "    \n",
    "    val = []\n",
    "    ############################################################################\n",
    "    #                             Your code will be here                       #\n",
    "    #--------------------------------------------------------------------------#\n",
    "    \n",
    "            \n",
    "    #--------------------------------------------------------------------------#\n",
    "    #                             End of your code                             #\n",
    "    ############################################################################\n",
    "    \n",
    "    return val\n",
    "\n",
    "# np.random.seed(42)# for reproduce the random numbers\n",
    "A = []\n",
    "B = []\n",
    "\n",
    "print('Two random matrices are:')\n",
    "print('A: \\n{}\\nand\\nB: \\n{}' .format(A, B))\n",
    "print('-'*70)\n",
    "\n",
    "val = matrix_multiplication(A, B)\n",
    "print('The multiplication of A and B using my function is: \\n{}' .format(val))\n",
    "print('-'*70)\n",
    "\n",
    "val1 = np.matmul(A, B)\n",
    "print('The multiplication of A and B using numpy.matmul is: \\n{}' .format(val1))\n",
    "print('-'*70)\n",
    "\n",
    "val1 = np.dot(A, B)\n",
    "print('The multiplication of A and B using numpy.dot is: \\n{}' .format(val1))\n",
    "print('-'*70)\n"
   ]
  },
  {
   "cell_type": "code",
   "execution_count": null,
   "id": "56998f7d",
   "metadata": {},
   "outputs": [],
   "source": []
  }
 ],
 "metadata": {
  "kernelspec": {
   "display_name": "Python 3 (ipykernel)",
   "language": "python",
   "name": "python3"
  },
  "language_info": {
   "codemirror_mode": {
    "name": "ipython",
    "version": 3
   },
   "file_extension": ".py",
   "mimetype": "text/x-python",
   "name": "python",
   "nbconvert_exporter": "python",
   "pygments_lexer": "ipython3",
   "version": "3.9.17"
  }
 },
 "nbformat": 4,
 "nbformat_minor": 5
}
