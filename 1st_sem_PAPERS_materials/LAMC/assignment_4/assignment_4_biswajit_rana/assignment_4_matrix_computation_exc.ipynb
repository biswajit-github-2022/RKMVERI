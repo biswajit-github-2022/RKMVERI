{
 "cells": [
  {
   "cell_type": "code",
   "execution_count": 1,
   "id": "610498f6",
   "metadata": {},
   "outputs": [],
   "source": [
    "\"\"\"\n",
    "-----------------------------------------------------------------------------\n",
    "Assignment-4: Matrix computation exercise using python and numpy\n",
    "-----------------------------------------------------------------------------\n",
    "AUTHOR: Soumitra Samanta (soumitra.samanta@gm.rkmvu.ac.in)\n",
    "-----------------------------------------------------------------------------\n",
    "Package required:\n",
    "Numpy: https://numpy.org/\n",
    "Matplotlib: https://matplotlib.org\n",
    "-----------------------------------------------------------------------------\n",
    "\"\"\"\n",
    "\n",
    "import numpy as np\n",
    "from numpy.random import RandomState\n",
    "from assignment_4_matrix_computation_exc import *\n",
    "\n",
    "# for auto-reloading extenrnal modules\n",
    "# see http://stackoverflow.com/questions/1907993/autoreload-of-modules-in-ipython\n",
    "%load_ext autoreload\n",
    "%autoreload 2\n"
   ]
  },
  {
   "cell_type": "markdown",
   "id": "469344da",
   "metadata": {},
   "source": [
    "# Please check the file <font color='red'>assignment_4_matrix_computation.py</font> and fillup all the functions implementation from Assignment-2 & Assignment-3.\n",
    "-----------------------------------------------------------------------------\n",
    "\n",
    "# Reduce a square matrix $A$ of order $n$ to Hermite cannonical form (HCF) by elementary row operations only. Implement your funtion as <font color='red'>reduce_to_hcf_matrix</font> started at <font color='red'>line no 735</font> in <font color='red'>assignment_4_matrix_computation.py</font> file in appropriate location. You'll find <font color='red'>assignment_4_matrix_computation.py</font> within this folder.\n",
    "[20 points]"
   ]
  },
  {
   "cell_type": "code",
   "execution_count": 2,
   "id": "de56a7fb",
   "metadata": {},
   "outputs": [
    {
     "name": "stdout",
     "output_type": "stream",
     "text": [
      "A random matrices A:\n",
      "[[-3  5  1 -2 -3]\n",
      " [ 1  1 -6 -2 -7]\n",
      " [-8  2 -4 -8 -9]\n",
      " [ 2  2  7  0  6]\n",
      " [ 5  5  2 -7 -5]]\n",
      "----------------------------------------------------------------------\n",
      "The reduce to HCF of A:\n",
      "[[ 1.          0.          0.          0.02468354  0.        ]\n",
      " [ 0.          1.          0.          1.01455696  0.        ]\n",
      " [ 0.          0.          1.         -1.59493671  0.        ]\n",
      " [ 0.          0.          0.         -1.72151899  0.        ]\n",
      " [ 0.          0.          0.          0.          0.        ]]\n",
      "and\n",
      "E_ops: \n",
      "[[1. 0. 0. 0. 0.]\n",
      " [0. 1. 0. 0. 0.]\n",
      " [0. 0. 1. 0. 0.]\n",
      " [0. 0. 0. 1. 0.]\n",
      " [0. 0. 0. 0. 1.]] \n",
      "----------------------------------------------------------------------\n"
     ]
    }
   ],
   "source": [
    "\n",
    "# Now test your code\n",
    "np.random.seed(42)# for reproduce the random numbers\n",
    "l = 9\n",
    "n = 5\n",
    "error_decimal = 10\n",
    "A = []\n",
    "A = np.random.randint(-l,l,size =(n,n))\n",
    "print('A random matrices A:\\n{}' .format(A))\n",
    "print('-'*70)\n",
    "\n",
    "A_hcf,  E_ops= reduce_to_hcf_matrix(A)        \n",
    "print('The reduce to HCF of A:\\n{}\\nand\\nE_ops: \\n{} ' .format(np.round(A_hcf, error_decimal), np.round(E_ops, error_decimal)))\n",
    "print('-'*70)   \n",
    "\n",
    "\n"
   ]
  },
  {
   "cell_type": "markdown",
   "id": "65603636",
   "metadata": {},
   "source": [
    "# Apply the above HCF method to find a soluation of a system $Ax=b$. Where $A$ is a matrix of order $m \\times n$. You have to generate a random system of linear equation ($m$-equations with $n$ unknowns) and check your results. Use your previous funtion <font color='red'>generate_random_linear_system</font> to generate the linear system and implement <font color='red'>soln_m_equations_n_unknowns</font> started at <font color='red'>line no 766</font> in <font color='red'>assignment_4_matrix_computation.py</font> file in appropriate location. You'll find <font color='red'>assignment_4_matrix_computation.py</font> within this folder.\n",
    "[10 points]"
   ]
  },
  {
   "cell_type": "code",
   "execution_count": 3,
   "id": "129c9919",
   "metadata": {},
   "outputs": [
    {
     "name": "stdout",
     "output_type": "stream",
     "text": [
      "The coefficient matrix A: \n",
      "[[-2.25827786  8.11285752  4.17589095  1.77585272 -6.19166447]\n",
      " [-6.19209863 -7.95449498  6.59117062  1.82007021  3.7453064 ]\n",
      " [-8.6294791   8.45837734  5.98396753 -5.17789601 -5.72715059]\n",
      " [-5.69871882 -3.52363963  0.44561577 -1.22498966 -3.75787548]]\n",
      "----------------------------------------------------------------------\n",
      "Right-hand vector b: \n",
      "[[-72.19139229]\n",
      " [  7.15082104]\n",
      " [-77.66587005]\n",
      " [ 15.6427342 ]]\n",
      "----------------------------------------------------------------------\n",
      "Actual soluation x: \n",
      "[[ 2.01335211]\n",
      " [-6.48911051]\n",
      " [-3.74139633]\n",
      " [-2.40548682]\n",
      " [-0.79074028]]\n",
      "----------------------------------------------------------------------\n",
      "Estimated soluation x_est: \n",
      "[[ 0.578]\n",
      " [-5.732]\n",
      " [-5.023]\n",
      " [-1.321]\n",
      " [ 0.171]]\n",
      "and \n",
      "absolute diff|x-x_est| upto 10-th decimal place: \n",
      "[[1.43559748]\n",
      " [0.7568489 ]\n",
      " [1.28129755]\n",
      " [1.08404715]\n",
      " [0.96205706]]\n",
      "----------------------------------------------------------------------\n"
     ]
    },
    {
     "name": "stderr",
     "output_type": "stream",
     "text": [
      "c:\\Users\\biswajit\\Downloads\\assignment_4_matrix_computation_exc.py:648: RuntimeWarning: divide by zero encountered in double_scalars\n",
      "  B = elementary_ops_scale_row(E_ops.copy(), pivot_element[0], 1 / A[pivot_element[0]-1, pivot_element[1]-1])\n",
      "c:\\Users\\biswajit\\Downloads\\assignment_4_matrix_computation_exc.py:111: RuntimeWarning: invalid value encountered in double_scalars\n",
      "  sum=sum+x[i][k]*y[k][j]\n"
     ]
    }
   ],
   "source": [
    "np.random.seed(42)# for reproduce the random numbers\n",
    "l = 9\n",
    "m = 4\n",
    "n = 5\n",
    "error_decimal = 10\n",
    "\n",
    "A, b, x = generate_random_linear_system(m, n)\n",
    "print('The coefficient matrix A: \\n{}' .format(A))\n",
    "print('-'*70) \n",
    "print('Right-hand vector b: \\n{}' .format(b))\n",
    "print('-'*70)\n",
    "print('Actual soluation x: \\n{}' .format(x))\n",
    "print('-'*70)\n",
    "\n",
    "\n",
    "x_est, HCF_A = soln_m_equations_n_unknowns(A, b)        \n",
    "print('Estimated soluation x_est: \\n{}\\nand \\nabsolute diff|x-x_est| upto {}-th decimal place: \\n{}' .format(np.round(x_est, 3), error_decimal, np.round(np.abs(x-x_est), error_decimal)))\n",
    "print('-'*70)      \n",
    "\n",
    "\n",
    "\n",
    "\n"
   ]
  },
  {
   "cell_type": "markdown",
   "id": "9bdf3e66",
   "metadata": {},
   "source": [
    "# Use a suitable matrix reduced form (RCF, UTF, NF, HCF...) to find the $determinant$ of a square matrix of order $n$. You generate a random random square matrix of different order  and check your results with the [numpy.linalg.det](https://numpy.org/doc/stable/reference/generated/numpy.linalg.det.html). Implement your funtion <font color='red'>determinant_matrix</font> started at <font color='red'>line no 797</font> in <font color='red'>assignment_4_matrix_computation.py</font> file in appropriate location. You'll find <font color='red'>assignment_4_matrix_computation.py</font> within this folder.\n",
    "[10 points]"
   ]
  },
  {
   "cell_type": "code",
   "execution_count": 4,
   "id": "8c0f0cfd",
   "metadata": {},
   "outputs": [
    {
     "name": "stdout",
     "output_type": "stream",
     "text": [
      "A random matrices A:\n",
      "[[-3  5  1 -2 -3]\n",
      " [ 1  1 -6 -2 -7]\n",
      " [-8  2 -4 -8 -9]\n",
      " [ 2  2  7  0  6]\n",
      " [ 5  5  2 -7 -5]]\n",
      "----------------------------------------------------------------------\n",
      "The determinant value of A using my implementarion is:\n",
      "2719.9999999999986\n",
      "and\n",
      "Using numpy: \n",
      "2720.000000000002\n",
      "Error: -3.183231456205249e-12 \n",
      "----------------------------------------------------------------------\n"
     ]
    }
   ],
   "source": [
    "\n",
    "# Now test your code\n",
    "np.random.seed(42)# for reproduce the random numbers\n",
    "l = 9\n",
    "n = 5\n",
    "error_decimal = 10\n",
    "A = []\n",
    "A = np.random.randint(-l,l,size =(n,n))\n",
    "print('A random matrices A:\\n{}' .format(A))\n",
    "print('-'*70)\n",
    "\n",
    "det_value = determinant_matrix(A)    \n",
    "det_value_numpy = np.linalg.det(A)\n",
    "print('The determinant value of A using my implementarion is:\\n{}\\nand\\nUsing numpy: \\n{}\\nError: {} ' .format(det_value, det_value_numpy, det_value - det_value_numpy))\n",
    "print('-'*70)   \n",
    "\n",
    "\n"
   ]
  },
  {
   "cell_type": "markdown",
   "id": "07d684fd",
   "metadata": {},
   "source": [
    "# Implement Cramer's rule to find a soluation of a system $Ax=b$. Where $A$ is a matrix of order $n \\times n$. You have to generate a random system of linear equation ($n$-equations with $n$ unknowns) and check your results. Use your previous funtion <font color='red'>generate_random_linear_system</font> to generate the linear system and implement <font color='red'>soln_n_equations_n_unknowns_cramers_rule</font> started at <font color='red'>line no 825</font> in <font color='red'>assignment_4_matrix_computation.py</font> file in appropriate location. You'll find <font color='red'>assignment_4_matrix_computation.py</font> within this folder.\n",
    "[10 points]"
   ]
  },
  {
   "cell_type": "code",
   "execution_count": 5,
   "id": "4a85e661",
   "metadata": {},
   "outputs": [
    {
     "name": "stdout",
     "output_type": "stream",
     "text": [
      "The coefficient matrix A: \n",
      "[[-2.25827786  8.11285752  4.17589095  1.77585272 -6.19166447]\n",
      " [-6.19209863 -7.95449498  6.59117062  1.82007021  3.7453064 ]\n",
      " [-8.6294791   8.45837734  5.98396753 -5.17789601 -5.72715059]\n",
      " [-5.69871882 -3.52363963  0.44561577 -1.22498966 -3.75787548]\n",
      " [ 2.01335211 -6.48911051 -3.74139633 -2.40548682 -0.79074028]]\n",
      "----------------------------------------------------------------------\n",
      "Right-hand vector b: \n",
      "[[ -0.87709288]\n",
      " [-14.6439692 ]\n",
      " [-50.34564536]\n",
      " [ 18.55121064]\n",
      " [ 46.90963557]]\n",
      "----------------------------------------------------------------------\n",
      "Actual soluation x: \n",
      "[[ 5.13316731]\n",
      " [-5.40587192]\n",
      " [ 0.25621989]\n",
      " [ 1.66346224]\n",
      " [-8.16389257]]\n",
      "----------------------------------------------------------------------\n",
      "Estimated soluation x_est: \n",
      "[[ 5.133]\n",
      " [-5.406]\n",
      " [ 0.256]\n",
      " [ 1.663]\n",
      " [-8.164]]\n",
      "and \n",
      "absolute diff|x-x_est| upto 10-th decimal place: \n",
      "[[0.]\n",
      " [0.]\n",
      " [0.]\n",
      " [0.]\n",
      " [0.]]\n",
      "----------------------------------------------------------------------\n"
     ]
    }
   ],
   "source": [
    "np.random.seed(42)# for reproduce the random numbers\n",
    "l = 9\n",
    "n = 5\n",
    "error_decimal = 10\n",
    "\n",
    "A, b, x = generate_random_linear_system(n, n)\n",
    "print('The coefficient matrix A: \\n{}' .format(A))\n",
    "print('-'*70) \n",
    "print('Right-hand vector b: \\n{}' .format(b))\n",
    "print('-'*70)\n",
    "print('Actual soluation x: \\n{}' .format(x))\n",
    "print('-'*70)\n",
    "\n",
    "\n",
    "x_est = soln_n_equations_n_unknowns_cramers_rule(A, b)        \n",
    "print('Estimated soluation x_est: \\n{}\\nand \\nabsolute diff|x-x_est| upto {}-th decimal place: \\n{}' .format(np.round(x_est, 3), error_decimal, np.round(np.abs(x-x_est), error_decimal)))\n",
    "print('-'*70)      \n",
    "\n",
    "\n",
    "\n",
    "\n"
   ]
  },
  {
   "cell_type": "code",
   "execution_count": null,
   "metadata": {},
   "outputs": [],
   "source": []
  }
 ],
 "metadata": {
  "kernelspec": {
   "display_name": "Python 3 (ipykernel)",
   "language": "python",
   "name": "python3"
  },
  "language_info": {
   "codemirror_mode": {
    "name": "ipython",
    "version": 3
   },
   "file_extension": ".py",
   "mimetype": "text/x-python",
   "name": "python",
   "nbconvert_exporter": "python",
   "pygments_lexer": "ipython3",
   "version": "3.10.5"
  }
 },
 "nbformat": 4,
 "nbformat_minor": 5
}
