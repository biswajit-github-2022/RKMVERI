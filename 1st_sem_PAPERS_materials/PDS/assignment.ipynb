{
 "cells": [
  {
   "cell_type": "code",
   "execution_count": 4,
   "metadata": {},
   "outputs": [
    {
     "name": "stdout",
     "output_type": "stream",
     "text": [
      "[9, 4, 9, 16, 5, 2, 3, 19, 15, 20]\n"
     ]
    }
   ],
   "source": [
    "#1. import random module and use randint function to create a list of 10 random numbers b/w 1 and 20.\n",
    "import random\n",
    "l=[]\n",
    "for i in range(0,10):\n",
    "    x= random.randint(1,20)\n",
    "    l.append(x)\n",
    "print(l)\n"
   ]
  },
  {
   "cell_type": "code",
   "execution_count": 5,
   "metadata": {},
   "outputs": [
    {
     "name": "stdout",
     "output_type": "stream",
     "text": [
      "[6, 5, 4, 3, 2, 1]\n",
      "[6, 5, 4, 3, 2, 1]\n"
     ]
    }
   ],
   "source": [
    "#2. reverse a list of elements without using reversed builtin function. \n",
    "l=[1,2,3,4,5,6]\n",
    "l_1=[]\n",
    "for i in range(1,len(l)+1):\n",
    "    l_1.append(l[-i])\n",
    "print(l_1)\n",
    "\n",
    "l2=l[-1::-1]\n",
    "print(l2)"
   ]
  },
  {
   "cell_type": "code",
   "execution_count": null,
   "metadata": {},
   "outputs": [],
   "source": [
    "# 3. from a sequence of integer values and find all the distinct pair of numbers in the sequence whose product is odd.\n",
    "\n",
    "l=[7, 4, 1, 17, 19, 17, 1, 5, 3, 10]\n",
    "l=list(set(l))\n",
    "# print(l)\n",
    "for i in range (0,len(l)):\n",
    "    for j in range(i+1,len(l)):\n",
    "        if (l[i]*l[j])%2!=0 :\n",
    "            print(f'({l[i]}, {l[j]})')\n",
    "# print(l)"
   ]
  }
 ],
 "metadata": {
  "kernelspec": {
   "display_name": "Python 3",
   "language": "python",
   "name": "python3"
  },
  "language_info": {
   "codemirror_mode": {
    "name": "ipython",
    "version": 3
   },
   "file_extension": ".py",
   "mimetype": "text/x-python",
   "name": "python",
   "nbconvert_exporter": "python",
   "pygments_lexer": "ipython3",
   "version": "3.10.5"
  },
  "orig_nbformat": 4
 },
 "nbformat": 4,
 "nbformat_minor": 2
}
