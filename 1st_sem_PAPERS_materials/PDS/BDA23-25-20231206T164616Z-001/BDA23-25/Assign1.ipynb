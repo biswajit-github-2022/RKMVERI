{
 "cells": [
  {
   "cell_type": "code",
   "execution_count": 11,
   "metadata": {},
   "outputs": [
    {
     "data": {
      "text/plain": [
       "[85, 26, 48, 88, 52, 38, 89, 40, 7, 12, 61]"
      ]
     },
     "execution_count": 11,
     "metadata": {},
     "output_type": "execute_result"
    }
   ],
   "source": [
    "import random\n",
    "l1 = []\n",
    "for i in range(11):\n",
    "    l1.append(random.randint(1, 100))\n",
    "l1"
   ]
  },
  {
   "cell_type": "code",
   "execution_count": 3,
   "metadata": {},
   "outputs": [
    {
     "data": {
      "text/plain": [
       "[2, 5, 1, 3, 5, 6, 3, 4, 3, 6, 1]"
      ]
     },
     "execution_count": 3,
     "metadata": {},
     "output_type": "execute_result"
    }
   ],
   "source": [
    "for i in range(len(l1)//2):\n",
    "    l1[i], l1[len(l1)-1-i] = l1[len(l1)-1-i], l1[i]\n",
    "\n",
    "l1"
   ]
  },
  {
   "cell_type": "code",
   "execution_count": 4,
   "metadata": {},
   "outputs": [
    {
     "name": "stdout",
     "output_type": "stream",
     "text": [
      "original list: [2, 5, 1, 3, 5, 6, 3, 4, 3, 6, 1] product list: {(1, 3), (5, 5), (3, 3), (1, 5), (1, 1), (3, 5)}\n"
     ]
    }
   ],
   "source": [
    "all_prods = set()\n",
    "for i in range(len(l1)-1):\n",
    "    for j in range(i+1, len(l1)):\n",
    "        if l1[i]*l1[j] % 2 != 0:\n",
    "            all_prods.add(tuple(sorted((l1[i], l1[j]))))\n",
    "print(f'original list: {l1} product list: {all_prods}')"
   ]
  },
  {
   "cell_type": "code",
   "execution_count": 9,
   "metadata": {},
   "outputs": [
    {
     "name": "stdout",
     "output_type": "stream",
     "text": [
      "original list: [73, 59, 58, 97, 79, 64, 77, 25, 91, 68, 88] least value: 25\n"
     ]
    }
   ],
   "source": [
    "temp = 100\n",
    "for i in range(len(l1)):\n",
    "    if temp > l1[i]:\n",
    "        temp = l1[i]\n",
    "print(f'original list: {l1} least value: {temp}')"
   ]
  },
  {
   "cell_type": "code",
   "execution_count": 12,
   "metadata": {},
   "outputs": [
    {
     "name": "stdout",
     "output_type": "stream",
     "text": [
      "original sequence: [85, 26, 48, 88, 52, 38, 89, 40, 7, 12, 61] sorted sequence: [7, 12, 26, 38, 40, 48, 52, 61, 85, 88, 89]\n"
     ]
    }
   ],
   "source": [
    "l3 = []\n",
    "l4 = l1.copy()\n",
    "while len(l1) > 0:\n",
    "    temp = 100\n",
    "    index_to_delete = -100\n",
    "    for i, e in enumerate(l1):\n",
    "        if temp >= e:\n",
    "            temp = e\n",
    "            index_to_delete = i\n",
    "    l3.append(temp)\n",
    "    del l1[index_to_delete]\n",
    "print(f'original sequence: {l4} sorted sequence: {l3}')"
   ]
  },
  {
   "cell_type": "code",
   "execution_count": 4,
   "metadata": {},
   "outputs": [
    {
     "name": "stdout",
     "output_type": "stream",
     "text": [
      "at global (level 0): x= 10\n",
      "at level 1: x= 10\n",
      "at level 1 after re-assign: x= 9\n",
      "at level 2: x= 9\n",
      "at level 2 after re-assign: x= 8 y = 100\n",
      "at level 2: x= 8\n",
      "at level 2 after re-assign: x= 7 y = 100\n",
      "back at global (level 0): x= 7\n",
      "at global (level 0): z= 1000\n"
     ]
    }
   ],
   "source": [
    "x = 10\n",
    "y = 100\n",
    "print(f'at global (level 0): x= {x}')\n",
    "if x == 10:\n",
    "    print(f'at level 1: x= {x}')\n",
    "    x = 9\n",
    "    print(f'at level 1 after re-assign: x= {x}')\n",
    "    if x == 9:\n",
    "        print(f'at level 2: x= {x}')\n",
    "        x = 8\n",
    "        print(f'at level 2 after re-assign: x= {x} y = {y}')\n",
    "        if x == 8:\n",
    "            print(f'at level 2: x= {x}')\n",
    "            x = 7\n",
    "            print(f'at level 2 after re-assign: x= {x} y = {y}')\n",
    "            z = 1000\n",
    "print(f'back at global (level 0): x= {x}')\n",
    "print(f'at global (level 0): z= {z}')\n",
    "\n",
    "            "
   ]
  },
  {
   "cell_type": "code",
   "execution_count": 7,
   "metadata": {},
   "outputs": [
    {
     "name": "stdout",
     "output_type": "stream",
     "text": [
      "at level 1: x= 20\n",
      "at level 0: x= 20 z = 20\n"
     ]
    }
   ],
   "source": [
    "x = 10\n",
    "while True:\n",
    "    x = 20\n",
    "    print(f'at level 1: x= {x}')\n",
    "    z = 20\n",
    "    break\n",
    "print(f'at level 0: x= {x} z = {z}')\n",
    "\n"
   ]
  },
  {
   "cell_type": "code",
   "execution_count": 8,
   "metadata": {},
   "outputs": [
    {
     "name": "stdout",
     "output_type": "stream",
     "text": [
      "10\n",
      "10\n",
      "10\n",
      "13\n",
      "28\n",
      "6.3\n"
     ]
    }
   ],
   "source": [
    "x =10 \n",
    "def f1(a):\n",
    "    x = 20 \n",
    "print(x)\n",
    "def f2(x): \n",
    "    x = 30\n",
    "print(x)\n",
    "def f3(x=40): \n",
    "    pass\n",
    "print(x)\n",
    "def f4(x=25): \n",
    "    return x + 3\n",
    "print(f4(x))\n",
    "print(f4()) \n",
    "print(f4(3.3))\n"
   ]
  },
  {
   "cell_type": "code",
   "execution_count": 9,
   "metadata": {},
   "outputs": [
    {
     "name": "stdout",
     "output_type": "stream",
     "text": [
      "10\n",
      "20\n",
      "0\n",
      "1\n",
      "2\n",
      "0\n",
      "1\n",
      "2\n",
      "p: 2\n"
     ]
    }
   ],
   "source": [
    "x = 10  # global scope\n",
    "print(x) # print function is built-in scope\n",
    "while(True):\n",
    "    x = 20 \n",
    "    print(x)\n",
    "    for x in range(3):\n",
    "        print(x)\n",
    "    for p in range(3):\n",
    "        print(p)\n",
    "    break\n",
    "print(f'p: {p}')"
   ]
  },
  {
   "cell_type": "code",
   "execution_count": 10,
   "metadata": {},
   "outputs": [
    {
     "name": "stdout",
     "output_type": "stream",
     "text": [
      "2\n",
      "9.3\n",
      "9.3\n"
     ]
    }
   ],
   "source": [
    "print(x)\n",
    "\n",
    "while(True):\n",
    "    a11 = 9.3\n",
    "    print(a11)\n",
    "    break\n",
    "print(a11)\n"
   ]
  },
  {
   "cell_type": "code",
   "execution_count": 29,
   "metadata": {},
   "outputs": [
    {
     "data": {
      "text/plain": [
       "[55, 100, 69, 28, 45, 86, 43, 27, 30, 16, 47]"
      ]
     },
     "execution_count": 29,
     "metadata": {},
     "output_type": "execute_result"
    }
   ],
   "source": [
    "import random\n",
    "l1 = []\n",
    "for i in range(11):\n",
    "    l1.append(random.randint(1, 100))\n",
    "l1"
   ]
  },
  {
   "cell_type": "code",
   "execution_count": 22,
   "metadata": {},
   "outputs": [
    {
     "name": "stdout",
     "output_type": "stream",
     "text": [
      "[10, 16, 20, 22, 37, 51, 58, 59, 78, 91, 92]\n"
     ]
    }
   ],
   "source": [
    "# just ok bubble sort\n",
    "for i in range(len(l1)):\n",
    "    for j in range(len(l1)-1):\n",
    "        if l1[j]>l1[j+1]:\n",
    "            l1[j],l1[j+1] = l1[j+1],l1[j]\n",
    "\n",
    "print(l1)"
   ]
  },
  {
   "cell_type": "code",
   "execution_count": 30,
   "metadata": {},
   "outputs": [
    {
     "name": "stdout",
     "output_type": "stream",
     "text": [
      "[16, 27, 28, 30, 43, 45, 47, 55, 69, 86, 100]\n"
     ]
    }
   ],
   "source": [
    "# better bubble sort\n",
    "for i in range(len(l1)):\n",
    "    for j in range(0,len(l1)-1-i):\n",
    "        if l1[j]>l1[j+1]:\n",
    "            l1[j],l1[j+1] = l1[j+1],l1[j]\n",
    "print(l1)"
   ]
  },
  {
   "cell_type": "code",
   "execution_count": 45,
   "metadata": {},
   "outputs": [
    {
     "data": {
      "text/plain": [
       "[81, 17, 29, 49, 75, 36, 58, 43, 62, 60, 100]"
      ]
     },
     "execution_count": 45,
     "metadata": {},
     "output_type": "execute_result"
    }
   ],
   "source": [
    "import random\n",
    "l1 = []\n",
    "for i in range(11):\n",
    "    l1.append(random.randint(1, 100))\n",
    "l1"
   ]
  },
  {
   "cell_type": "code",
   "execution_count": 46,
   "metadata": {},
   "outputs": [
    {
     "name": "stdout",
     "output_type": "stream",
     "text": [
      "sorted [17, 29, 36, 43, 49, 58, 60, 62, 75, 81, 100] in 5 iterations\n"
     ]
    }
   ],
   "source": [
    "swapped = True\n",
    "i = 0\n",
    "while swapped:\n",
    "    swapped = False\n",
    "    for j in range(0,len(l1)-1):\n",
    "        if l1[j]>l1[j+1]:\n",
    "            l1[j],l1[j+1] = l1[j+1],l1[j]\n",
    "            swapped = True\n",
    "    i += 1\n",
    "print(f'sorted {l1} in {i} iterations')"
   ]
  },
  {
   "cell_type": "code",
   "execution_count": 47,
   "metadata": {},
   "outputs": [
    {
     "data": {
      "text/plain": [
       "\"this can't be a problem's solution\""
      ]
     },
     "execution_count": 47,
     "metadata": {},
     "output_type": "execute_result"
    }
   ],
   "source": [
    "s1 = 'this can\\'t be a problem\\'s solution'\n",
    "s1"
   ]
  },
  {
   "cell_type": "code",
   "execution_count": 52,
   "metadata": {},
   "outputs": [
    {
     "data": {
      "text/plain": [
       "'thiscantbeaproblemssolution'"
      ]
     },
     "execution_count": 52,
     "metadata": {},
     "output_type": "execute_result"
    }
   ],
   "source": [
    "ls = []\n",
    "for e in s1:\n",
    "    if e != '\\'' and e != ' ':\n",
    "        ls.append(e)\n",
    "s1 = ''.join(ls)\n",
    "s1"
   ]
  },
  {
   "cell_type": "code",
   "execution_count": 69,
   "metadata": {},
   "outputs": [
    {
     "name": "stdout",
     "output_type": "stream",
     "text": [
      "no of 2 letter words: 12 :: {'bc', 'cd', 'ac', 'db', 'ad', 'ba', 'ca', 'dc', 'ab', 'da', 'bd', 'cb'}\n",
      "no of 3 letter words: 24 :: {'bac', 'acb', 'cda', 'bad', 'adc', 'cad', 'dac', 'abd', 'cba', 'dba', 'cab', 'adb', 'bda', 'bca', 'cdb', 'dab', 'dcb', 'cbd', 'bcd', 'acd', 'bdc', 'abc', 'dbc', 'dca'}\n",
      "no of 4 letter words: 24 :: {'adcb', 'cabd', 'bcda', 'abcd', 'cbad', 'acbd', 'dcba', 'acdb', 'bdac', 'dbca', 'bacd', 'adbc', 'dacb', 'abdc', 'dbac', 'cbda', 'cdba', 'bdca', 'dabc', 'cdab', 'cadb', 'badc', 'bcad', 'dcab'}\n",
      "length: 60 :: {'bac', 'adcb', 'acb', 'cda', 'cabd', 'bad', 'adc', 'bcda', 'abcd', 'cad', 'cbad', 'cb', 'acbd', 'dac', 'ac', 'abd', 'db', 'cba', 'dcba', 'acdb', 'ba', 'dba', 'ca', 'cab', 'adb', 'bda', 'bdac', 'dbca', 'dcab', 'bca', 'cdb', 'dab', 'adbc', 'dacb', 'abdc', 'dbac', 'dcb', 'cbd', 'cbda', 'cdba', 'bcd', 'bdca', 'bd', 'dc', 'bc', 'cd', 'acd', 'bdc', 'dabc', 'cdab', 'ad', 'cadb', 'badc', 'ab', 'bcad', 'da', 'abc', 'dbc', 'bacd', 'dca'}\n"
     ]
    }
   ],
   "source": [
    "l1 = list('abcd')\n",
    "st1 = set()\n",
    "for i in range(len(l1)):\n",
    "    for j in range(i+1,len(l1)):\n",
    "        st1.add(l1[i]+l1[j])\n",
    "        st1.add(l1[j]+l1[i])\n",
    "print(f'no of 2 letter words: {len(st1)} :: {st1}')\n",
    "st2 = set()\n",
    "for e in st1:\n",
    "    for c in l1:\n",
    "        if c not in e:\n",
    "            st2.add(e+c)\n",
    "            st2.add(c+e)\n",
    "\n",
    "print(f'no of 3 letter words: {len(st2)} :: {st2}')\n",
    "st1 |= st2\n",
    "#print(f'length: {len(st1)} :: {st1}')\n",
    "\n",
    "st3 = set()\n",
    "for e in st1:\n",
    "    for c in l1:\n",
    "        if len(e) == 3 and c not in e:\n",
    "            st3.add(e+c)\n",
    "            st3.add(c+e)\n",
    "\n",
    "print(f'no of 4 letter words: {len(st3)} :: {st3}')\n",
    "st1 |= st3\n",
    "print(f'length: {len(st1)} :: {st1}')"
   ]
  },
  {
   "cell_type": "code",
   "execution_count": 1,
   "metadata": {},
   "outputs": [
    {
     "name": "stdout",
     "output_type": "stream",
     "text": [
      "[3, 0, 1, 0, 0, 1, 3]\n"
     ]
    }
   ],
   "source": [
    "coins = [1,5,10,20,50,100,500]\n",
    "change = [0] * len(coins)\n",
    "x = 1613\n",
    "remains = x\n",
    "for i,e in enumerate(reversed(coins)):\n",
    "    change[i] = remains // e\n",
    "    remains = remains % e\n",
    "    \n",
    "print(list(reversed(change)))\n",
    "        \n"
   ]
  },
  {
   "cell_type": "code",
   "execution_count": 87,
   "metadata": {},
   "outputs": [
    {
     "data": {
      "text/plain": [
       "False"
      ]
     },
     "execution_count": 87,
     "metadata": {},
     "output_type": "execute_result"
    }
   ],
   "source": [
    "import random\n",
    "l1 = []\n",
    "for _ in range(20):\n",
    "    l1.append(random.randint(1,30))\n",
    "\n",
    "len(l1) == len(set(l1))"
   ]
  },
  {
   "cell_type": "code",
   "execution_count": 1,
   "metadata": {},
   "outputs": [
    {
     "name": "stdout",
     "output_type": "stream",
     "text": [
      "[1, 2, 3, 5] : 70\n",
      "[1, 5] : 100\n",
      "[1, 4, 3, 5] : 60\n",
      "[1, 4, 5] : 90\n"
     ]
    }
   ],
   "source": [
    "city_graph = {1:[(2,10),(5,100),(4,30),(6,10)],2:[(3,50)],3:[(5,10)],4:[(3,20),(5,60)]}\n",
    "start = 1\n",
    "stop = 5\n",
    "from_city1 = city_graph[start]\n",
    "path = [start]\n",
    "path_length = []\n",
    "for city,distance in from_city1:\n",
    "    path.append(city)\n",
    "    path_length.append(distance)\n",
    "    if city == stop:\n",
    "        print(f'{path} : {sum(path_length)}')\n",
    "    if city in city_graph.keys():\n",
    "        from_city2 = city_graph[city]\n",
    "        for city,distance in from_city2:\n",
    "            path.append(city)\n",
    "            path_length.append(distance)\n",
    "            if city == stop:\n",
    "                print(f'{path} : {sum(path_length)}')\n",
    "            if city in city_graph.keys():\n",
    "                from_city3 = city_graph[city]\n",
    "                for city,distance in from_city3:\n",
    "                    path.append(city)\n",
    "                    path_length.append(distance)\n",
    "                    if city == stop:\n",
    "                        print(f'{path} : {sum(path_length)}')\n",
    "                    path.pop(-1)\n",
    "                    path_length.pop(-1)       \n",
    "            path.pop(-1)\n",
    "            path_length.pop(-1)\n",
    "    path.pop(-1)\n",
    "    path_length.pop(-1)      \n"
   ]
  }
 ],
 "metadata": {
  "kernelspec": {
   "display_name": "Python 3",
   "language": "python",
   "name": "python3"
  },
  "language_info": {
   "codemirror_mode": {
    "name": "ipython",
    "version": 3
   },
   "file_extension": ".py",
   "mimetype": "text/x-python",
   "name": "python",
   "nbconvert_exporter": "python",
   "pygments_lexer": "ipython3",
   "version": "3.7.3"
  },
  "orig_nbformat": 4
 },
 "nbformat": 4,
 "nbformat_minor": 2
}
